{
 "cells": [
  {
   "cell_type": "markdown",
   "metadata": {},
   "source": [
    "### 임상시험 정보 검색"
   ]
  },
  {
   "cell_type": "code",
   "execution_count": 1,
   "metadata": {},
   "outputs": [],
   "source": [
    "import pandas as pd"
   ]
  },
  {
   "cell_type": "code",
   "execution_count": 2,
   "metadata": {},
   "outputs": [
    {
     "data": {
      "text/plain": [
       "'page=1&searchYn=true&approvalStart=2020-12-03&approvalEnd=2021-06-03&searchType=ST3&searchKeyword=&approvalDtStart=2018-06-03&approvalDtEnd=2021-06-03&clinicStepCode=&examFinish=%EC%8A%B9%EC%9D%B8%EC%99%84%EB%A3%8C&domestic=&gender=&age=&localList=000&localList2=000'"
      ]
     },
     "execution_count": 2,
     "metadata": {},
     "output_type": "execute_result"
    }
   ],
   "source": [
    "base_url =\"https://nedrug.mfds.go.kr/searchClinic?\"\n",
    "params = \"page=1&searchYn=true&approvalStart=2020-12-03&approvalEnd=2021-06-03&searchType=ST3&searchKeyword=&approvalDtStart=2018-06-03&approvalDtEnd=2021-06-03&clinicStepCode=&examFinish=%EC%8A%B9%EC%9D%B8%EC%99%84%EB%A3%8C&domestic=&gender=&age=&localList=000&localList2=000\"\n",
    "params"
   ]
  },
  {
   "cell_type": "markdown",
   "metadata": {},
   "source": [
    "### 검색 값 설정하기\n",
    "* 웹사이트에서 검색한 URL 안에 우리의 검색어가 들어가 있습니다.\n",
    "* 이렇게 검색어를 URL에 붙여서 넘기는 문구를 쿼리스트링이라고 부릅니다.\n",
    "* 이 문자열을 검색어에 맞게 변경해 줍니다."
   ]
  },
  {
   "cell_type": "code",
   "execution_count": 3,
   "metadata": {},
   "outputs": [],
   "source": [
    "page_no = 1\n",
    "start_date = \"2020-12-03\"\n",
    "end_date = \"2021-06-03\""
   ]
  },
  {
   "cell_type": "code",
   "execution_count": 4,
   "metadata": {
    "scrolled": true
   },
   "outputs": [
    {
     "data": {
      "text/plain": [
       "'page=1&searchYn=true&approvalStart=2020-12-03&approvalEnd=2021-06-03&searchType=ST3&searchKeyword=&approvalDtStart=2020-12-03&approvalDtEnd=2021-06-03&clinicStepCode=&examFinish=%EC%8A%B9%EC%9D%B8%EC%99%84%EB%A3%8C&domestic=&gender=&age=&localList=000&localList2=000'"
      ]
     },
     "execution_count": 4,
     "metadata": {},
     "output_type": "execute_result"
    }
   ],
   "source": [
    "# 파이썬의 f-sting 방식을 통해 우리에게 필요한 검색어를 만들어 줍니다..\n",
    "params = f\"page={page_no}&searchYn=true&approvalStart={start_date}&approvalEnd={end_date}\"\n",
    "params = f\"{params}&searchType=ST3&searchKeyword=&approvalDtStart={start_date}\"\n",
    "params = f\"{params}&approvalDtEnd={end_date}&clinicStepCode=&examFinish=%EC%8A%B9%EC%9D%B8%EC%99%84%EB%A3%8C\"\n",
    "params = f\"{params}&domestic=&gender=&age=&localList=000&localList2=000\"\n",
    "params"
   ]
  },
  {
   "cell_type": "code",
   "execution_count": 5,
   "metadata": {},
   "outputs": [
    {
     "data": {
      "text/plain": [
       "'https://nedrug.mfds.go.kr/searchClinic?page=1&searchYn=true&approvalStart=2020-12-03&approvalEnd=2021-06-03&searchType=ST3&searchKeyword=&approvalDtStart=2020-12-03&approvalDtEnd=2021-06-03&clinicStepCode=&examFinish=%EC%8A%B9%EC%9D%B8%EC%99%84%EB%A3%8C&domestic=&gender=&age=&localList=000&localList2=000'"
      ]
     },
     "execution_count": 5,
     "metadata": {},
     "output_type": "execute_result"
    }
   ],
   "source": [
    "# 파이썬의 f-sting 방식을 통해 base_url 뒤에 페이지, 검색 정보를 추가합니다.\n",
    "\n",
    "url = base_url + params\n",
    "url"
   ]
  },
  {
   "cell_type": "markdown",
   "metadata": {},
   "source": [
    "### read_html 로 웹사이트의 내용 읽어오기\n",
    "* html 소스코드 내부에 < table > 로 된 태그가 있을 때만 가능합니다."
   ]
  },
  {
   "cell_type": "code",
   "execution_count": 6,
   "metadata": {},
   "outputs": [
    {
     "data": {
      "text/plain": [
       "1"
      ]
     },
     "execution_count": 6,
     "metadata": {},
     "output_type": "execute_result"
    }
   ],
   "source": [
    "tables = pd.read_html(url, encoding=\"utf-8\")\n",
    "len(tables)"
   ]
  },
  {
   "cell_type": "code",
   "execution_count": 7,
   "metadata": {},
   "outputs": [
    {
     "data": {
      "text/html": [
       "<div>\n",
       "<style scoped>\n",
       "    .dataframe tbody tr th:only-of-type {\n",
       "        vertical-align: middle;\n",
       "    }\n",
       "\n",
       "    .dataframe tbody tr th {\n",
       "        vertical-align: top;\n",
       "    }\n",
       "\n",
       "    .dataframe thead th {\n",
       "        text-align: right;\n",
       "    }\n",
       "</style>\n",
       "<table border=\"1\" class=\"dataframe\">\n",
       "  <thead>\n",
       "    <tr style=\"text-align: right;\">\n",
       "      <th></th>\n",
       "      <th>순번</th>\n",
       "      <th>진행현황</th>\n",
       "      <th>의뢰자</th>\n",
       "      <th>제품명</th>\n",
       "      <th>임상시험 제목</th>\n",
       "      <th>임상시험 단계</th>\n",
       "      <th>개발지역</th>\n",
       "      <th>실시기관</th>\n",
       "      <th>승인일</th>\n",
       "    </tr>\n",
       "  </thead>\n",
       "  <tbody>\n",
       "    <tr>\n",
       "      <th>0</th>\n",
       "      <td>순번1</td>\n",
       "      <td>진행현황승인완료</td>\n",
       "      <td>의뢰자한림대학교성심병원</td>\n",
       "      <td>제품명1. 엘록사틴,플레옥스틴,옥사플라,옥살리틴 2.젤로다</td>\n",
       "      <td>임상시험 제목  II, III기 위암 환자에서 수술 후 XELOX (oxalipla...</td>\n",
       "      <td>임상시험 단계연구자 임상시험</td>\n",
       "      <td>개발지역국내개발</td>\n",
       "      <td>실시기관의료법인 삼성의료재단 강북삼성병원길 병원재단법인아산사회복지재단서울아산병원학교...</td>\n",
       "      <td>승인일2021-06-03</td>\n",
       "    </tr>\n",
       "    <tr>\n",
       "      <th>1</th>\n",
       "      <td>순번2</td>\n",
       "      <td>진행현황승인완료</td>\n",
       "      <td>의뢰자동광제약(주)</td>\n",
       "      <td>제품명에소마크정40밀리그램</td>\n",
       "      <td>임상시험 제목  동광제약㈜ “에소마크정40밀리그램(에스오메프라졸마그네슘삼수화물)”과...</td>\n",
       "      <td>임상시험 단계1상</td>\n",
       "      <td>개발지역국내개발</td>\n",
       "      <td>실시기관에이치플러스 양지병원</td>\n",
       "      <td>승인일2021-06-03</td>\n",
       "    </tr>\n",
       "    <tr>\n",
       "      <th>2</th>\n",
       "      <td>순번3</td>\n",
       "      <td>진행현황승인완료</td>\n",
       "      <td>의뢰자(주)종근당</td>\n",
       "      <td>제품명CKD-204</td>\n",
       "      <td>임상시험 제목  CKD-204와 D120의 생물학적 동등성 평가를 위한 건강한 성인...</td>\n",
       "      <td>임상시험 단계1상</td>\n",
       "      <td>개발지역국내개발</td>\n",
       "      <td>실시기관의료법인석경의료재단센트럴병원</td>\n",
       "      <td>승인일2021-06-03</td>\n",
       "    </tr>\n",
       "    <tr>\n",
       "      <th>3</th>\n",
       "      <td>순번4</td>\n",
       "      <td>진행현황승인완료</td>\n",
       "      <td>의뢰자경동제약(주)</td>\n",
       "      <td>제품명KDF1901</td>\n",
       "      <td>임상시험 제목  건강한 성인 자원자를 대상으로 KDF1901 경구 투여 시 약동학 ...</td>\n",
       "      <td>임상시험 단계1상</td>\n",
       "      <td>개발지역국내개발</td>\n",
       "      <td>실시기관에이치플러스 양지병원</td>\n",
       "      <td>승인일2021-06-03</td>\n",
       "    </tr>\n",
       "    <tr>\n",
       "      <th>4</th>\n",
       "      <td>순번5</td>\n",
       "      <td>진행현황승인완료</td>\n",
       "      <td>의뢰자한국파렉셀주식회사</td>\n",
       "      <td>제품명KRT-232</td>\n",
       "      <td>임상시험 제목  야누스 키나아제 (JAK) 억제제 치료에 재발성 또는 불응성인 일차...</td>\n",
       "      <td>임상시험 단계3상</td>\n",
       "      <td>개발지역국외개발</td>\n",
       "      <td>실시기관삼성서울병원서울대학교병원학교법인가톨릭학원 가톨릭대학교 서울성모병원경북대학교병...</td>\n",
       "      <td>승인일2021-06-03</td>\n",
       "    </tr>\n",
       "    <tr>\n",
       "      <th>5</th>\n",
       "      <td>순번6</td>\n",
       "      <td>진행현황승인완료</td>\n",
       "      <td>의뢰자하나제약(주)</td>\n",
       "      <td>제품명텔미디핀정80/5밀리그램</td>\n",
       "      <td>임상시험 제목  하나제약㈜의 “텔미디핀정80/5밀리그램”과 한국베링거인겔하임㈜의 “...</td>\n",
       "      <td>임상시험 단계1상</td>\n",
       "      <td>개발지역국내개발</td>\n",
       "      <td>실시기관부민병원</td>\n",
       "      <td>승인일2021-06-03</td>\n",
       "    </tr>\n",
       "    <tr>\n",
       "      <th>6</th>\n",
       "      <td>순번7</td>\n",
       "      <td>진행현황승인완료</td>\n",
       "      <td>의뢰자전북대학교병원</td>\n",
       "      <td>제품명GEN-001</td>\n",
       "      <td>임상시험 제목  건강한 남성 자원자에서 GEN-001 반복 경구 투여 시 안전성, ...</td>\n",
       "      <td>임상시험 단계1상</td>\n",
       "      <td>개발지역국내개발</td>\n",
       "      <td>실시기관전북대학교병원</td>\n",
       "      <td>승인일2021-06-03</td>\n",
       "    </tr>\n",
       "    <tr>\n",
       "      <th>7</th>\n",
       "      <td>순번8</td>\n",
       "      <td>진행현황승인완료</td>\n",
       "      <td>의뢰자피피디디벨럽먼트피티이엘티디</td>\n",
       "      <td>제품명Felzartamab (MOR202)</td>\n",
       "      <td>임상시험 제목  IgA 신장병증에서 인간 항-CD38 항체 펠자르타맙의 유효성과 안...</td>\n",
       "      <td>임상시험 단계2a상</td>\n",
       "      <td>개발지역국외개발</td>\n",
       "      <td>실시기관분당서울대학교병원건국대학교병원가톨릭대학교의정부성모병원인제대학교일산백병원아주대...</td>\n",
       "      <td>승인일2021-06-03</td>\n",
       "    </tr>\n",
       "    <tr>\n",
       "      <th>8</th>\n",
       "      <td>순번9</td>\n",
       "      <td>진행현황승인완료</td>\n",
       "      <td>의뢰자베이진코리아유한회사</td>\n",
       "      <td>제품명BGB-A1217/ 티스렐리주맙(BGB-A317)</td>\n",
       "      <td>임상시험 제목  이전에 치료받지 않은 국소 진행성, 절제 불가능, 또는 전이성 비소...</td>\n",
       "      <td>임상시험 단계3상</td>\n",
       "      <td>개발지역국외개발</td>\n",
       "      <td>실시기관가톨릭대학교부천성모병원인제대학교 해운대백병원충북대학교병원</td>\n",
       "      <td>승인일2021-06-03</td>\n",
       "    </tr>\n",
       "    <tr>\n",
       "      <th>9</th>\n",
       "      <td>순번10</td>\n",
       "      <td>진행현황승인완료</td>\n",
       "      <td>의뢰자한국아스트라제네카(주)</td>\n",
       "      <td>제품명아니프롤루맙</td>\n",
       "      <td>임상시험 제목  활동성 전신 홍반루푸스를 앓는 아시아인 환자를 대상으로 Anifro...</td>\n",
       "      <td>임상시험 단계3상</td>\n",
       "      <td>개발지역국외개발</td>\n",
       "      <td>실시기관건국대학교병원학교법인가톨릭학원 가톨릭대학교 서울성모병원한양대학교병원아주대학교...</td>\n",
       "      <td>승인일2021-06-03</td>\n",
       "    </tr>\n",
       "  </tbody>\n",
       "</table>\n",
       "</div>"
      ],
      "text/plain": [
       "     순번      진행현황                의뢰자                               제품명  \\\n",
       "0   순번1  진행현황승인완료       의뢰자한림대학교성심병원  제품명1. 엘록사틴,플레옥스틴,옥사플라,옥살리틴 2.젤로다   \n",
       "1   순번2  진행현황승인완료         의뢰자동광제약(주)                    제품명에소마크정40밀리그램   \n",
       "2   순번3  진행현황승인완료          의뢰자(주)종근당                        제품명CKD-204   \n",
       "3   순번4  진행현황승인완료         의뢰자경동제약(주)                        제품명KDF1901   \n",
       "4   순번5  진행현황승인완료       의뢰자한국파렉셀주식회사                        제품명KRT-232   \n",
       "5   순번6  진행현황승인완료         의뢰자하나제약(주)                  제품명텔미디핀정80/5밀리그램   \n",
       "6   순번7  진행현황승인완료         의뢰자전북대학교병원                        제품명GEN-001   \n",
       "7   순번8  진행현황승인완료  의뢰자피피디디벨럽먼트피티이엘티디           제품명Felzartamab (MOR202)   \n",
       "8   순번9  진행현황승인완료      의뢰자베이진코리아유한회사    제품명BGB-A1217/ 티스렐리주맙(BGB-A317)   \n",
       "9  순번10  진행현황승인완료    의뢰자한국아스트라제네카(주)                         제품명아니프롤루맙   \n",
       "\n",
       "                                             임상시험 제목          임상시험 단계  \\\n",
       "0  임상시험 제목  II, III기 위암 환자에서 수술 후 XELOX (oxalipla...  임상시험 단계연구자 임상시험   \n",
       "1  임상시험 제목  동광제약㈜ “에소마크정40밀리그램(에스오메프라졸마그네슘삼수화물)”과...        임상시험 단계1상   \n",
       "2  임상시험 제목  CKD-204와 D120의 생물학적 동등성 평가를 위한 건강한 성인...        임상시험 단계1상   \n",
       "3  임상시험 제목  건강한 성인 자원자를 대상으로 KDF1901 경구 투여 시 약동학 ...        임상시험 단계1상   \n",
       "4  임상시험 제목  야누스 키나아제 (JAK) 억제제 치료에 재발성 또는 불응성인 일차...        임상시험 단계3상   \n",
       "5  임상시험 제목  하나제약㈜의 “텔미디핀정80/5밀리그램”과 한국베링거인겔하임㈜의 “...        임상시험 단계1상   \n",
       "6  임상시험 제목  건강한 남성 자원자에서 GEN-001 반복 경구 투여 시 안전성, ...        임상시험 단계1상   \n",
       "7  임상시험 제목  IgA 신장병증에서 인간 항-CD38 항체 펠자르타맙의 유효성과 안...       임상시험 단계2a상   \n",
       "8  임상시험 제목  이전에 치료받지 않은 국소 진행성, 절제 불가능, 또는 전이성 비소...        임상시험 단계3상   \n",
       "9  임상시험 제목  활동성 전신 홍반루푸스를 앓는 아시아인 환자를 대상으로 Anifro...        임상시험 단계3상   \n",
       "\n",
       "       개발지역                                               실시기관            승인일  \n",
       "0  개발지역국내개발  실시기관의료법인 삼성의료재단 강북삼성병원길 병원재단법인아산사회복지재단서울아산병원학교...  승인일2021-06-03  \n",
       "1  개발지역국내개발                                    실시기관에이치플러스 양지병원  승인일2021-06-03  \n",
       "2  개발지역국내개발                                실시기관의료법인석경의료재단센트럴병원  승인일2021-06-03  \n",
       "3  개발지역국내개발                                    실시기관에이치플러스 양지병원  승인일2021-06-03  \n",
       "4  개발지역국외개발  실시기관삼성서울병원서울대학교병원학교법인가톨릭학원 가톨릭대학교 서울성모병원경북대학교병...  승인일2021-06-03  \n",
       "5  개발지역국내개발                                           실시기관부민병원  승인일2021-06-03  \n",
       "6  개발지역국내개발                                        실시기관전북대학교병원  승인일2021-06-03  \n",
       "7  개발지역국외개발  실시기관분당서울대학교병원건국대학교병원가톨릭대학교의정부성모병원인제대학교일산백병원아주대...  승인일2021-06-03  \n",
       "8  개발지역국외개발                실시기관가톨릭대학교부천성모병원인제대학교 해운대백병원충북대학교병원  승인일2021-06-03  \n",
       "9  개발지역국외개발  실시기관건국대학교병원학교법인가톨릭학원 가톨릭대학교 서울성모병원한양대학교병원아주대학교...  승인일2021-06-03  "
      ]
     },
     "execution_count": 7,
     "metadata": {},
     "output_type": "execute_result"
    }
   ],
   "source": [
    "tables[0]"
   ]
  },
  {
   "cell_type": "markdown",
   "metadata": {},
   "source": [
    "### 페이지번호, 검색어를 넘기면 데이터를 가져오는 함수 만들기"
   ]
  },
  {
   "cell_type": "code",
   "execution_count": 8,
   "metadata": {},
   "outputs": [],
   "source": [
    "def get_page_content(page_no, start, end):\n",
    "    base_url =\"https://nedrug.mfds.go.kr/searchClinic?\"\n",
    "    params = f\"page={page_no}&searchYn=true&approvalStart={start_date}&approvalEnd={end_date}\"\n",
    "    params = f\"{params}&searchType=ST3&searchKeyword=&approvalDtStart={start_date}\"\n",
    "    params = f\"{params}&approvalDtEnd={end_date}&clinicStepCode=&examFinish=%EC%8A%B9%EC%9D%B8%EC%99%84%EB%A3%8C\"\n",
    "    params = f\"{params}&domestic=&gender=&age=&localList=000&localList2=000\"\n",
    "    tables = pd.read_html(url, encoding=\"utf-8\")\n",
    "    if len(tables) > 0:\n",
    "        return tables[0]\n",
    "    else:\n",
    "        return False"
   ]
  },
  {
   "cell_type": "markdown",
   "metadata": {},
   "source": [
    "### 반복문을 통해 전체 페이지를 수집"
   ]
  },
  {
   "cell_type": "code",
   "execution_count": 9,
   "metadata": {},
   "outputs": [
    {
     "name": "stderr",
     "output_type": "stream",
     "text": [
      "100%|██████████| 3/3 [00:01<00:00,  1.82it/s]\n"
     ]
    }
   ],
   "source": [
    "from tqdm import trange\n",
    "\n",
    "page_list = []\n",
    "\n",
    "for i in trange(0, 3):\n",
    "    temp = get_page_content(page_no, start_date, end_date)\n",
    "    if not temp.empty :\n",
    "        page_list.append(temp)"
   ]
  },
  {
   "cell_type": "markdown",
   "metadata": {},
   "source": [
    "### 수집한 데이터 하나의 데이터프레임으로 합치기"
   ]
  },
  {
   "cell_type": "code",
   "execution_count": 13,
   "metadata": {},
   "outputs": [
    {
     "data": {
      "text/plain": [
       "(30, 9)"
      ]
     },
     "execution_count": 13,
     "metadata": {},
     "output_type": "execute_result"
    }
   ],
   "source": [
    "df = pd.concat(page_list)\n",
    "df.shape"
   ]
  },
  {
   "cell_type": "markdown",
   "metadata": {},
   "source": [
    "### 파일로 저장하기"
   ]
  },
  {
   "cell_type": "code",
   "execution_count": 11,
   "metadata": {},
   "outputs": [],
   "source": [
    "df.to_csv(\"임상시험.csv\", index=False)"
   ]
  },
  {
   "cell_type": "code",
   "execution_count": 12,
   "metadata": {},
   "outputs": [],
   "source": [
    "df.to_csv(\"임상시험.csv\", index=False)"
   ]
  }
 ],
 "metadata": {
  "kernelspec": {
   "display_name": "Python 3",
   "language": "python",
   "name": "python3"
  },
  "language_info": {
   "codemirror_mode": {
    "name": "ipython",
    "version": 3
   },
   "file_extension": ".py",
   "mimetype": "text/x-python",
   "name": "python",
   "nbconvert_exporter": "python",
   "pygments_lexer": "ipython3",
   "version": "3.7.6"
  },
  "toc": {
   "base_numbering": 1,
   "nav_menu": {},
   "number_sections": true,
   "sideBar": true,
   "skip_h1_title": false,
   "title_cell": "Table of Contents",
   "title_sidebar": "Contents",
   "toc_cell": false,
   "toc_position": {},
   "toc_section_display": true,
   "toc_window_display": false
  },
  "varInspector": {
   "cols": {
    "lenName": 16,
    "lenType": 16,
    "lenVar": 40
   },
   "kernels_config": {
    "python": {
     "delete_cmd_postfix": "",
     "delete_cmd_prefix": "del ",
     "library": "var_list.py",
     "varRefreshCmd": "print(var_dic_list())"
    },
    "r": {
     "delete_cmd_postfix": ") ",
     "delete_cmd_prefix": "rm(",
     "library": "var_list.r",
     "varRefreshCmd": "cat(var_dic_list()) "
    }
   },
   "types_to_exclude": [
    "module",
    "function",
    "builtin_function_or_method",
    "instance",
    "_Feature"
   ],
   "window_display": false
  }
 },
 "nbformat": 4,
 "nbformat_minor": 4
}
