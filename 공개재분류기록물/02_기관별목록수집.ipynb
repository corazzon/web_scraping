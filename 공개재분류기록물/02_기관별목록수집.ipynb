{
 "cells": [
  {
   "cell_type": "markdown",
   "metadata": {},
   "source": [
    "## 데이터 수집\n",
    "\n",
    "* archives.go.kr\n",
    "* http://theme.archives.go.kr/next/closed/page/ReadClosedCommon.do?yr=2019"
   ]
  },
  {
   "cell_type": "code",
   "execution_count": 1,
   "metadata": {},
   "outputs": [],
   "source": [
    "import requests\n",
    "from bs4 import BeautifulSoup as bs\n",
    "import pandas as pd\n",
    "import re\n",
    "import time\n",
    "import numpy as np"
   ]
  },
  {
   "cell_type": "code",
   "execution_count": 2,
   "metadata": {},
   "outputs": [],
   "source": [
    "url = \"http://theme.archives.go.kr/next/closed/page/ReadClosedCommon.do?yr=2019\""
   ]
  },
  {
   "cell_type": "code",
   "execution_count": 3,
   "metadata": {},
   "outputs": [],
   "source": [
    "response = requests.get(url)\n",
    "html = bs(response.text)"
   ]
  },
  {
   "cell_type": "code",
   "execution_count": 4,
   "metadata": {},
   "outputs": [
    {
     "data": {
      "text/plain": [
       "207"
      ]
     },
     "execution_count": 4,
     "metadata": {},
     "output_type": "execute_result"
    }
   ],
   "source": [
    "table = pd.read_html(url)\n",
    "len(table)"
   ]
  },
  {
   "cell_type": "code",
   "execution_count": 5,
   "metadata": {},
   "outputs": [
    {
     "data": {
      "text/plain": [
       "'bookmark=&pageParam=page&page=2&searchResultCount=&gubun=80&orgnz_id=108001&searchType=&keyword=&keywordGubun=&viewPage=ClosedList2017'"
      ]
     },
     "execution_count": 5,
     "metadata": {},
     "output_type": "execute_result"
    }
   ],
   "source": [
    "# body > table > tbody > tr:nth-child(2) > td:nth-child(2) > table > tbody > tr:nth-child(4) > td > table\n",
    "url = \"http://theme.archives.go.kr/next/closed/page/orgListClosedCommon.do\"\n",
    "query = \"bookmark=&pageParam=page&page=2&searchResultCount=\"\n",
    "query = f\"{query}&gubun=80&orgnz_id=108001&searchType=&keyword=&keywordGubun=&viewPage=ClosedList2017\"\n",
    "query"
   ]
  },
  {
   "cell_type": "code",
   "execution_count": 6,
   "metadata": {},
   "outputs": [
    {
     "data": {
      "text/plain": [
       "{'bookmark': '',\n",
       " 'pageParam': 'page',\n",
       " 'page': '2',\n",
       " 'searchResultCount': '',\n",
       " 'gubun': '80',\n",
       " 'orgnz_id': '108001',\n",
       " 'searchType': '',\n",
       " 'keyword': '',\n",
       " 'keywordGubun': '',\n",
       " 'viewPage': 'ClosedList2017'}"
      ]
     },
     "execution_count": 6,
     "metadata": {},
     "output_type": "execute_result"
    }
   ],
   "source": [
    "q_split = query.split(\"&\")\n",
    "params = {}\n",
    "for q in q_split:\n",
    "    q_key = q.split(\"=\")[0]\n",
    "    q_val = q.split(\"=\")[1]\n",
    "    params[q_key] = q_val\n",
    "    \n",
    "params"
   ]
  },
  {
   "cell_type": "code",
   "execution_count": 7,
   "metadata": {},
   "outputs": [],
   "source": [
    "def requests_page(url, params):\n",
    "    \"\"\"\n",
    "    URL과 query string 을 만들어 페이지에 접근합니다.\n",
    "    여기에서는 post를 통해 url을 호출합니다.\n",
    "    \"\"\"\n",
    "    response = requests.post(url, params)\n",
    "    html = bs(response.text)\n",
    "    return html"
   ]
  },
  {
   "cell_type": "code",
   "execution_count": 8,
   "metadata": {},
   "outputs": [],
   "source": [
    "def find_last_page_no(html):\n",
    "    \"\"\"마지막 페이지 번호를 찾아옵니다.\"\"\"\n",
    "    find_last_page = html.select(\"a\")[-1][\"href\"]\n",
    "    last_page_no = re.sub(\"[^0-9]\", \"\", find_last_page)\n",
    "    last_page_no = int(last_page_no)\n",
    "    return last_page_no"
   ]
  },
  {
   "cell_type": "code",
   "execution_count": 9,
   "metadata": {},
   "outputs": [],
   "source": [
    "def parse_table(html):\n",
    "    \"\"\"기록목록을 가져옵니다.\"\"\"\n",
    "    table = html.select(\"table\")\n",
    "    doc = table[1].select(\"table\")[2]\n",
    "    df_doc = pd.read_html(str(doc))[0]\n",
    "    cols = df_doc.loc[0].tolist()\n",
    "    df_doc.columns = cols\n",
    "    df_doc = df_doc.drop(0)\n",
    "    return df_doc"
   ]
  },
  {
   "cell_type": "code",
   "execution_count": 10,
   "metadata": {},
   "outputs": [],
   "source": [
    "def get_table(url, params):\n",
    "    \"\"\"\n",
    "    url, params 를 넘기면 기록물 목록을 반환\n",
    "    \"\"\"\n",
    "    html = requests_page(url, params)\n",
    "    table = parse_table(html)\n",
    "    return table"
   ]
  },
  {
   "cell_type": "code",
   "execution_count": 11,
   "metadata": {},
   "outputs": [
    {
     "data": {
      "text/plain": [
       "34988"
      ]
     },
     "execution_count": 11,
     "metadata": {},
     "output_type": "execute_result"
    }
   ],
   "source": [
    "html = requests_page(url, params)\n",
    "last_page_no = find_last_page_no(html)\n",
    "last_page_no"
   ]
  },
  {
   "cell_type": "code",
   "execution_count": 12,
   "metadata": {},
   "outputs": [
    {
     "data": {
      "text/plain": [
       "{'bookmark': '',\n",
       " 'pageParam': 'page',\n",
       " 'page': '2',\n",
       " 'searchResultCount': '',\n",
       " 'gubun': '80',\n",
       " 'orgnz_id': '108001',\n",
       " 'searchType': '',\n",
       " 'keyword': '',\n",
       " 'keywordGubun': '',\n",
       " 'viewPage': 'ClosedList2017'}"
      ]
     },
     "execution_count": 12,
     "metadata": {},
     "output_type": "execute_result"
    }
   ],
   "source": [
    "params"
   ]
  },
  {
   "cell_type": "code",
   "execution_count": 33,
   "metadata": {
    "scrolled": false
   },
   "outputs": [],
   "source": [
    "def g2b_page_scraping(url, params, start_page_no, end_page_no):\n",
    "    page_list = []\n",
    "    for page_no in range(start_page_no, end_page_no+1):\n",
    "        \"\"\"\n",
    "        0~1초 휴지시간을 갖고 페이지마다 돌며 수집\n",
    "        \"\"\"\n",
    "        random_time = np.random.uniform(0, 1)\n",
    "        time.sleep(random_time)\n",
    "        \n",
    "        params[\"page\"] = page_no\n",
    "        df_page = get_table(url, params)\n",
    "        page_list.append(df_page)\n",
    "        df = pd.concat(page_list)\n",
    "        file_name = f\"archives_go_kr_{params['gubun']}_{params['orgnz_id']}_{start_page_no}_{end_page_no}.csv\"\n",
    "        df.to_csv(file_name, index=False)\n",
    "        \n",
    "        if page_no % 100 == 0 :\n",
    "            print(page_no)\n",
    "        \n",
    "    return df"
   ]
  },
  {
   "cell_type": "code",
   "execution_count": 34,
   "metadata": {},
   "outputs": [
    {
     "data": {
      "text/plain": [
       "('http://theme.archives.go.kr/next/closed/page/orgListClosedCommon.do',\n",
       " {'bookmark': '',\n",
       "  'pageParam': 'page',\n",
       "  'page': 5,\n",
       "  'searchResultCount': '',\n",
       "  'gubun': '80',\n",
       "  'orgnz_id': '108001',\n",
       "  'searchType': '',\n",
       "  'keyword': '',\n",
       "  'keywordGubun': '',\n",
       "  'viewPage': 'ClosedList2017'})"
      ]
     },
     "execution_count": 34,
     "metadata": {},
     "output_type": "execute_result"
    }
   ],
   "source": [
    "url, params"
   ]
  },
  {
   "cell_type": "code",
   "execution_count": null,
   "metadata": {},
   "outputs": [
    {
     "name": "stdout",
     "output_type": "stream",
     "text": [
      "100\n",
      "200\n",
      "300\n",
      "400\n",
      "500\n",
      "600\n",
      "700\n",
      "800\n",
      "900\n"
     ]
    }
   ],
   "source": [
    "start_page_no = 1\n",
    "end_page_no = 1000\n",
    "# end_page_no = last_page_no\n",
    "\n",
    "df = g2b_page_scraping(url, params, start_page_no, end_page_no) "
   ]
  },
  {
   "cell_type": "code",
   "execution_count": null,
   "metadata": {},
   "outputs": [],
   "source": []
  },
  {
   "cell_type": "code",
   "execution_count": null,
   "metadata": {},
   "outputs": [],
   "source": []
  }
 ],
 "metadata": {
  "kernelspec": {
   "display_name": "Python 3",
   "language": "python",
   "name": "python3"
  },
  "language_info": {
   "codemirror_mode": {
    "name": "ipython",
    "version": 3
   },
   "file_extension": ".py",
   "mimetype": "text/x-python",
   "name": "python",
   "nbconvert_exporter": "python",
   "pygments_lexer": "ipython3",
   "version": "3.7.6"
  },
  "toc": {
   "base_numbering": 1,
   "nav_menu": {},
   "number_sections": true,
   "sideBar": true,
   "skip_h1_title": false,
   "title_cell": "Table of Contents",
   "title_sidebar": "Contents",
   "toc_cell": false,
   "toc_position": {},
   "toc_section_display": true,
   "toc_window_display": false
  },
  "varInspector": {
   "cols": {
    "lenName": 16,
    "lenType": 16,
    "lenVar": 40
   },
   "kernels_config": {
    "python": {
     "delete_cmd_postfix": "",
     "delete_cmd_prefix": "del ",
     "library": "var_list.py",
     "varRefreshCmd": "print(var_dic_list())"
    },
    "r": {
     "delete_cmd_postfix": ") ",
     "delete_cmd_prefix": "rm(",
     "library": "var_list.r",
     "varRefreshCmd": "cat(var_dic_list()) "
    }
   },
   "types_to_exclude": [
    "module",
    "function",
    "builtin_function_or_method",
    "instance",
    "_Feature"
   ],
   "window_display": false
  }
 },
 "nbformat": 4,
 "nbformat_minor": 4
}
