{
 "cells": [
  {
   "cell_type": "code",
   "execution_count": 1,
   "metadata": {},
   "outputs": [],
   "source": [
    "import requests\n",
    "from bs4 import BeautifulSoup as bs\n",
    "import pandas as pd"
   ]
  },
  {
   "cell_type": "markdown",
   "metadata": {},
   "source": [
    "## HTTP 요청을 위한 준비"
   ]
  },
  {
   "cell_type": "code",
   "execution_count": 2,
   "metadata": {},
   "outputs": [],
   "source": [
    "url = \"https://www.pa.go.kr/research/contents/speech/index.jsp\"\n",
    "params = \"spMode=&artid=&catid=&pageIndex=3&searchHistoryCount=0&damPst=&mediaType=&speechEvent=&searchKeyword=&boxname=&searchStartDate=&searchEndDate=&orderColumn=1&pageUnit=20\""
   ]
  },
  {
   "cell_type": "code",
   "execution_count": 3,
   "metadata": {},
   "outputs": [
    {
     "data": {
      "text/plain": [
       "{'User-Agent': 'Mozilla/5.0 (Macintosh; Intel Mac OS X 10_15_7) AppleWebKit/537.36 (KHTML, like Gecko) Chrome/94.0.4606.71 Safari/537.36',\n",
       " 'Referer': 'https://www.pa.go.kr/research/contents/speech/index.jsp',\n",
       " 'Content-Type': 'application/x-www-form-urlencoded'}"
      ]
     },
     "execution_count": 3,
     "metadata": {},
     "output_type": "execute_result"
    }
   ],
   "source": [
    "headers = {\"User-Agent\": \"Mozilla/5.0 (Macintosh; Intel Mac OS X 10_15_7) AppleWebKit/537.36 (KHTML, like Gecko) Chrome/94.0.4606.71 Safari/537.36\",\n",
    "          \"Referer\": \"https://www.pa.go.kr/research/contents/speech/index.jsp\",\n",
    "          \"Content-Type\": \"application/x-www-form-urlencoded\",}\n",
    "headers"
   ]
  },
  {
   "cell_type": "markdown",
   "metadata": {},
   "source": [
    "## HTTP 요청"
   ]
  },
  {
   "cell_type": "code",
   "execution_count": 4,
   "metadata": {},
   "outputs": [
    {
     "name": "stderr",
     "output_type": "stream",
     "text": [
      "/Users/corazzon/opt/anaconda3/lib/python3.7/site-packages/urllib3/connectionpool.py:1004: InsecureRequestWarning: Unverified HTTPS request is being made to host 'www.pa.go.kr'. Adding certificate verification is strongly advised. See: https://urllib3.readthedocs.io/en/latest/advanced-usage.html#ssl-warnings\n",
      "  InsecureRequestWarning,\n"
     ]
    },
    {
     "data": {
      "text/plain": [
       "<Response [200]>"
      ]
     },
     "execution_count": 4,
     "metadata": {},
     "output_type": "execute_result"
    }
   ],
   "source": [
    "# SSLError\n",
    "response = requests.post(url, params=params, headers=headers, verify=False)\n",
    "response"
   ]
  },
  {
   "cell_type": "code",
   "execution_count": 5,
   "metadata": {},
   "outputs": [],
   "source": [
    "html = bs(response.text, \"lxml\")"
   ]
  },
  {
   "cell_type": "code",
   "execution_count": 6,
   "metadata": {},
   "outputs": [
    {
     "data": {
      "text/plain": [
       "1"
      ]
     },
     "execution_count": 6,
     "metadata": {},
     "output_type": "execute_result"
    }
   ],
   "source": [
    "tables = html.select(\"table\")\n",
    "len(tables)"
   ]
  },
  {
   "cell_type": "markdown",
   "metadata": {},
   "source": [
    "## 데이터 프레임으로 변환"
   ]
  },
  {
   "cell_type": "code",
   "execution_count": 7,
   "metadata": {},
   "outputs": [
    {
     "data": {
      "text/plain": [
       "(20, 6)"
      ]
     },
     "execution_count": 7,
     "metadata": {},
     "output_type": "execute_result"
    }
   ],
   "source": [
    "df = pd.read_html(str(tables))[0]\n",
    "df.shape"
   ]
  },
  {
   "cell_type": "code",
   "execution_count": 8,
   "metadata": {},
   "outputs": [
    {
     "data": {
      "text/html": [
       "<div>\n",
       "<style scoped>\n",
       "    .dataframe tbody tr th:only-of-type {\n",
       "        vertical-align: middle;\n",
       "    }\n",
       "\n",
       "    .dataframe tbody tr th {\n",
       "        vertical-align: top;\n",
       "    }\n",
       "\n",
       "    .dataframe thead th {\n",
       "        text-align: right;\n",
       "    }\n",
       "</style>\n",
       "<table border=\"1\" class=\"dataframe\">\n",
       "  <thead>\n",
       "    <tr style=\"text-align: right;\">\n",
       "      <th></th>\n",
       "      <th>번호</th>\n",
       "      <th>대통령</th>\n",
       "      <th>형태</th>\n",
       "      <th>유형</th>\n",
       "      <th>제목</th>\n",
       "      <th>연설일자</th>\n",
       "    </tr>\n",
       "  </thead>\n",
       "  <tbody>\n",
       "    <tr>\n",
       "      <th>0</th>\n",
       "      <td>7548</td>\n",
       "      <td>이승만</td>\n",
       "      <td>연설문</td>\n",
       "      <td>성명/담화문</td>\n",
       "      <td>쌀 암매장치(闇買藏置)는 부당, 호농지주의 협력이 긴요</td>\n",
       "      <td>1949.01.14</td>\n",
       "    </tr>\n",
       "    <tr>\n",
       "      <th>1</th>\n",
       "      <td>7547</td>\n",
       "      <td>이승만</td>\n",
       "      <td>연설문</td>\n",
       "      <td>성명/담화문</td>\n",
       "      <td>민생과 국방에 최중점</td>\n",
       "      <td>1949.01.25</td>\n",
       "    </tr>\n",
       "    <tr>\n",
       "      <th>2</th>\n",
       "      <td>7546</td>\n",
       "      <td>이승만</td>\n",
       "      <td>연설문</td>\n",
       "      <td>기타</td>\n",
       "      <td>화부(華府)에 대사관 설치함</td>\n",
       "      <td>1949.02.01</td>\n",
       "    </tr>\n",
       "    <tr>\n",
       "      <th>3</th>\n",
       "      <td>7545</td>\n",
       "      <td>이승만</td>\n",
       "      <td>연설문</td>\n",
       "      <td>성명/담화문</td>\n",
       "      <td>불법 소장 양곡은 몰수 또는 강제 매입</td>\n",
       "      <td>1949.02.03</td>\n",
       "    </tr>\n",
       "    <tr>\n",
       "      <th>4</th>\n",
       "      <td>7544</td>\n",
       "      <td>이승만</td>\n",
       "      <td>연설문</td>\n",
       "      <td>성명/담화문</td>\n",
       "      <td>사무분담 명백히 하라, 반민법(反民法) 실시에 대하여</td>\n",
       "      <td>1949.02.04</td>\n",
       "    </tr>\n",
       "  </tbody>\n",
       "</table>\n",
       "</div>"
      ],
      "text/plain": [
       "     번호  대통령   형태      유형                              제목        연설일자\n",
       "0  7548  이승만  연설문  성명/담화문  쌀 암매장치(闇買藏置)는 부당, 호농지주의 협력이 긴요  1949.01.14\n",
       "1  7547  이승만  연설문  성명/담화문                     민생과 국방에 최중점  1949.01.25\n",
       "2  7546  이승만  연설문      기타                 화부(華府)에 대사관 설치함  1949.02.01\n",
       "3  7545  이승만  연설문  성명/담화문           불법 소장 양곡은 몰수 또는 강제 매입  1949.02.03\n",
       "4  7544  이승만  연설문  성명/담화문   사무분담 명백히 하라, 반민법(反民法) 실시에 대하여  1949.02.04"
      ]
     },
     "execution_count": 8,
     "metadata": {},
     "output_type": "execute_result"
    }
   ],
   "source": [
    "df.head()"
   ]
  },
  {
   "cell_type": "code",
   "execution_count": null,
   "metadata": {},
   "outputs": [],
   "source": []
  }
 ],
 "metadata": {
  "kernelspec": {
   "display_name": "Python 3",
   "language": "python",
   "name": "python3"
  },
  "language_info": {
   "codemirror_mode": {
    "name": "ipython",
    "version": 3
   },
   "file_extension": ".py",
   "mimetype": "text/x-python",
   "name": "python",
   "nbconvert_exporter": "python",
   "pygments_lexer": "ipython3",
   "version": "3.7.6"
  },
  "toc": {
   "base_numbering": 1,
   "nav_menu": {},
   "number_sections": true,
   "sideBar": true,
   "skip_h1_title": false,
   "title_cell": "Table of Contents",
   "title_sidebar": "Contents",
   "toc_cell": false,
   "toc_position": {},
   "toc_section_display": true,
   "toc_window_display": false
  },
  "varInspector": {
   "cols": {
    "lenName": 16,
    "lenType": 16,
    "lenVar": 40
   },
   "kernels_config": {
    "python": {
     "delete_cmd_postfix": "",
     "delete_cmd_prefix": "del ",
     "library": "var_list.py",
     "varRefreshCmd": "print(var_dic_list())"
    },
    "r": {
     "delete_cmd_postfix": ") ",
     "delete_cmd_prefix": "rm(",
     "library": "var_list.r",
     "varRefreshCmd": "cat(var_dic_list()) "
    }
   },
   "types_to_exclude": [
    "module",
    "function",
    "builtin_function_or_method",
    "instance",
    "_Feature"
   ],
   "window_display": false
  }
 },
 "nbformat": 4,
 "nbformat_minor": 4
}
