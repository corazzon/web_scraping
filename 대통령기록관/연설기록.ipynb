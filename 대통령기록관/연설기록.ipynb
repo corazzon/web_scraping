{
 "cells": [
  {
   "cell_type": "markdown",
   "metadata": {},
   "source": [
    "* [문재인 대통령 시정연설: 문 대통령 연설에서 가장 많이 등장한 단어는? - BBC News 코리아](https://www.bbc.com/korean/news-54703435)\n",
    "* [공공성 유형의 시대적 탐색에 관한 연구: 대통령 연설문 내용분석을 중심으로 - 한국공공관리학보 - 한국공공관리학회 : 논문 - DBpia, 연구를 돕는 똑똑한 학술콘텐츠 플랫폼](https://www.dbpia.co.kr/journal/articleDetail?nodeId=NODE09300682)\n",
    "* [역대 대통령 연설문의 유형과 특징에 대한 비교연구 - 한국공공관리학보 - 한국공공관리학회 : 논문 - DBpia, 연구를 돕는 똑똑한 학술콘텐츠 플랫폼](https://www.dbpia.co.kr/Journal/articleDetail?nodeId=NODE06595036)"
   ]
  },
  {
   "cell_type": "code",
   "execution_count": 1,
   "metadata": {},
   "outputs": [],
   "source": [
    "import requests\n",
    "from bs4 import BeautifulSoup as bs\n",
    "import pandas as pd"
   ]
  },
  {
   "cell_type": "markdown",
   "metadata": {},
   "source": [
    "## HTTP 요청을 위한 준비\n",
    "* https://www.pa.go.kr/research/contents/speech/index.jsp"
   ]
  },
  {
   "cell_type": "code",
   "execution_count": 68,
   "metadata": {},
   "outputs": [],
   "source": [
    "page_no = 1\n",
    "url = \"https://www.pa.go.kr/research/contents/speech/index.jsp\"\n",
    "params = f\"spMode=&artid=&catid=&pageIndex={page_no}&searchHistoryCount=0&damPst=&mediaType=&speechEvent=&searchKeyword=&boxname=&searchStartDate=&searchEndDate=&orderColumn=1&pageUnit=20\""
   ]
  },
  {
   "cell_type": "code",
   "execution_count": 69,
   "metadata": {},
   "outputs": [
    {
     "data": {
      "text/plain": [
       "{'User-Agent': 'Mozilla/5.0 (Macintosh; Intel Mac OS X 10_15_7) AppleWebKit/537.36 (KHTML, like Gecko) Chrome/94.0.4606.71 Safari/537.36',\n",
       " 'Referer': 'https://www.pa.go.kr/research/contents/speech/index.jsp',\n",
       " 'Content-Type': 'application/x-www-form-urlencoded'}"
      ]
     },
     "execution_count": 69,
     "metadata": {},
     "output_type": "execute_result"
    }
   ],
   "source": [
    "headers = {\"User-Agent\": \"Mozilla/5.0 (Macintosh; Intel Mac OS X 10_15_7) AppleWebKit/537.36 (KHTML, like Gecko) Chrome/94.0.4606.71 Safari/537.36\",\n",
    "          \"Referer\": \"https://www.pa.go.kr/research/contents/speech/index.jsp\",\n",
    "          \"Content-Type\": \"application/x-www-form-urlencoded\",}\n",
    "headers"
   ]
  },
  {
   "cell_type": "markdown",
   "metadata": {},
   "source": [
    "## HTTP 요청"
   ]
  },
  {
   "cell_type": "code",
   "execution_count": 70,
   "metadata": {},
   "outputs": [
    {
     "name": "stderr",
     "output_type": "stream",
     "text": [
      "/Users/corazzon/opt/anaconda3/lib/python3.7/site-packages/urllib3/connectionpool.py:1004: InsecureRequestWarning: Unverified HTTPS request is being made to host 'www.pa.go.kr'. Adding certificate verification is strongly advised. See: https://urllib3.readthedocs.io/en/latest/advanced-usage.html#ssl-warnings\n",
      "  InsecureRequestWarning,\n"
     ]
    },
    {
     "data": {
      "text/plain": [
       "<Response [200]>"
      ]
     },
     "execution_count": 70,
     "metadata": {},
     "output_type": "execute_result"
    }
   ],
   "source": [
    "# 인증서가 없는 사이트는 접속 시 웹 브라우저에서 다음과 같은 에러 메시지가 발생합니다.\n",
    "# verify=False를 통해 SSL 인증서 확인 과정을 생략하겠다는 의미입니다.\n",
    "# 인증서가 없는 사이트 접속으로 인해 혹시라도 발생할 수 있는 문제를 알려주기 위한 경고 메시지 입니다.\n",
    "# 인증서 오류가 신경쓰인다면 아래 경고메시지 비활성화 처리로 없앨 수도 있지만 경고이기 때문에 데이터 수집에는 문제가 없습니다. \n",
    "# requests.packages.urllib3.disable_warnings(requests.packages.urllib3.exceptions.InsecureRequestWarning)\n",
    "response = requests.post(url, params=params, headers=headers, verify=False)\n",
    "response"
   ]
  },
  {
   "cell_type": "code",
   "execution_count": 71,
   "metadata": {},
   "outputs": [],
   "source": [
    "html = bs(response.text, \"lxml\")"
   ]
  },
  {
   "cell_type": "code",
   "execution_count": 72,
   "metadata": {},
   "outputs": [
    {
     "data": {
      "text/plain": [
       "1"
      ]
     },
     "execution_count": 72,
     "metadata": {},
     "output_type": "execute_result"
    }
   ],
   "source": [
    "tables = html.select(\"table\")\n",
    "len(tables)"
   ]
  },
  {
   "cell_type": "code",
   "execution_count": 73,
   "metadata": {},
   "outputs": [
    {
     "data": {
      "text/plain": [
       "[<a class=\"last\" href=\"?skinPaging=%2fadmin%2fresearch%2fcom%2fpagingskin%2fuser&amp;totalRecord=7588&amp;curPage=1&amp;pagingPerPage=10&amp;recordPerPage=20&amp;fnName=fn_egov_pagepageIndex=380\" onclick=\"fn_egov_page('380');return false;\"><img alt=\"마지막\" src=\"/images/egovframework/pa/portal/common/btn_last.jpg\"/></a>]"
      ]
     },
     "execution_count": 73,
     "metadata": {},
     "output_type": "execute_result"
    }
   ],
   "source": [
    "html.find_all(\"a\", {\"class\": \"last\"})"
   ]
  },
  {
   "cell_type": "code",
   "execution_count": 79,
   "metadata": {},
   "outputs": [
    {
     "data": {
      "text/plain": [
       "380"
      ]
     },
     "execution_count": 79,
     "metadata": {},
     "output_type": "execute_result"
    }
   ],
   "source": [
    "last_page = html.select(\"nav.board-paging > ul > li > a\")[-1][\"href\"].split(\"=\")[-1]\n",
    "last_page = int(last_page)\n",
    "last_page"
   ]
  },
  {
   "cell_type": "markdown",
   "metadata": {},
   "source": [
    "## 데이터 프레임으로 변환"
   ]
  },
  {
   "cell_type": "code",
   "execution_count": 63,
   "metadata": {},
   "outputs": [
    {
     "data": {
      "text/plain": [
       "(20, 6)"
      ]
     },
     "execution_count": 63,
     "metadata": {},
     "output_type": "execute_result"
    }
   ],
   "source": [
    "df = pd.read_html(str(tables))[0]\n",
    "df.shape"
   ]
  },
  {
   "cell_type": "code",
   "execution_count": 64,
   "metadata": {},
   "outputs": [
    {
     "data": {
      "text/html": [
       "<div>\n",
       "<style scoped>\n",
       "    .dataframe tbody tr th:only-of-type {\n",
       "        vertical-align: middle;\n",
       "    }\n",
       "\n",
       "    .dataframe tbody tr th {\n",
       "        vertical-align: top;\n",
       "    }\n",
       "\n",
       "    .dataframe thead th {\n",
       "        text-align: right;\n",
       "    }\n",
       "</style>\n",
       "<table border=\"1\" class=\"dataframe\">\n",
       "  <thead>\n",
       "    <tr style=\"text-align: right;\">\n",
       "      <th></th>\n",
       "      <th>번호</th>\n",
       "      <th>대통령</th>\n",
       "      <th>형태</th>\n",
       "      <th>유형</th>\n",
       "      <th>제목</th>\n",
       "      <th>연설일자</th>\n",
       "    </tr>\n",
       "  </thead>\n",
       "  <tbody>\n",
       "    <tr>\n",
       "      <th>0</th>\n",
       "      <td>7588</td>\n",
       "      <td>이승만</td>\n",
       "      <td>연설문</td>\n",
       "      <td>취임사</td>\n",
       "      <td>대통령 취임사(大統領就任辭)</td>\n",
       "      <td>1948.07.24</td>\n",
       "    </tr>\n",
       "    <tr>\n",
       "      <th>1</th>\n",
       "      <td>7587</td>\n",
       "      <td>이승만</td>\n",
       "      <td>연설음성</td>\n",
       "      <td>취임사</td>\n",
       "      <td>이승만 취임선서</td>\n",
       "      <td>1948.07.24</td>\n",
       "    </tr>\n",
       "    <tr>\n",
       "      <th>2</th>\n",
       "      <td>7586</td>\n",
       "      <td>이승만</td>\n",
       "      <td>연설문</td>\n",
       "      <td>성명/담화문</td>\n",
       "      <td>민족이 원하는 길을 따를 결심, 국무총리 인준 부결에 대하여</td>\n",
       "      <td>1948.07.29</td>\n",
       "    </tr>\n",
       "    <tr>\n",
       "      <th>3</th>\n",
       "      <td>7585</td>\n",
       "      <td>이승만</td>\n",
       "      <td>연설문</td>\n",
       "      <td>기타</td>\n",
       "      <td>미급점(未及點) 육성하라</td>\n",
       "      <td>1948.08.09</td>\n",
       "    </tr>\n",
       "    <tr>\n",
       "      <th>4</th>\n",
       "      <td>7584</td>\n",
       "      <td>이승만</td>\n",
       "      <td>연설문</td>\n",
       "      <td>성명/담화문</td>\n",
       "      <td>전민족에게 충고함</td>\n",
       "      <td>1948.08.12</td>\n",
       "    </tr>\n",
       "  </tbody>\n",
       "</table>\n",
       "</div>"
      ],
      "text/plain": [
       "     번호  대통령    형태      유형                                 제목        연설일자\n",
       "0  7588  이승만   연설문     취임사                    대통령 취임사(大統領就任辭)  1948.07.24\n",
       "1  7587  이승만  연설음성     취임사                           이승만 취임선서  1948.07.24\n",
       "2  7586  이승만   연설문  성명/담화문  민족이 원하는 길을 따를 결심, 국무총리 인준 부결에 대하여  1948.07.29\n",
       "3  7585  이승만   연설문      기타                      미급점(未及點) 육성하라  1948.08.09\n",
       "4  7584  이승만   연설문  성명/담화문                          전민족에게 충고함  1948.08.12"
      ]
     },
     "execution_count": 64,
     "metadata": {},
     "output_type": "execute_result"
    }
   ],
   "source": [
    "df.head()"
   ]
  },
  {
   "cell_type": "markdown",
   "metadata": {},
   "source": [
    "## 내용 링크 경로 찾기"
   ]
  },
  {
   "cell_type": "code",
   "execution_count": 65,
   "metadata": {},
   "outputs": [
    {
     "data": {
      "text/plain": [
       "[<td class=\"hidden\">7588</td>,\n",
       " <td><a href=\"?spMode=view&amp;catid=c_pa02062&amp;artid=1310440\" onclick=\"fn_egov_view('c_pa02062','1310440');return false;\">이승만</a></td>,\n",
       " <td><a href=\"?spMode=view&amp;catid=c_pa02062&amp;artid=1310440\" onclick=\"fn_egov_view('c_pa02062','1310440');return false;\">연설문</a></td>,\n",
       " <td class=\"hidden\"><a href=\"?spMode=view&amp;catid=c_pa02062&amp;artid=1310440\" onclick=\"fn_egov_view('c_pa02062','1310440');return false;\">취임사</a></td>,\n",
       " <td class=\"subject\"><a href=\"?spMode=view&amp;catid=c_pa02062&amp;artid=1310440\" onclick=\"fn_egov_view('c_pa02062','1310440');return false;\">대통령 취임사(大統領就任辭) </a></td>]"
      ]
     },
     "execution_count": 65,
     "metadata": {},
     "output_type": "execute_result"
    }
   ],
   "source": [
    "html.select(\"table > tbody > tr > td\")[:5]"
   ]
  },
  {
   "cell_type": "code",
   "execution_count": 66,
   "metadata": {},
   "outputs": [
    {
     "data": {
      "text/plain": [
       "<a href=\"?spMode=view&amp;catid=c_pa02062&amp;artid=1310440\" onclick=\"fn_egov_view('c_pa02062','1310440');return false;\">대통령 취임사(大統領就任辭) </a>"
      ]
     },
     "execution_count": 66,
     "metadata": {},
     "output_type": "execute_result"
    }
   ],
   "source": [
    "a_list = html.select(\"table > tbody > tr > td.subject > a\")\n",
    "a_list[0]"
   ]
  },
  {
   "cell_type": "code",
   "execution_count": 67,
   "metadata": {},
   "outputs": [
    {
     "data": {
      "text/plain": [
       "[<a href=\"?spMode=view&amp;catid=c_pa02062&amp;artid=1310440\" onclick=\"fn_egov_view('c_pa02062','1310440');return false;\">대통령 취임사(大統領就任辭) </a>,\n",
       " <a href=\"?spMode=view&amp;catid=c_pa02064&amp;artid=1311382\" onclick=\"fn_egov_view('c_pa02064','1311382');return false;\">이승만 취임선서</a>,\n",
       " <a href=\"?spMode=view&amp;catid=c_pa02062&amp;artid=1310441\" onclick=\"fn_egov_view('c_pa02062','1310441');return false;\">민족이 원하는 길을 따를 결심, 국무총리 인준 부결에 대하여 </a>,\n",
       " <a href=\"?spMode=view&amp;catid=c_pa02062&amp;artid=1310442\" onclick=\"fn_egov_view('c_pa02062','1310442');return false;\">미급점(未及點) 육성하라 </a>,\n",
       " <a href=\"?spMode=view&amp;catid=c_pa02062&amp;artid=1310443\" onclick=\"fn_egov_view('c_pa02062','1310443');return false;\">전민족에게 충고함 </a>,\n",
       " <a href=\"?spMode=view&amp;catid=c_pa02062&amp;artid=1310444\" onclick=\"fn_egov_view('c_pa02062','1310444');return false;\">대한민국 정부수립과 우리의 각오 </a>,\n",
       " <a href=\"?spMode=view&amp;catid=c_pa02062&amp;artid=1310445\" onclick=\"fn_egov_view('c_pa02062','1310445');return false;\">함께 뭉쳐서 자강전진(自疆前進) 외모(外侮)막자 (해방 3주년 기념사) </a>,\n",
       " <a href=\"?spMode=view&amp;catid=c_pa02062&amp;artid=1310446\" onclick=\"fn_egov_view('c_pa02062','1310446');return false;\">정권 이양문제에 대하여 </a>,\n",
       " <a href=\"?spMode=view&amp;catid=c_pa02062&amp;artid=1310447\" onclick=\"fn_egov_view('c_pa02062','1310447');return false;\">북한정권(北韓政權)에 대하여 </a>,\n",
       " <a href=\"?spMode=view&amp;catid=c_pa02062&amp;artid=1310448\" onclick=\"fn_egov_view('c_pa02062','1310448');return false;\">미소(美蘇) 양군 철퇴문제에 대하여 </a>,\n",
       " <a href=\"?spMode=view&amp;catid=c_pa02062&amp;artid=1310449\" onclick=\"fn_egov_view('c_pa02062','1310449');return false;\">반민자(反民者) 처단(處斷)은 민의(民意), 법운영은 보복보다 개과천선(改過遷善)토록 하라 </a>,\n",
       " <a href=\"?spMode=view&amp;catid=c_pa02062&amp;artid=1310450\" onclick=\"fn_egov_view('c_pa02062','1310450');return false;\">미곡 수집에 대하여 </a>,\n",
       " <a href=\"?spMode=view&amp;catid=c_pa02062&amp;artid=1310451\" onclick=\"fn_egov_view('c_pa02062','1310451');return false;\">맥 원수(元帥) 한국(韓國) 보위(保衛)에 언급 </a>,\n",
       " <a href=\"?spMode=view&amp;catid=c_pa02062&amp;artid=1310452\" onclick=\"fn_egov_view('c_pa02062','1310452');return false;\">한글날을 맞이하여</a>,\n",
       " <a href=\"?spMode=view&amp;catid=c_pa02062&amp;artid=1310453\" onclick=\"fn_egov_view('c_pa02062','1310453');return false;\">미국민(美國民)과 이해증진을 희망함 </a>,\n",
       " <a href=\"?spMode=view&amp;catid=c_pa02062&amp;artid=1310454\" onclick=\"fn_egov_view('c_pa02062','1310454');return false;\">한일통상에 대하여 </a>,\n",
       " <a href=\"?spMode=view&amp;catid=c_pa02062&amp;artid=1310455\" onclick=\"fn_egov_view('c_pa02062','1310455');return false;\">반도(叛徒)는 진퇴유곡(進退維谷) 후환(後患) 방어책에 전력하라</a>,\n",
       " <a href=\"?spMode=view&amp;catid=c_pa02062&amp;artid=1310456\" onclick=\"fn_egov_view('c_pa02062','1310456');return false;\">적자(賊子)의 선동을 경계하고 충의로 치안유지에 협력하라 </a>,\n",
       " <a href=\"?spMode=view&amp;catid=c_pa02062&amp;artid=1310457\" onclick=\"fn_egov_view('c_pa02062','1310457');return false;\">불순배(不純輩)를 철저히 제거 반역사상방지법령 준비 </a>,\n",
       " <a href=\"?spMode=view&amp;catid=c_pa02062&amp;artid=1310458\" onclick=\"fn_egov_view('c_pa02062','1310458');return false;\">트루만 미국 대통령 당선에 대하여 </a>]"
      ]
     },
     "execution_count": 67,
     "metadata": {},
     "output_type": "execute_result"
    }
   ],
   "source": [
    "a_list"
   ]
  },
  {
   "cell_type": "code",
   "execution_count": 12,
   "metadata": {},
   "outputs": [
    {
     "data": {
      "text/plain": [
       "['?spMode=view&catid=c_pa02062&artid=1310480',\n",
       " '?spMode=view&catid=c_pa02062&artid=1310481',\n",
       " '?spMode=view&catid=c_pa02062&artid=1310482',\n",
       " '?spMode=view&catid=c_pa02062&artid=1310483',\n",
       " '?spMode=view&catid=c_pa02062&artid=1310484',\n",
       " '?spMode=view&catid=c_pa02062&artid=1310485',\n",
       " '?spMode=view&catid=c_pa02062&artid=1310486',\n",
       " '?spMode=view&catid=c_pa02062&artid=1310487',\n",
       " '?spMode=view&catid=c_pa02062&artid=1310488',\n",
       " '?spMode=view&catid=c_pa02062&artid=1310489',\n",
       " '?spMode=view&catid=c_pa02062&artid=1310490',\n",
       " '?spMode=view&catid=c_pa02062&artid=1310491',\n",
       " '?spMode=view&catid=c_pa02062&artid=1310492',\n",
       " '?spMode=view&catid=c_pa02062&artid=1310494',\n",
       " '?spMode=view&catid=c_pa02062&artid=1310493',\n",
       " '?spMode=view&catid=c_pa02062&artid=1310495',\n",
       " '?spMode=view&catid=c_pa02062&artid=1310496',\n",
       " '?spMode=view&catid=c_pa02062&artid=1310497',\n",
       " '?spMode=view&catid=c_pa02062&artid=1310498',\n",
       " '?spMode=view&catid=c_pa02062&artid=1310499']"
      ]
     },
     "execution_count": 12,
     "metadata": {},
     "output_type": "execute_result"
    }
   ],
   "source": [
    "a_href = [a[\"href\"] for a in a_list]\n",
    "a_href"
   ]
  },
  {
   "cell_type": "code",
   "execution_count": 13,
   "metadata": {},
   "outputs": [],
   "source": [
    "df[\"내용링크\"] = a_href"
   ]
  },
  {
   "cell_type": "code",
   "execution_count": 14,
   "metadata": {},
   "outputs": [
    {
     "data": {
      "text/html": [
       "<div>\n",
       "<style scoped>\n",
       "    .dataframe tbody tr th:only-of-type {\n",
       "        vertical-align: middle;\n",
       "    }\n",
       "\n",
       "    .dataframe tbody tr th {\n",
       "        vertical-align: top;\n",
       "    }\n",
       "\n",
       "    .dataframe thead th {\n",
       "        text-align: right;\n",
       "    }\n",
       "</style>\n",
       "<table border=\"1\" class=\"dataframe\">\n",
       "  <thead>\n",
       "    <tr style=\"text-align: right;\">\n",
       "      <th></th>\n",
       "      <th>번호</th>\n",
       "      <th>대통령</th>\n",
       "      <th>형태</th>\n",
       "      <th>유형</th>\n",
       "      <th>제목</th>\n",
       "      <th>연설일자</th>\n",
       "      <th>href</th>\n",
       "    </tr>\n",
       "  </thead>\n",
       "  <tbody>\n",
       "    <tr>\n",
       "      <th>0</th>\n",
       "      <td>7548</td>\n",
       "      <td>이승만</td>\n",
       "      <td>연설문</td>\n",
       "      <td>성명/담화문</td>\n",
       "      <td>쌀 암매장치(闇買藏置)는 부당, 호농지주의 협력이 긴요</td>\n",
       "      <td>1949.01.14</td>\n",
       "      <td>?spMode=view&amp;catid=c_pa02062&amp;artid=1310480</td>\n",
       "    </tr>\n",
       "    <tr>\n",
       "      <th>1</th>\n",
       "      <td>7547</td>\n",
       "      <td>이승만</td>\n",
       "      <td>연설문</td>\n",
       "      <td>성명/담화문</td>\n",
       "      <td>민생과 국방에 최중점</td>\n",
       "      <td>1949.01.25</td>\n",
       "      <td>?spMode=view&amp;catid=c_pa02062&amp;artid=1310481</td>\n",
       "    </tr>\n",
       "    <tr>\n",
       "      <th>2</th>\n",
       "      <td>7546</td>\n",
       "      <td>이승만</td>\n",
       "      <td>연설문</td>\n",
       "      <td>기타</td>\n",
       "      <td>화부(華府)에 대사관 설치함</td>\n",
       "      <td>1949.02.01</td>\n",
       "      <td>?spMode=view&amp;catid=c_pa02062&amp;artid=1310482</td>\n",
       "    </tr>\n",
       "    <tr>\n",
       "      <th>3</th>\n",
       "      <td>7545</td>\n",
       "      <td>이승만</td>\n",
       "      <td>연설문</td>\n",
       "      <td>성명/담화문</td>\n",
       "      <td>불법 소장 양곡은 몰수 또는 강제 매입</td>\n",
       "      <td>1949.02.03</td>\n",
       "      <td>?spMode=view&amp;catid=c_pa02062&amp;artid=1310483</td>\n",
       "    </tr>\n",
       "    <tr>\n",
       "      <th>4</th>\n",
       "      <td>7544</td>\n",
       "      <td>이승만</td>\n",
       "      <td>연설문</td>\n",
       "      <td>성명/담화문</td>\n",
       "      <td>사무분담 명백히 하라, 반민법(反民法) 실시에 대하여</td>\n",
       "      <td>1949.02.04</td>\n",
       "      <td>?spMode=view&amp;catid=c_pa02062&amp;artid=1310484</td>\n",
       "    </tr>\n",
       "    <tr>\n",
       "      <th>5</th>\n",
       "      <td>7543</td>\n",
       "      <td>이승만</td>\n",
       "      <td>연설문</td>\n",
       "      <td>기타</td>\n",
       "      <td>매곡 완수에 노력하라</td>\n",
       "      <td>1949.02.06</td>\n",
       "      <td>?spMode=view&amp;catid=c_pa02062&amp;artid=1310485</td>\n",
       "    </tr>\n",
       "    <tr>\n",
       "      <th>6</th>\n",
       "      <td>7542</td>\n",
       "      <td>이승만</td>\n",
       "      <td>연설문</td>\n",
       "      <td>성명/담화문</td>\n",
       "      <td>통일은 한위(韓委)와 협의, 철병 운운은 시기상조</td>\n",
       "      <td>1949.02.08</td>\n",
       "      <td>?spMode=view&amp;catid=c_pa02062&amp;artid=1310486</td>\n",
       "    </tr>\n",
       "    <tr>\n",
       "      <th>7</th>\n",
       "      <td>7541</td>\n",
       "      <td>이승만</td>\n",
       "      <td>연설문</td>\n",
       "      <td>기타</td>\n",
       "      <td>대 민간 작폐를 엄금, 건설 사업에 적극 매진하라</td>\n",
       "      <td>1949.02.10</td>\n",
       "      <td>?spMode=view&amp;catid=c_pa02062&amp;artid=1310487</td>\n",
       "    </tr>\n",
       "    <tr>\n",
       "      <th>8</th>\n",
       "      <td>7540</td>\n",
       "      <td>이승만</td>\n",
       "      <td>연설문</td>\n",
       "      <td>성명/담화문</td>\n",
       "      <td>애국공채 발행에 대하야</td>\n",
       "      <td>1949.02.14</td>\n",
       "      <td>?spMode=view&amp;catid=c_pa02062&amp;artid=1310488</td>\n",
       "    </tr>\n",
       "    <tr>\n",
       "      <th>9</th>\n",
       "      <td>7539</td>\n",
       "      <td>이승만</td>\n",
       "      <td>연설문</td>\n",
       "      <td>성명/담화문</td>\n",
       "      <td>특경대(特警隊)는 폐지하라, 특위 체포 못한다</td>\n",
       "      <td>1949.02.16</td>\n",
       "      <td>?spMode=view&amp;catid=c_pa02062&amp;artid=1310489</td>\n",
       "    </tr>\n",
       "    <tr>\n",
       "      <th>10</th>\n",
       "      <td>7538</td>\n",
       "      <td>이승만</td>\n",
       "      <td>연설문</td>\n",
       "      <td>성명/담화문</td>\n",
       "      <td>정당한 공론이 필요</td>\n",
       "      <td>1949.02.22</td>\n",
       "      <td>?spMode=view&amp;catid=c_pa02062&amp;artid=1310490</td>\n",
       "    </tr>\n",
       "    <tr>\n",
       "      <th>11</th>\n",
       "      <td>7537</td>\n",
       "      <td>이승만</td>\n",
       "      <td>연설문</td>\n",
       "      <td>성명/담화문</td>\n",
       "      <td>국토방위에 분골쇄신(粉骨碎身)하자</td>\n",
       "      <td>1949.02.24</td>\n",
       "      <td>?spMode=view&amp;catid=c_pa02062&amp;artid=1310491</td>\n",
       "    </tr>\n",
       "    <tr>\n",
       "      <th>12</th>\n",
       "      <td>7536</td>\n",
       "      <td>이승만</td>\n",
       "      <td>연설문</td>\n",
       "      <td>성명/담화문</td>\n",
       "      <td>일본 재무장설(再武裝說)에 대하여</td>\n",
       "      <td>1949.02.26</td>\n",
       "      <td>?spMode=view&amp;catid=c_pa02062&amp;artid=1310492</td>\n",
       "    </tr>\n",
       "    <tr>\n",
       "      <th>13</th>\n",
       "      <td>7535</td>\n",
       "      <td>이승만</td>\n",
       "      <td>연설문</td>\n",
       "      <td>성명/담화문</td>\n",
       "      <td>국가 민족을 수호하라</td>\n",
       "      <td>1949.03.01</td>\n",
       "      <td>?spMode=view&amp;catid=c_pa02062&amp;artid=1310494</td>\n",
       "    </tr>\n",
       "    <tr>\n",
       "      <th>14</th>\n",
       "      <td>7534</td>\n",
       "      <td>이승만</td>\n",
       "      <td>연설문</td>\n",
       "      <td>기념사</td>\n",
       "      <td>기미독립운동 정신</td>\n",
       "      <td>1949.03.01</td>\n",
       "      <td>?spMode=view&amp;catid=c_pa02062&amp;artid=1310493</td>\n",
       "    </tr>\n",
       "    <tr>\n",
       "      <th>15</th>\n",
       "      <td>7533</td>\n",
       "      <td>이승만</td>\n",
       "      <td>연설문</td>\n",
       "      <td>성명/담화문</td>\n",
       "      <td>납세와 국민</td>\n",
       "      <td>1949.03.07</td>\n",
       "      <td>?spMode=view&amp;catid=c_pa02062&amp;artid=1310495</td>\n",
       "    </tr>\n",
       "    <tr>\n",
       "      <th>16</th>\n",
       "      <td>7532</td>\n",
       "      <td>이승만</td>\n",
       "      <td>연설문</td>\n",
       "      <td>성명/담화문</td>\n",
       "      <td>대서양동맹(大西洋同盟)에 기대함</td>\n",
       "      <td>1949.03.23</td>\n",
       "      <td>?spMode=view&amp;catid=c_pa02062&amp;artid=1310496</td>\n",
       "    </tr>\n",
       "    <tr>\n",
       "      <th>17</th>\n",
       "      <td>7531</td>\n",
       "      <td>이승만</td>\n",
       "      <td>연설문</td>\n",
       "      <td>성명/담화문</td>\n",
       "      <td>태평양동맹</td>\n",
       "      <td>1949.03.24</td>\n",
       "      <td>?spMode=view&amp;catid=c_pa02062&amp;artid=1310497</td>\n",
       "    </tr>\n",
       "    <tr>\n",
       "      <th>18</th>\n",
       "      <td>7530</td>\n",
       "      <td>이승만</td>\n",
       "      <td>연설문</td>\n",
       "      <td>성명/담화문</td>\n",
       "      <td>새와 짐승을 사랑하자</td>\n",
       "      <td>1949.03.28</td>\n",
       "      <td>?spMode=view&amp;catid=c_pa02062&amp;artid=1310498</td>\n",
       "    </tr>\n",
       "    <tr>\n",
       "      <th>19</th>\n",
       "      <td>7529</td>\n",
       "      <td>이승만</td>\n",
       "      <td>연설문</td>\n",
       "      <td>성명/담화문</td>\n",
       "      <td>나무를 심그고 사랑하자</td>\n",
       "      <td>1949.04.05</td>\n",
       "      <td>?spMode=view&amp;catid=c_pa02062&amp;artid=1310499</td>\n",
       "    </tr>\n",
       "  </tbody>\n",
       "</table>\n",
       "</div>"
      ],
      "text/plain": [
       "      번호  대통령   형태      유형                              제목        연설일자  \\\n",
       "0   7548  이승만  연설문  성명/담화문  쌀 암매장치(闇買藏置)는 부당, 호농지주의 협력이 긴요  1949.01.14   \n",
       "1   7547  이승만  연설문  성명/담화문                     민생과 국방에 최중점  1949.01.25   \n",
       "2   7546  이승만  연설문      기타                 화부(華府)에 대사관 설치함  1949.02.01   \n",
       "3   7545  이승만  연설문  성명/담화문           불법 소장 양곡은 몰수 또는 강제 매입  1949.02.03   \n",
       "4   7544  이승만  연설문  성명/담화문   사무분담 명백히 하라, 반민법(反民法) 실시에 대하여  1949.02.04   \n",
       "5   7543  이승만  연설문      기타                     매곡 완수에 노력하라  1949.02.06   \n",
       "6   7542  이승만  연설문  성명/담화문     통일은 한위(韓委)와 협의, 철병 운운은 시기상조  1949.02.08   \n",
       "7   7541  이승만  연설문      기타     대 민간 작폐를 엄금, 건설 사업에 적극 매진하라  1949.02.10   \n",
       "8   7540  이승만  연설문  성명/담화문                    애국공채 발행에 대하야  1949.02.14   \n",
       "9   7539  이승만  연설문  성명/담화문       특경대(特警隊)는 폐지하라, 특위 체포 못한다  1949.02.16   \n",
       "10  7538  이승만  연설문  성명/담화문                      정당한 공론이 필요  1949.02.22   \n",
       "11  7537  이승만  연설문  성명/담화문              국토방위에 분골쇄신(粉骨碎身)하자  1949.02.24   \n",
       "12  7536  이승만  연설문  성명/담화문              일본 재무장설(再武裝說)에 대하여  1949.02.26   \n",
       "13  7535  이승만  연설문  성명/담화문                     국가 민족을 수호하라  1949.03.01   \n",
       "14  7534  이승만  연설문     기념사                       기미독립운동 정신  1949.03.01   \n",
       "15  7533  이승만  연설문  성명/담화문                          납세와 국민  1949.03.07   \n",
       "16  7532  이승만  연설문  성명/담화문               대서양동맹(大西洋同盟)에 기대함  1949.03.23   \n",
       "17  7531  이승만  연설문  성명/담화문                           태평양동맹  1949.03.24   \n",
       "18  7530  이승만  연설문  성명/담화문                     새와 짐승을 사랑하자  1949.03.28   \n",
       "19  7529  이승만  연설문  성명/담화문                    나무를 심그고 사랑하자  1949.04.05   \n",
       "\n",
       "                                          href  \n",
       "0   ?spMode=view&catid=c_pa02062&artid=1310480  \n",
       "1   ?spMode=view&catid=c_pa02062&artid=1310481  \n",
       "2   ?spMode=view&catid=c_pa02062&artid=1310482  \n",
       "3   ?spMode=view&catid=c_pa02062&artid=1310483  \n",
       "4   ?spMode=view&catid=c_pa02062&artid=1310484  \n",
       "5   ?spMode=view&catid=c_pa02062&artid=1310485  \n",
       "6   ?spMode=view&catid=c_pa02062&artid=1310486  \n",
       "7   ?spMode=view&catid=c_pa02062&artid=1310487  \n",
       "8   ?spMode=view&catid=c_pa02062&artid=1310488  \n",
       "9   ?spMode=view&catid=c_pa02062&artid=1310489  \n",
       "10  ?spMode=view&catid=c_pa02062&artid=1310490  \n",
       "11  ?spMode=view&catid=c_pa02062&artid=1310491  \n",
       "12  ?spMode=view&catid=c_pa02062&artid=1310492  \n",
       "13  ?spMode=view&catid=c_pa02062&artid=1310494  \n",
       "14  ?spMode=view&catid=c_pa02062&artid=1310493  \n",
       "15  ?spMode=view&catid=c_pa02062&artid=1310495  \n",
       "16  ?spMode=view&catid=c_pa02062&artid=1310496  \n",
       "17  ?spMode=view&catid=c_pa02062&artid=1310497  \n",
       "18  ?spMode=view&catid=c_pa02062&artid=1310498  \n",
       "19  ?spMode=view&catid=c_pa02062&artid=1310499  "
      ]
     },
     "execution_count": 14,
     "metadata": {},
     "output_type": "execute_result"
    }
   ],
   "source": [
    "df"
   ]
  },
  {
   "cell_type": "code",
   "execution_count": 80,
   "metadata": {},
   "outputs": [],
   "source": [
    "def page_scrapping(page_no):\n",
    "    url = \"https://www.pa.go.kr/research/contents/speech/index.jsp\"\n",
    "    params = f\"spMode=&artid=&catid=&pageIndex={page_no}&\"\n",
    "    params = f\"{params}searchHistoryCount=0&orderColumn=1&pageUnit=20\"\n",
    "    response = requests.post(url, params=params, verify=False)\n",
    "    html = bs(response.text, \"lxml\")\n",
    "    tables = html.select(\"table\")\n",
    "    df = pd.read_html(str(tables))[0]\n",
    "    a_list = html.select(\"table > tbody > tr > td.subject > a\")\n",
    "    a_href = [a[\"href\"] for a in a_list]\n",
    "    df[\"내용링크\"] = a_href\n",
    "    return df"
   ]
  },
  {
   "cell_type": "code",
   "execution_count": 83,
   "metadata": {},
   "outputs": [
    {
     "name": "stderr",
     "output_type": "stream",
     "text": [
      "/Users/corazzon/opt/anaconda3/lib/python3.7/site-packages/urllib3/connectionpool.py:1004: InsecureRequestWarning: Unverified HTTPS request is being made to host 'www.pa.go.kr'. Adding certificate verification is strongly advised. See: https://urllib3.readthedocs.io/en/latest/advanced-usage.html#ssl-warnings\n",
      "  InsecureRequestWarning,\n"
     ]
    },
    {
     "data": {
      "text/html": [
       "<div>\n",
       "<style scoped>\n",
       "    .dataframe tbody tr th:only-of-type {\n",
       "        vertical-align: middle;\n",
       "    }\n",
       "\n",
       "    .dataframe tbody tr th {\n",
       "        vertical-align: top;\n",
       "    }\n",
       "\n",
       "    .dataframe thead th {\n",
       "        text-align: right;\n",
       "    }\n",
       "</style>\n",
       "<table border=\"1\" class=\"dataframe\">\n",
       "  <thead>\n",
       "    <tr style=\"text-align: right;\">\n",
       "      <th></th>\n",
       "      <th>번호</th>\n",
       "      <th>대통령</th>\n",
       "      <th>형태</th>\n",
       "      <th>유형</th>\n",
       "      <th>제목</th>\n",
       "      <th>연설일자</th>\n",
       "      <th>href</th>\n",
       "    </tr>\n",
       "  </thead>\n",
       "  <tbody>\n",
       "    <tr>\n",
       "      <th>0</th>\n",
       "      <td>8</td>\n",
       "      <td>박근혜</td>\n",
       "      <td>연설문</td>\n",
       "      <td>기념사</td>\n",
       "      <td>지구촌 새마을지도자대회</td>\n",
       "      <td>2016.10.17</td>\n",
       "      <td>?spMode=view&amp;catid=c_pa02062&amp;artid=1400486</td>\n",
       "    </tr>\n",
       "    <tr>\n",
       "      <th>1</th>\n",
       "      <td>7</td>\n",
       "      <td>박근혜</td>\n",
       "      <td>연설문</td>\n",
       "      <td>기념사</td>\n",
       "      <td>도레이첨단소재 구미4공장 기공식</td>\n",
       "      <td>2016.10.18</td>\n",
       "      <td>?spMode=view&amp;catid=c_pa02062&amp;artid=1400487</td>\n",
       "    </tr>\n",
       "    <tr>\n",
       "      <th>2</th>\n",
       "      <td>6</td>\n",
       "      <td>박근혜</td>\n",
       "      <td>연설문</td>\n",
       "      <td>기념사</td>\n",
       "      <td>대한민국 행복교육 박람회</td>\n",
       "      <td>2016.10.19</td>\n",
       "      <td>?spMode=view&amp;catid=c_pa02062&amp;artid=1400488</td>\n",
       "    </tr>\n",
       "    <tr>\n",
       "      <th>3</th>\n",
       "      <td>5</td>\n",
       "      <td>박근혜</td>\n",
       "      <td>연설문</td>\n",
       "      <td>기념사</td>\n",
       "      <td>경찰의 날</td>\n",
       "      <td>2016.10.20</td>\n",
       "      <td>?spMode=view&amp;catid=c_pa02062&amp;artid=1400489</td>\n",
       "    </tr>\n",
       "    <tr>\n",
       "      <th>4</th>\n",
       "      <td>4</td>\n",
       "      <td>박근혜</td>\n",
       "      <td>연설문</td>\n",
       "      <td>국회연설</td>\n",
       "      <td>2017 예산안 시정연설</td>\n",
       "      <td>2016.10.23</td>\n",
       "      <td>?spMode=view&amp;catid=c_pa02062&amp;artid=1400490</td>\n",
       "    </tr>\n",
       "    <tr>\n",
       "      <th>5</th>\n",
       "      <td>3</td>\n",
       "      <td>박근혜</td>\n",
       "      <td>연설문</td>\n",
       "      <td>기념사</td>\n",
       "      <td>글로벌 인재포럼 2016 개회식</td>\n",
       "      <td>2016.10.26</td>\n",
       "      <td>?spMode=view&amp;catid=c_pa02062&amp;artid=1400492</td>\n",
       "    </tr>\n",
       "    <tr>\n",
       "      <th>6</th>\n",
       "      <td>2</td>\n",
       "      <td>박근혜</td>\n",
       "      <td>연설문</td>\n",
       "      <td>기념사</td>\n",
       "      <td>제4회 지방자치의 날 기념식 및 지방자치박람회</td>\n",
       "      <td>2016.10.26</td>\n",
       "      <td>?spMode=view&amp;catid=c_pa02062&amp;artid=1400491</td>\n",
       "    </tr>\n",
       "    <tr>\n",
       "      <th>7</th>\n",
       "      <td>1</td>\n",
       "      <td>박근혜</td>\n",
       "      <td>연설문</td>\n",
       "      <td>기념사</td>\n",
       "      <td>제71주년 교정의 날 기념식</td>\n",
       "      <td>2016.10.26</td>\n",
       "      <td>?spMode=view&amp;catid=c_pa02062&amp;artid=1400493</td>\n",
       "    </tr>\n",
       "  </tbody>\n",
       "</table>\n",
       "</div>"
      ],
      "text/plain": [
       "   번호  대통령   형태    유형                         제목        연설일자  \\\n",
       "0   8  박근혜  연설문   기념사               지구촌 새마을지도자대회  2016.10.17   \n",
       "1   7  박근혜  연설문   기념사          도레이첨단소재 구미4공장 기공식  2016.10.18   \n",
       "2   6  박근혜  연설문   기념사              대한민국 행복교육 박람회  2016.10.19   \n",
       "3   5  박근혜  연설문   기념사                      경찰의 날  2016.10.20   \n",
       "4   4  박근혜  연설문  국회연설              2017 예산안 시정연설  2016.10.23   \n",
       "5   3  박근혜  연설문   기념사          글로벌 인재포럼 2016 개회식  2016.10.26   \n",
       "6   2  박근혜  연설문   기념사  제4회 지방자치의 날 기념식 및 지방자치박람회  2016.10.26   \n",
       "7   1  박근혜  연설문   기념사            제71주년 교정의 날 기념식  2016.10.26   \n",
       "\n",
       "                                         href  \n",
       "0  ?spMode=view&catid=c_pa02062&artid=1400486  \n",
       "1  ?spMode=view&catid=c_pa02062&artid=1400487  \n",
       "2  ?spMode=view&catid=c_pa02062&artid=1400488  \n",
       "3  ?spMode=view&catid=c_pa02062&artid=1400489  \n",
       "4  ?spMode=view&catid=c_pa02062&artid=1400490  \n",
       "5  ?spMode=view&catid=c_pa02062&artid=1400492  \n",
       "6  ?spMode=view&catid=c_pa02062&artid=1400491  \n",
       "7  ?spMode=view&catid=c_pa02062&artid=1400493  "
      ]
     },
     "execution_count": 83,
     "metadata": {},
     "output_type": "execute_result"
    }
   ],
   "source": [
    "# 함수가 잘 동작하는지 확인\n",
    "page_scrapping(page_no=380)"
   ]
  },
  {
   "cell_type": "code",
   "execution_count": 87,
   "metadata": {},
   "outputs": [
    {
     "name": "stderr",
     "output_type": "stream",
     "text": [
      "100%|██████████| 380/380 [01:49<00:00,  3.48it/s]\n"
     ]
    }
   ],
   "source": [
    "from tqdm import trange\n",
    "import time\n",
    "\n",
    "# 경고메시지가 있으면 tqdm 로그가 너무 많이 찍히기 때문에 경고메시지를 제거합니다.\n",
    "requests.packages.urllib3.disable_warnings(requests.packages.urllib3.exceptions.InsecureRequestWarning)\n",
    "\n",
    "page_list = []\n",
    "for page_no in trange(1, last_page + 1):\n",
    "    temp = page_scrapping(page_no)\n",
    "    page_list.append(temp)\n",
    "    time.sleep(0.01)"
   ]
  },
  {
   "cell_type": "code",
   "execution_count": 89,
   "metadata": {},
   "outputs": [
    {
     "data": {
      "text/plain": [
       "(7588, 7)"
      ]
     },
     "execution_count": 89,
     "metadata": {},
     "output_type": "execute_result"
    }
   ],
   "source": [
    "df = pd.concat(page_list)\n",
    "df.shape"
   ]
  },
  {
   "cell_type": "code",
   "execution_count": 91,
   "metadata": {},
   "outputs": [],
   "source": [
    "df.to_csv(\"대통령연설기록.csv\", index=False)"
   ]
  },
  {
   "cell_type": "code",
   "execution_count": 92,
   "metadata": {},
   "outputs": [
    {
     "data": {
      "text/html": [
       "<div>\n",
       "<style scoped>\n",
       "    .dataframe tbody tr th:only-of-type {\n",
       "        vertical-align: middle;\n",
       "    }\n",
       "\n",
       "    .dataframe tbody tr th {\n",
       "        vertical-align: top;\n",
       "    }\n",
       "\n",
       "    .dataframe thead th {\n",
       "        text-align: right;\n",
       "    }\n",
       "</style>\n",
       "<table border=\"1\" class=\"dataframe\">\n",
       "  <thead>\n",
       "    <tr style=\"text-align: right;\">\n",
       "      <th></th>\n",
       "      <th>번호</th>\n",
       "      <th>대통령</th>\n",
       "      <th>형태</th>\n",
       "      <th>유형</th>\n",
       "      <th>제목</th>\n",
       "      <th>연설일자</th>\n",
       "      <th>href</th>\n",
       "    </tr>\n",
       "  </thead>\n",
       "  <tbody>\n",
       "    <tr>\n",
       "      <th>0</th>\n",
       "      <td>7588</td>\n",
       "      <td>이승만</td>\n",
       "      <td>연설문</td>\n",
       "      <td>취임사</td>\n",
       "      <td>대통령 취임사(大統領就任辭)</td>\n",
       "      <td>1948.07.24</td>\n",
       "      <td>?spMode=view&amp;catid=c_pa02062&amp;artid=1310440</td>\n",
       "    </tr>\n",
       "    <tr>\n",
       "      <th>1</th>\n",
       "      <td>7587</td>\n",
       "      <td>이승만</td>\n",
       "      <td>연설음성</td>\n",
       "      <td>취임사</td>\n",
       "      <td>이승만 취임선서</td>\n",
       "      <td>1948.07.24</td>\n",
       "      <td>?spMode=view&amp;catid=c_pa02064&amp;artid=1311382</td>\n",
       "    </tr>\n",
       "    <tr>\n",
       "      <th>2</th>\n",
       "      <td>7586</td>\n",
       "      <td>이승만</td>\n",
       "      <td>연설문</td>\n",
       "      <td>성명/담화문</td>\n",
       "      <td>민족이 원하는 길을 따를 결심, 국무총리 인준 부결에 대하여</td>\n",
       "      <td>1948.07.29</td>\n",
       "      <td>?spMode=view&amp;catid=c_pa02062&amp;artid=1310441</td>\n",
       "    </tr>\n",
       "    <tr>\n",
       "      <th>3</th>\n",
       "      <td>7585</td>\n",
       "      <td>이승만</td>\n",
       "      <td>연설문</td>\n",
       "      <td>기타</td>\n",
       "      <td>미급점(未及點) 육성하라</td>\n",
       "      <td>1948.08.09</td>\n",
       "      <td>?spMode=view&amp;catid=c_pa02062&amp;artid=1310442</td>\n",
       "    </tr>\n",
       "    <tr>\n",
       "      <th>4</th>\n",
       "      <td>7584</td>\n",
       "      <td>이승만</td>\n",
       "      <td>연설문</td>\n",
       "      <td>성명/담화문</td>\n",
       "      <td>전민족에게 충고함</td>\n",
       "      <td>1948.08.12</td>\n",
       "      <td>?spMode=view&amp;catid=c_pa02062&amp;artid=1310443</td>\n",
       "    </tr>\n",
       "    <tr>\n",
       "      <th>...</th>\n",
       "      <td>...</td>\n",
       "      <td>...</td>\n",
       "      <td>...</td>\n",
       "      <td>...</td>\n",
       "      <td>...</td>\n",
       "      <td>...</td>\n",
       "      <td>...</td>\n",
       "    </tr>\n",
       "    <tr>\n",
       "      <th>7583</th>\n",
       "      <td>5</td>\n",
       "      <td>박근혜</td>\n",
       "      <td>연설문</td>\n",
       "      <td>기념사</td>\n",
       "      <td>경찰의 날</td>\n",
       "      <td>2016.10.20</td>\n",
       "      <td>?spMode=view&amp;catid=c_pa02062&amp;artid=1400489</td>\n",
       "    </tr>\n",
       "    <tr>\n",
       "      <th>7584</th>\n",
       "      <td>4</td>\n",
       "      <td>박근혜</td>\n",
       "      <td>연설문</td>\n",
       "      <td>국회연설</td>\n",
       "      <td>2017 예산안 시정연설</td>\n",
       "      <td>2016.10.23</td>\n",
       "      <td>?spMode=view&amp;catid=c_pa02062&amp;artid=1400490</td>\n",
       "    </tr>\n",
       "    <tr>\n",
       "      <th>7585</th>\n",
       "      <td>3</td>\n",
       "      <td>박근혜</td>\n",
       "      <td>연설문</td>\n",
       "      <td>기념사</td>\n",
       "      <td>글로벌 인재포럼 2016 개회식</td>\n",
       "      <td>2016.10.26</td>\n",
       "      <td>?spMode=view&amp;catid=c_pa02062&amp;artid=1400492</td>\n",
       "    </tr>\n",
       "    <tr>\n",
       "      <th>7586</th>\n",
       "      <td>2</td>\n",
       "      <td>박근혜</td>\n",
       "      <td>연설문</td>\n",
       "      <td>기념사</td>\n",
       "      <td>제4회 지방자치의 날 기념식 및 지방자치박람회</td>\n",
       "      <td>2016.10.26</td>\n",
       "      <td>?spMode=view&amp;catid=c_pa02062&amp;artid=1400491</td>\n",
       "    </tr>\n",
       "    <tr>\n",
       "      <th>7587</th>\n",
       "      <td>1</td>\n",
       "      <td>박근혜</td>\n",
       "      <td>연설문</td>\n",
       "      <td>기념사</td>\n",
       "      <td>제71주년 교정의 날 기념식</td>\n",
       "      <td>2016.10.26</td>\n",
       "      <td>?spMode=view&amp;catid=c_pa02062&amp;artid=1400493</td>\n",
       "    </tr>\n",
       "  </tbody>\n",
       "</table>\n",
       "<p>7588 rows × 7 columns</p>\n",
       "</div>"
      ],
      "text/plain": [
       "        번호  대통령    형태      유형                                 제목        연설일자  \\\n",
       "0     7588  이승만   연설문     취임사                    대통령 취임사(大統領就任辭)  1948.07.24   \n",
       "1     7587  이승만  연설음성     취임사                           이승만 취임선서  1948.07.24   \n",
       "2     7586  이승만   연설문  성명/담화문  민족이 원하는 길을 따를 결심, 국무총리 인준 부결에 대하여  1948.07.29   \n",
       "3     7585  이승만   연설문      기타                      미급점(未及點) 육성하라  1948.08.09   \n",
       "4     7584  이승만   연설문  성명/담화문                          전민족에게 충고함  1948.08.12   \n",
       "...    ...  ...   ...     ...                                ...         ...   \n",
       "7583     5  박근혜   연설문     기념사                              경찰의 날  2016.10.20   \n",
       "7584     4  박근혜   연설문    국회연설                      2017 예산안 시정연설  2016.10.23   \n",
       "7585     3  박근혜   연설문     기념사                  글로벌 인재포럼 2016 개회식  2016.10.26   \n",
       "7586     2  박근혜   연설문     기념사          제4회 지방자치의 날 기념식 및 지방자치박람회  2016.10.26   \n",
       "7587     1  박근혜   연설문     기념사                    제71주년 교정의 날 기념식  2016.10.26   \n",
       "\n",
       "                                            href  \n",
       "0     ?spMode=view&catid=c_pa02062&artid=1310440  \n",
       "1     ?spMode=view&catid=c_pa02064&artid=1311382  \n",
       "2     ?spMode=view&catid=c_pa02062&artid=1310441  \n",
       "3     ?spMode=view&catid=c_pa02062&artid=1310442  \n",
       "4     ?spMode=view&catid=c_pa02062&artid=1310443  \n",
       "...                                          ...  \n",
       "7583  ?spMode=view&catid=c_pa02062&artid=1400489  \n",
       "7584  ?spMode=view&catid=c_pa02062&artid=1400490  \n",
       "7585  ?spMode=view&catid=c_pa02062&artid=1400492  \n",
       "7586  ?spMode=view&catid=c_pa02062&artid=1400491  \n",
       "7587  ?spMode=view&catid=c_pa02062&artid=1400493  \n",
       "\n",
       "[7588 rows x 7 columns]"
      ]
     },
     "execution_count": 92,
     "metadata": {},
     "output_type": "execute_result"
    }
   ],
   "source": [
    "pd.read_csv(\"대통령연설기록.csv\")"
   ]
  },
  {
   "cell_type": "code",
   "execution_count": null,
   "metadata": {},
   "outputs": [],
   "source": []
  }
 ],
 "metadata": {
  "kernelspec": {
   "display_name": "Python 3",
   "language": "python",
   "name": "python3"
  },
  "language_info": {
   "codemirror_mode": {
    "name": "ipython",
    "version": 3
   },
   "file_extension": ".py",
   "mimetype": "text/x-python",
   "name": "python",
   "nbconvert_exporter": "python",
   "pygments_lexer": "ipython3",
   "version": "3.7.6"
  },
  "toc": {
   "base_numbering": 1,
   "nav_menu": {},
   "number_sections": true,
   "sideBar": true,
   "skip_h1_title": false,
   "title_cell": "Table of Contents",
   "title_sidebar": "Contents",
   "toc_cell": false,
   "toc_position": {},
   "toc_section_display": true,
   "toc_window_display": false
  },
  "varInspector": {
   "cols": {
    "lenName": 16,
    "lenType": 16,
    "lenVar": 40
   },
   "kernels_config": {
    "python": {
     "delete_cmd_postfix": "",
     "delete_cmd_prefix": "del ",
     "library": "var_list.py",
     "varRefreshCmd": "print(var_dic_list())"
    },
    "r": {
     "delete_cmd_postfix": ") ",
     "delete_cmd_prefix": "rm(",
     "library": "var_list.r",
     "varRefreshCmd": "cat(var_dic_list()) "
    }
   },
   "types_to_exclude": [
    "module",
    "function",
    "builtin_function_or_method",
    "instance",
    "_Feature"
   ],
   "window_display": false
  }
 },
 "nbformat": 4,
 "nbformat_minor": 4
}
