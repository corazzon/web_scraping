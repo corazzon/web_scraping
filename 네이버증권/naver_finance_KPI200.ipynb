{
 "cells": [
  {
   "cell_type": "markdown",
   "metadata": {},
   "source": [
    "## KPI200\n",
    "\n",
    "* https://finance.naver.com/sise/sise_index.nhn?code=KPI200"
   ]
  },
  {
   "cell_type": "code",
   "execution_count": 1,
   "metadata": {},
   "outputs": [],
   "source": [
    "import pandas as pd"
   ]
  },
  {
   "cell_type": "code",
   "execution_count": 2,
   "metadata": {},
   "outputs": [
    {
     "data": {
      "text/plain": [
       "2"
      ]
     },
     "execution_count": 2,
     "metadata": {},
     "output_type": "execute_result"
    }
   ],
   "source": [
    "table = pd.read_html(\"https://finance.naver.com/sise/entryJongmok.nhn?&page=1\", \n",
    "                     encoding=\"cp949\")\n",
    "len(table)"
   ]
  },
  {
   "cell_type": "code",
   "execution_count": 3,
   "metadata": {},
   "outputs": [
    {
     "data": {
      "text/html": [
       "<div>\n",
       "<style scoped>\n",
       "    .dataframe tbody tr th:only-of-type {\n",
       "        vertical-align: middle;\n",
       "    }\n",
       "\n",
       "    .dataframe tbody tr th {\n",
       "        vertical-align: top;\n",
       "    }\n",
       "\n",
       "    .dataframe thead th {\n",
       "        text-align: right;\n",
       "    }\n",
       "</style>\n",
       "<table border=\"1\" class=\"dataframe\">\n",
       "  <thead>\n",
       "    <tr style=\"text-align: right;\">\n",
       "      <th></th>\n",
       "      <th>종목별</th>\n",
       "      <th>현재가</th>\n",
       "      <th>전일비</th>\n",
       "      <th>등락률</th>\n",
       "      <th>거래량</th>\n",
       "      <th>거래대금(백만)</th>\n",
       "      <th>시가총액(억)</th>\n",
       "    </tr>\n",
       "  </thead>\n",
       "  <tbody>\n",
       "    <tr>\n",
       "      <th>1</th>\n",
       "      <td>삼성전자</td>\n",
       "      <td>58200.0</td>\n",
       "      <td>0.0</td>\n",
       "      <td>0.00%</td>\n",
       "      <td>13538073.0</td>\n",
       "      <td>791828.0</td>\n",
       "      <td>3474413.0</td>\n",
       "    </tr>\n",
       "    <tr>\n",
       "      <th>2</th>\n",
       "      <td>SK하이닉스</td>\n",
       "      <td>84000.0</td>\n",
       "      <td>1500.0</td>\n",
       "      <td>+1.82%</td>\n",
       "      <td>4477093.0</td>\n",
       "      <td>377057.0</td>\n",
       "      <td>611522.0</td>\n",
       "    </tr>\n",
       "    <tr>\n",
       "      <th>3</th>\n",
       "      <td>NAVER</td>\n",
       "      <td>296500.0</td>\n",
       "      <td>2000.0</td>\n",
       "      <td>-0.67%</td>\n",
       "      <td>648867.0</td>\n",
       "      <td>192582.0</td>\n",
       "      <td>487041.0</td>\n",
       "    </tr>\n",
       "    <tr>\n",
       "      <th>4</th>\n",
       "      <td>LG화학</td>\n",
       "      <td>654000.0</td>\n",
       "      <td>28000.0</td>\n",
       "      <td>+4.47%</td>\n",
       "      <td>655754.0</td>\n",
       "      <td>425868.0</td>\n",
       "      <td>461674.0</td>\n",
       "    </tr>\n",
       "    <tr>\n",
       "      <th>5</th>\n",
       "      <td>삼성바이오로직스</td>\n",
       "      <td>690000.0</td>\n",
       "      <td>5000.0</td>\n",
       "      <td>+0.73%</td>\n",
       "      <td>63300.0</td>\n",
       "      <td>43666.0</td>\n",
       "      <td>456538.0</td>\n",
       "    </tr>\n",
       "    <tr>\n",
       "      <th>6</th>\n",
       "      <td>현대차</td>\n",
       "      <td>178500.0</td>\n",
       "      <td>3000.0</td>\n",
       "      <td>+1.71%</td>\n",
       "      <td>1403988.0</td>\n",
       "      <td>250806.0</td>\n",
       "      <td>381398.0</td>\n",
       "    </tr>\n",
       "    <tr>\n",
       "      <th>7</th>\n",
       "      <td>셀트리온</td>\n",
       "      <td>257500.0</td>\n",
       "      <td>2500.0</td>\n",
       "      <td>+0.98%</td>\n",
       "      <td>636839.0</td>\n",
       "      <td>162955.0</td>\n",
       "      <td>347609.0</td>\n",
       "    </tr>\n",
       "    <tr>\n",
       "      <th>8</th>\n",
       "      <td>카카오</td>\n",
       "      <td>364500.0</td>\n",
       "      <td>4500.0</td>\n",
       "      <td>-1.22%</td>\n",
       "      <td>583805.0</td>\n",
       "      <td>214825.0</td>\n",
       "      <td>321009.0</td>\n",
       "    </tr>\n",
       "    <tr>\n",
       "      <th>9</th>\n",
       "      <td>삼성SDI</td>\n",
       "      <td>433500.0</td>\n",
       "      <td>12500.0</td>\n",
       "      <td>+2.97%</td>\n",
       "      <td>268142.0</td>\n",
       "      <td>115636.0</td>\n",
       "      <td>298094.0</td>\n",
       "    </tr>\n",
       "    <tr>\n",
       "      <th>10</th>\n",
       "      <td>LG생활건강</td>\n",
       "      <td>1448000.0</td>\n",
       "      <td>21000.0</td>\n",
       "      <td>-1.43%</td>\n",
       "      <td>24152.0</td>\n",
       "      <td>35380.0</td>\n",
       "      <td>226151.0</td>\n",
       "    </tr>\n",
       "  </tbody>\n",
       "</table>\n",
       "</div>"
      ],
      "text/plain": [
       "         종목별        현재가      전일비     등락률         거래량  거래대금(백만)    시가총액(억)\n",
       "1       삼성전자    58200.0      0.0   0.00%  13538073.0  791828.0  3474413.0\n",
       "2     SK하이닉스    84000.0   1500.0  +1.82%   4477093.0  377057.0   611522.0\n",
       "3      NAVER   296500.0   2000.0  -0.67%    648867.0  192582.0   487041.0\n",
       "4       LG화학   654000.0  28000.0  +4.47%    655754.0  425868.0   461674.0\n",
       "5   삼성바이오로직스   690000.0   5000.0  +0.73%     63300.0   43666.0   456538.0\n",
       "6        현대차   178500.0   3000.0  +1.71%   1403988.0  250806.0   381398.0\n",
       "7       셀트리온   257500.0   2500.0  +0.98%    636839.0  162955.0   347609.0\n",
       "8        카카오   364500.0   4500.0  -1.22%    583805.0  214825.0   321009.0\n",
       "9      삼성SDI   433500.0  12500.0  +2.97%    268142.0  115636.0   298094.0\n",
       "10    LG생활건강  1448000.0  21000.0  -1.43%     24152.0   35380.0   226151.0"
      ]
     },
     "execution_count": 3,
     "metadata": {},
     "output_type": "execute_result"
    }
   ],
   "source": [
    "table[0].dropna()"
   ]
  },
  {
   "cell_type": "code",
   "execution_count": 4,
   "metadata": {},
   "outputs": [
    {
     "data": {
      "text/html": [
       "<div>\n",
       "<style scoped>\n",
       "    .dataframe tbody tr th:only-of-type {\n",
       "        vertical-align: middle;\n",
       "    }\n",
       "\n",
       "    .dataframe tbody tr th {\n",
       "        vertical-align: top;\n",
       "    }\n",
       "\n",
       "    .dataframe thead th {\n",
       "        text-align: right;\n",
       "    }\n",
       "</style>\n",
       "<table border=\"1\" class=\"dataframe\">\n",
       "  <thead>\n",
       "    <tr style=\"text-align: right;\">\n",
       "      <th></th>\n",
       "      <th>0</th>\n",
       "      <th>1</th>\n",
       "      <th>2</th>\n",
       "      <th>3</th>\n",
       "      <th>4</th>\n",
       "      <th>5</th>\n",
       "      <th>6</th>\n",
       "      <th>7</th>\n",
       "      <th>8</th>\n",
       "      <th>9</th>\n",
       "      <th>10</th>\n",
       "      <th>11</th>\n",
       "    </tr>\n",
       "  </thead>\n",
       "  <tbody>\n",
       "    <tr>\n",
       "      <th>0</th>\n",
       "      <td>1</td>\n",
       "      <td>2</td>\n",
       "      <td>3</td>\n",
       "      <td>4</td>\n",
       "      <td>5</td>\n",
       "      <td>6</td>\n",
       "      <td>7</td>\n",
       "      <td>8</td>\n",
       "      <td>9</td>\n",
       "      <td>10</td>\n",
       "      <td>다음</td>\n",
       "      <td>맨뒤</td>\n",
       "    </tr>\n",
       "  </tbody>\n",
       "</table>\n",
       "</div>"
      ],
      "text/plain": [
       "   0   1   2   3   4   5   6   7   8   9   10  11\n",
       "0   1   2   3   4   5   6   7   8   9  10  다음  맨뒤"
      ]
     },
     "execution_count": 4,
     "metadata": {},
     "output_type": "execute_result"
    }
   ],
   "source": [
    "table[1]"
   ]
  },
  {
   "cell_type": "markdown",
   "metadata": {},
   "source": [
    "##  페이지별 데이터 수집"
   ]
  },
  {
   "cell_type": "code",
   "execution_count": 5,
   "metadata": {},
   "outputs": [],
   "source": [
    "def get_page(page_no):\n",
    "    url = f\"https://finance.naver.com/sise/entryJongmok.nhn?&page={page_no}\"\n",
    "    table = pd.read_html(url, encoding=\"cp949\")\n",
    "    result = table[0].dropna()\n",
    "    return result"
   ]
  },
  {
   "cell_type": "code",
   "execution_count": 6,
   "metadata": {},
   "outputs": [],
   "source": [
    "KPI200_list = []\n",
    "for page_no in range(1, 21):\n",
    "    response = get_page(page_no)\n",
    "    KPI200_list.append(response)"
   ]
  },
  {
   "cell_type": "code",
   "execution_count": 7,
   "metadata": {},
   "outputs": [
    {
     "data": {
      "text/plain": [
       "(200, 7)"
      ]
     },
     "execution_count": 7,
     "metadata": {},
     "output_type": "execute_result"
    }
   ],
   "source": [
    "df = pd.concat(KPI200_list)\n",
    "df.shape"
   ]
  },
  {
   "cell_type": "code",
   "execution_count": 8,
   "metadata": {},
   "outputs": [
    {
     "data": {
      "text/html": [
       "<div>\n",
       "<style scoped>\n",
       "    .dataframe tbody tr th:only-of-type {\n",
       "        vertical-align: middle;\n",
       "    }\n",
       "\n",
       "    .dataframe tbody tr th {\n",
       "        vertical-align: top;\n",
       "    }\n",
       "\n",
       "    .dataframe thead th {\n",
       "        text-align: right;\n",
       "    }\n",
       "</style>\n",
       "<table border=\"1\" class=\"dataframe\">\n",
       "  <thead>\n",
       "    <tr style=\"text-align: right;\">\n",
       "      <th></th>\n",
       "      <th>종목별</th>\n",
       "      <th>현재가</th>\n",
       "      <th>전일비</th>\n",
       "      <th>등락률</th>\n",
       "      <th>거래량</th>\n",
       "      <th>거래대금(백만)</th>\n",
       "      <th>시가총액(억)</th>\n",
       "    </tr>\n",
       "  </thead>\n",
       "  <tbody>\n",
       "    <tr>\n",
       "      <th>1</th>\n",
       "      <td>삼성전자</td>\n",
       "      <td>58200.0</td>\n",
       "      <td>0.0</td>\n",
       "      <td>0.00%</td>\n",
       "      <td>13538073.0</td>\n",
       "      <td>791828.0</td>\n",
       "      <td>3474413.0</td>\n",
       "    </tr>\n",
       "    <tr>\n",
       "      <th>2</th>\n",
       "      <td>SK하이닉스</td>\n",
       "      <td>84000.0</td>\n",
       "      <td>1500.0</td>\n",
       "      <td>+1.82%</td>\n",
       "      <td>4477093.0</td>\n",
       "      <td>377057.0</td>\n",
       "      <td>611522.0</td>\n",
       "    </tr>\n",
       "    <tr>\n",
       "      <th>3</th>\n",
       "      <td>NAVER</td>\n",
       "      <td>296500.0</td>\n",
       "      <td>2000.0</td>\n",
       "      <td>-0.67%</td>\n",
       "      <td>648867.0</td>\n",
       "      <td>192582.0</td>\n",
       "      <td>487041.0</td>\n",
       "    </tr>\n",
       "    <tr>\n",
       "      <th>4</th>\n",
       "      <td>LG화학</td>\n",
       "      <td>654000.0</td>\n",
       "      <td>28000.0</td>\n",
       "      <td>+4.47%</td>\n",
       "      <td>655754.0</td>\n",
       "      <td>425868.0</td>\n",
       "      <td>461674.0</td>\n",
       "    </tr>\n",
       "    <tr>\n",
       "      <th>5</th>\n",
       "      <td>삼성바이오로직스</td>\n",
       "      <td>690000.0</td>\n",
       "      <td>5000.0</td>\n",
       "      <td>+0.73%</td>\n",
       "      <td>63300.0</td>\n",
       "      <td>43666.0</td>\n",
       "      <td>456538.0</td>\n",
       "    </tr>\n",
       "  </tbody>\n",
       "</table>\n",
       "</div>"
      ],
      "text/plain": [
       "        종목별       현재가      전일비     등락률         거래량  거래대금(백만)    시가총액(억)\n",
       "1      삼성전자   58200.0      0.0   0.00%  13538073.0  791828.0  3474413.0\n",
       "2    SK하이닉스   84000.0   1500.0  +1.82%   4477093.0  377057.0   611522.0\n",
       "3     NAVER  296500.0   2000.0  -0.67%    648867.0  192582.0   487041.0\n",
       "4      LG화학  654000.0  28000.0  +4.47%    655754.0  425868.0   461674.0\n",
       "5  삼성바이오로직스  690000.0   5000.0  +0.73%     63300.0   43666.0   456538.0"
      ]
     },
     "execution_count": 8,
     "metadata": {},
     "output_type": "execute_result"
    }
   ],
   "source": [
    "df.head()"
   ]
  },
  {
   "cell_type": "code",
   "execution_count": 9,
   "metadata": {},
   "outputs": [
    {
     "data": {
      "text/html": [
       "<div>\n",
       "<style scoped>\n",
       "    .dataframe tbody tr th:only-of-type {\n",
       "        vertical-align: middle;\n",
       "    }\n",
       "\n",
       "    .dataframe tbody tr th {\n",
       "        vertical-align: top;\n",
       "    }\n",
       "\n",
       "    .dataframe thead th {\n",
       "        text-align: right;\n",
       "    }\n",
       "</style>\n",
       "<table border=\"1\" class=\"dataframe\">\n",
       "  <thead>\n",
       "    <tr style=\"text-align: right;\">\n",
       "      <th></th>\n",
       "      <th>종목별</th>\n",
       "      <th>현재가</th>\n",
       "      <th>전일비</th>\n",
       "      <th>등락률</th>\n",
       "      <th>거래량</th>\n",
       "      <th>거래대금(백만)</th>\n",
       "      <th>시가총액(억)</th>\n",
       "    </tr>\n",
       "  </thead>\n",
       "  <tbody>\n",
       "    <tr>\n",
       "      <th>6</th>\n",
       "      <td>태영건설</td>\n",
       "      <td>9890.0</td>\n",
       "      <td>140.0</td>\n",
       "      <td>+1.44%</td>\n",
       "      <td>662487.0</td>\n",
       "      <td>6495.0</td>\n",
       "      <td>3847.0</td>\n",
       "    </tr>\n",
       "    <tr>\n",
       "      <th>7</th>\n",
       "      <td>세아베스틸</td>\n",
       "      <td>9760.0</td>\n",
       "      <td>230.0</td>\n",
       "      <td>+2.41%</td>\n",
       "      <td>101734.0</td>\n",
       "      <td>994.0</td>\n",
       "      <td>3500.0</td>\n",
       "    </tr>\n",
       "    <tr>\n",
       "      <th>8</th>\n",
       "      <td>롯데푸드</td>\n",
       "      <td>299500.0</td>\n",
       "      <td>7500.0</td>\n",
       "      <td>+2.57%</td>\n",
       "      <td>1424.0</td>\n",
       "      <td>422.0</td>\n",
       "      <td>3390.0</td>\n",
       "    </tr>\n",
       "    <tr>\n",
       "      <th>9</th>\n",
       "      <td>대교</td>\n",
       "      <td>3900.0</td>\n",
       "      <td>5.0</td>\n",
       "      <td>-0.13%</td>\n",
       "      <td>107878.0</td>\n",
       "      <td>421.0</td>\n",
       "      <td>3303.0</td>\n",
       "    </tr>\n",
       "    <tr>\n",
       "      <th>10</th>\n",
       "      <td>한라홀딩스</td>\n",
       "      <td>31050.0</td>\n",
       "      <td>1100.0</td>\n",
       "      <td>+3.67%</td>\n",
       "      <td>89587.0</td>\n",
       "      <td>2753.0</td>\n",
       "      <td>3252.0</td>\n",
       "    </tr>\n",
       "  </tbody>\n",
       "</table>\n",
       "</div>"
      ],
      "text/plain": [
       "      종목별       현재가     전일비     등락률       거래량  거래대금(백만)  시가총액(억)\n",
       "6    태영건설    9890.0   140.0  +1.44%  662487.0    6495.0   3847.0\n",
       "7   세아베스틸    9760.0   230.0  +2.41%  101734.0     994.0   3500.0\n",
       "8    롯데푸드  299500.0  7500.0  +2.57%    1424.0     422.0   3390.0\n",
       "9      대교    3900.0     5.0  -0.13%  107878.0     421.0   3303.0\n",
       "10  한라홀딩스   31050.0  1100.0  +3.67%   89587.0    2753.0   3252.0"
      ]
     },
     "execution_count": 9,
     "metadata": {},
     "output_type": "execute_result"
    }
   ],
   "source": [
    "df.tail()"
   ]
  },
  {
   "cell_type": "code",
   "execution_count": 10,
   "metadata": {},
   "outputs": [
    {
     "data": {
      "text/plain": [
       "'2020-09-30'"
      ]
     },
     "execution_count": 10,
     "metadata": {},
     "output_type": "execute_result"
    }
   ],
   "source": [
    "import datetime\n",
    "\n",
    "today = datetime.date.today()\n",
    "today = today.strftime(\"%Y-%m-%d\")\n",
    "today"
   ]
  },
  {
   "cell_type": "code",
   "execution_count": 11,
   "metadata": {},
   "outputs": [],
   "source": [
    "df[\"날짜\"] = today"
   ]
  },
  {
   "cell_type": "code",
   "execution_count": 12,
   "metadata": {},
   "outputs": [],
   "source": [
    "df.index = range(1, 201)"
   ]
  },
  {
   "cell_type": "code",
   "execution_count": 13,
   "metadata": {},
   "outputs": [
    {
     "data": {
      "text/html": [
       "<div>\n",
       "<style scoped>\n",
       "    .dataframe tbody tr th:only-of-type {\n",
       "        vertical-align: middle;\n",
       "    }\n",
       "\n",
       "    .dataframe tbody tr th {\n",
       "        vertical-align: top;\n",
       "    }\n",
       "\n",
       "    .dataframe thead th {\n",
       "        text-align: right;\n",
       "    }\n",
       "</style>\n",
       "<table border=\"1\" class=\"dataframe\">\n",
       "  <thead>\n",
       "    <tr style=\"text-align: right;\">\n",
       "      <th></th>\n",
       "      <th>종목별</th>\n",
       "      <th>현재가</th>\n",
       "      <th>전일비</th>\n",
       "      <th>등락률</th>\n",
       "      <th>거래량</th>\n",
       "      <th>거래대금(백만)</th>\n",
       "      <th>시가총액(억)</th>\n",
       "      <th>날짜</th>\n",
       "    </tr>\n",
       "  </thead>\n",
       "  <tbody>\n",
       "    <tr>\n",
       "      <th>1</th>\n",
       "      <td>삼성전자</td>\n",
       "      <td>58200.0</td>\n",
       "      <td>0.0</td>\n",
       "      <td>0.00%</td>\n",
       "      <td>13538073.0</td>\n",
       "      <td>791828.0</td>\n",
       "      <td>3474413.0</td>\n",
       "      <td>2020-09-30</td>\n",
       "    </tr>\n",
       "    <tr>\n",
       "      <th>2</th>\n",
       "      <td>SK하이닉스</td>\n",
       "      <td>84000.0</td>\n",
       "      <td>1500.0</td>\n",
       "      <td>+1.82%</td>\n",
       "      <td>4477093.0</td>\n",
       "      <td>377057.0</td>\n",
       "      <td>611522.0</td>\n",
       "      <td>2020-09-30</td>\n",
       "    </tr>\n",
       "    <tr>\n",
       "      <th>3</th>\n",
       "      <td>NAVER</td>\n",
       "      <td>296500.0</td>\n",
       "      <td>2000.0</td>\n",
       "      <td>-0.67%</td>\n",
       "      <td>648867.0</td>\n",
       "      <td>192582.0</td>\n",
       "      <td>487041.0</td>\n",
       "      <td>2020-09-30</td>\n",
       "    </tr>\n",
       "    <tr>\n",
       "      <th>4</th>\n",
       "      <td>LG화학</td>\n",
       "      <td>654000.0</td>\n",
       "      <td>28000.0</td>\n",
       "      <td>+4.47%</td>\n",
       "      <td>655754.0</td>\n",
       "      <td>425868.0</td>\n",
       "      <td>461674.0</td>\n",
       "      <td>2020-09-30</td>\n",
       "    </tr>\n",
       "    <tr>\n",
       "      <th>5</th>\n",
       "      <td>삼성바이오로직스</td>\n",
       "      <td>690000.0</td>\n",
       "      <td>5000.0</td>\n",
       "      <td>+0.73%</td>\n",
       "      <td>63300.0</td>\n",
       "      <td>43666.0</td>\n",
       "      <td>456538.0</td>\n",
       "      <td>2020-09-30</td>\n",
       "    </tr>\n",
       "    <tr>\n",
       "      <th>6</th>\n",
       "      <td>현대차</td>\n",
       "      <td>178500.0</td>\n",
       "      <td>3000.0</td>\n",
       "      <td>+1.71%</td>\n",
       "      <td>1403988.0</td>\n",
       "      <td>250806.0</td>\n",
       "      <td>381398.0</td>\n",
       "      <td>2020-09-30</td>\n",
       "    </tr>\n",
       "    <tr>\n",
       "      <th>7</th>\n",
       "      <td>셀트리온</td>\n",
       "      <td>257500.0</td>\n",
       "      <td>2500.0</td>\n",
       "      <td>+0.98%</td>\n",
       "      <td>636839.0</td>\n",
       "      <td>162955.0</td>\n",
       "      <td>347609.0</td>\n",
       "      <td>2020-09-30</td>\n",
       "    </tr>\n",
       "    <tr>\n",
       "      <th>8</th>\n",
       "      <td>카카오</td>\n",
       "      <td>364500.0</td>\n",
       "      <td>4500.0</td>\n",
       "      <td>-1.22%</td>\n",
       "      <td>583805.0</td>\n",
       "      <td>214825.0</td>\n",
       "      <td>321009.0</td>\n",
       "      <td>2020-09-30</td>\n",
       "    </tr>\n",
       "    <tr>\n",
       "      <th>9</th>\n",
       "      <td>삼성SDI</td>\n",
       "      <td>433500.0</td>\n",
       "      <td>12500.0</td>\n",
       "      <td>+2.97%</td>\n",
       "      <td>268142.0</td>\n",
       "      <td>115636.0</td>\n",
       "      <td>298094.0</td>\n",
       "      <td>2020-09-30</td>\n",
       "    </tr>\n",
       "    <tr>\n",
       "      <th>10</th>\n",
       "      <td>LG생활건강</td>\n",
       "      <td>1448000.0</td>\n",
       "      <td>21000.0</td>\n",
       "      <td>-1.43%</td>\n",
       "      <td>24152.0</td>\n",
       "      <td>35380.0</td>\n",
       "      <td>226151.0</td>\n",
       "      <td>2020-09-30</td>\n",
       "    </tr>\n",
       "  </tbody>\n",
       "</table>\n",
       "</div>"
      ],
      "text/plain": [
       "         종목별        현재가      전일비     등락률         거래량  거래대금(백만)    시가총액(억)  \\\n",
       "1       삼성전자    58200.0      0.0   0.00%  13538073.0  791828.0  3474413.0   \n",
       "2     SK하이닉스    84000.0   1500.0  +1.82%   4477093.0  377057.0   611522.0   \n",
       "3      NAVER   296500.0   2000.0  -0.67%    648867.0  192582.0   487041.0   \n",
       "4       LG화학   654000.0  28000.0  +4.47%    655754.0  425868.0   461674.0   \n",
       "5   삼성바이오로직스   690000.0   5000.0  +0.73%     63300.0   43666.0   456538.0   \n",
       "6        현대차   178500.0   3000.0  +1.71%   1403988.0  250806.0   381398.0   \n",
       "7       셀트리온   257500.0   2500.0  +0.98%    636839.0  162955.0   347609.0   \n",
       "8        카카오   364500.0   4500.0  -1.22%    583805.0  214825.0   321009.0   \n",
       "9      삼성SDI   433500.0  12500.0  +2.97%    268142.0  115636.0   298094.0   \n",
       "10    LG생활건강  1448000.0  21000.0  -1.43%     24152.0   35380.0   226151.0   \n",
       "\n",
       "            날짜  \n",
       "1   2020-09-30  \n",
       "2   2020-09-30  \n",
       "3   2020-09-30  \n",
       "4   2020-09-30  \n",
       "5   2020-09-30  \n",
       "6   2020-09-30  \n",
       "7   2020-09-30  \n",
       "8   2020-09-30  \n",
       "9   2020-09-30  \n",
       "10  2020-09-30  "
      ]
     },
     "execution_count": 13,
     "metadata": {},
     "output_type": "execute_result"
    }
   ],
   "source": [
    "df.head(10)"
   ]
  },
  {
   "cell_type": "code",
   "execution_count": 14,
   "metadata": {},
   "outputs": [
    {
     "data": {
      "text/html": [
       "<div>\n",
       "<style scoped>\n",
       "    .dataframe tbody tr th:only-of-type {\n",
       "        vertical-align: middle;\n",
       "    }\n",
       "\n",
       "    .dataframe tbody tr th {\n",
       "        vertical-align: top;\n",
       "    }\n",
       "\n",
       "    .dataframe thead th {\n",
       "        text-align: right;\n",
       "    }\n",
       "</style>\n",
       "<table border=\"1\" class=\"dataframe\">\n",
       "  <thead>\n",
       "    <tr style=\"text-align: right;\">\n",
       "      <th></th>\n",
       "      <th>종목별</th>\n",
       "      <th>현재가</th>\n",
       "      <th>전일비</th>\n",
       "      <th>등락률</th>\n",
       "      <th>거래량</th>\n",
       "      <th>거래대금(백만)</th>\n",
       "      <th>시가총액(억)</th>\n",
       "      <th>날짜</th>\n",
       "    </tr>\n",
       "  </thead>\n",
       "  <tbody>\n",
       "    <tr>\n",
       "      <th>191</th>\n",
       "      <td>남해화학</td>\n",
       "      <td>8200.0</td>\n",
       "      <td>160.0</td>\n",
       "      <td>+1.99%</td>\n",
       "      <td>83002.0</td>\n",
       "      <td>674.0</td>\n",
       "      <td>4074.0</td>\n",
       "      <td>2020-09-30</td>\n",
       "    </tr>\n",
       "    <tr>\n",
       "      <th>192</th>\n",
       "      <td>유니드</td>\n",
       "      <td>44650.0</td>\n",
       "      <td>700.0</td>\n",
       "      <td>+1.59%</td>\n",
       "      <td>18053.0</td>\n",
       "      <td>805.0</td>\n",
       "      <td>3969.0</td>\n",
       "      <td>2020-09-30</td>\n",
       "    </tr>\n",
       "    <tr>\n",
       "      <th>193</th>\n",
       "      <td>LF</td>\n",
       "      <td>13400.0</td>\n",
       "      <td>100.0</td>\n",
       "      <td>-0.74%</td>\n",
       "      <td>112306.0</td>\n",
       "      <td>1511.0</td>\n",
       "      <td>3918.0</td>\n",
       "      <td>2020-09-30</td>\n",
       "    </tr>\n",
       "    <tr>\n",
       "      <th>194</th>\n",
       "      <td>BGF</td>\n",
       "      <td>4080.0</td>\n",
       "      <td>20.0</td>\n",
       "      <td>+0.49%</td>\n",
       "      <td>72476.0</td>\n",
       "      <td>295.0</td>\n",
       "      <td>3905.0</td>\n",
       "      <td>2020-09-30</td>\n",
       "    </tr>\n",
       "    <tr>\n",
       "      <th>195</th>\n",
       "      <td>세방전지</td>\n",
       "      <td>27600.0</td>\n",
       "      <td>850.0</td>\n",
       "      <td>+3.18%</td>\n",
       "      <td>22663.0</td>\n",
       "      <td>620.0</td>\n",
       "      <td>3864.0</td>\n",
       "      <td>2020-09-30</td>\n",
       "    </tr>\n",
       "    <tr>\n",
       "      <th>196</th>\n",
       "      <td>태영건설</td>\n",
       "      <td>9890.0</td>\n",
       "      <td>140.0</td>\n",
       "      <td>+1.44%</td>\n",
       "      <td>662487.0</td>\n",
       "      <td>6495.0</td>\n",
       "      <td>3847.0</td>\n",
       "      <td>2020-09-30</td>\n",
       "    </tr>\n",
       "    <tr>\n",
       "      <th>197</th>\n",
       "      <td>세아베스틸</td>\n",
       "      <td>9760.0</td>\n",
       "      <td>230.0</td>\n",
       "      <td>+2.41%</td>\n",
       "      <td>101734.0</td>\n",
       "      <td>994.0</td>\n",
       "      <td>3500.0</td>\n",
       "      <td>2020-09-30</td>\n",
       "    </tr>\n",
       "    <tr>\n",
       "      <th>198</th>\n",
       "      <td>롯데푸드</td>\n",
       "      <td>299500.0</td>\n",
       "      <td>7500.0</td>\n",
       "      <td>+2.57%</td>\n",
       "      <td>1424.0</td>\n",
       "      <td>422.0</td>\n",
       "      <td>3390.0</td>\n",
       "      <td>2020-09-30</td>\n",
       "    </tr>\n",
       "    <tr>\n",
       "      <th>199</th>\n",
       "      <td>대교</td>\n",
       "      <td>3900.0</td>\n",
       "      <td>5.0</td>\n",
       "      <td>-0.13%</td>\n",
       "      <td>107878.0</td>\n",
       "      <td>421.0</td>\n",
       "      <td>3303.0</td>\n",
       "      <td>2020-09-30</td>\n",
       "    </tr>\n",
       "    <tr>\n",
       "      <th>200</th>\n",
       "      <td>한라홀딩스</td>\n",
       "      <td>31050.0</td>\n",
       "      <td>1100.0</td>\n",
       "      <td>+3.67%</td>\n",
       "      <td>89587.0</td>\n",
       "      <td>2753.0</td>\n",
       "      <td>3252.0</td>\n",
       "      <td>2020-09-30</td>\n",
       "    </tr>\n",
       "  </tbody>\n",
       "</table>\n",
       "</div>"
      ],
      "text/plain": [
       "       종목별       현재가     전일비     등락률       거래량  거래대금(백만)  시가총액(억)          날짜\n",
       "191   남해화학    8200.0   160.0  +1.99%   83002.0     674.0   4074.0  2020-09-30\n",
       "192    유니드   44650.0   700.0  +1.59%   18053.0     805.0   3969.0  2020-09-30\n",
       "193     LF   13400.0   100.0  -0.74%  112306.0    1511.0   3918.0  2020-09-30\n",
       "194    BGF    4080.0    20.0  +0.49%   72476.0     295.0   3905.0  2020-09-30\n",
       "195   세방전지   27600.0   850.0  +3.18%   22663.0     620.0   3864.0  2020-09-30\n",
       "196   태영건설    9890.0   140.0  +1.44%  662487.0    6495.0   3847.0  2020-09-30\n",
       "197  세아베스틸    9760.0   230.0  +2.41%  101734.0     994.0   3500.0  2020-09-30\n",
       "198   롯데푸드  299500.0  7500.0  +2.57%    1424.0     422.0   3390.0  2020-09-30\n",
       "199     대교    3900.0     5.0  -0.13%  107878.0     421.0   3303.0  2020-09-30\n",
       "200  한라홀딩스   31050.0  1100.0  +3.67%   89587.0    2753.0   3252.0  2020-09-30"
      ]
     },
     "execution_count": 14,
     "metadata": {},
     "output_type": "execute_result"
    }
   ],
   "source": [
    "df.tail(10)"
   ]
  },
  {
   "cell_type": "code",
   "execution_count": 15,
   "metadata": {},
   "outputs": [
    {
     "data": {
      "text/plain": [
       "(200, 8)"
      ]
     },
     "execution_count": 15,
     "metadata": {},
     "output_type": "execute_result"
    }
   ],
   "source": [
    "df.shape"
   ]
  },
  {
   "cell_type": "markdown",
   "metadata": {},
   "source": [
    "## 종목코드 수집"
   ]
  },
  {
   "cell_type": "code",
   "execution_count": 16,
   "metadata": {},
   "outputs": [],
   "source": [
    "import requests\n",
    "from bs4 import BeautifulSoup as bs"
   ]
  },
  {
   "cell_type": "code",
   "execution_count": 17,
   "metadata": {},
   "outputs": [],
   "source": [
    "url = f\"https://finance.naver.com/sise/entryJongmok.nhn?&page={page_no}\""
   ]
  },
  {
   "cell_type": "code",
   "execution_count": 18,
   "metadata": {},
   "outputs": [],
   "source": [
    "response = requests.get(url)"
   ]
  },
  {
   "cell_type": "code",
   "execution_count": 19,
   "metadata": {},
   "outputs": [
    {
     "data": {
      "text/plain": [
       "[<a href=\"/item/main.nhn?code=025860\" target=\"_parent\">남해화학</a>,\n",
       " <a href=\"/item/main.nhn?code=014830\" target=\"_parent\">유니드</a>,\n",
       " <a href=\"/item/main.nhn?code=093050\" target=\"_parent\">LF</a>,\n",
       " <a href=\"/item/main.nhn?code=027410\" target=\"_parent\">BGF</a>,\n",
       " <a href=\"/item/main.nhn?code=004490\" target=\"_parent\">세방전지</a>,\n",
       " <a href=\"/item/main.nhn?code=009410\" target=\"_parent\">태영건설</a>,\n",
       " <a href=\"/item/main.nhn?code=001430\" target=\"_parent\">세아베스틸</a>,\n",
       " <a href=\"/item/main.nhn?code=002270\" target=\"_parent\">롯데푸드</a>,\n",
       " <a href=\"/item/main.nhn?code=019680\" target=\"_parent\">대교</a>,\n",
       " <a href=\"/item/main.nhn?code=060980\" target=\"_parent\">한라홀딩스</a>]"
      ]
     },
     "execution_count": 19,
     "metadata": {},
     "output_type": "execute_result"
    }
   ],
   "source": [
    "html = bs(response.text, \"lxml\")\n",
    "a_tags = html.select(\"table > tr > td > a\")\n",
    "a_tags[:10]"
   ]
  },
  {
   "cell_type": "code",
   "execution_count": 20,
   "metadata": {},
   "outputs": [],
   "source": [
    "href_list = []\n",
    "for a_tag in a_tags[:10]:\n",
    "    href = a_tag[\"href\"].split(\"=\")[-1]\n",
    "    href_list.append(href)"
   ]
  },
  {
   "cell_type": "code",
   "execution_count": 21,
   "metadata": {},
   "outputs": [
    {
     "data": {
      "text/plain": [
       "['025860',\n",
       " '014830',\n",
       " '093050',\n",
       " '027410',\n",
       " '004490',\n",
       " '009410',\n",
       " '001430',\n",
       " '002270',\n",
       " '019680',\n",
       " '060980']"
      ]
     },
     "execution_count": 21,
     "metadata": {},
     "output_type": "execute_result"
    }
   ],
   "source": [
    "href_list"
   ]
  },
  {
   "cell_type": "code",
   "execution_count": 22,
   "metadata": {},
   "outputs": [],
   "source": [
    "def get_item_code(page_no):\n",
    "    url = f\"https://finance.naver.com/sise/entryJongmok.nhn?&page={page_no}\"\n",
    "    response = requests.get(url)\n",
    "    html = bs(response.text, \"lxml\")\n",
    "    a_tags = html.select(\"table > tr > td > a\")\n",
    "    a_tags[:10]\n",
    "\n",
    "    href_list = []\n",
    "    for a_tag in a_tags[:10]:\n",
    "        href = a_tag[\"href\"].split(\"=\")[-1]\n",
    "        href_list.append(href)\n",
    "    return href_list"
   ]
  },
  {
   "cell_type": "code",
   "execution_count": 23,
   "metadata": {},
   "outputs": [
    {
     "data": {
      "text/plain": [
       "['005930',\n",
       " '000660',\n",
       " '035420',\n",
       " '051910',\n",
       " '207940',\n",
       " '005380',\n",
       " '068270',\n",
       " '035720',\n",
       " '006400',\n",
       " '051900']"
      ]
     },
     "execution_count": 23,
     "metadata": {},
     "output_type": "execute_result"
    }
   ],
   "source": [
    "get_item_code(1)"
   ]
  },
  {
   "cell_type": "code",
   "execution_count": 24,
   "metadata": {},
   "outputs": [],
   "source": [
    "item_code_list = []\n",
    "for page_no in range(1, 21):\n",
    "    item_code_10 = get_item_code(page_no)\n",
    "    item_code_list.extend(item_code_10)"
   ]
  },
  {
   "cell_type": "code",
   "execution_count": 25,
   "metadata": {},
   "outputs": [
    {
     "data": {
      "text/plain": [
       "200"
      ]
     },
     "execution_count": 25,
     "metadata": {},
     "output_type": "execute_result"
    }
   ],
   "source": [
    "len(item_code_list)"
   ]
  },
  {
   "cell_type": "code",
   "execution_count": 26,
   "metadata": {},
   "outputs": [
    {
     "data": {
      "text/plain": [
       "(200, 8)"
      ]
     },
     "execution_count": 26,
     "metadata": {},
     "output_type": "execute_result"
    }
   ],
   "source": [
    "df.shape"
   ]
  },
  {
   "cell_type": "code",
   "execution_count": 27,
   "metadata": {},
   "outputs": [],
   "source": [
    "df[\"종목코드\"] = item_code_list"
   ]
  },
  {
   "cell_type": "code",
   "execution_count": 28,
   "metadata": {},
   "outputs": [
    {
     "data": {
      "text/html": [
       "<div>\n",
       "<style scoped>\n",
       "    .dataframe tbody tr th:only-of-type {\n",
       "        vertical-align: middle;\n",
       "    }\n",
       "\n",
       "    .dataframe tbody tr th {\n",
       "        vertical-align: top;\n",
       "    }\n",
       "\n",
       "    .dataframe thead th {\n",
       "        text-align: right;\n",
       "    }\n",
       "</style>\n",
       "<table border=\"1\" class=\"dataframe\">\n",
       "  <thead>\n",
       "    <tr style=\"text-align: right;\">\n",
       "      <th></th>\n",
       "      <th>종목별</th>\n",
       "      <th>현재가</th>\n",
       "      <th>전일비</th>\n",
       "      <th>등락률</th>\n",
       "      <th>거래량</th>\n",
       "      <th>거래대금(백만)</th>\n",
       "      <th>시가총액(억)</th>\n",
       "      <th>날짜</th>\n",
       "      <th>종목코드</th>\n",
       "    </tr>\n",
       "  </thead>\n",
       "  <tbody>\n",
       "    <tr>\n",
       "      <th>1</th>\n",
       "      <td>삼성전자</td>\n",
       "      <td>58200.0</td>\n",
       "      <td>0.0</td>\n",
       "      <td>0.00%</td>\n",
       "      <td>13538073.0</td>\n",
       "      <td>791828.0</td>\n",
       "      <td>3474413.0</td>\n",
       "      <td>2020-09-30</td>\n",
       "      <td>005930</td>\n",
       "    </tr>\n",
       "    <tr>\n",
       "      <th>2</th>\n",
       "      <td>SK하이닉스</td>\n",
       "      <td>84000.0</td>\n",
       "      <td>1500.0</td>\n",
       "      <td>+1.82%</td>\n",
       "      <td>4477093.0</td>\n",
       "      <td>377057.0</td>\n",
       "      <td>611522.0</td>\n",
       "      <td>2020-09-30</td>\n",
       "      <td>000660</td>\n",
       "    </tr>\n",
       "    <tr>\n",
       "      <th>3</th>\n",
       "      <td>NAVER</td>\n",
       "      <td>296500.0</td>\n",
       "      <td>2000.0</td>\n",
       "      <td>-0.67%</td>\n",
       "      <td>648867.0</td>\n",
       "      <td>192582.0</td>\n",
       "      <td>487041.0</td>\n",
       "      <td>2020-09-30</td>\n",
       "      <td>035420</td>\n",
       "    </tr>\n",
       "    <tr>\n",
       "      <th>4</th>\n",
       "      <td>LG화학</td>\n",
       "      <td>654000.0</td>\n",
       "      <td>28000.0</td>\n",
       "      <td>+4.47%</td>\n",
       "      <td>655754.0</td>\n",
       "      <td>425868.0</td>\n",
       "      <td>461674.0</td>\n",
       "      <td>2020-09-30</td>\n",
       "      <td>051910</td>\n",
       "    </tr>\n",
       "    <tr>\n",
       "      <th>5</th>\n",
       "      <td>삼성바이오로직스</td>\n",
       "      <td>690000.0</td>\n",
       "      <td>5000.0</td>\n",
       "      <td>+0.73%</td>\n",
       "      <td>63300.0</td>\n",
       "      <td>43666.0</td>\n",
       "      <td>456538.0</td>\n",
       "      <td>2020-09-30</td>\n",
       "      <td>207940</td>\n",
       "    </tr>\n",
       "    <tr>\n",
       "      <th>6</th>\n",
       "      <td>현대차</td>\n",
       "      <td>178500.0</td>\n",
       "      <td>3000.0</td>\n",
       "      <td>+1.71%</td>\n",
       "      <td>1403988.0</td>\n",
       "      <td>250806.0</td>\n",
       "      <td>381398.0</td>\n",
       "      <td>2020-09-30</td>\n",
       "      <td>005380</td>\n",
       "    </tr>\n",
       "    <tr>\n",
       "      <th>7</th>\n",
       "      <td>셀트리온</td>\n",
       "      <td>257500.0</td>\n",
       "      <td>2500.0</td>\n",
       "      <td>+0.98%</td>\n",
       "      <td>636839.0</td>\n",
       "      <td>162955.0</td>\n",
       "      <td>347609.0</td>\n",
       "      <td>2020-09-30</td>\n",
       "      <td>068270</td>\n",
       "    </tr>\n",
       "    <tr>\n",
       "      <th>8</th>\n",
       "      <td>카카오</td>\n",
       "      <td>364500.0</td>\n",
       "      <td>4500.0</td>\n",
       "      <td>-1.22%</td>\n",
       "      <td>583805.0</td>\n",
       "      <td>214825.0</td>\n",
       "      <td>321009.0</td>\n",
       "      <td>2020-09-30</td>\n",
       "      <td>035720</td>\n",
       "    </tr>\n",
       "    <tr>\n",
       "      <th>9</th>\n",
       "      <td>삼성SDI</td>\n",
       "      <td>433500.0</td>\n",
       "      <td>12500.0</td>\n",
       "      <td>+2.97%</td>\n",
       "      <td>268142.0</td>\n",
       "      <td>115636.0</td>\n",
       "      <td>298094.0</td>\n",
       "      <td>2020-09-30</td>\n",
       "      <td>006400</td>\n",
       "    </tr>\n",
       "    <tr>\n",
       "      <th>10</th>\n",
       "      <td>LG생활건강</td>\n",
       "      <td>1448000.0</td>\n",
       "      <td>21000.0</td>\n",
       "      <td>-1.43%</td>\n",
       "      <td>24152.0</td>\n",
       "      <td>35380.0</td>\n",
       "      <td>226151.0</td>\n",
       "      <td>2020-09-30</td>\n",
       "      <td>051900</td>\n",
       "    </tr>\n",
       "  </tbody>\n",
       "</table>\n",
       "</div>"
      ],
      "text/plain": [
       "         종목별        현재가      전일비     등락률         거래량  거래대금(백만)    시가총액(억)  \\\n",
       "1       삼성전자    58200.0      0.0   0.00%  13538073.0  791828.0  3474413.0   \n",
       "2     SK하이닉스    84000.0   1500.0  +1.82%   4477093.0  377057.0   611522.0   \n",
       "3      NAVER   296500.0   2000.0  -0.67%    648867.0  192582.0   487041.0   \n",
       "4       LG화학   654000.0  28000.0  +4.47%    655754.0  425868.0   461674.0   \n",
       "5   삼성바이오로직스   690000.0   5000.0  +0.73%     63300.0   43666.0   456538.0   \n",
       "6        현대차   178500.0   3000.0  +1.71%   1403988.0  250806.0   381398.0   \n",
       "7       셀트리온   257500.0   2500.0  +0.98%    636839.0  162955.0   347609.0   \n",
       "8        카카오   364500.0   4500.0  -1.22%    583805.0  214825.0   321009.0   \n",
       "9      삼성SDI   433500.0  12500.0  +2.97%    268142.0  115636.0   298094.0   \n",
       "10    LG생활건강  1448000.0  21000.0  -1.43%     24152.0   35380.0   226151.0   \n",
       "\n",
       "            날짜    종목코드  \n",
       "1   2020-09-30  005930  \n",
       "2   2020-09-30  000660  \n",
       "3   2020-09-30  035420  \n",
       "4   2020-09-30  051910  \n",
       "5   2020-09-30  207940  \n",
       "6   2020-09-30  005380  \n",
       "7   2020-09-30  068270  \n",
       "8   2020-09-30  035720  \n",
       "9   2020-09-30  006400  \n",
       "10  2020-09-30  051900  "
      ]
     },
     "execution_count": 28,
     "metadata": {},
     "output_type": "execute_result"
    }
   ],
   "source": [
    "df.head(10)"
   ]
  },
  {
   "cell_type": "code",
   "execution_count": null,
   "metadata": {},
   "outputs": [],
   "source": []
  }
 ],
 "metadata": {
  "kernelspec": {
   "display_name": "Python 3",
   "language": "python",
   "name": "python3"
  },
  "language_info": {
   "codemirror_mode": {
    "name": "ipython",
    "version": 3
   },
   "file_extension": ".py",
   "mimetype": "text/x-python",
   "name": "python",
   "nbconvert_exporter": "python",
   "pygments_lexer": "ipython3",
   "version": "3.7.6"
  },
  "varInspector": {
   "cols": {
    "lenName": 16,
    "lenType": 16,
    "lenVar": 40
   },
   "kernels_config": {
    "python": {
     "delete_cmd_postfix": "",
     "delete_cmd_prefix": "del ",
     "library": "var_list.py",
     "varRefreshCmd": "print(var_dic_list())"
    },
    "r": {
     "delete_cmd_postfix": ") ",
     "delete_cmd_prefix": "rm(",
     "library": "var_list.r",
     "varRefreshCmd": "cat(var_dic_list()) "
    }
   },
   "types_to_exclude": [
    "module",
    "function",
    "builtin_function_or_method",
    "instance",
    "_Feature"
   ],
   "window_display": false
  }
 },
 "nbformat": 4,
 "nbformat_minor": 4
}
