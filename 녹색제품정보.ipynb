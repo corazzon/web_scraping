{
 "cells": [
  {
   "cell_type": "markdown",
   "metadata": {},
   "source": [
    "* http://www.greenproduct.go.kr/web/product/envProductTotal.do#fnSelectProd"
   ]
  },
  {
   "cell_type": "code",
   "execution_count": 1,
   "metadata": {},
   "outputs": [],
   "source": [
    "import pandas as pd\n",
    "import re"
   ]
  },
  {
   "cell_type": "code",
   "execution_count": 2,
   "metadata": {},
   "outputs": [],
   "source": [
    "import requests\n",
    "from bs4 import BeautifulSoup as bs"
   ]
  },
  {
   "cell_type": "markdown",
   "metadata": {},
   "source": [
    "## 용도별 녹색제품"
   ]
  },
  {
   "cell_type": "code",
   "execution_count": 3,
   "metadata": {},
   "outputs": [],
   "source": [
    "r_url = \"http://www.greenproduct.go.kr/web/product/envProductRegionAjax.do?s_region=700711\""
   ]
  },
  {
   "cell_type": "code",
   "execution_count": 4,
   "metadata": {},
   "outputs": [],
   "source": [
    "response = requests.post(r_url)\n",
    "html = bs(response.json()[\"Content\"], \"lxml\")"
   ]
  },
  {
   "cell_type": "code",
   "execution_count": 5,
   "metadata": {},
   "outputs": [
    {
     "data": {
      "text/plain": [
       "'3692300757'"
      ]
     },
     "execution_count": 5,
     "metadata": {},
     "output_type": "execute_result"
    }
   ],
   "source": [
    "txt = html.select(\"a\")[5][\"onclick\"].split(\",\")[1].replace('\"', '')\n",
    "re.sub(\"[^0-9]\", \"\", txt)"
   ]
  },
  {
   "cell_type": "code",
   "execution_count": 6,
   "metadata": {},
   "outputs": [
    {
     "data": {
      "text/plain": [
       "86"
      ]
     },
     "execution_count": 6,
     "metadata": {},
     "output_type": "execute_result"
    }
   ],
   "source": [
    "120-34"
   ]
  },
  {
   "cell_type": "code",
   "execution_count": 7,
   "metadata": {},
   "outputs": [
    {
     "data": {
      "text/plain": [
       "(34, 86)"
      ]
     },
     "execution_count": 7,
     "metadata": {},
     "output_type": "execute_result"
    }
   ],
   "source": [
    "category = {}\n",
    "prod = []\n",
    "for a in html.select(\"a\"):\n",
    "    if a[\"href\"] == \"#elcsClnm\":\n",
    "        s = a.get_text().split()\n",
    "        key = s[0].replace(\"[\", \"\").replace(\"]\", \"\")\n",
    "        category[key] = s[1]\n",
    "    else:\n",
    "#         print(a.get_text())\n",
    "        txt_0 = a[\"onclick\"].split(\",\")[0].replace('\"', '')\n",
    "        txt_1 = a[\"onclick\"].split(\",\")[1].replace('\"', '')\n",
    "        p_0 = re.sub(\"[^0-9]\", \"\", txt_0)\n",
    "        p_1 = re.sub(\"[^0-9]\", \"\", txt_1)\n",
    "        prod.append((p_0, p_1))\n",
    "len(category), len(prod)"
   ]
  },
  {
   "cell_type": "markdown",
   "metadata": {},
   "source": [
    "## 용도별 인증기업"
   ]
  },
  {
   "cell_type": "code",
   "execution_count": 8,
   "metadata": {},
   "outputs": [],
   "source": [
    "def get_html_table(prod):\n",
    "    key = prod[0]\n",
    "    val = prod[1]\n",
    "    base_url = \"http://www.greenproduct.go.kr/web/product/envProductListAjax.do\"\n",
    "    params = f\"elcsElcs={key}&prodVcod={val}&pageNo=1&s_gubn=&s_findText=\"\n",
    "    url = f\"{base_url}?{params}\"\n",
    "    response = requests.post(url)\n",
    "    html = bs(response.json()[\"Content\"], \"lxml\")\n",
    "    temp = pd.read_html(str(html))[0]\n",
    "    temp[\"용도\"] = key\n",
    "    temp[\"제품번호\"] = val\n",
    "    return temp"
   ]
  },
  {
   "cell_type": "code",
   "execution_count": 9,
   "metadata": {},
   "outputs": [
    {
     "data": {
      "text/html": [
       "<div>\n",
       "<style scoped>\n",
       "    .dataframe tbody tr th:only-of-type {\n",
       "        vertical-align: middle;\n",
       "    }\n",
       "\n",
       "    .dataframe tbody tr th {\n",
       "        vertical-align: top;\n",
       "    }\n",
       "\n",
       "    .dataframe thead th {\n",
       "        text-align: right;\n",
       "    }\n",
       "</style>\n",
       "<table border=\"1\" class=\"dataframe\">\n",
       "  <thead>\n",
       "    <tr style=\"text-align: right;\">\n",
       "      <th></th>\n",
       "      <th>제품사진</th>\n",
       "      <th>용도명</th>\n",
       "      <th>상표명(모델명)</th>\n",
       "      <th>인증업체명</th>\n",
       "      <th>전화번호</th>\n",
       "      <th>지역</th>\n",
       "      <th>G2B분류번호</th>\n",
       "      <th>G2B식별번호</th>\n",
       "      <th>용도</th>\n",
       "      <th>제품번호</th>\n",
       "    </tr>\n",
       "  </thead>\n",
       "  <tbody>\n",
       "    <tr>\n",
       "      <th>0</th>\n",
       "      <td>NaN</td>\n",
       "      <td>신문용지(기타, 54g)</td>\n",
       "      <td>참일꾼신문용지 54g/m², B4</td>\n",
       "      <td>만승자립원</td>\n",
       "      <td>053-986-3080</td>\n",
       "      <td>대구</td>\n",
       "      <td>14121999</td>\n",
       "      <td>21193595</td>\n",
       "      <td>101</td>\n",
       "      <td>5028211315</td>\n",
       "    </tr>\n",
       "    <tr>\n",
       "      <th>1</th>\n",
       "      <td>NaN</td>\n",
       "      <td>신문용지(기타, 54g)</td>\n",
       "      <td>참일꾼신문용지 54g/m², A4</td>\n",
       "      <td>만승자립원</td>\n",
       "      <td>053-986-3080</td>\n",
       "      <td>대구</td>\n",
       "      <td>14121999</td>\n",
       "      <td>21193596</td>\n",
       "      <td>101</td>\n",
       "      <td>5028211315</td>\n",
       "    </tr>\n",
       "    <tr>\n",
       "      <th>2</th>\n",
       "      <td>NaN</td>\n",
       "      <td>비도공지(중질지, 70g)</td>\n",
       "      <td>참일꾼중질지 70g/m², B4, 미색</td>\n",
       "      <td>만승자립원</td>\n",
       "      <td>053-986-3080</td>\n",
       "      <td>대구</td>\n",
       "      <td>14111511</td>\n",
       "      <td>22448688</td>\n",
       "      <td>101</td>\n",
       "      <td>5028211315</td>\n",
       "    </tr>\n",
       "    <tr>\n",
       "      <th>3</th>\n",
       "      <td>NaN</td>\n",
       "      <td>비도공지(중질지, 70g)</td>\n",
       "      <td>참일꾼중질지 70g/m², A4, 미색</td>\n",
       "      <td>만승자립원</td>\n",
       "      <td>053-986-3080</td>\n",
       "      <td>대구</td>\n",
       "      <td>14111511</td>\n",
       "      <td>22448687</td>\n",
       "      <td>101</td>\n",
       "      <td>5028211315</td>\n",
       "    </tr>\n",
       "    <tr>\n",
       "      <th>4</th>\n",
       "      <td>NaN</td>\n",
       "      <td>비도공지(중질지, 70g)</td>\n",
       "      <td>참일꾼중질지 70g/m², B4</td>\n",
       "      <td>만승자립원</td>\n",
       "      <td>053-986-3080</td>\n",
       "      <td>대구</td>\n",
       "      <td>14111511</td>\n",
       "      <td>22073250</td>\n",
       "      <td>101</td>\n",
       "      <td>5028211315</td>\n",
       "    </tr>\n",
       "    <tr>\n",
       "      <th>5</th>\n",
       "      <td>NaN</td>\n",
       "      <td>비도공지(중질지, 70g)</td>\n",
       "      <td>참일꾼중질지 70g/m², A4</td>\n",
       "      <td>만승자립원</td>\n",
       "      <td>053-986-3080</td>\n",
       "      <td>대구</td>\n",
       "      <td>14111511</td>\n",
       "      <td>22073249</td>\n",
       "      <td>101</td>\n",
       "      <td>5028211315</td>\n",
       "    </tr>\n",
       "    <tr>\n",
       "      <th>6</th>\n",
       "      <td>NaN</td>\n",
       "      <td>비도공지(중질지, 60g)</td>\n",
       "      <td>참일꾼중질지 60g/m², B4</td>\n",
       "      <td>만승자립원</td>\n",
       "      <td>053-986-3080</td>\n",
       "      <td>대구</td>\n",
       "      <td>14111511</td>\n",
       "      <td>21284747</td>\n",
       "      <td>101</td>\n",
       "      <td>5028211315</td>\n",
       "    </tr>\n",
       "    <tr>\n",
       "      <th>7</th>\n",
       "      <td>NaN</td>\n",
       "      <td>비도공지(중질지, 60g)</td>\n",
       "      <td>참일꾼중질지 60g/m², A4</td>\n",
       "      <td>만승자립원</td>\n",
       "      <td>053-986-3080</td>\n",
       "      <td>대구</td>\n",
       "      <td>14111511</td>\n",
       "      <td>21284748</td>\n",
       "      <td>101</td>\n",
       "      <td>5028211315</td>\n",
       "    </tr>\n",
       "  </tbody>\n",
       "</table>\n",
       "</div>"
      ],
      "text/plain": [
       "   제품사진             용도명               상표명(모델명)  인증업체명          전화번호  지역  \\\n",
       "0   NaN   신문용지(기타, 54g)     참일꾼신문용지 54g/m², B4  만승자립원  053-986-3080  대구   \n",
       "1   NaN   신문용지(기타, 54g)     참일꾼신문용지 54g/m², A4  만승자립원  053-986-3080  대구   \n",
       "2   NaN  비도공지(중질지, 70g)  참일꾼중질지 70g/m², B4, 미색  만승자립원  053-986-3080  대구   \n",
       "3   NaN  비도공지(중질지, 70g)  참일꾼중질지 70g/m², A4, 미색  만승자립원  053-986-3080  대구   \n",
       "4   NaN  비도공지(중질지, 70g)      참일꾼중질지 70g/m², B4  만승자립원  053-986-3080  대구   \n",
       "5   NaN  비도공지(중질지, 70g)      참일꾼중질지 70g/m², A4  만승자립원  053-986-3080  대구   \n",
       "6   NaN  비도공지(중질지, 60g)      참일꾼중질지 60g/m², B4  만승자립원  053-986-3080  대구   \n",
       "7   NaN  비도공지(중질지, 60g)      참일꾼중질지 60g/m², A4  만승자립원  053-986-3080  대구   \n",
       "\n",
       "    G2B분류번호   G2B식별번호   용도        제품번호  \n",
       "0  14121999  21193595  101  5028211315  \n",
       "1  14121999  21193596  101  5028211315  \n",
       "2  14111511  22448688  101  5028211315  \n",
       "3  14111511  22448687  101  5028211315  \n",
       "4  14111511  22073250  101  5028211315  \n",
       "5  14111511  22073249  101  5028211315  \n",
       "6  14111511  21284747  101  5028211315  \n",
       "7  14111511  21284748  101  5028211315  "
      ]
     },
     "execution_count": 9,
     "metadata": {},
     "output_type": "execute_result"
    }
   ],
   "source": [
    "prod = (\"101\", \"5028211315\")\n",
    "get_html_table(prod)"
   ]
  },
  {
   "cell_type": "code",
   "execution_count": 10,
   "metadata": {},
   "outputs": [],
   "source": [
    "item_list = []\n",
    "for p in prod:\n",
    "    df_table = get_html_table(p)\n",
    "    item_list.append(df_table)"
   ]
  },
  {
   "cell_type": "code",
   "execution_count": 11,
   "metadata": {},
   "outputs": [],
   "source": [
    "df = pd.concat(item_list)\n",
    "del df[\"제품사진\"]"
   ]
  },
  {
   "cell_type": "code",
   "execution_count": 12,
   "metadata": {},
   "outputs": [],
   "source": [
    "df[\"용도\"] = df[\"용도\"].map(category)"
   ]
  },
  {
   "cell_type": "code",
   "execution_count": 13,
   "metadata": {},
   "outputs": [
    {
     "data": {
      "text/plain": [
       "(2, 9)"
      ]
     },
     "execution_count": 13,
     "metadata": {},
     "output_type": "execute_result"
    }
   ],
   "source": [
    "df.shape"
   ]
  },
  {
   "cell_type": "code",
   "execution_count": 14,
   "metadata": {},
   "outputs": [],
   "source": [
    "df.to_csv(\"녹색제품.csv\", index=False)"
   ]
  },
  {
   "cell_type": "code",
   "execution_count": 15,
   "metadata": {},
   "outputs": [
    {
     "data": {
      "text/html": [
       "<div>\n",
       "<style scoped>\n",
       "    .dataframe tbody tr th:only-of-type {\n",
       "        vertical-align: middle;\n",
       "    }\n",
       "\n",
       "    .dataframe tbody tr th {\n",
       "        vertical-align: top;\n",
       "    }\n",
       "\n",
       "    .dataframe thead th {\n",
       "        text-align: right;\n",
       "    }\n",
       "</style>\n",
       "<table border=\"1\" class=\"dataframe\">\n",
       "  <thead>\n",
       "    <tr style=\"text-align: right;\">\n",
       "      <th></th>\n",
       "      <th>용도명</th>\n",
       "      <th>상표명(모델명)</th>\n",
       "      <th>인증업체명</th>\n",
       "      <th>전화번호</th>\n",
       "      <th>지역</th>\n",
       "      <th>G2B분류번호</th>\n",
       "      <th>G2B식별번호</th>\n",
       "      <th>용도</th>\n",
       "      <th>제품번호</th>\n",
       "    </tr>\n",
       "  </thead>\n",
       "  <tbody>\n",
       "    <tr>\n",
       "      <th>0</th>\n",
       "      <td>검색된 결과가 없습니다.</td>\n",
       "      <td>검색된 결과가 없습니다.</td>\n",
       "      <td>검색된 결과가 없습니다.</td>\n",
       "      <td>검색된 결과가 없습니다.</td>\n",
       "      <td>검색된 결과가 없습니다.</td>\n",
       "      <td>검색된 결과가 없습니다.</td>\n",
       "      <td>검색된 결과가 없습니다.</td>\n",
       "      <td>NaN</td>\n",
       "      <td>0</td>\n",
       "    </tr>\n",
       "    <tr>\n",
       "      <th>1</th>\n",
       "      <td>검색된 결과가 없습니다.</td>\n",
       "      <td>검색된 결과가 없습니다.</td>\n",
       "      <td>검색된 결과가 없습니다.</td>\n",
       "      <td>검색된 결과가 없습니다.</td>\n",
       "      <td>검색된 결과가 없습니다.</td>\n",
       "      <td>검색된 결과가 없습니다.</td>\n",
       "      <td>검색된 결과가 없습니다.</td>\n",
       "      <td>NaN</td>\n",
       "      <td>0</td>\n",
       "    </tr>\n",
       "  </tbody>\n",
       "</table>\n",
       "</div>"
      ],
      "text/plain": [
       "             용도명       상표명(모델명)          인증업체명           전화번호             지역  \\\n",
       "0  검색된 결과가 없습니다.  검색된 결과가 없습니다.  검색된 결과가 없습니다.  검색된 결과가 없습니다.  검색된 결과가 없습니다.   \n",
       "1  검색된 결과가 없습니다.  검색된 결과가 없습니다.  검색된 결과가 없습니다.  검색된 결과가 없습니다.  검색된 결과가 없습니다.   \n",
       "\n",
       "         G2B분류번호        G2B식별번호  용도  제품번호  \n",
       "0  검색된 결과가 없습니다.  검색된 결과가 없습니다. NaN     0  \n",
       "1  검색된 결과가 없습니다.  검색된 결과가 없습니다. NaN     0  "
      ]
     },
     "execution_count": 15,
     "metadata": {},
     "output_type": "execute_result"
    }
   ],
   "source": [
    "pd.read_csv(\"녹색제품.csv\")"
   ]
  },
  {
   "cell_type": "code",
   "execution_count": null,
   "metadata": {},
   "outputs": [],
   "source": []
  }
 ],
 "metadata": {
  "kernelspec": {
   "display_name": "Python 3",
   "language": "python",
   "name": "python3"
  },
  "language_info": {
   "codemirror_mode": {
    "name": "ipython",
    "version": 3
   },
   "file_extension": ".py",
   "mimetype": "text/x-python",
   "name": "python",
   "nbconvert_exporter": "python",
   "pygments_lexer": "ipython3",
   "version": "3.7.6"
  },
  "varInspector": {
   "cols": {
    "lenName": 16,
    "lenType": 16,
    "lenVar": 40
   },
   "kernels_config": {
    "python": {
     "delete_cmd_postfix": "",
     "delete_cmd_prefix": "del ",
     "library": "var_list.py",
     "varRefreshCmd": "print(var_dic_list())"
    },
    "r": {
     "delete_cmd_postfix": ") ",
     "delete_cmd_prefix": "rm(",
     "library": "var_list.r",
     "varRefreshCmd": "cat(var_dic_list()) "
    }
   },
   "types_to_exclude": [
    "module",
    "function",
    "builtin_function_or_method",
    "instance",
    "_Feature"
   ],
   "window_display": false
  }
 },
 "nbformat": 4,
 "nbformat_minor": 4
}
