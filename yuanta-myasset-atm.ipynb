{
 "cells": [
  {
   "cell_type": "markdown",
   "metadata": {
    "id": "1KkrdC0UvnUD"
   },
   "source": [
    "[지점안내 - 유안타증권](https://www.myasset.com/myasset/customer/beginner/CU_0104000_T2.jsp)\n",
    "\n",
    "* 전체 지역(서울,경기,인천,충남,~~제주)를 클릭하고 전체지역의 atm기 table을 스크랩\n",
    "\n",
    "\n",
    "### prompt :\n",
    "```\n",
    "다음 정보를 바탕으로 데이터를 수집해서 데이터프레임으로 만드는 파이썬 코드 작성해 주세요. 응답 결과는 json 입니다.\n",
    "\n",
    "Request URL:\n",
    "https://www.myasset.com/myasset/customer/beginner/CU_0104000_T2D1.cmd\n",
    "Request Method:\n",
    "POST\n",
    "Status Code:\n",
    "200 OK\n",
    "Remote Address:\n",
    "112.175.19.64:443\n",
    "Referrer Policy:\n",
    "strict-origin-when-cross-origin\n",
    "\n",
    "Payload 는 다음과 같습니다.\n",
    "\n",
    "gnb.jsp?cma=false\n",
    "3 / 105 requests\n",
    "106 kB / 1.5 MB transferred\n",
    "137 kB / 16.4 MB resources\n",
    "inq_tp=2&inq_tp1=%EC%84%9C%EC%9A%B8&inq_tp2=%EC%A4%91%EA%B5%AC&_r_=0.2510125861633761&tkey=202407022308&ckey=\n",
    "```"
   ]
  },
  {
   "cell_type": "code",
   "execution_count": null,
   "metadata": {
    "id": "h35hQwp5Tl73"
   },
   "outputs": [],
   "source": [
    "import requests\n",
    "import pandas as pd\n",
    "import json"
   ]
  },
  {
   "cell_type": "code",
   "execution_count": null,
   "metadata": {
    "id": "L5G1gpjlwAWc"
   },
   "outputs": [],
   "source": [
    "url = \"https://www.myasset.com/myasset/customer/beginner/CU_0104000_T2.jsp\"\n",
    "pd.read_html(url)"
   ]
  },
  {
   "cell_type": "code",
   "execution_count": null,
   "metadata": {
    "id": "GJG_pFCIvN1d"
   },
   "outputs": [],
   "source": [
    "# URL 및 payload 설정\n",
    "url = \"https://www.myasset.com/myasset/customer/beginner/CU_0104000_T2D1.cmd\"\n",
    "payload = {\n",
    "    \"inq_tp\": \"2\",\n",
    "    \"inq_tp1\": \"서울\",\n",
    "    \"inq_tp2\": \"중구\",\n",
    "    \"_r_\": \"0.2510125861633761\",\n",
    "    \"tkey\": \"202407022308\",\n",
    "    \"ckey\": \"\"\n",
    "}\n",
    "\n",
    "# HTTP 요청 헤더 설정\n",
    "headers = {\n",
    "    \"Content-Type\": \"application/x-www-form-urlencoded\",\n",
    "    \"Referer\": \"https://www.myasset.com/myasset/customer/beginner/CU_0104000_T2D1.cmd\"\n",
    "}\n",
    "\n",
    "# POST 요청 보내기\n",
    "response = requests.post(url, data=payload, headers=headers)\n",
    "\n",
    "# 응답 확인\n",
    "if response.status_code == 200:\n",
    "    # JSON 데이터 파싱\n",
    "    data = json.loads(response.text)\n",
    "\n",
    "    # 데이터프레임 생성\n",
    "    df = pd.DataFrame(data)\n",
    "\n",
    "    # 데이터프레임 출력\n",
    "    print(df)\n",
    "else:\n",
    "    print(f\"Error: {response.status_code}\")\n",
    "    print(response.text)\n"
   ]
  },
  {
   "cell_type": "code",
   "execution_count": null,
   "metadata": {
    "collapsed": true,
    "id": "MW_c-YZvvjT6",
    "jupyter": {
     "outputs_hidden": true
    }
   },
   "outputs": [],
   "source": [
    "pd.DataFrame(data[\"output\"][\"block1\"])"
   ]
  },
  {
   "cell_type": "markdown",
   "metadata": {
    "id": "JxP6Xr-2zQjZ"
   },
   "source": [
    "\n",
    "## prompt : 지역정보 가져오기\n",
    "```\n",
    "다음 URL 의 결과도 json 입니다. 결과를 데이터프레임으로 가져오도록 코드 작성\n",
    "\n",
    "Request URL:\n",
    "https://www.myasset.com/myasset/common/layerPop/CP_0000000_L12D3.cmd\n",
    "Request Method:\n",
    "POST\n",
    "Status Code:\n",
    "200 OK\n",
    "```"
   ]
  },
  {
   "cell_type": "code",
   "execution_count": null,
   "metadata": {
    "id": "kAjEVA6CyQET"
   },
   "outputs": [],
   "source": [
    "# URL 설정\n",
    "url = \"https://www.myasset.com/myasset/common/layerPop/CP_0000000_L12D3.cmd\"\n",
    "\n",
    "# POST 요청 보내기\n",
    "response = requests.post(url)\n",
    "\n",
    "# 응답 확인\n",
    "if response.status_code == 200:\n",
    "    # JSON 데이터 파싱\n",
    "    data = json.loads(response.text)\n",
    "\n",
    "else:\n",
    "    print(f\"Error: {response.status_code}\")\n",
    "    print(response.text)\n"
   ]
  },
  {
   "cell_type": "code",
   "execution_count": null,
   "metadata": {
    "id": "GAltuyYgzbLM"
   },
   "outputs": [],
   "source": [
    "data[\"areaMap\"].keys()"
   ]
  },
  {
   "cell_type": "markdown",
   "metadata": {
    "id": "Cqv2Yg8cz-Fk"
   },
   "source": [
    "## prompt\n",
    "```\n",
    "다음 값을 순회하며 모든 지역의 데이터를 가져와 하나의 데이터프레임으로 생성 할 것\n",
    "\n",
    "dict_keys(['울산', '제주', '서울', '부산', '경남', '대전', '충남', '대구', '전남', '광주', '인천', '강원', '전북', '경북', '경기', '충북'])\n",
    "```"
   ]
  },
  {
   "cell_type": "code",
   "execution_count": null,
   "metadata": {
    "id": "gRbH3A8wzo6q"
   },
   "outputs": [],
   "source": [
    "# URL 및 기본 payload 설정\n",
    "url = \"https://www.myasset.com/myasset/customer/beginner/CU_0104000_T2D1.cmd\"\n",
    "base_payload = {\n",
    "    \"inq_tp\": \"2\",\n",
    "    \"inq_tp2\": \"\",\n",
    "    \"_r_\": \"0.2510125861633761\",\n",
    "    \"tkey\": \"202407022308\",\n",
    "    \"ckey\": \"\"\n",
    "}\n",
    "\n",
    "# HTTP 요청 헤더 설정\n",
    "headers = {\n",
    "    \"Content-Type\": \"application/x-www-form-urlencoded\",\n",
    "    \"Referer\": \"https://www.myasset.com/myasset/customer/beginner/CU_0104000_T2D1.cmd\"\n",
    "}\n",
    "\n",
    "# 지역 목록\n",
    "regions = ['울산', '제주', '서울', '부산', '경남', '대전', '충남', '대구', '전남', '광주', '인천', '강원', '전북', '경북', '경기', '충북']\n",
    "\n",
    "# 모든 데이터를 저장할 리스트\n",
    "all_data = []\n",
    "\n",
    "# 각 지역에 대해 요청 보내기\n",
    "for region in regions:\n",
    "    payload = base_payload.copy()\n",
    "    payload[\"inq_tp1\"] = region\n",
    "\n",
    "    response = requests.post(url, data=payload, headers=headers)\n",
    "\n",
    "    if response.status_code == 200:\n",
    "        data = json.loads(response.text)\n",
    "        if 'output' in data and 'block1' in data['output']:\n",
    "            region_data = data['output']['block1']\n",
    "            for item in region_data:\n",
    "                item['Region'] = region  # 지역 정보 추가\n",
    "            all_data.extend(region_data)\n",
    "    else:\n",
    "        print(f\"Error for region {region}: {response.status_code}\")\n",
    "\n",
    "# 데이터프레임 생성\n",
    "df = pd.DataFrame(all_data)\n",
    "\n",
    "# 데이터프레임 출력\n",
    "print(df)\n",
    "\n",
    "# CSV 파일로 저장 (선택사항)\n",
    "df.to_csv('atm_locations.csv', index=False, encoding='utf-8-sig')\n"
   ]
  },
  {
   "cell_type": "code",
   "execution_count": null,
   "metadata": {
    "id": "xFpXDh-y0gqR"
   },
   "outputs": [],
   "source": [
    "df.shape"
   ]
  },
  {
   "cell_type": "code",
   "execution_count": null,
   "metadata": {
    "id": "9W9EeKRV0UZS"
   },
   "outputs": [],
   "source": [
    "df[\"RGN_1\"].unique()"
   ]
  },
  {
   "cell_type": "code",
   "execution_count": null,
   "metadata": {
    "id": "dFO8P89t0Zvm"
   },
   "outputs": [],
   "source": []
  }
 ],
 "metadata": {
  "colab": {
   "private_outputs": true,
   "provenance": []
  },
  "kernelspec": {
   "display_name": "Python 3 (ipykernel)",
   "language": "python",
   "name": "python3"
  },
  "language_info": {
   "codemirror_mode": {
    "name": "ipython",
    "version": 3
   },
   "file_extension": ".py",
   "mimetype": "text/x-python",
   "name": "python",
   "nbconvert_exporter": "python",
   "pygments_lexer": "ipython3",
   "version": "3.11.4"
  }
 },
 "nbformat": 4,
 "nbformat_minor": 4
}
