{
 "cells": [
  {
   "cell_type": "code",
   "execution_count": null,
   "id": "e2f95745",
   "metadata": {},
   "outputs": [],
   "source": [
    "# !pip install html5lib\n",
    "# !pip install lxml\n",
    "# !pip install beautifulSoup4"
   ]
  },
  {
   "cell_type": "code",
   "execution_count": null,
   "id": "fc630a32",
   "metadata": {},
   "outputs": [],
   "source": [
    "import pandas as pd\n",
    "import requests\n",
    "from bs4 import BeautifulSoup as bs\n",
    "import matplotlib.pyplot as plt\n",
    "import koreanize_matplotlib"
   ]
  },
  {
   "cell_type": "code",
   "execution_count": null,
   "id": "fa977c81",
   "metadata": {
    "scrolled": true
   },
   "outputs": [],
   "source": [
    "page_no = 1\n",
    "product_url = \"https://search.shopping.naver.com/catalog/21098473707\"\n",
    "print(product_url)\n",
    "url = f\"https://search.shopping.naver.com/api/review?isNeedAggregation=N&nvMid=21098473707&page={page_no}&pageSize=20&sortType=QUALITY\"\n",
    "print(url)"
   ]
  },
  {
   "cell_type": "code",
   "execution_count": null,
   "id": "0cd14f0a",
   "metadata": {},
   "outputs": [],
   "source": [
    "def find_review_page(page_no):\n",
    "    url = f\"https://search.shopping.naver.com/api/review\"\n",
    "    params = {\n",
    "        \"isNeedAggregation\": \"N\",\n",
    "        \"nvMid\": \"21098473707\",\n",
    "        \"page\": page_no,\n",
    "        \"pageSize\": 20,\n",
    "        \"sortType\": \"QUALITY\"\n",
    "    }\n",
    "\n",
    "    headers = {\n",
    "        \"path\": f\"/api/review?isNeedAggregation=N&nvMid=21098473707&page={page_no}&pageSize=20&sortType=QUALITY\",\n",
    "        \"referer\":\"https://search.shopping.naver.com/catalog/21098473707\",\n",
    "        \"user-agent\": \"Mozilla/5.0 \",\n",
    "        \"sbth\": \"1bfd439d6b41f4624bea6c112e310b9c412871aba70f2f714eabcd8cf3c8c900a2693a53c38128be910a712072424a2a\"\n",
    "    }\n",
    "    response = requests.get(url, params=params, headers=headers)\n",
    "    return response"
   ]
  },
  {
   "cell_type": "code",
   "execution_count": null,
   "id": "f11f5116",
   "metadata": {},
   "outputs": [],
   "source": [
    "page_no = 1\n",
    "response = find_review_page(page_no)\n",
    "print(response)\n",
    "res_json = response.json()\n",
    "res_json[\"totalCount\"]"
   ]
  },
  {
   "cell_type": "code",
   "execution_count": null,
   "id": "07795dc3",
   "metadata": {},
   "outputs": [],
   "source": [
    "pd.DataFrame(res_json[\"reviews\"]).shape"
   ]
  },
  {
   "cell_type": "code",
   "execution_count": null,
   "id": "0ccce502",
   "metadata": {},
   "outputs": [],
   "source": [
    "review_list = []\n",
    "for page_no in range(1, 6):\n",
    "    response = find_review_page(page_no)\n",
    "    review_list.append(pd.DataFrame(response.json()[\"reviews\"]))"
   ]
  },
  {
   "cell_type": "code",
   "execution_count": null,
   "id": "d56c5e52",
   "metadata": {},
   "outputs": [],
   "source": [
    "df_review = pd.concat(review_list, ignore_index=True)\n",
    "df_review.shape"
   ]
  },
  {
   "cell_type": "code",
   "execution_count": null,
   "id": "a3b99b37",
   "metadata": {},
   "outputs": [],
   "source": [
    "df_review.columns"
   ]
  },
  {
   "cell_type": "code",
   "execution_count": null,
   "id": "02bda8fa",
   "metadata": {},
   "outputs": [],
   "source": [
    "df_review[[\"id\", \"content\", \"starScore\", \"qualityScore\", \"rankScore\"]].head()"
   ]
  },
  {
   "cell_type": "code",
   "execution_count": null,
   "id": "9cf58115",
   "metadata": {},
   "outputs": [],
   "source": [
    "df_review[[\"id\", \"content\"]].tail()"
   ]
  },
  {
   "cell_type": "code",
   "execution_count": null,
   "id": "ce8f6db9",
   "metadata": {},
   "outputs": [],
   "source": [
    "df_review[[\"id\", \"content\"]].drop_duplicates()"
   ]
  },
  {
   "cell_type": "code",
   "execution_count": null,
   "id": "060c5595",
   "metadata": {
    "scrolled": true
   },
   "outputs": [],
   "source": [
    "reviews = \" \".join(df_review[\"title\"].tolist())\n",
    "reviews[:100]"
   ]
  },
  {
   "cell_type": "code",
   "execution_count": null,
   "id": "7d29b6b2",
   "metadata": {},
   "outputs": [],
   "source": []
  }
 ],
 "metadata": {
  "kernelspec": {
   "display_name": "Python 3 (ipykernel)",
   "language": "python",
   "name": "python3"
  },
  "language_info": {
   "codemirror_mode": {
    "name": "ipython",
    "version": 3
   },
   "file_extension": ".py",
   "mimetype": "text/x-python",
   "name": "python",
   "nbconvert_exporter": "python",
   "pygments_lexer": "ipython3",
   "version": "3.10.7"
  },
  "toc": {
   "base_numbering": 1,
   "nav_menu": {},
   "number_sections": true,
   "sideBar": true,
   "skip_h1_title": false,
   "title_cell": "Table of Contents",
   "title_sidebar": "Contents",
   "toc_cell": false,
   "toc_position": {},
   "toc_section_display": true,
   "toc_window_display": false
  },
  "varInspector": {
   "cols": {
    "lenName": 16,
    "lenType": 16,
    "lenVar": 40
   },
   "kernels_config": {
    "python": {
     "delete_cmd_postfix": "",
     "delete_cmd_prefix": "del ",
     "library": "var_list.py",
     "varRefreshCmd": "print(var_dic_list())"
    },
    "r": {
     "delete_cmd_postfix": ") ",
     "delete_cmd_prefix": "rm(",
     "library": "var_list.r",
     "varRefreshCmd": "cat(var_dic_list()) "
    }
   },
   "types_to_exclude": [
    "module",
    "function",
    "builtin_function_or_method",
    "instance",
    "_Feature"
   ],
   "window_display": false
  }
 },
 "nbformat": 4,
 "nbformat_minor": 5
}
