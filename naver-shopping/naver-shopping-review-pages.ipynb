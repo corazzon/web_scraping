{
 "cells": [
  {
   "cell_type": "code",
   "execution_count": 1,
   "id": "e2f95745",
   "metadata": {},
   "outputs": [],
   "source": [
    "# !pip install html5lib\n",
    "# !pip install lxml\n",
    "# !pip install beautifulSoup4"
   ]
  },
  {
   "cell_type": "code",
   "execution_count": 2,
   "id": "fc630a32",
   "metadata": {},
   "outputs": [],
   "source": [
    "import pandas as pd\n",
    "import requests\n",
    "from bs4 import BeautifulSoup as bs\n",
    "import matplotlib.pyplot as plt\n",
    "import koreanize_matplotlib"
   ]
  },
  {
   "cell_type": "code",
   "execution_count": 3,
   "id": "fa977c81",
   "metadata": {
    "scrolled": true
   },
   "outputs": [
    {
     "name": "stdout",
     "output_type": "stream",
     "text": [
      "https://search.shopping.naver.com/catalog/21098473707\n",
      "https://search.shopping.naver.com/api/review?isNeedAggregation=N&nvMid=21098473707&page=1&pageSize=20&sortType=QUALITY\n"
     ]
    }
   ],
   "source": [
    "page_no = 1\n",
    "product_url = \"https://search.shopping.naver.com/catalog/21098473707\"\n",
    "print(product_url)\n",
    "url = f\"https://search.shopping.naver.com/api/review?isNeedAggregation=N&nvMid=21098473707&page={page_no}&pageSize=20&sortType=QUALITY\"\n",
    "print(url)"
   ]
  },
  {
   "cell_type": "code",
   "execution_count": 4,
   "id": "0cd14f0a",
   "metadata": {},
   "outputs": [],
   "source": [
    "def find_review_page(page_no):\n",
    "    url = f\"https://search.shopping.naver.com/api/review\"\n",
    "    params = {\n",
    "        \"isNeedAggregation\": \"N\",\n",
    "        \"nvMid\": \"21098473707\",\n",
    "        \"page\": page_no,\n",
    "        \"pageSize\": 20,\n",
    "        \"sortType\": \"QUALITY\"\n",
    "    }\n",
    "\n",
    "    headers = {\n",
    "        \"path\": f\"/api/review?isNeedAggregation=N&nvMid=21098473707&page={page_no}&pageSize=20&sortType=QUALITY\",\n",
    "        \"referer\":\"https://search.shopping.naver.com/catalog/21098473707\",\n",
    "        \"user-agent\": \"Mozilla/5.0 \",\n",
    "        \"sbth\": \"1bfd439d6b41f4624bea6c112e310b9c412871aba70f2f714eabcd8cf3c8c900a2693a53c38128be910a712072424a2a\"\n",
    "    }\n",
    "    response = requests.get(url, params=params, headers=headers)\n",
    "    return response"
   ]
  },
  {
   "cell_type": "code",
   "execution_count": 5,
   "id": "f11f5116",
   "metadata": {},
   "outputs": [
    {
     "name": "stdout",
     "output_type": "stream",
     "text": [
      "<Response [200]>\n"
     ]
    },
    {
     "data": {
      "text/plain": [
       "5856"
      ]
     },
     "execution_count": 5,
     "metadata": {},
     "output_type": "execute_result"
    }
   ],
   "source": [
    "page_no = 1\n",
    "response = find_review_page(page_no)\n",
    "print(response)\n",
    "res_json = response.json()\n",
    "res_json[\"totalCount\"]"
   ]
  },
  {
   "cell_type": "code",
   "execution_count": 6,
   "id": "07795dc3",
   "metadata": {},
   "outputs": [
    {
     "data": {
      "text/plain": [
       "(20, 31)"
      ]
     },
     "execution_count": 6,
     "metadata": {},
     "output_type": "execute_result"
    }
   ],
   "source": [
    "pd.DataFrame(res_json[\"reviews\"]).shape"
   ]
  },
  {
   "cell_type": "code",
   "execution_count": 7,
   "id": "0ccce502",
   "metadata": {},
   "outputs": [],
   "source": [
    "review_list = []\n",
    "for page_no in range(1, 6):\n",
    "    response = find_review_page(page_no)\n",
    "    review_list.append(pd.DataFrame(response.json()[\"reviews\"]))"
   ]
  },
  {
   "cell_type": "code",
   "execution_count": 8,
   "id": "d56c5e52",
   "metadata": {},
   "outputs": [
    {
     "data": {
      "text/plain": [
       "(100, 31)"
      ]
     },
     "execution_count": 8,
     "metadata": {},
     "output_type": "execute_result"
    }
   ],
   "source": [
    "df_review = pd.concat(review_list, ignore_index=True)\n",
    "df_review.shape"
   ]
  },
  {
   "cell_type": "code",
   "execution_count": 9,
   "id": "a3b99b37",
   "metadata": {},
   "outputs": [
    {
     "data": {
      "text/plain": [
       "Index(['id', 'buyOption', 'content', 'aidaCreateTime', 'aidaModifyTime',\n",
       "       'esModifyTime', 'imageCount', 'imageYn', 'images', 'mallId',\n",
       "       'mallProductId', 'mallReviewId', 'mallSeq', 'matchNvMid', 'modifyDate',\n",
       "       'nvMid', 'pageUrl', 'qualityScore', 'rankScore', 'registerDate',\n",
       "       'starScore', 'title', 'topicCount', 'topicYn', 'topics', 'userId',\n",
       "       'videoCount', 'videoYn', 'videos', 'mallName', 'mallLogoUrl'],\n",
       "      dtype='object')"
      ]
     },
     "execution_count": 9,
     "metadata": {},
     "output_type": "execute_result"
    }
   ],
   "source": [
    "df_review.columns"
   ]
  },
  {
   "cell_type": "code",
   "execution_count": 10,
   "id": "02bda8fa",
   "metadata": {
    "scrolled": true
   },
   "outputs": [
    {
     "data": {
      "text/html": [
       "<div>\n",
       "<style scoped>\n",
       "    .dataframe tbody tr th:only-of-type {\n",
       "        vertical-align: middle;\n",
       "    }\n",
       "\n",
       "    .dataframe tbody tr th {\n",
       "        vertical-align: top;\n",
       "    }\n",
       "\n",
       "    .dataframe thead th {\n",
       "        text-align: right;\n",
       "    }\n",
       "</style>\n",
       "<table border=\"1\" class=\"dataframe\">\n",
       "  <thead>\n",
       "    <tr style=\"text-align: right;\">\n",
       "      <th></th>\n",
       "      <th>id</th>\n",
       "      <th>content</th>\n",
       "      <th>starScore</th>\n",
       "      <th>qualityScore</th>\n",
       "      <th>rankScore</th>\n",
       "    </tr>\n",
       "  </thead>\n",
       "  <tbody>\n",
       "    <tr>\n",
       "      <th>0</th>\n",
       "      <td>3229523142-ncp_1nm6ab_01-2663023129</td>\n",
       "      <td>말해모하나요...밤 중에서는 맛밤이 최고ㅠ&lt;br&gt;내년 1월 21일까지 유통기한 넉넉...</td>\n",
       "      <td>5</td>\n",
       "      <td>0.705253</td>\n",
       "      <td>1.135253</td>\n",
       "    </tr>\n",
       "    <tr>\n",
       "      <th>1</th>\n",
       "      <td>3215360336-ncp_1nm6ab_01-2663023129</td>\n",
       "      <td>1. 48개 구매하였으나 36개 +12개로 발송됨. 발송시 이에 대한 별도 안내가 ...</td>\n",
       "      <td>5</td>\n",
       "      <td>0.783670</td>\n",
       "      <td>1.053670</td>\n",
       "    </tr>\n",
       "    <tr>\n",
       "      <th>2</th>\n",
       "      <td>2016079645-juh5426-255464194</td>\n",
       "      <td>포장 꼼꼼하게 잘 보내 주셨습니다 가격도 착하고 유통기한도 넉넉합니다 ~^^ *스트...</td>\n",
       "      <td>5</td>\n",
       "      <td>0.757918</td>\n",
       "      <td>1.027918</td>\n",
       "    </tr>\n",
       "    <tr>\n",
       "      <th>3</th>\n",
       "      <td>3392771744-ncp_1nm6ab_01-2663023129</td>\n",
       "      <td>유통기한도 길고, 부서지거나 망가진 밤알도 없고 맛도 좋아요. 간식으로 구매해서 거...</td>\n",
       "      <td>5</td>\n",
       "      <td>0.716348</td>\n",
       "      <td>0.986348</td>\n",
       "    </tr>\n",
       "    <tr>\n",
       "      <th>4</th>\n",
       "      <td>4109652462-ncp_1nxoyk_01-5304757738</td>\n",
       "      <td>백프로 &lt;em&gt;만족합니다&lt;/em&gt;. &lt;em&gt;너무 맛있구요&lt;/em&gt; 인터넷으로 구매하...</td>\n",
       "      <td>5</td>\n",
       "      <td>0.734867</td>\n",
       "      <td>0.984867</td>\n",
       "    </tr>\n",
       "  </tbody>\n",
       "</table>\n",
       "</div>"
      ],
      "text/plain": [
       "                                    id   \n",
       "0  3229523142-ncp_1nm6ab_01-2663023129  \\\n",
       "1  3215360336-ncp_1nm6ab_01-2663023129   \n",
       "2         2016079645-juh5426-255464194   \n",
       "3  3392771744-ncp_1nm6ab_01-2663023129   \n",
       "4  4109652462-ncp_1nxoyk_01-5304757738   \n",
       "\n",
       "                                             content  starScore  qualityScore   \n",
       "0  말해모하나요...밤 중에서는 맛밤이 최고ㅠ<br>내년 1월 21일까지 유통기한 넉넉...          5      0.705253  \\\n",
       "1  1. 48개 구매하였으나 36개 +12개로 발송됨. 발송시 이에 대한 별도 안내가 ...          5      0.783670   \n",
       "2  포장 꼼꼼하게 잘 보내 주셨습니다 가격도 착하고 유통기한도 넉넉합니다 ~^^ *스트...          5      0.757918   \n",
       "3  유통기한도 길고, 부서지거나 망가진 밤알도 없고 맛도 좋아요. 간식으로 구매해서 거...          5      0.716348   \n",
       "4  백프로 <em>만족합니다</em>. <em>너무 맛있구요</em> 인터넷으로 구매하...          5      0.734867   \n",
       "\n",
       "   rankScore  \n",
       "0   1.135253  \n",
       "1   1.053670  \n",
       "2   1.027918  \n",
       "3   0.986348  \n",
       "4   0.984867  "
      ]
     },
     "execution_count": 10,
     "metadata": {},
     "output_type": "execute_result"
    }
   ],
   "source": [
    "df_review[[\"id\", \"content\", \"starScore\", \"qualityScore\", \"rankScore\"]].head()"
   ]
  },
  {
   "cell_type": "code",
   "execution_count": 11,
   "id": "9cf58115",
   "metadata": {},
   "outputs": [
    {
     "data": {
      "text/html": [
       "<div>\n",
       "<style scoped>\n",
       "    .dataframe tbody tr th:only-of-type {\n",
       "        vertical-align: middle;\n",
       "    }\n",
       "\n",
       "    .dataframe tbody tr th {\n",
       "        vertical-align: top;\n",
       "    }\n",
       "\n",
       "    .dataframe thead th {\n",
       "        text-align: right;\n",
       "    }\n",
       "</style>\n",
       "<table border=\"1\" class=\"dataframe\">\n",
       "  <thead>\n",
       "    <tr style=\"text-align: right;\">\n",
       "      <th></th>\n",
       "      <th>id</th>\n",
       "      <th>content</th>\n",
       "    </tr>\n",
       "  </thead>\n",
       "  <tbody>\n",
       "    <tr>\n",
       "      <th>95</th>\n",
       "      <td>3100770383-ncp_1nm6ab_01-2663023129</td>\n",
       "      <td>생각보다 양이 많아서 좋았어요.&lt;br&gt;맛도 있고 유통기한도 넉넉하고~ &lt;br&gt;아침대...</td>\n",
       "    </tr>\n",
       "    <tr>\n",
       "      <th>96</th>\n",
       "      <td>3148682992-ncp_1nm6ab_01-2663023129</td>\n",
       "      <td>저렴하게 잘 구매한 거 같아요. 유통기한 넉넉하지만 금세 다 먹게되니 별 상관없는 ...</td>\n",
       "    </tr>\n",
       "    <tr>\n",
       "      <th>97</th>\n",
       "      <td>3215317217-ncp_1nm6ab_01-2663023129</td>\n",
       "      <td>저번에도 구매해서 먹었는데 재구매합니다&lt;br&gt;유통기한도 넉넉하고 맛있고 가성비 짱이...</td>\n",
       "    </tr>\n",
       "    <tr>\n",
       "      <th>98</th>\n",
       "      <td>3162255841-ncp_1nm6ab_01-2663023129</td>\n",
       "      <td>맛밤은 좋은게 항상 그 맛을 유지하고있어서요. 이번에도 좋은가격에 득템한 기분입니다...</td>\n",
       "    </tr>\n",
       "    <tr>\n",
       "      <th>99</th>\n",
       "      <td>3147935276-ncp_1nm6ab_01-2663023129</td>\n",
       "      <td>싸게 구매했어요~&lt;br&gt;맛잇어서 금방 다 먹을 거 같아요!&lt;br&gt;다 먹고 다음에 또...</td>\n",
       "    </tr>\n",
       "  </tbody>\n",
       "</table>\n",
       "</div>"
      ],
      "text/plain": [
       "                                     id   \n",
       "95  3100770383-ncp_1nm6ab_01-2663023129  \\\n",
       "96  3148682992-ncp_1nm6ab_01-2663023129   \n",
       "97  3215317217-ncp_1nm6ab_01-2663023129   \n",
       "98  3162255841-ncp_1nm6ab_01-2663023129   \n",
       "99  3147935276-ncp_1nm6ab_01-2663023129   \n",
       "\n",
       "                                              content  \n",
       "95  생각보다 양이 많아서 좋았어요.<br>맛도 있고 유통기한도 넉넉하고~ <br>아침대...  \n",
       "96  저렴하게 잘 구매한 거 같아요. 유통기한 넉넉하지만 금세 다 먹게되니 별 상관없는 ...  \n",
       "97  저번에도 구매해서 먹었는데 재구매합니다<br>유통기한도 넉넉하고 맛있고 가성비 짱이...  \n",
       "98  맛밤은 좋은게 항상 그 맛을 유지하고있어서요. 이번에도 좋은가격에 득템한 기분입니다...  \n",
       "99  싸게 구매했어요~<br>맛잇어서 금방 다 먹을 거 같아요!<br>다 먹고 다음에 또...  "
      ]
     },
     "execution_count": 11,
     "metadata": {},
     "output_type": "execute_result"
    }
   ],
   "source": [
    "df_review[[\"id\", \"content\"]].tail()"
   ]
  },
  {
   "cell_type": "code",
   "execution_count": 12,
   "id": "ce8f6db9",
   "metadata": {},
   "outputs": [
    {
     "data": {
      "text/html": [
       "<div>\n",
       "<style scoped>\n",
       "    .dataframe tbody tr th:only-of-type {\n",
       "        vertical-align: middle;\n",
       "    }\n",
       "\n",
       "    .dataframe tbody tr th {\n",
       "        vertical-align: top;\n",
       "    }\n",
       "\n",
       "    .dataframe thead th {\n",
       "        text-align: right;\n",
       "    }\n",
       "</style>\n",
       "<table border=\"1\" class=\"dataframe\">\n",
       "  <thead>\n",
       "    <tr style=\"text-align: right;\">\n",
       "      <th></th>\n",
       "      <th>id</th>\n",
       "      <th>content</th>\n",
       "    </tr>\n",
       "  </thead>\n",
       "  <tbody>\n",
       "    <tr>\n",
       "      <th>0</th>\n",
       "      <td>3229523142-ncp_1nm6ab_01-2663023129</td>\n",
       "      <td>말해모하나요...밤 중에서는 맛밤이 최고ㅠ&lt;br&gt;내년 1월 21일까지 유통기한 넉넉...</td>\n",
       "    </tr>\n",
       "    <tr>\n",
       "      <th>1</th>\n",
       "      <td>3215360336-ncp_1nm6ab_01-2663023129</td>\n",
       "      <td>1. 48개 구매하였으나 36개 +12개로 발송됨. 발송시 이에 대한 별도 안내가 ...</td>\n",
       "    </tr>\n",
       "    <tr>\n",
       "      <th>2</th>\n",
       "      <td>2016079645-juh5426-255464194</td>\n",
       "      <td>포장 꼼꼼하게 잘 보내 주셨습니다 가격도 착하고 유통기한도 넉넉합니다 ~^^ *스트...</td>\n",
       "    </tr>\n",
       "    <tr>\n",
       "      <th>3</th>\n",
       "      <td>3392771744-ncp_1nm6ab_01-2663023129</td>\n",
       "      <td>유통기한도 길고, 부서지거나 망가진 밤알도 없고 맛도 좋아요. 간식으로 구매해서 거...</td>\n",
       "    </tr>\n",
       "    <tr>\n",
       "      <th>4</th>\n",
       "      <td>4109652462-ncp_1nxoyk_01-5304757738</td>\n",
       "      <td>백프로 &lt;em&gt;만족합니다&lt;/em&gt;. &lt;em&gt;너무 맛있구요&lt;/em&gt; 인터넷으로 구매하...</td>\n",
       "    </tr>\n",
       "    <tr>\n",
       "      <th>...</th>\n",
       "      <td>...</td>\n",
       "      <td>...</td>\n",
       "    </tr>\n",
       "    <tr>\n",
       "      <th>95</th>\n",
       "      <td>3100770383-ncp_1nm6ab_01-2663023129</td>\n",
       "      <td>생각보다 양이 많아서 좋았어요.&lt;br&gt;맛도 있고 유통기한도 넉넉하고~ &lt;br&gt;아침대...</td>\n",
       "    </tr>\n",
       "    <tr>\n",
       "      <th>96</th>\n",
       "      <td>3148682992-ncp_1nm6ab_01-2663023129</td>\n",
       "      <td>저렴하게 잘 구매한 거 같아요. 유통기한 넉넉하지만 금세 다 먹게되니 별 상관없는 ...</td>\n",
       "    </tr>\n",
       "    <tr>\n",
       "      <th>97</th>\n",
       "      <td>3215317217-ncp_1nm6ab_01-2663023129</td>\n",
       "      <td>저번에도 구매해서 먹었는데 재구매합니다&lt;br&gt;유통기한도 넉넉하고 맛있고 가성비 짱이...</td>\n",
       "    </tr>\n",
       "    <tr>\n",
       "      <th>98</th>\n",
       "      <td>3162255841-ncp_1nm6ab_01-2663023129</td>\n",
       "      <td>맛밤은 좋은게 항상 그 맛을 유지하고있어서요. 이번에도 좋은가격에 득템한 기분입니다...</td>\n",
       "    </tr>\n",
       "    <tr>\n",
       "      <th>99</th>\n",
       "      <td>3147935276-ncp_1nm6ab_01-2663023129</td>\n",
       "      <td>싸게 구매했어요~&lt;br&gt;맛잇어서 금방 다 먹을 거 같아요!&lt;br&gt;다 먹고 다음에 또...</td>\n",
       "    </tr>\n",
       "  </tbody>\n",
       "</table>\n",
       "<p>100 rows × 2 columns</p>\n",
       "</div>"
      ],
      "text/plain": [
       "                                     id   \n",
       "0   3229523142-ncp_1nm6ab_01-2663023129  \\\n",
       "1   3215360336-ncp_1nm6ab_01-2663023129   \n",
       "2          2016079645-juh5426-255464194   \n",
       "3   3392771744-ncp_1nm6ab_01-2663023129   \n",
       "4   4109652462-ncp_1nxoyk_01-5304757738   \n",
       "..                                  ...   \n",
       "95  3100770383-ncp_1nm6ab_01-2663023129   \n",
       "96  3148682992-ncp_1nm6ab_01-2663023129   \n",
       "97  3215317217-ncp_1nm6ab_01-2663023129   \n",
       "98  3162255841-ncp_1nm6ab_01-2663023129   \n",
       "99  3147935276-ncp_1nm6ab_01-2663023129   \n",
       "\n",
       "                                              content  \n",
       "0   말해모하나요...밤 중에서는 맛밤이 최고ㅠ<br>내년 1월 21일까지 유통기한 넉넉...  \n",
       "1   1. 48개 구매하였으나 36개 +12개로 발송됨. 발송시 이에 대한 별도 안내가 ...  \n",
       "2   포장 꼼꼼하게 잘 보내 주셨습니다 가격도 착하고 유통기한도 넉넉합니다 ~^^ *스트...  \n",
       "3   유통기한도 길고, 부서지거나 망가진 밤알도 없고 맛도 좋아요. 간식으로 구매해서 거...  \n",
       "4   백프로 <em>만족합니다</em>. <em>너무 맛있구요</em> 인터넷으로 구매하...  \n",
       "..                                                ...  \n",
       "95  생각보다 양이 많아서 좋았어요.<br>맛도 있고 유통기한도 넉넉하고~ <br>아침대...  \n",
       "96  저렴하게 잘 구매한 거 같아요. 유통기한 넉넉하지만 금세 다 먹게되니 별 상관없는 ...  \n",
       "97  저번에도 구매해서 먹었는데 재구매합니다<br>유통기한도 넉넉하고 맛있고 가성비 짱이...  \n",
       "98  맛밤은 좋은게 항상 그 맛을 유지하고있어서요. 이번에도 좋은가격에 득템한 기분입니다...  \n",
       "99  싸게 구매했어요~<br>맛잇어서 금방 다 먹을 거 같아요!<br>다 먹고 다음에 또...  \n",
       "\n",
       "[100 rows x 2 columns]"
      ]
     },
     "execution_count": 12,
     "metadata": {},
     "output_type": "execute_result"
    }
   ],
   "source": [
    "df_review[[\"id\", \"content\"]].drop_duplicates()"
   ]
  },
  {
   "cell_type": "code",
   "execution_count": 13,
   "id": "060c5595",
   "metadata": {
    "scrolled": true
   },
   "outputs": [
    {
     "data": {
      "text/plain": [
       "'말해모하나요...밤 중에서는 맛밤이 최고ㅠ내년 1월 21일까지 유통기한 넉넉하고, 칼로리(125kcal)도 이만하면 간식거리로 나쁘지 않은 듯해요~여름철엔 냉장고에 넣어 먹어도 맛'"
      ]
     },
     "execution_count": 13,
     "metadata": {},
     "output_type": "execute_result"
    }
   ],
   "source": [
    "reviews = \" \".join(df_review[\"title\"].tolist())\n",
    "reviews[:100]"
   ]
  },
  {
   "cell_type": "code",
   "execution_count": 14,
   "id": "7d29b6b2",
   "metadata": {},
   "outputs": [
    {
     "data": {
      "text/html": [
       "<div>\n",
       "<style scoped>\n",
       "    .dataframe tbody tr th:only-of-type {\n",
       "        vertical-align: middle;\n",
       "    }\n",
       "\n",
       "    .dataframe tbody tr th {\n",
       "        vertical-align: top;\n",
       "    }\n",
       "\n",
       "    .dataframe thead th {\n",
       "        text-align: right;\n",
       "    }\n",
       "</style>\n",
       "<table border=\"1\" class=\"dataframe\">\n",
       "  <thead>\n",
       "    <tr style=\"text-align: right;\">\n",
       "      <th></th>\n",
       "      <th>imageCount</th>\n",
       "      <th>qualityScore</th>\n",
       "      <th>rankScore</th>\n",
       "      <th>starScore</th>\n",
       "      <th>topicCount</th>\n",
       "      <th>videoCount</th>\n",
       "    </tr>\n",
       "  </thead>\n",
       "  <tbody>\n",
       "    <tr>\n",
       "      <th>count</th>\n",
       "      <td>100.000000</td>\n",
       "      <td>100.000000</td>\n",
       "      <td>100.000000</td>\n",
       "      <td>100.000000</td>\n",
       "      <td>100.000000</td>\n",
       "      <td>100.000000</td>\n",
       "    </tr>\n",
       "    <tr>\n",
       "      <th>mean</th>\n",
       "      <td>1.760000</td>\n",
       "      <td>0.339622</td>\n",
       "      <td>0.532422</td>\n",
       "      <td>4.770000</td>\n",
       "      <td>1.600000</td>\n",
       "      <td>0.040000</td>\n",
       "    </tr>\n",
       "    <tr>\n",
       "      <th>std</th>\n",
       "      <td>0.996154</td>\n",
       "      <td>0.319047</td>\n",
       "      <td>0.282086</td>\n",
       "      <td>0.664466</td>\n",
       "      <td>1.589104</td>\n",
       "      <td>0.196946</td>\n",
       "    </tr>\n",
       "    <tr>\n",
       "      <th>min</th>\n",
       "      <td>0.000000</td>\n",
       "      <td>0.037359</td>\n",
       "      <td>0.256499</td>\n",
       "      <td>1.000000</td>\n",
       "      <td>0.000000</td>\n",
       "      <td>0.000000</td>\n",
       "    </tr>\n",
       "    <tr>\n",
       "      <th>25%</th>\n",
       "      <td>1.000000</td>\n",
       "      <td>0.065576</td>\n",
       "      <td>0.284279</td>\n",
       "      <td>5.000000</td>\n",
       "      <td>0.000000</td>\n",
       "      <td>0.000000</td>\n",
       "    </tr>\n",
       "    <tr>\n",
       "      <th>50%</th>\n",
       "      <td>2.000000</td>\n",
       "      <td>0.067831</td>\n",
       "      <td>0.335013</td>\n",
       "      <td>5.000000</td>\n",
       "      <td>1.000000</td>\n",
       "      <td>0.000000</td>\n",
       "    </tr>\n",
       "    <tr>\n",
       "      <th>75%</th>\n",
       "      <td>2.000000</td>\n",
       "      <td>0.696874</td>\n",
       "      <td>0.815415</td>\n",
       "      <td>5.000000</td>\n",
       "      <td>2.000000</td>\n",
       "      <td>0.000000</td>\n",
       "    </tr>\n",
       "    <tr>\n",
       "      <th>max</th>\n",
       "      <td>5.000000</td>\n",
       "      <td>0.783670</td>\n",
       "      <td>1.135253</td>\n",
       "      <td>5.000000</td>\n",
       "      <td>8.000000</td>\n",
       "      <td>1.000000</td>\n",
       "    </tr>\n",
       "  </tbody>\n",
       "</table>\n",
       "</div>"
      ],
      "text/plain": [
       "       imageCount  qualityScore   rankScore   starScore  topicCount   \n",
       "count  100.000000    100.000000  100.000000  100.000000  100.000000  \\\n",
       "mean     1.760000      0.339622    0.532422    4.770000    1.600000   \n",
       "std      0.996154      0.319047    0.282086    0.664466    1.589104   \n",
       "min      0.000000      0.037359    0.256499    1.000000    0.000000   \n",
       "25%      1.000000      0.065576    0.284279    5.000000    0.000000   \n",
       "50%      2.000000      0.067831    0.335013    5.000000    1.000000   \n",
       "75%      2.000000      0.696874    0.815415    5.000000    2.000000   \n",
       "max      5.000000      0.783670    1.135253    5.000000    8.000000   \n",
       "\n",
       "       videoCount  \n",
       "count  100.000000  \n",
       "mean     0.040000  \n",
       "std      0.196946  \n",
       "min      0.000000  \n",
       "25%      0.000000  \n",
       "50%      0.000000  \n",
       "75%      0.000000  \n",
       "max      1.000000  "
      ]
     },
     "execution_count": 14,
     "metadata": {},
     "output_type": "execute_result"
    }
   ],
   "source": [
    "df_review.describe()"
   ]
  },
  {
   "cell_type": "code",
   "execution_count": 18,
   "id": "5a946815",
   "metadata": {},
   "outputs": [
    {
     "data": {
      "image/png": "[encoded data removed]",
      "text/plain": [
       "<Figure size 1200x800 with 6 Axes>"
      ]
     },
     "metadata": {},
     "output_type": "display_data"
    }
   ],
   "source": [
    "df_review.hist(figsize=(12, 8), bins=50);"
   ]
  },
  {
   "cell_type": "code",
   "execution_count": null,
   "id": "39845d78",
   "metadata": {},
   "outputs": [],
   "source": []
  }
 ],
 "metadata": {
  "kernelspec": {
   "display_name": "Python 3 (ipykernel)",
   "language": "python",
   "name": "python3"
  },
  "language_info": {
   "codemirror_mode": {
    "name": "ipython",
    "version": 3
   },
   "file_extension": ".py",
   "mimetype": "text/x-python",
   "name": "python",
   "nbconvert_exporter": "python",
   "pygments_lexer": "ipython3",
   "version": "3.10.7"
  },
  "toc": {
   "base_numbering": 1,
   "nav_menu": {},
   "number_sections": true,
   "sideBar": true,
   "skip_h1_title": false,
   "title_cell": "Table of Contents",
   "title_sidebar": "Contents",
   "toc_cell": false,
   "toc_position": {},
   "toc_section_display": true,
   "toc_window_display": false
  },
  "varInspector": {
   "cols": {
    "lenName": 16,
    "lenType": 16,
    "lenVar": 40
   },
   "kernels_config": {
    "python": {
     "delete_cmd_postfix": "",
     "delete_cmd_prefix": "del ",
     "library": "var_list.py",
     "varRefreshCmd": "print(var_dic_list())"
    },
    "r": {
     "delete_cmd_postfix": ") ",
     "delete_cmd_prefix": "rm(",
     "library": "var_list.r",
     "varRefreshCmd": "cat(var_dic_list()) "
    }
   },
   "types_to_exclude": [
    "module",
    "function",
    "builtin_function_or_method",
    "instance",
    "_Feature"
   ],
   "window_display": false
  }
 },
 "nbformat": 4,
 "nbformat_minor": 5
}
