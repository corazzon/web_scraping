{
 "cells": [
  {
   "cell_type": "code",
   "execution_count": null,
   "id": "e2f95745",
   "metadata": {},
   "outputs": [],
   "source": [
    "# !pip install html5lib\n",
    "# !pip install lxml\n",
    "# !pip install beautifulSoup4"
   ]
  },
  {
   "cell_type": "code",
   "execution_count": null,
   "id": "fc630a32",
   "metadata": {},
   "outputs": [],
   "source": [
    "import pandas as pd\n",
    "import requests\n",
    "from bs4 import BeautifulSoup as bs\n",
    "import matplotlib.pyplot as plt\n",
    "import koreanize_matplotlib"
   ]
  },
  {
   "cell_type": "code",
   "execution_count": null,
   "id": "fa977c81",
   "metadata": {
    "scrolled": true
   },
   "outputs": [],
   "source": [
    "url = \"https://search.shopping.naver.com/catalog/21098473707\"\n",
    "url = \"https://search.shopping.naver.com/api/review?isNeedAggregation=N&nvMid=21098473707&page=3&pageSize=20&sortType=QUALITY\"\n",
    "print(url)"
   ]
  },
  {
   "cell_type": "code",
   "execution_count": null,
   "id": "a73b5373",
   "metadata": {},
   "outputs": [],
   "source": [
    "def find_review_page(url, page_no):\n",
    "    headers = {\n",
    "        \"path\": \"/api/review?isNeedAggregation=N&nvMid=21098473707&page=1&pageSize=20&sortType=QUALITY\",\n",
    "        \"referer\":\"https://search.shopping.naver.com/catalog/21098473707\",\n",
    "        \"user-agent\": \"Mozilla/5.0 \",\n",
    "        \"sbth\": \"ba14d435a6a7a2ac56937a81aee1e8a21066bd2959d593905a677a93bcb123eb2f85cb0d7e74ab40d4e163c9015d1cbe\"\n",
    "    }\n",
    "    response = requests.get(url, headers=headers)\n",
    "    return response"
   ]
  },
  {
   "cell_type": "code",
   "execution_count": null,
   "id": "39cacf82",
   "metadata": {},
   "outputs": [],
   "source": [
    "res_json = response.json()\n",
    "res_json[\"totalCount\"]"
   ]
  },
  {
   "cell_type": "code",
   "execution_count": null,
   "id": "712ce18a",
   "metadata": {},
   "outputs": [],
   "source": [
    "pd.DataFrame(res_json[\"reviews\"]).shape"
   ]
  },
  {
   "cell_type": "code",
   "execution_count": null,
   "id": "a8000fbf",
   "metadata": {},
   "outputs": [],
   "source": [
    "review_list = []\n",
    "for page_no in range(1, 5):\n",
    "    response = find_review_page(url, page_no)\n",
    "    review_list.append(pd.DataFrame(response.json()[\"reviews\"]))"
   ]
  },
  {
   "cell_type": "code",
   "execution_count": null,
   "id": "813828bb",
   "metadata": {},
   "outputs": [],
   "source": [
    "df_review = pd.concat(review_list)\n",
    "df_review.shape"
   ]
  },
  {
   "cell_type": "code",
   "execution_count": null,
   "id": "7c2d7c06",
   "metadata": {},
   "outputs": [],
   "source": [
    "df_review.head(1)"
   ]
  },
  {
   "cell_type": "code",
   "execution_count": null,
   "id": "2552ab12",
   "metadata": {},
   "outputs": [],
   "source": [
    "reviews = \" \".join(df_review[\"title\"].tolist())\n",
    "reviews[:100]"
   ]
  },
  {
   "cell_type": "code",
   "execution_count": null,
   "id": "653f8f1e",
   "metadata": {},
   "outputs": [],
   "source": [
    "import networkx as nx\n",
    "from collections import Counter\n",
    "import re\n",
    "\n",
    "# 텍스트 데이터에서 단어를 추출합니다.\n",
    "text = \"Python is an interpreted, high-level, general-purpose programming language.\"\n",
    "text = reviews\n",
    "text = re.sub(\"[0-9]\", \"\", text)\n",
    "words = text.lower().split()\n",
    "\n",
    "# 각 단어의 빈도수를 계산합니다.\n",
    "word_counts = Counter(words)\n",
    "\n",
    "# 단어 간의 연결을 만듭니다.\n",
    "edges = [(w1, w2, {'weight': count}) for w1, count1 in word_counts.items() \n",
    "         for w2, count2 in word_counts.items() \n",
    "         for count in [len(set(w1) & set(w2))] if count > 0 and w1 != w2]\n",
    "\n",
    "# 네트워크 그래프를 생성합니다.\n",
    "G = nx.Graph()\n",
    "\n",
    "# 그래프에 노드와 엣지를 추가합니다.\n",
    "for word, count in word_counts.items():\n",
    "    G.add_node(word, count=count)\n",
    "for edge in edges:\n",
    "    G.add_edge(*edge[:2], **edge[2])\n",
    "\n",
    "# 그래프에서 중심성 계산을 수행합니다.\n",
    "degree_centrality = nx.degree_centrality(G)\n",
    "closeness_centrality = nx.closeness_centrality(G)\n",
    "betweenness_centrality = nx.betweenness_centrality(G)\n",
    "\n",
    "# 중심성 값을 출력합니다.\n",
    "for word in word_counts:\n",
    "    print(f\"{word}: degree centrality={degree_centrality[word]:.3f}, closeness centrality={closeness_centrality[word]:.3f}, betweenness centrality={betweenness_centrality[word]:.3f}\")\n"
   ]
  },
  {
   "cell_type": "markdown",
   "id": "4e39ecfa",
   "metadata": {},
   "source": [
    "스트 데이터를 가지고 단어 빈도수를 계산한 후, 단어 간의 연결을 만들어 NetworkX 그래프 객체를 생성합니다. 이 그래프에서 중심성 지수(degree, closeness, betweenness centrality)를 계산하고 출력합니다.\n",
    "\n",
    "위 코드에서는 단어 간의 연결을 만들기 위해 두 단어의 길이가 1 이상인 경우에만 연결을 생성합니다. 이 연결은 두 단어에 공통으로 존재하는 문자의 수로 가중치를 부여합니다. 이렇게 생성된 그래프에서 중심성 지수를 계산하면, 각 단어의 네트워크에서의 중요도를 파악할 수 있습니다.\n",
    "입력된 텍스트 데이터에서 추출한 단어 간의 연결과 중심성 지수가 출력됩니다."
   ]
  },
  {
   "cell_type": "code",
   "execution_count": null,
   "id": "ea1ae96f",
   "metadata": {
    "scrolled": false
   },
   "outputs": [],
   "source": [
    "# 그래프를 시각화합니다.\n",
    "plt.figure(figsize=(20,15))\n",
    "pos = nx.spring_layout(G, seed=42)\n",
    "nx.draw_networkx_nodes(G, pos, node_size=[count * 200 for count in word_counts.values()], node_color='lightblue')\n",
    "nx.draw_networkx_edges(G, pos, alpha=0.3)\n",
    "nx.draw_networkx_labels(G, pos, font_size=12, font_family=\"AppleGothic\")\n",
    "plt.axis('off')\n",
    "plt.show()\n"
   ]
  },
  {
   "cell_type": "code",
   "execution_count": null,
   "id": "7d29b6b2",
   "metadata": {},
   "outputs": [],
   "source": []
  }
 ],
 "metadata": {
  "kernelspec": {
   "display_name": "Python 3 (ipykernel)",
   "language": "python",
   "name": "python3"
  },
  "language_info": {
   "codemirror_mode": {
    "name": "ipython",
    "version": 3
   },
   "file_extension": ".py",
   "mimetype": "text/x-python",
   "name": "python",
   "nbconvert_exporter": "python",
   "pygments_lexer": "ipython3",
   "version": "3.10.7"
  },
  "toc": {
   "base_numbering": 1,
   "nav_menu": {},
   "number_sections": true,
   "sideBar": true,
   "skip_h1_title": false,
   "title_cell": "Table of Contents",
   "title_sidebar": "Contents",
   "toc_cell": false,
   "toc_position": {},
   "toc_section_display": true,
   "toc_window_display": false
  },
  "varInspector": {
   "cols": {
    "lenName": 16,
    "lenType": 16,
    "lenVar": 40
   },
   "kernels_config": {
    "python": {
     "delete_cmd_postfix": "",
     "delete_cmd_prefix": "del ",
     "library": "var_list.py",
     "varRefreshCmd": "print(var_dic_list())"
    },
    "r": {
     "delete_cmd_postfix": ") ",
     "delete_cmd_prefix": "rm(",
     "library": "var_list.r",
     "varRefreshCmd": "cat(var_dic_list()) "
    }
   },
   "types_to_exclude": [
    "module",
    "function",
    "builtin_function_or_method",
    "instance",
    "_Feature"
   ],
   "window_display": false
  }
 },
 "nbformat": 4,
 "nbformat_minor": 5
}
