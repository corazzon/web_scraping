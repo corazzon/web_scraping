{
 "cells": [
  {
   "cell_type": "markdown",
   "id": "42f61972",
   "metadata": {},
   "source": [
    "## 경상북도 의회 의안 목록 수집"
   ]
  },
  {
   "cell_type": "code",
   "execution_count": 39,
   "id": "107fa6bf",
   "metadata": {},
   "outputs": [],
   "source": [
    "page_no = 1\n",
    "def get_page_url(page_no):\n",
    "    url = \"http://council.gb.go.kr/kr/bill/contents\"\n",
    "    url = f\"{url}?reform=list&page={page_no}&flag=all&keyword=&search_code=&bill_sch=C001&prop_sch=A003\"\n",
    "    url = f\"{url}&proc_sch=&sdate=&edate=&pcode_sch=&acode_sch=&cl_sch=&th_sch=12&sess_sch=\"\n",
    "    url = f\"{url}&ord_sch=&cmt_sch=&mem_sch=&sess_sth=&sess_eth=\"\n",
    "    return url"
   ]
  },
  {
   "cell_type": "code",
   "execution_count": 40,
   "id": "91db67a2",
   "metadata": {},
   "outputs": [],
   "source": [
    "import pandas as pd\n",
    "import requests\n",
    "from bs4 import BeautifulSoup as bs"
   ]
  },
  {
   "cell_type": "code",
   "execution_count": 41,
   "id": "452c6d65",
   "metadata": {},
   "outputs": [
    {
     "name": "stdout",
     "output_type": "stream",
     "text": [
      "http://council.gb.go.kr/kr/bill/contents?reform=list&page=1&flag=all&keyword=&search_code=&bill_sch=C001&prop_sch=A003&proc_sch=&sdate=&edate=&pcode_sch=&acode_sch=&cl_sch=&th_sch=12&sess_sch=&ord_sch=&cmt_sch=&mem_sch=&sess_sth=&sess_eth=\n"
     ]
    }
   ],
   "source": [
    "url = get_page_url(page_no=1)\n",
    "print(url)"
   ]
  },
  {
   "cell_type": "code",
   "execution_count": 47,
   "id": "b5f916a6",
   "metadata": {},
   "outputs": [],
   "source": [
    "def find_one_page(page_no):\n",
    "    response = requests.get(get_page_url(page_no))\n",
    "    html = bs(response.text)\n",
    "    # #search_result > table > tbody > tr:nth-child(1) > td.con > a\n",
    "    a_href = [a[\"href\"] for a in html.select(\"td.con > a\")]\n",
    "    table = pd.read_html(response.text)[0]\n",
    "    table[\"내용링크\"] = a_href\n",
    "    return table"
   ]
  },
  {
   "cell_type": "code",
   "execution_count": 48,
   "id": "3e1a4970",
   "metadata": {},
   "outputs": [],
   "source": [
    "page_tables = [find_one_page(page_no) for page_no in range(1, 9)]"
   ]
  },
  {
   "cell_type": "code",
   "execution_count": 49,
   "id": "9b708ab4",
   "metadata": {},
   "outputs": [],
   "source": [
    "df = pd.concat(page_tables)"
   ]
  },
  {
   "cell_type": "code",
   "execution_count": 51,
   "id": "3d4862a1",
   "metadata": {},
   "outputs": [
    {
     "data": {
      "text/html": [
       "<div>\n",
       "<style scoped>\n",
       "    .dataframe tbody tr th:only-of-type {\n",
       "        vertical-align: middle;\n",
       "    }\n",
       "\n",
       "    .dataframe tbody tr th {\n",
       "        vertical-align: top;\n",
       "    }\n",
       "\n",
       "    .dataframe thead th {\n",
       "        text-align: right;\n",
       "    }\n",
       "</style>\n",
       "<table border=\"1\" class=\"dataframe\">\n",
       "  <thead>\n",
       "    <tr style=\"text-align: right;\">\n",
       "      <th></th>\n",
       "      <th>의안번호</th>\n",
       "      <th>의안명</th>\n",
       "      <th>제안자</th>\n",
       "      <th>소관위원회</th>\n",
       "      <th>발의일</th>\n",
       "      <th>상태</th>\n",
       "      <th>의결일</th>\n",
       "      <th>내용링크</th>\n",
       "    </tr>\n",
       "  </thead>\n",
       "  <tbody>\n",
       "  </tbody>\n",
       "</table>\n",
       "</div>"
      ],
      "text/plain": [
       "Empty DataFrame\n",
       "Columns: [의안번호, 의안명, 제안자, 소관위원회, 발의일, 상태, 의결일, 내용링크]\n",
       "Index: []"
      ]
     },
     "execution_count": 51,
     "metadata": {},
     "output_type": "execute_result"
    }
   ],
   "source": [
    "df[df.duplicated()]"
   ]
  },
  {
   "cell_type": "code",
   "execution_count": 52,
   "id": "efc0ae3b",
   "metadata": {},
   "outputs": [
    {
     "data": {
      "text/html": [
       "<div>\n",
       "<style scoped>\n",
       "    .dataframe tbody tr th:only-of-type {\n",
       "        vertical-align: middle;\n",
       "    }\n",
       "\n",
       "    .dataframe tbody tr th {\n",
       "        vertical-align: top;\n",
       "    }\n",
       "\n",
       "    .dataframe thead th {\n",
       "        text-align: right;\n",
       "    }\n",
       "</style>\n",
       "<table border=\"1\" class=\"dataframe\">\n",
       "  <thead>\n",
       "    <tr style=\"text-align: right;\">\n",
       "      <th></th>\n",
       "      <th>의안번호</th>\n",
       "      <th>의안명</th>\n",
       "      <th>제안자</th>\n",
       "      <th>소관위원회</th>\n",
       "      <th>발의일</th>\n",
       "      <th>상태</th>\n",
       "      <th>의결일</th>\n",
       "      <th>내용링크</th>\n",
       "    </tr>\n",
       "  </thead>\n",
       "  <tbody>\n",
       "    <tr>\n",
       "      <th>0</th>\n",
       "      <td>205</td>\n",
       "      <td>경상북도교육청 다자녀 학생 교육비 지원에 관한 조례 일부개정조례안</td>\n",
       "      <td>의원</td>\n",
       "      <td>교육위원회</td>\n",
       "      <td>2023-02-24</td>\n",
       "      <td>처리완료</td>\n",
       "      <td>2023-03-22</td>\n",
       "      <td>?reform=view&amp;uid=5A40BDF4228EFF81E975DF436D9F8...</td>\n",
       "    </tr>\n",
       "    <tr>\n",
       "      <th>1</th>\n",
       "      <td>204</td>\n",
       "      <td>경상북도교육청 학교폭력예방 및 대책에 관한 조례 일부개정조례안</td>\n",
       "      <td>의원</td>\n",
       "      <td>교육위원회</td>\n",
       "      <td>2023-02-24</td>\n",
       "      <td>처리완료</td>\n",
       "      <td>2023-03-22</td>\n",
       "      <td>?reform=view&amp;uid=F161A1CBE65C4C05D46123037FEE5...</td>\n",
       "    </tr>\n",
       "    <tr>\n",
       "      <th>2</th>\n",
       "      <td>203</td>\n",
       "      <td>경상북도 안전취약계층에 대한 안전 환경 지원 조례안</td>\n",
       "      <td>의원</td>\n",
       "      <td>건설소방위원회</td>\n",
       "      <td>2023-02-24</td>\n",
       "      <td>처리완료</td>\n",
       "      <td>2023-03-22</td>\n",
       "      <td>?reform=view&amp;uid=458FD0B3F12FCDC04F14B259867AC...</td>\n",
       "    </tr>\n",
       "    <tr>\n",
       "      <th>3</th>\n",
       "      <td>202</td>\n",
       "      <td>경상북도 건축 조례 일부개정조례안</td>\n",
       "      <td>의원</td>\n",
       "      <td>건설소방위원회</td>\n",
       "      <td>2023-02-24</td>\n",
       "      <td>처리완료</td>\n",
       "      <td>2023-03-22</td>\n",
       "      <td>?reform=view&amp;uid=F1775B299D48E0A3A76E2FC9E9AF5...</td>\n",
       "    </tr>\n",
       "    <tr>\n",
       "      <th>4</th>\n",
       "      <td>201</td>\n",
       "      <td>경상북도 해양폐기물 관리에 관한 조례 일부개정조례안</td>\n",
       "      <td>의원</td>\n",
       "      <td>농수산위원회</td>\n",
       "      <td>2023-02-24</td>\n",
       "      <td>처리완료</td>\n",
       "      <td>2023-03-22</td>\n",
       "      <td>?reform=view&amp;uid=C5F67C31EACB8F3F67812C49EA4F5...</td>\n",
       "    </tr>\n",
       "    <tr>\n",
       "      <th>...</th>\n",
       "      <td>...</td>\n",
       "      <td>...</td>\n",
       "      <td>...</td>\n",
       "      <td>...</td>\n",
       "      <td>...</td>\n",
       "      <td>...</td>\n",
       "      <td>...</td>\n",
       "      <td>...</td>\n",
       "    </tr>\n",
       "    <tr>\n",
       "      <th>72</th>\n",
       "      <td>32</td>\n",
       "      <td>경상북도 빈집 및 소규모주택 정비 조례 일부개정조례안</td>\n",
       "      <td>의원</td>\n",
       "      <td>건설소방위원회</td>\n",
       "      <td>2022-08-11</td>\n",
       "      <td>처리완료</td>\n",
       "      <td>2022-09-05</td>\n",
       "      <td>?reform=view&amp;uid=510B0B09EE74A11A0C09B3D69AA1C...</td>\n",
       "    </tr>\n",
       "    <tr>\n",
       "      <th>73</th>\n",
       "      <td>28</td>\n",
       "      <td>경상북도교육청 민원 처리 담당자 보호 및 지원 조례안</td>\n",
       "      <td>의원</td>\n",
       "      <td>교육위원회</td>\n",
       "      <td>2022-08-10</td>\n",
       "      <td>처리완료</td>\n",
       "      <td>2022-09-05</td>\n",
       "      <td>?reform=view&amp;uid=63F2439F78F6FB6BF6E9C67069B68...</td>\n",
       "    </tr>\n",
       "    <tr>\n",
       "      <th>74</th>\n",
       "      <td>27</td>\n",
       "      <td>경상북도교육청 주민참여 예산제 운영 조례 전부개정조례안</td>\n",
       "      <td>의원</td>\n",
       "      <td>교육위원회</td>\n",
       "      <td>2022-08-10</td>\n",
       "      <td>처리완료</td>\n",
       "      <td>2022-09-05</td>\n",
       "      <td>?reform=view&amp;uid=95D21E5EF3F707C9065E9583F20D5...</td>\n",
       "    </tr>\n",
       "    <tr>\n",
       "      <th>75</th>\n",
       "      <td>26</td>\n",
       "      <td>경상북도교육청 학업중단 예방 및 대안교육 지원 조례 일부개정조례안</td>\n",
       "      <td>의원</td>\n",
       "      <td>교육위원회</td>\n",
       "      <td>2022-08-10</td>\n",
       "      <td>처리완료</td>\n",
       "      <td>2022-09-05</td>\n",
       "      <td>?reform=view&amp;uid=EF0D0CCBE07D54808CA23B04DEEF5...</td>\n",
       "    </tr>\n",
       "    <tr>\n",
       "      <th>76</th>\n",
       "      <td>25</td>\n",
       "      <td>경상북도 스토킹범죄 예방 및 피해지원에 관한 조례안</td>\n",
       "      <td>의원</td>\n",
       "      <td>행정보건복지위원회</td>\n",
       "      <td>2022-08-10</td>\n",
       "      <td>처리완료</td>\n",
       "      <td>2022-09-05</td>\n",
       "      <td>?reform=view&amp;uid=494AB047888A7A2DB4B59E37DF0CE...</td>\n",
       "    </tr>\n",
       "  </tbody>\n",
       "</table>\n",
       "<p>77 rows × 8 columns</p>\n",
       "</div>"
      ],
      "text/plain": [
       "    의안번호                                   의안명 제안자      소관위원회         발의일  \\\n",
       "0    205  경상북도교육청 다자녀 학생 교육비 지원에 관한 조례 일부개정조례안  의원      교육위원회  2023-02-24   \n",
       "1    204    경상북도교육청 학교폭력예방 및 대책에 관한 조례 일부개정조례안  의원      교육위원회  2023-02-24   \n",
       "2    203          경상북도 안전취약계층에 대한 안전 환경 지원 조례안  의원    건설소방위원회  2023-02-24   \n",
       "3    202                    경상북도 건축 조례 일부개정조례안  의원    건설소방위원회  2023-02-24   \n",
       "4    201          경상북도 해양폐기물 관리에 관한 조례 일부개정조례안  의원     농수산위원회  2023-02-24   \n",
       "..   ...                                   ...  ..        ...         ...   \n",
       "72    32         경상북도 빈집 및 소규모주택 정비 조례 일부개정조례안  의원    건설소방위원회  2022-08-11   \n",
       "73    28         경상북도교육청 민원 처리 담당자 보호 및 지원 조례안  의원      교육위원회  2022-08-10   \n",
       "74    27        경상북도교육청 주민참여 예산제 운영 조례 전부개정조례안  의원      교육위원회  2022-08-10   \n",
       "75    26  경상북도교육청 학업중단 예방 및 대안교육 지원 조례 일부개정조례안  의원      교육위원회  2022-08-10   \n",
       "76    25          경상북도 스토킹범죄 예방 및 피해지원에 관한 조례안  의원  행정보건복지위원회  2022-08-10   \n",
       "\n",
       "      상태         의결일                                               내용링크  \n",
       "0   처리완료  2023-03-22  ?reform=view&uid=5A40BDF4228EFF81E975DF436D9F8...  \n",
       "1   처리완료  2023-03-22  ?reform=view&uid=F161A1CBE65C4C05D46123037FEE5...  \n",
       "2   처리완료  2023-03-22  ?reform=view&uid=458FD0B3F12FCDC04F14B259867AC...  \n",
       "3   처리완료  2023-03-22  ?reform=view&uid=F1775B299D48E0A3A76E2FC9E9AF5...  \n",
       "4   처리완료  2023-03-22  ?reform=view&uid=C5F67C31EACB8F3F67812C49EA4F5...  \n",
       "..   ...         ...                                                ...  \n",
       "72  처리완료  2022-09-05  ?reform=view&uid=510B0B09EE74A11A0C09B3D69AA1C...  \n",
       "73  처리완료  2022-09-05  ?reform=view&uid=63F2439F78F6FB6BF6E9C67069B68...  \n",
       "74  처리완료  2022-09-05  ?reform=view&uid=95D21E5EF3F707C9065E9583F20D5...  \n",
       "75  처리완료  2022-09-05  ?reform=view&uid=EF0D0CCBE07D54808CA23B04DEEF5...  \n",
       "76  처리완료  2022-09-05  ?reform=view&uid=494AB047888A7A2DB4B59E37DF0CE...  \n",
       "\n",
       "[77 rows x 8 columns]"
      ]
     },
     "execution_count": 52,
     "metadata": {},
     "output_type": "execute_result"
    }
   ],
   "source": [
    "file_name = \"경상북도의안.csv\"\n",
    "df.to_csv(file_name, index=False)\n",
    "pd.read_csv(file_name)"
   ]
  },
  {
   "cell_type": "code",
   "execution_count": 54,
   "id": "db1b734d",
   "metadata": {},
   "outputs": [],
   "source": [
    "content_base_url = \"http://council.gb.go.kr/kr/bill/contents\""
   ]
  },
  {
   "cell_type": "code",
   "execution_count": 99,
   "id": "ea688d48",
   "metadata": {},
   "outputs": [],
   "source": [
    "def find_content(sub_url):\n",
    "    content_base_url = \"http://council.gb.go.kr/kr/bill/contents\" \n",
    "    url = content_base_url + sub_url\n",
    "    \n",
    "    response = requests.get(url)\n",
    "    soup = bs(response.text)\n",
    "    \n",
    "    # a.bill_file.view_book.btn_bill\n",
    "    a_tags = soup.select(\"a.bill_file.view_book.btn_bill\")\n",
    "    a_result = [{a.get_text() : a[\"title\"], a.get_text()+\"URL\" : a[\"href\"]} for a in a_tags]\n",
    "\n",
    "\n",
    "    # a.bill_file.view_book.btn\n",
    "    a_view_tags = soup.select(\"a.bill_file.view_book.btn\")\n",
    "    a_view_result = [{a.get_text() : a[\"title\"]+str(i), a.get_text()+\"URL\" : a[\"href\"]} for i, a in enumerate(a_view_tags)]\n",
    "\n",
    "    return a_result, a_view_result"
   ]
  },
  {
   "cell_type": "code",
   "execution_count": 101,
   "id": "41e2f6d1",
   "metadata": {},
   "outputs": [
    {
     "name": "stdout",
     "output_type": "stream",
     "text": [
      "[{'의안원문': '205-경상북도교육청_다자녀_학생_교육비_지원에_관한_조례_일부개정조례안.hwp', '의안원문URL': '/kr/bill/download?uid=91EC2C452C29B56E73D1ABDD63D0A855&page=1&flag=all&keyword=&search_code=&bill_sch=C001&prop_sch=A003&proc_sch=&sdate=&edate=&pcode_sch=&acode_sch='}, {'심사보고서': '205_(심사보고)경상북도교육청_다자녀학생교육비지원에관한조례일부개정조례안(최종).pdf', '심사보고서URL': '/kr/bill/download?uid=9B0DABB4724A19390DC53CD38A2ECB0C&page=1&flag=all&keyword=&search_code=&bill_sch=C001&prop_sch=A003&proc_sch=&sdate=&edate=&pcode_sch=&acode_sch='}] [{'바로보기': '205-경상북도교육청_다자녀_학생_교육비_지원에_관한_조례_일부개정조례안.hwp0', '바로보기URL': '/kr/bill/viewdownload?uid=91EC2C452C29B56E73D1ABDD63D0A855&page=1&flag=all&keyword=&search_code=&bill_sch=C001&prop_sch=A003&proc_sch=&sdate=&edate=&pcode_sch=&acode_sch='}, {'바로보기': '205_(심사보고)경상북도교육청_다자녀학생교육비지원에관한조례일부개정조례안(최종).pdf1', '바로보기URL': '/kr/bill/viewdownload?uid=9B0DABB4724A19390DC53CD38A2ECB0C&page=1&flag=all&keyword=&search_code=&bill_sch=C001&prop_sch=A003&proc_sch=&sdate=&edate=&pcode_sch=&acode_sch='}]\n"
     ]
    }
   ],
   "source": [
    "a, b = find_content(sub_url=df.iloc[0, -1])\n",
    "print(a, b)"
   ]
  },
  {
   "cell_type": "code",
   "execution_count": 98,
   "id": "7a201c2f",
   "metadata": {},
   "outputs": [
    {
     "data": {
      "text/html": [
       "<div>\n",
       "<style scoped>\n",
       "    .dataframe tbody tr th:only-of-type {\n",
       "        vertical-align: middle;\n",
       "    }\n",
       "\n",
       "    .dataframe tbody tr th {\n",
       "        vertical-align: top;\n",
       "    }\n",
       "\n",
       "    .dataframe thead th {\n",
       "        text-align: right;\n",
       "    }\n",
       "</style>\n",
       "<table border=\"1\" class=\"dataframe\">\n",
       "  <thead>\n",
       "    <tr style=\"text-align: right;\">\n",
       "      <th></th>\n",
       "      <th>0</th>\n",
       "      <th>1</th>\n",
       "    </tr>\n",
       "  </thead>\n",
       "  <tbody>\n",
       "    <tr>\n",
       "      <th>0</th>\n",
       "      <td>{'의안원문': '205-경상북도교육청_다자녀_학생_교육비_지원에_관한_조례_일부개...</td>\n",
       "      <td>{'심사보고서': '205_(심사보고)경상북도교육청_다자녀학생교육비지원에관한조례일부...</td>\n",
       "    </tr>\n",
       "    <tr>\n",
       "      <th>1</th>\n",
       "      <td>{'바로보기': '205-경상북도교육청_다자녀_학생_교육비_지원에_관한_조례_일부개...</td>\n",
       "      <td>{'바로보기': '205_(심사보고)경상북도교육청_다자녀학생교육비지원에관한조례일부개...</td>\n",
       "    </tr>\n",
       "  </tbody>\n",
       "</table>\n",
       "</div>"
      ],
      "text/plain": [
       "                                                   0  \\\n",
       "0  {'의안원문': '205-경상북도교육청_다자녀_학생_교육비_지원에_관한_조례_일부개...   \n",
       "1  {'바로보기': '205-경상북도교육청_다자녀_학생_교육비_지원에_관한_조례_일부개...   \n",
       "\n",
       "                                                   1  \n",
       "0  {'심사보고서': '205_(심사보고)경상북도교육청_다자녀학생교육비지원에관한조례일부...  \n",
       "1  {'바로보기': '205_(심사보고)경상북도교육청_다자녀학생교육비지원에관한조례일부개...  "
      ]
     },
     "execution_count": 98,
     "metadata": {},
     "output_type": "execute_result"
    }
   ],
   "source": [
    "pd.DataFrame(cont)"
   ]
  },
  {
   "cell_type": "code",
   "execution_count": 61,
   "id": "243441ab",
   "metadata": {},
   "outputs": [],
   "source": [
    "response = requests.get(url)\n",
    "soup = bs(response.text)"
   ]
  },
  {
   "cell_type": "code",
   "execution_count": 91,
   "id": "547fd9c3",
   "metadata": {},
   "outputs": [
    {
     "data": {
      "text/plain": [
       "[{'의안원문': '205-경상북도교육청_다자녀_학생_교육비_지원에_관한_조례_일부개정조례안.hwp',\n",
       "  '의안원문URL': '/kr/bill/download?uid=91EC2C452C29B56E73D1ABDD63D0A855&page=1&flag=all&keyword=&search_code=&bill_sch=C001&prop_sch=A003&proc_sch=&sdate=&edate=&pcode_sch=&acode_sch='},\n",
       " {'심사보고서': '205_(심사보고)경상북도교육청_다자녀학생교육비지원에관한조례일부개정조례안(최종).pdf',\n",
       "  '심사보고서URL': '/kr/bill/download?uid=9B0DABB4724A19390DC53CD38A2ECB0C&page=1&flag=all&keyword=&search_code=&bill_sch=C001&prop_sch=A003&proc_sch=&sdate=&edate=&pcode_sch=&acode_sch='}]"
      ]
     },
     "execution_count": 91,
     "metadata": {},
     "output_type": "execute_result"
    }
   ],
   "source": [
    "# #sub_board > div > table:nth-child(4) > tbody > tr > td:nth-child(5) > ul > li > a.bill_file.view_book.btn_bill\n",
    "a_tags = soup.select(\"a.bill_file.view_book.btn_bill\")\n",
    "result = [{a.get_text() : a[\"title\"], a.get_text()+\"URL\" : a[\"href\"]} for a in a_tags]\n",
    "\n",
    "result\n",
    "# a_tags[0][\"href\"], a_tags[0][\"title\"]"
   ]
  },
  {
   "cell_type": "code",
   "execution_count": 86,
   "id": "03e47e8d",
   "metadata": {},
   "outputs": [
    {
     "data": {
      "text/plain": [
       "'의안원문'"
      ]
     },
     "execution_count": 86,
     "metadata": {},
     "output_type": "execute_result"
    }
   ],
   "source": [
    "a_tags[0].get_text()"
   ]
  },
  {
   "cell_type": "code",
   "execution_count": 83,
   "id": "d1b8fbac",
   "metadata": {},
   "outputs": [
    {
     "data": {
      "text/plain": [
       "'205-경상북도교육청_다자녀_학생_교육비_지원에_관한_조례_일부개정조례안.hwp'"
      ]
     },
     "execution_count": 83,
     "metadata": {},
     "output_type": "execute_result"
    }
   ],
   "source": [
    "a_tags[0][\"title\"]"
   ]
  },
  {
   "cell_type": "code",
   "execution_count": 66,
   "id": "58e2c1c8",
   "metadata": {},
   "outputs": [
    {
     "data": {
      "text/plain": [
       "[<a class=\"bill_file view_book btn\" href=\"/kr/bill/viewdownload?uid=91EC2C452C29B56E73D1ABDD63D0A855&amp;page=1&amp;flag=all&amp;keyword=&amp;search_code=&amp;bill_sch=C001&amp;prop_sch=A003&amp;proc_sch=&amp;sdate=&amp;edate=&amp;pcode_sch=&amp;acode_sch=\" target=\"_blank\" title=\"205-경상북도교육청_다자녀_학생_교육비_지원에_관한_조례_일부개정조례안.hwp\"><span>바로</span>보기</a>,\n",
       " <a class=\"bill_file view_book btn\" href=\"/kr/bill/viewdownload?uid=9B0DABB4724A19390DC53CD38A2ECB0C&amp;page=1&amp;flag=all&amp;keyword=&amp;search_code=&amp;bill_sch=C001&amp;prop_sch=A003&amp;proc_sch=&amp;sdate=&amp;edate=&amp;pcode_sch=&amp;acode_sch=\" target=\"_blank\" title=\"205_(심사보고)경상북도교육청_다자녀학생교육비지원에관한조례일부개정조례안(최종).pdf\"><span>바로</span>보기</a>]"
      ]
     },
     "execution_count": 66,
     "metadata": {},
     "output_type": "execute_result"
    }
   ],
   "source": [
    "#sub_board > div > table:nth-child(4) > tbody > tr > td:nth-child(5) > ul > li > a.bill_file.view_book.btn\n",
    "a_view_tags = soup.select(\"a.bill_file.view_book.btn\")\n",
    "a_view_tags"
   ]
  },
  {
   "cell_type": "code",
   "execution_count": null,
   "id": "3f57f6fb",
   "metadata": {},
   "outputs": [],
   "source": []
  }
 ],
 "metadata": {
  "kernelspec": {
   "display_name": "Python 3 (ipykernel)",
   "language": "python",
   "name": "python3"
  },
  "language_info": {
   "codemirror_mode": {
    "name": "ipython",
    "version": 3
   },
   "file_extension": ".py",
   "mimetype": "text/x-python",
   "name": "python",
   "nbconvert_exporter": "python",
   "pygments_lexer": "ipython3",
   "version": "3.10.7"
  },
  "toc": {
   "base_numbering": 1,
   "nav_menu": {},
   "number_sections": true,
   "sideBar": true,
   "skip_h1_title": false,
   "title_cell": "Table of Contents",
   "title_sidebar": "Contents",
   "toc_cell": false,
   "toc_position": {},
   "toc_section_display": true,
   "toc_window_display": false
  },
  "varInspector": {
   "cols": {
    "lenName": 16,
    "lenType": 16,
    "lenVar": 40
   },
   "kernels_config": {
    "python": {
     "delete_cmd_postfix": "",
     "delete_cmd_prefix": "del ",
     "library": "var_list.py",
     "varRefreshCmd": "print(var_dic_list())"
    },
    "r": {
     "delete_cmd_postfix": ") ",
     "delete_cmd_prefix": "rm(",
     "library": "var_list.r",
     "varRefreshCmd": "cat(var_dic_list()) "
    }
   },
   "types_to_exclude": [
    "module",
    "function",
    "builtin_function_or_method",
    "instance",
    "_Feature"
   ],
   "window_display": false
  }
 },
 "nbformat": 4,
 "nbformat_minor": 5
}
