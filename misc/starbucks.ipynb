{
 "cells": [
  {
   "cell_type": "markdown",
   "metadata": {},
   "source": [
    "## 스타벅스 매장정보 \n",
    "https://www.starbucks.co.kr/store/store_map.do"
   ]
  },
  {
   "cell_type": "code",
   "execution_count": null,
   "metadata": {},
   "outputs": [],
   "source": [
    "import requests\n",
    "import json\n",
    "import pandas as pd\n",
    "import numpy as np\n",
    "import time\n",
    "\n",
    "def get_sido_list():\n",
    "    url = \"https://www.starbucks.co.kr/store/getSidoList.do\"\n",
    "    response = requests.post(url)\n",
    "    data = json.loads(response.text)\n",
    "    return {item['sido_cd']: item['sido_nm'] for item in data['list'] if item['sido_cd'] and item['sido_nm']}\n",
    "\n",
    "def get_stores(sido_cd):\n",
    "    url = \"https://www.starbucks.co.kr/store/getStore.do\"\n",
    "    payload = {\n",
    "        \"r\": \"PWQMWVRA5Y\",\n",
    "        \"in_biz_cds\": \"0\",\n",
    "        \"in_scodes\": \"0\",\n",
    "        \"ins_lat\": \"37.56682\",\n",
    "        \"ins_lng\": \"126.97865\",\n",
    "        \"search_text\": \"\",\n",
    "        \"p_sido_cd\": sido_cd,\n",
    "        \"p_gugun_cd\": \"\",\n",
    "        \"isError\": \"true\",\n",
    "        \"in_distance\": \"0\",\n",
    "        \"in_biz_cd\": \"\",\n",
    "        \"iend\": \"1000\",\n",
    "        \"searchType\": \"C\",\n",
    "        \"set_date\": \"\",\n",
    "        \"rndCod\": \"AKITO9STMQ\",\n",
    "        \"all_store\": \"0\"\n",
    "    }\n",
    "    response = requests.post(url, data=payload)\n",
    "    return json.loads(response.text)['list']"
   ]
  },
  {
   "cell_type": "code",
   "execution_count": null,
   "metadata": {},
   "outputs": [],
   "source": [
    "sido_list = get_sido_list()"
   ]
  },
  {
   "cell_type": "code",
   "execution_count": null,
   "metadata": {},
   "outputs": [],
   "source": [
    "all_stores = []  # 모든 매장 데이터를 저장할 리스트\n",
    "\n",
    "for sido_cd, sido_nm in sido_list.items():\n",
    "    print(f\"Collecting stores in {sido_nm}...\")\n",
    "    stores = get_stores(sido_cd)\n",
    "    print(f\"수집된 매장 수: {len(stores)}\")\n",
    "    all_stores.extend(stores)  # 리스트에 매장 데이터 추가\n",
    "    time.sleep(1)  # 서버 부하를 줄이기 위한 대기 시간"
   ]
  },
  {
   "cell_type": "code",
   "execution_count": null,
   "metadata": {},
   "outputs": [],
   "source": [
    "# DataFrame 생성 및 전처리\n",
    "df = pd.DataFrame(all_stores)\n",
    "# df = df.replace([0, \"\"], np.nan).dropna(axis=1, how=\"all\")\n",
    "df = df[[\"sido_name\",\"gugun_name\",\"s_name\",\"addr\",\"lat\",\"lot\"]]\n",
    "df"
   ]
  },
  {
   "cell_type": "code",
   "execution_count": null,
   "metadata": {},
   "outputs": [],
   "source": [
    "df.info()"
   ]
  },
  {
   "cell_type": "code",
   "execution_count": null,
   "metadata": {},
   "outputs": [],
   "source": [
    "# CSV 파일 저장\n",
    "df.to_csv('starbucks_stores.csv', index=False)\n",
    "print(\"\\nCSV 파일 저장 완료: starbucks_stores.csv\")\n",
    "\n",
    "# 데이터 확인\n",
    "print(f\"\\n총 매장 수: {len(df)}\")\n",
    "print(f\"\\n지역별 매장 수:\\n{df['sido_name'].value_counts()}\")"
   ]
  },
  {
   "cell_type": "code",
   "execution_count": null,
   "metadata": {},
   "outputs": [],
   "source": []
  }
 ],
 "metadata": {
  "kernelspec": {
   "display_name": "Python 3 (ipykernel)",
   "language": "python",
   "name": "python3"
  },
  "language_info": {
   "codemirror_mode": {
    "name": "ipython",
    "version": 3
   },
   "file_extension": ".py",
   "mimetype": "text/x-python",
   "name": "python",
   "nbconvert_exporter": "python",
   "pygments_lexer": "ipython3",
   "version": "3.11.4"
  },
  "toc": {
   "base_numbering": 1,
   "nav_menu": {},
   "number_sections": true,
   "sideBar": true,
   "skip_h1_title": false,
   "title_cell": "Table of Contents",
   "title_sidebar": "Contents",
   "toc_cell": false,
   "toc_position": {},
   "toc_section_display": true,
   "toc_window_display": false
  },
  "varInspector": {
   "cols": {
    "lenName": 16,
    "lenType": 16,
    "lenVar": 40
   },
   "kernels_config": {
    "python": {
     "delete_cmd_postfix": "",
     "delete_cmd_prefix": "del ",
     "library": "var_list.py",
     "varRefreshCmd": "print(var_dic_list())"
    },
    "r": {
     "delete_cmd_postfix": ") ",
     "delete_cmd_prefix": "rm(",
     "library": "var_list.r",
     "varRefreshCmd": "cat(var_dic_list()) "
    }
   },
   "types_to_exclude": [
    "module",
    "function",
    "builtin_function_or_method",
    "instance",
    "_Feature"
   ],
   "window_display": false
  }
 },
 "nbformat": 4,
 "nbformat_minor": 4
}
