{
 "cells": [
  {
   "cell_type": "code",
   "execution_count": null,
   "id": "3ca690db-6388-4c2b-9882-2c6614b0f5af",
   "metadata": {},
   "outputs": [],
   "source": [
    "import requests\n",
    "from bs4 import BeautifulSoup\n",
    "import sqlite3\n",
    "import pandas as pd\n",
    "import re\n",
    "\n",
    "# SQLite 데이터베이스 연결\n",
    "conn = sqlite3.connect('nene_chicken.db')\n",
    "cursor = conn.cursor()\n",
    "\n",
    "# 테이블 생성\n",
    "cursor.execute('''\n",
    "CREATE TABLE IF NOT EXISTS stores (\n",
    "    name TEXT,\n",
    "    address TEXT,\n",
    "    phone TEXT\n",
    ")\n",
    "''')\n",
    "\n",
    "# 데이터 수집 및 저장 함수\n",
    "def scrape_and_save(page):\n",
    "    url = f\"https://nenechicken.com/17_new/sub_shop01.asp?page={page}&ex_select=1&ex_select2=&IndexSword=&GUBUN=A\"\n",
    "    response = requests.get(url)\n",
    "    soup = BeautifulSoup(response.text, 'html.parser')\n",
    "    \n",
    "    store_divs = soup.find_all('div', class_='shopLine')\n",
    "    \n",
    "    for store in store_divs:\n",
    "        name = store.find('div', class_='shopName').text.strip()\n",
    "        partial_address = store.find('div', class_='shopAdd').text.strip()\n",
    "        phone = store.find('span', class_='tooltiptext').text.strip()\n",
    "        \n",
    "        # 전체 주소 추출\n",
    "        map_link = store.find('div', class_='shopMap').find('a')['href']\n",
    "        full_address = re.search(r\"codeAddress\\('(.+?)'\\);\", map_link).group(1)\n",
    "        \n",
    "        # 데이터베이스에 저장\n",
    "        cursor.execute('INSERT INTO stores (name, address, phone) VALUES (?, ?, ?)',\n",
    "                       (name, full_address, phone))\n",
    "    \n",
    "    conn.commit()\n",
    "\n",
    "# 모든 페이지 스크래핑 (예: 1부터 82페이지까지)\n",
    "for page in range(1, 83):\n",
    "    scrape_and_save(page)\n",
    "\n",
    "# 데이터베이스 연결 종료\n",
    "conn.close()\n",
    "\n",
    "# pandas DataFrame으로 데이터 확인\n",
    "conn = sqlite3.connect('nene_chicken.db')\n",
    "df = pd.read_sql_query(\"SELECT * FROM stores\", conn)\n",
    "print(df.head())\n",
    "conn.close()"
   ]
  },
  {
   "cell_type": "code",
   "execution_count": null,
   "id": "d0b909c8-035d-474c-b572-b3cd31199506",
   "metadata": {},
   "outputs": [],
   "source": [
    "df"
   ]
  },
  {
   "cell_type": "code",
   "execution_count": null,
   "id": "cb4483bf-9ff9-4040-9cff-9fd06be0f896",
   "metadata": {},
   "outputs": [],
   "source": []
  }
 ],
 "metadata": {
  "kernelspec": {
   "display_name": "Python 3 (ipykernel)",
   "language": "python",
   "name": "python3"
  },
  "language_info": {
   "codemirror_mode": {
    "name": "ipython",
    "version": 3
   },
   "file_extension": ".py",
   "mimetype": "text/x-python",
   "name": "python",
   "nbconvert_exporter": "python",
   "pygments_lexer": "ipython3",
   "version": "3.11.4"
  }
 },
 "nbformat": 4,
 "nbformat_minor": 5
}
