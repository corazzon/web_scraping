{
 "cells": [
  {
   "cell_type": "markdown",
   "id": "668b6e45-b128-4c71-b91e-769ca52d8005",
   "metadata": {},
   "source": [
    "* https://platform.openai.com/usage\n",
    "\n",
    "* [PyCon US 2024 - YouTube](https://www.youtube.com/playlist?list=PL2Uw4_HvXqvYhjub9bw4uDAmNtprgAvlJ)"
   ]
  },
  {
   "cell_type": "code",
   "execution_count": null,
   "id": "7e6b3b84-1e16-44a5-bb03-89a44ec18ff6",
   "metadata": {},
   "outputs": [],
   "source": [
    "# !pip install -Uq pytube"
   ]
  },
  {
   "cell_type": "code",
   "execution_count": null,
   "id": "4bae2362-bc6c-4d98-979e-025eaa345623",
   "metadata": {},
   "outputs": [],
   "source": [
    "import sqlite3\n",
    "import pandas as pd\n",
    "import logging\n",
    "from openai import OpenAI\n",
    "import os\n",
    "from tqdm import tqdm\n",
    "\n",
    "# OpenAI API 키 설정\n",
    "client = OpenAI(api_key=os.getenv(\"OPENAI_API_KEY\"))\n",
    "\n",
    "# 로깅 설정\n",
    "logging.basicConfig(level=logging.INFO, format='%(asctime)s - %(levelname)s - %(message)s')\n",
    "\n",
    "# 데이터베이스 연결\n",
    "conn = sqlite3.connect('youtube_playlist.db')\n",
    "cursor = conn.cursor()\n",
    "\n",
    "# 새로운 컬럼 추가 함수\n",
    "def add_column_if_not_exists(table_name, column_name, column_type):\n",
    "    cursor.execute(f\"PRAGMA table_info({table_name})\")\n",
    "    columns = [column[1] for column in cursor.fetchall()]\n",
    "    if column_name not in columns:\n",
    "        cursor.execute(f\"ALTER TABLE {table_name} ADD COLUMN {column_name} {column_type}\")\n",
    "\n",
    "# 새로운 컬럼 추가\n",
    "add_column_if_not_exists('videos', 'subtitle_length', 'INTEGER')\n",
    "add_column_if_not_exists('videos', 'improved_subtitles', 'TEXT')\n",
    "add_column_if_not_exists('videos', 'korean_subtitles', 'TEXT')\n",
    "add_column_if_not_exists('videos', 'korean_subtitle_length', 'INTEGER')\n",
    "\n",
    "# 자막 길이 계산 및 업데이트 함수\n",
    "def update_subtitle_length():\n",
    "    cursor.execute('UPDATE videos SET subtitle_length = LENGTH(subtitles) WHERE subtitle_length IS NULL')\n",
    "    conn.commit()\n",
    "\n",
    "# OpenAI API를 사용한 자막 개선 및 번역 함수\n",
    "def improve_and_translate(text):\n",
    "    try:\n",
    "        response = client.chat.completions.create(\n",
    "            model=\"gpt-4o-mini\",\n",
    "            messages=[\n",
    "                {\"role\": \"system\", \"content\": \"You are a helpful assistant that improves English text and translates it to Korean.\"},\n",
    "                {\"role\": \"user\", \"content\": f\"Improve the following English text and then translate it to Korean: {text}\"}\n",
    "            ]\n",
    "        )\n",
    "        result = response.choices[0].message.content.split('\\n\\n')\n",
    "        improved = result[0].replace(\"Improved English: \", \"\")\n",
    "        translated = result[1].replace(\"Korean translation: \", \"\")\n",
    "        return improved, translated\n",
    "    except Exception as e:\n",
    "        logging.error(f\"Error in API call: {str(e)}\")\n",
    "        return None, None\n",
    "\n",
    "# 자막 개선 및 번역 실행\n",
    "def process_subtitles():\n",
    "    cursor.execute('SELECT id, subtitles FROM videos WHERE improved_subtitles IS NULL OR korean_subtitles IS NULL')\n",
    "    rows = cursor.fetchall()\n",
    "    \n",
    "    for row in tqdm(rows, desc=\"Processing subtitles\"):\n",
    "        id, subtitles = row\n",
    "        improved, translated = improve_and_translate(subtitles)\n",
    "        if improved and translated:\n",
    "            cursor.execute('''\n",
    "                UPDATE videos \n",
    "                SET improved_subtitles = ?, \n",
    "                    korean_subtitles = ?, \n",
    "                    korean_subtitle_length = LENGTH(?)\n",
    "                WHERE id = ?\n",
    "            ''', (improved, translated, translated, id))\n",
    "            conn.commit()\n",
    "\n",
    "# 메인 실행\n",
    "if __name__ == \"__main__\":\n",
    "    update_subtitle_length()\n",
    "    logging.info(\"Subtitle lengths updated.\")\n",
    "    \n",
    "    process_subtitles()\n",
    "    logging.info(\"Subtitles improved and translated.\")\n",
    "    \n",
    "    # 결과 확인\n",
    "    df = pd.read_sql_query(\"SELECT * FROM videos\", conn)\n",
    "    print(df)\n",
    "\n",
    "    conn.close()"
   ]
  },
  {
   "cell_type": "code",
   "execution_count": null,
   "id": "58cb311a-570a-4a5e-9032-36b031639697",
   "metadata": {},
   "outputs": [],
   "source": [
    "# 데이터베이스 연결\n",
    "conn = sqlite3.connect('youtube_playlist.db')\n",
    "cursor = conn.cursor()\n",
    "\n",
    "df = pd.read_sql_query(\"SELECT * FROM videos\", conn)\n",
    "conn.close()\n",
    "df"
   ]
  },
  {
   "cell_type": "code",
   "execution_count": null,
   "id": "e5297f37-d09d-42d4-829f-57a28de35f11",
   "metadata": {},
   "outputs": [],
   "source": [
    "df.iloc[-5][\"subtitles\"][:300]"
   ]
  },
  {
   "cell_type": "code",
   "execution_count": null,
   "id": "fb850a7b-0107-46e9-9620-64ba34950da7",
   "metadata": {},
   "outputs": [],
   "source": [
    "df.iloc[-5]"
   ]
  },
  {
   "cell_type": "code",
   "execution_count": null,
   "id": "3fcf4ea3-6b21-4d22-acfb-00688175654a",
   "metadata": {},
   "outputs": [],
   "source": [
    "df[df[\"korean_subtitles\"].notnull()].iloc[-1]"
   ]
  },
  {
   "cell_type": "code",
   "execution_count": null,
   "id": "207b1758-62ab-4959-9da3-ffc0b4543d14",
   "metadata": {},
   "outputs": [],
   "source": [
    "df.loc[7, \"korean_subtitles\"]"
   ]
  },
  {
   "cell_type": "code",
   "execution_count": null,
   "id": "3ede7eb3-9e51-4829-93e0-f36195bf9212",
   "metadata": {},
   "outputs": [],
   "source": []
  }
 ],
 "metadata": {
  "kernelspec": {
   "display_name": "Python 3 (ipykernel)",
   "language": "python",
   "name": "python3"
  },
  "language_info": {
   "codemirror_mode": {
    "name": "ipython",
    "version": 3
   },
   "file_extension": ".py",
   "mimetype": "text/x-python",
   "name": "python",
   "nbconvert_exporter": "python",
   "pygments_lexer": "ipython3",
   "version": "3.11.4"
  }
 },
 "nbformat": 4,
 "nbformat_minor": 5
}
