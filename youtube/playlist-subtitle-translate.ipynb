{
 "cells": [
  {
   "cell_type": "markdown",
   "id": "668b6e45-b128-4c71-b91e-769ca52d8005",
   "metadata": {},
   "source": [
    "* 모델 목록 : https://platform.openai.com/docs/models\n",
    "* 플레이그라운드에서 미리 사용해 보기 :\n",
    "    * https://platform.openai.com/playground/chat?models=gpt-4o-mini \n",
    "    * https://platform.openai.com/playground/chat?models=gpt-4o\n",
    "* API 키 발급 : https://platform.openai.com/api-keys\n",
    "* 과금 확인 : https://platform.openai.com/usage\n",
    "\n",
    "* [PyCon US 2024 - YouTube](https://www.youtube.com/playlist?list=PL2Uw4_HvXqvYhjub9bw4uDAmNtprgAvlJ)"
   ]
  },
  {
   "cell_type": "code",
   "execution_count": null,
   "id": "7e6b3b84-1e16-44a5-bb03-89a44ec18ff6",
   "metadata": {},
   "outputs": [],
   "source": [
    "# !pip install -Uq pytube"
   ]
  },
  {
   "cell_type": "code",
   "execution_count": null,
   "id": "6ea5d119-affe-4912-902c-3afd9d088194",
   "metadata": {},
   "outputs": [],
   "source": [
    "import sqlite3\n",
    "import pandas as pd\n",
    "import matplotlib.pyplot as plt\n",
    "import logging\n",
    "from openai import OpenAI\n",
    "import os\n",
    "from tqdm import tqdm\n",
    "import time"
   ]
  },
  {
   "cell_type": "code",
   "execution_count": null,
   "id": "4bae2362-bc6c-4d98-979e-025eaa345623",
   "metadata": {},
   "outputs": [],
   "source": [
    "# OpenAI API 키 설정\n",
    "client = OpenAI(api_key=os.getenv(\"OPENAI_API_KEY\"))\n",
    "\n",
    "# 로깅 설정\n",
    "logging.basicConfig(level=logging.INFO, format='%(asctime)s - %(levelname)s - %(message)s')\n",
    "\n",
    "# 데이터베이스 연결\n",
    "conn = sqlite3.connect('youtube_playlist.db')\n",
    "cursor = conn.cursor()\n",
    "\n",
    "# 새로운 컬럼 추가 함수\n",
    "def add_column_if_not_exists(table_name, column_name, column_type):\n",
    "    cursor.execute(f\"PRAGMA table_info({table_name})\")\n",
    "    columns = [column[1] for column in cursor.fetchall()]\n",
    "    if column_name not in columns:\n",
    "        cursor.execute(f\"ALTER TABLE {table_name} ADD COLUMN {column_name} {column_type}\")\n",
    "\n",
    "# 새로운 컬럼 추가\n",
    "add_column_if_not_exists('videos', 'subtitle_length', 'INTEGER')\n",
    "add_column_if_not_exists('videos', 'improved_subtitles', 'TEXT')\n",
    "add_column_if_not_exists('videos', 'korean_subtitles', 'TEXT')\n",
    "add_column_if_not_exists('videos', 'korean_subtitle_length', 'INTEGER')\n",
    "\n",
    "# 자막 길이 계산 및 업데이트 함수\n",
    "def update_subtitle_length():\n",
    "    cursor.execute('UPDATE videos SET subtitle_length = LENGTH(subtitles) WHERE subtitle_length IS NULL')\n",
    "    conn.commit()\n",
    "\n",
    "# 텍스트 청크 분할 함수\n",
    "def chunk_text(text, max_length=1000):\n",
    "    return [text[i:i+max_length] for i in range(0, len(text), max_length)]\n",
    "\n",
    "# OpenAI API를 사용한 자막 개선 및 번역 함수\n",
    "def improve_and_translate(text):\n",
    "    chunks = chunk_text(text)\n",
    "    improved_chunks = []\n",
    "    translated_chunks = []\n",
    "\n",
    "    for chunk in chunks:\n",
    "        try:\n",
    "            response = client.chat.completions.create(\n",
    "                model=\"gpt-4o-mini\",\n",
    "                messages=[\n",
    "                    {\"role\": \"system\", \"content\": \"Improve the English text and translate it to Korean.\"},\n",
    "                    {\"role\": \"user\", \"content\": f\"Improve and translate: {chunk}\"}\n",
    "                ]\n",
    "            )\n",
    "            result = response.choices[0].message.content.split('\\n\\n')\n",
    "            improved_chunks.append(result[0].replace(\"Improved English: \", \"\"))\n",
    "            translated_chunks.append(result[1].replace(\"Korean translation: \", \"\"))\n",
    "            time.sleep(1)  # API 요청 간 딜레이 추가\n",
    "        except Exception as e:\n",
    "            logging.error(f\"Error in API call: {str(e)}\")\n",
    "            return None, None\n",
    "\n",
    "    return \" \".join(improved_chunks), \" \".join(translated_chunks)\n",
    "\n",
    "# 자막 개선 및 번역 실행\n",
    "def process_subtitles():\n",
    "    cursor.execute('SELECT id, subtitles FROM videos WHERE improved_subtitles IS NULL OR korean_subtitles IS NULL')\n",
    "    rows = cursor.fetchall()\n",
    "    \n",
    "    for row in tqdm(rows, desc=\"Processing subtitles\"):\n",
    "        id, subtitles = row\n",
    "        improved, translated = improve_and_translate(subtitles)\n",
    "        if improved and translated:\n",
    "            cursor.execute('''\n",
    "                UPDATE videos \n",
    "                SET improved_subtitles = ?, \n",
    "                    korean_subtitles = ?, \n",
    "                    korean_subtitle_length = LENGTH(?)\n",
    "                WHERE id = ?\n",
    "            ''', (improved, translated, translated, id))\n",
    "            conn.commit()\n",
    "\n",
    "# 메인 실행\n",
    "if __name__ == \"__main__\":\n",
    "    update_subtitle_length()\n",
    "    logging.info(\"Subtitle lengths updated.\")\n",
    "    \n",
    "    process_subtitles()\n",
    "    logging.info(\"Subtitles improved and translated.\")\n",
    "    \n",
    "    # 결과 확인\n",
    "    df = pd.read_sql_query(\"SELECT * FROM videos\", conn)\n",
    "    print(df)\n",
    "\n",
    "    conn.close()"
   ]
  },
  {
   "cell_type": "code",
   "execution_count": null,
   "id": "58cb311a-570a-4a5e-9032-36b031639697",
   "metadata": {},
   "outputs": [],
   "source": [
    "# 데이터베이스 연결\n",
    "conn = sqlite3.connect('youtube_playlist.db')\n",
    "cursor = conn.cursor()\n",
    "\n",
    "df = pd.read_sql_query(\"SELECT * FROM videos\", conn)\n",
    "conn.close()\n",
    "df"
   ]
  },
  {
   "cell_type": "code",
   "execution_count": null,
   "id": "e617f794-522d-42b9-9d7d-d4e5330f6b6a",
   "metadata": {},
   "outputs": [],
   "source": [
    "df.info()"
   ]
  },
  {
   "cell_type": "code",
   "execution_count": null,
   "id": "27866473-3185-473d-ac1b-c1fabb31ef44",
   "metadata": {},
   "outputs": [],
   "source": [
    "from sklearn.feature_extraction.text import TfidfVectorizer\n",
    "import matplotlib.pyplot as plt\n",
    "import seaborn as sns\n",
    "import re\n",
    "\n",
    "# 시분초 형식 [00:00:00] 제거 함수\n",
    "def remove_timestamps(text):\n",
    "    return re.sub(r'\\[\\d{2}:\\d{2}:\\d{2}\\]', '', text)\n",
    "    \n",
    "# title과 subtitles 결합\n",
    "df['text'] = df['title'] + ' ' + df['subtitles']\n",
    "df['text'] = df['text'].map(remove_timestamps)\n",
    "\n",
    "# TF-IDF 벡터화\n",
    "vectorizer = TfidfVectorizer(stop_words='english', max_features=50)\n",
    "tfidf_matrix = vectorizer.fit_transform(df['text'])\n",
    "\n",
    "# 단어와 TF-IDF 점수를 데이터프레임으로 변환\n",
    "tfidf_df = pd.DataFrame(tfidf_matrix.toarray(), columns=vectorizer.get_feature_names_out())\n",
    "\n",
    "# 평균 TF-IDF 점수 계산\n",
    "mean_tfidf = tfidf_df.mean().sort_values(ascending=False)\n",
    "\n",
    "# 시각화\n",
    "plt.figure(figsize=(12, 4))\n",
    "sns.barplot(x=mean_tfidf.index, y=mean_tfidf.values)\n",
    "plt.title('Top Keywords by TF-IDF Score')\n",
    "plt.xlabel('Keywords')\n",
    "plt.ylabel('Average TF-IDF Score')\n",
    "plt.xticks(rotation=45, ha='right')\n",
    "plt.tight_layout()\n",
    "plt.show()\n",
    "\n",
    "# 상위 키워드와 점수 출력\n",
    "mean_tfidf.head(50)"
   ]
  },
  {
   "cell_type": "code",
   "execution_count": null,
   "id": "26518cfa-46ed-41ca-9a85-8a43717d5c2c",
   "metadata": {},
   "outputs": [],
   "source": [
    "from sklearn.cluster import KMeans\n",
    "\n",
    "# K-means 군집화\n",
    "num_clusters = 3  # 원하는 군집 수 지정\n",
    "kmeans = KMeans(n_clusters=num_clusters, random_state=42)\n",
    "cluster_labels = kmeans.fit_predict(tfidf_matrix)\n",
    "\n",
    "# 군집별 키워드 빈도 계산 함수\n",
    "def get_top_keywords(cluster_id, n=30):\n",
    "    cluster_docs = tfidf_matrix[cluster_labels == cluster_id]\n",
    "    cluster_words = vectorizer.inverse_transform(cluster_docs)\n",
    "    words = [word for doc in cluster_words for word in doc]\n",
    "    word_freq = pd.Series(words).value_counts().nlargest(n)\n",
    "    return word_freq.to_dict()\n",
    "\n",
    "# 각 군집별 상위 키워드 추출\n",
    "cluster_keywords = {i: get_top_keywords(i) for i in range(num_clusters)}\n",
    "\n",
    "# 데이터프레임 생성\n",
    "df_keywords = pd.DataFrame(cluster_keywords).fillna(0)\n",
    "df_keywords = df_keywords.sort_values(by=df_keywords.columns.tolist(), ascending=False)\n",
    "\n",
    "# 막대 그래프 시각화\n",
    "plt.figure(figsize=(20, 5))\n",
    "df_keywords.plot(kind='bar', stacked=True)\n",
    "plt.title('Top Keywords by Cluster')\n",
    "plt.xlabel('Keywords')\n",
    "plt.ylabel('Frequency')\n",
    "plt.legend(title='Cluster', bbox_to_anchor=(1.05, 1), loc='upper left')\n",
    "plt.tight_layout()\n",
    "plt.show()\n",
    "\n",
    "# 각 군집의 키워드 출력\n",
    "for cluster, keywords in cluster_keywords.items():\n",
    "    print(f\"Cluster {cluster}:\")\n",
    "    for word, freq in keywords.items():\n",
    "        print(f\"  {word}: {freq}\")\n",
    "    print()"
   ]
  },
  {
   "cell_type": "code",
   "execution_count": null,
   "id": "e5297f37-d09d-42d4-829f-57a28de35f11",
   "metadata": {},
   "outputs": [],
   "source": [
    "df.iloc[-5][\"subtitles\"][:300]"
   ]
  },
  {
   "cell_type": "code",
   "execution_count": null,
   "id": "fb850a7b-0107-46e9-9620-64ba34950da7",
   "metadata": {},
   "outputs": [],
   "source": [
    "df.iloc[-5]"
   ]
  },
  {
   "cell_type": "code",
   "execution_count": null,
   "id": "3fcf4ea3-6b21-4d22-acfb-00688175654a",
   "metadata": {},
   "outputs": [],
   "source": [
    "df[df[\"korean_subtitles\"].notnull()].iloc[-1]"
   ]
  },
  {
   "cell_type": "code",
   "execution_count": null,
   "id": "207b1758-62ab-4959-9da3-ffc0b4543d14",
   "metadata": {},
   "outputs": [],
   "source": [
    "df[df[\"korean_subtitle_length\"] > 20]"
   ]
  },
  {
   "cell_type": "code",
   "execution_count": null,
   "id": "3ede7eb3-9e51-4829-93e0-f36195bf9212",
   "metadata": {},
   "outputs": [],
   "source": [
    "df[\"subtitle_length\"].hist();"
   ]
  },
  {
   "cell_type": "code",
   "execution_count": null,
   "id": "482115c9-958d-4e1e-9e41-0153b6ab56e9",
   "metadata": {},
   "outputs": [],
   "source": [
    "df.nlargest(10, \"subtitle_length\")"
   ]
  },
  {
   "cell_type": "code",
   "execution_count": null,
   "id": "497f6af2-f3fb-4dab-a0ca-8373f8934fc3",
   "metadata": {},
   "outputs": [],
   "source": []
  },
  {
   "cell_type": "code",
   "execution_count": null,
   "id": "5c624063-233f-40d3-90e1-106973a70d6e",
   "metadata": {},
   "outputs": [],
   "source": []
  }
 ],
 "metadata": {
  "kernelspec": {
   "display_name": "Python 3 (ipykernel)",
   "language": "python",
   "name": "python3"
  },
  "language_info": {
   "codemirror_mode": {
    "name": "ipython",
    "version": 3
   },
   "file_extension": ".py",
   "mimetype": "text/x-python",
   "name": "python",
   "nbconvert_exporter": "python",
   "pygments_lexer": "ipython3",
   "version": "3.11.4"
  }
 },
 "nbformat": 4,
 "nbformat_minor": 5
}
