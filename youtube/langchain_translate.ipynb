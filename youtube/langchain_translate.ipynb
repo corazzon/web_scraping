{
 "cells": [
  {
   "cell_type": "markdown",
   "id": "65289027-b36d-4576-b5ec-151d5d788176",
   "metadata": {},
   "source": [
    "[Introduction | 🦜️🔗 LangChain](https://python.langchain.com/v0.2/docs/introduction/)"
   ]
  },
  {
   "cell_type": "code",
   "execution_count": null,
   "id": "0bd86a0a-3252-4b58-8d3f-77c476ed8356",
   "metadata": {},
   "outputs": [],
   "source": [
    "# !pip install -Uq langchain chromadb"
   ]
  },
  {
   "cell_type": "code",
   "execution_count": null,
   "id": "54c38ad6-8f3d-4575-b476-4e2f93209da7",
   "metadata": {},
   "outputs": [],
   "source": [
    "import os\n",
    "from langchain.vectorstores import Chroma\n",
    "from langchain.embeddings.openai import OpenAIEmbeddings\n",
    "from langchain.chat_models import ChatOpenAI\n",
    "from langchain.prompts import ChatPromptTemplate\n",
    "from langchain.text_splitter import RecursiveCharacterTextSplitter\n",
    "from langchain.chains import LLMChain\n",
    "from langchain.document_loaders import TextLoader\n",
    "from langchain.docstore.document import Document\n",
    "\n",
    "# OpenAI API 키 설정\n",
    "os.environ[\"OPENAI_API_KEY\"] = os.getenv(\"OPENAI_API_KEY\")"
   ]
  },
  {
   "cell_type": "code",
   "execution_count": null,
   "id": "7e3b5337-f2ab-46a8-a85e-b2a90381e1bc",
   "metadata": {},
   "outputs": [],
   "source": [
    "# 첫 번째 텍스트 파일 찾기 함수\n",
    "def get_first_txt_file(directory='.'):\n",
    "    txt_files = [f for f in os.listdir(directory) if f.endswith('yp6WuHFhYCo_subtitle.txt')]\n",
    "    txt_files.sort()  # 파일명 알파벳 순으로 정렬\n",
    "    return txt_files[0] if txt_files else None\n",
    "\n",
    "# 벡터 스토어 생성 함수\n",
    "def create_vector_store():\n",
    "    embeddings = OpenAIEmbeddings()\n",
    "    return Chroma(\"langchain_store\", embeddings)\n",
    "\n",
    "# LangChain 기반 번역 함수\n",
    "def translate_text(text):\n",
    "    llm = ChatOpenAI(model_name=\"gpt-4o-mini\", temperature=0)\n",
    "    prompt = ChatPromptTemplate.from_template(\n",
    "        \"You are a translator. Translate the following text from English to Korean: {text}\"\n",
    "    )\n",
    "    chain = LLMChain(llm=llm, prompt=prompt)\n",
    "    return chain.run(text=text)\n",
    "\n",
    "# 번역 결과 파일로 저장\n",
    "def save_translations_to_file(vector_store, output_file=\"langchain_translations.txt\"):\n",
    "    with open(output_file, \"w\", encoding=\"utf-8\") as f:\n",
    "        results = vector_store.similarity_search(\"\", k=len(vector_store.get()))\n",
    "        for doc in results:\n",
    "            f.write(f\"Original: {doc.page_content}\\n\")\n",
    "            f.write(f\"Translation: {doc.metadata['translation']}\\n\")\n",
    "            f.write(\"---\\n\")\n",
    "    print(f\"번역 결과가 {output_file}에 저장되었습니다.\")\n",
    "\n",
    "# 번역 결과 검색 함수\n",
    "def search_translations(vector_store, query, k=5):\n",
    "    results = vector_store.similarity_search(query, k=k)\n",
    "    print(f\"'{query}'와 유사한 상위 {k}개 번역 결과:\")\n",
    "    for i, doc in enumerate(results, 1):\n",
    "        print(f\"{i}. Original: {doc.page_content}\")\n",
    "        print(f\"   Translation: {doc.metadata['translation']}\")\n",
    "        print(\"---\")\n",
    "\n",
    "# 번역 통계 확인\n",
    "def get_translation_statistics(vector_store):\n",
    "    results = vector_store.similarity_search(\"\", k=len(vector_store.get()))\n",
    "    total_chars_original = sum(len(doc.page_content) for doc in results)\n",
    "    total_chars_translated = sum(len(doc.metadata['translation']) for doc in results)\n",
    "    avg_chars_original = total_chars_original / len(results)\n",
    "    avg_chars_translated = total_chars_translated / len(results)\n",
    "    \n",
    "    print(f\"총 번역된 청크 수: {len(results)}\")\n",
    "    print(f\"원본 총 문자 수: {total_chars_original}\")\n",
    "    print(f\"번역 총 문자 수: {total_chars_translated}\")\n",
    "    print(f\"원본 평균 문자 수: {avg_chars_original:.2f}\")\n",
    "    print(f\"번역 평균 문자 수: {avg_chars_translated:.2f}\")\n",
    "\n",
    "# 메인 함수\n",
    "def main():\n",
    "    first_txt_file = get_first_txt_file()\n",
    "    if not first_txt_file:\n",
    "        print(\"No .txt files found in the current directory.\")\n",
    "        return\n",
    "\n",
    "    # 텍스트 파일 로드\n",
    "    loader = TextLoader(first_txt_file, encoding='utf-8')\n",
    "    documents = loader.load()\n",
    "    \n",
    "    # LangChain의 RecursiveCharacterTextSplitter 사용\n",
    "    text_splitter = RecursiveCharacterTextSplitter(\n",
    "        chunk_size=1000, chunk_overlap=0\n",
    "    )\n",
    "    chunks = text_splitter.split_documents(documents)\n",
    "    \n",
    "    print(f\"파일 '{first_txt_file}'에서 총 {len(chunks)}개의 청크가 생성되었습니다.\")\n",
    "\n",
    "    # 벡터 스토어 생성\n",
    "    vector_store = create_vector_store()\n",
    "\n",
    "    print(\"번역을 시작합니다...\")\n",
    "    for i, chunk in enumerate(chunks):\n",
    "        translated = translate_text(chunk.page_content)\n",
    "        doc = Document(page_content=chunk.page_content, metadata={\"translation\": translated})\n",
    "        vector_store.add_documents([doc])\n",
    "        print(f\"청크 {i+1}/{len(chunks)} 번역 완료\")\n",
    "\n",
    "    print(\"번역이 완료되었습니다.\")\n",
    "\n",
    "    # 결과 출력 (예시로 처음 5개 문서)\n",
    "    results = vector_store.similarity_search(\"\", k=5)\n",
    "    for doc in results:\n",
    "        print(f\"Original: {doc.page_content}\")\n",
    "        print(f\"Translation: {doc.metadata['translation']}\")\n",
    "        print(\"---\")\n",
    "\n",
    "if __name__ == \"__main__\":\n",
    "    main()"
   ]
  },
  {
   "cell_type": "code",
   "execution_count": null,
   "id": "b68564a8-08d8-4d2d-970a-ff76c9816dd9",
   "metadata": {},
   "outputs": [],
   "source": [
    "vector_store = create_vector_store()\n",
    "\n",
    "# 번역 결과 파일로 저장\n",
    "save_translations_to_file(vector_store)\n",
    "\n",
    "# 특정 쿼리로 유사한 번역 검색\n",
    "search_translations(vector_store, \"PSF\", k=3)\n",
    "\n",
    "# 번역 통계 출력\n",
    "get_translation_statistics(vector_store)"
   ]
  },
  {
   "cell_type": "code",
   "execution_count": null,
   "id": "a2c9b07d-e306-41fe-87ea-f3325d4e83c5",
   "metadata": {},
   "outputs": [],
   "source": [
    "results = vector_store.similarity_search(\"Python\", k=len(vector_store.get()))"
   ]
  },
  {
   "cell_type": "code",
   "execution_count": null,
   "id": "c9baf2ca-e6f2-4267-b890-eb0302094292",
   "metadata": {},
   "outputs": [],
   "source": [
    "results"
   ]
  },
  {
   "cell_type": "code",
   "execution_count": null,
   "id": "2aa08c31-2b2e-493b-88fa-a7b7f3941f69",
   "metadata": {},
   "outputs": [],
   "source": []
  }
 ],
 "metadata": {
  "kernelspec": {
   "display_name": "Python 3 (ipykernel)",
   "language": "python",
   "name": "python3"
  },
  "language_info": {
   "codemirror_mode": {
    "name": "ipython",
    "version": 3
   },
   "file_extension": ".py",
   "mimetype": "text/x-python",
   "name": "python",
   "nbconvert_exporter": "python",
   "pygments_lexer": "ipython3",
   "version": "3.11.4"
  }
 },
 "nbformat": 4,
 "nbformat_minor": 5
}
