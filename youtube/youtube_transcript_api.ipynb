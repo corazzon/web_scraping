{
 "cells": [
  {
   "cell_type": "markdown",
   "id": "8439a3be-64ad-4c03-bc48-f965e9e75310",
   "metadata": {},
   "source": [
    "[jdepoix/youtube-transcript-api: This is a python API which allows you to get the transcript/subtitles for a given YouTube video. It also works for automatically generated subtitles and it does not require an API key nor a headless browser, like other selenium based solutions do!](https://github.com/jdepoix/youtube-transcript-api/)"
   ]
  },
  {
   "cell_type": "code",
   "execution_count": null,
   "id": "67a5fd80-8f54-4e18-bce6-97134a435c34",
   "metadata": {},
   "outputs": [],
   "source": [
    "# !pip install -Uq youtube_transcript_api"
   ]
  },
  {
   "cell_type": "code",
   "execution_count": null,
   "id": "06bfefa8-75a7-4870-82b9-270a3fab6554",
   "metadata": {},
   "outputs": [],
   "source": [
    "from youtube_transcript_api import YouTubeTranscriptApi\n",
    "\n",
    "# YouTube 동영상 ID 설정\n",
    "video_id = \"\"\n",
    "\n",
    "try:\n",
    "    # 자막 가져오기\n",
    "    transcript = YouTubeTranscriptApi.get_transcript(video_id, languages=['ko'])\n",
    "    \n",
    "    # 자막을 텍스트 파일로 저장\n",
    "    with open(f\"{video_id}_subtitle.txt\", \"w\", encoding=\"utf-8\") as file:\n",
    "        for entry in transcript:\n",
    "            file.write(entry['text'] + \"\\n\")\n",
    "    \n",
    "    print(f\"자막이 성공적으로 {video_id}_subtitle.txt 파일로 저장되었습니다.\")\n",
    "\n",
    "except Exception as e:\n",
    "    print(f\"자막을 가져오거나 저장하는 중 오류가 발생했습니다: {str(e)}\")"
   ]
  },
  {
   "cell_type": "code",
   "execution_count": null,
   "id": "0e5744f6-fe23-4496-ba1f-8ff323485e30",
   "metadata": {},
   "outputs": [],
   "source": [
    "def format_time(seconds):\n",
    "    hours = int(seconds // 3600)\n",
    "    minutes = int((seconds % 3600) // 60)\n",
    "    seconds = int(seconds % 60)\n",
    "    return f\"{hours:02d}:{minutes:02d}:{seconds:02d}\"\n",
    "\n",
    "try:\n",
    "    # 자막 가져오기\n",
    "    transcript = YouTubeTranscriptApi.get_transcript(video_id, languages=['ko'])\n",
    "    \n",
    "    # 자막을 타임코드와 함께 텍스트 파일로 저장\n",
    "    with open(f\"{video_id}_subtitle_with_timecode.txt\", \"w\", encoding=\"utf-8\") as file:\n",
    "        for entry in transcript:\n",
    "            start_time = format_time(entry['start'])\n",
    "            text = entry['text']\n",
    "            file.write(f\"[{start_time}] {text}\\n\")\n",
    "    \n",
    "    print(f\"자막이 성공적으로 {video_id}_subtitle_with_timecode.txt 파일로 저장되었습니다.\")\n",
    "\n",
    "except Exception as e:\n",
    "    print(f\"자막을 가져오거나 저장하는 중 오류가 발생했습니다: {str(e)}\")"
   ]
  },
  {
   "cell_type": "code",
   "execution_count": null,
   "id": "ab070293-8f2b-404f-96ff-716bdf8ea00c",
   "metadata": {},
   "outputs": [],
   "source": []
  }
 ],
 "metadata": {
  "kernelspec": {
   "display_name": "Python 3 (ipykernel)",
   "language": "python",
   "name": "python3"
  },
  "language_info": {
   "codemirror_mode": {
    "name": "ipython",
    "version": 3
   },
   "file_extension": ".py",
   "mimetype": "text/x-python",
   "name": "python",
   "nbconvert_exporter": "python",
   "pygments_lexer": "ipython3",
   "version": "3.11.4"
  }
 },
 "nbformat": 4,
 "nbformat_minor": 5
}
