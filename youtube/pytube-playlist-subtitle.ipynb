{
 "cells": [
  {
   "cell_type": "markdown",
   "id": "668b6e45-b128-4c71-b91e-769ca52d8005",
   "metadata": {},
   "source": [
    "[PyCon US 2024 - YouTube](https://www.youtube.com/playlist?list=PL2Uw4_HvXqvYhjub9bw4uDAmNtprgAvlJ)"
   ]
  },
  {
   "cell_type": "code",
   "execution_count": null,
   "id": "7e6b3b84-1e16-44a5-bb03-89a44ec18ff6",
   "metadata": {},
   "outputs": [],
   "source": [
    "!pip install -Uq pytube"
   ]
  },
  {
   "cell_type": "code",
   "execution_count": null,
   "id": "4bae2362-bc6c-4d98-979e-025eaa345623",
   "metadata": {
    "scrolled": true
   },
   "outputs": [],
   "source": [
    "import sqlite3  # sqlite3 라이브러리 임포트 (Python 내장 라이브러리)\n",
    "from pytube import Playlist  # pytube 라이브러리에서 Playlist 클래스 임포트\n",
    "from pytube import YouTube  # YouTube 동영상 제목 가져오기 위해 추가\n",
    "from youtube_transcript_api import YouTubeTranscriptApi  # YouTubeTranscriptApi 라이브러리 임포트\n",
    "import pandas as pd  # 판다스 라이브러리 임포트\n",
    "import logging  # logging 라이브러리 임포트\n",
    "\n",
    "# 로그 설정\n",
    "logging.basicConfig(\n",
    "    level=logging.INFO,  # 로그 레벨 설정\n",
    "    format='%(asctime)s - %(levelname)s - %(message)s',  # 로그 형식 설정\n",
    "    handlers=[\n",
    "        logging.FileHandler(\"subtitle_collection.log\", encoding='utf-8'),  # 파일에 로그 저장\n",
    "        logging.StreamHandler()  # 콘솔에 로그 출력\n",
    "    ]\n",
    ")\n",
    "\n",
    "# 사용할 YouTube 재생목록 URL (사용자가 제공한 URL)\n",
    "playlist_url = \"https://www.youtube.com/watch?v=OH3C5a2uAWA&list=PL2Uw4_HvXqvYhjub9bw4uDAmNtprgAvlJ\"\n",
    "\n",
    "# 자막 형식을 HH:MM:SS로 변환하는 함수\n",
    "def format_time(seconds):\n",
    "    hours = int(seconds // 3600)\n",
    "    minutes = int((seconds % 3600) // 60)\n",
    "    seconds = int(seconds % 60)\n",
    "    return f\"{hours:02d}:{minutes:02d}:{seconds:02d}\"\n",
    "\n",
    "# 1단계: YouTube 재생목록에서 모든 URL 가져오기\n",
    "playlist = Playlist(playlist_url)  # Playlist 객체 생성\n",
    "video_urls = [video_url for video_url in playlist.video_urls]  # 재생목록의 모든 동영상 URL 수집\n",
    "\n",
    "# 2단계: SQLite 데이터베이스 연결\n",
    "conn = sqlite3.connect('youtube_playlist.db')  # youtube_playlist.db 파일로 SQLite 데이터베이스 연결 (파일이 없으면 새로 생성)\n",
    "cursor = conn.cursor()  # 데이터베이스 작업을 위한 커서 객체 생성\n",
    "\n",
    "# 3단계: URL, 제목, 자막을 저장할 테이블 생성\n",
    "cursor.execute('''\n",
    "CREATE TABLE IF NOT EXISTS videos (\n",
    "    id INTEGER PRIMARY KEY AUTOINCREMENT,  -- 고유 ID를 위한 자동 증가 정수형 필드\n",
    "    url TEXT NOT NULL UNIQUE,  -- URL을 저장할 텍스트 필드 (고유해야 함)\n",
    "    title TEXT,  -- 동영상 제목을 저장할 텍스트 필드\n",
    "    subtitles TEXT  -- 자막을 저장할 텍스트 필드\n",
    ")\n",
    "''')\n",
    "\n",
    "# 4단계: 테이블에 동영상 URL, 제목과 자막 삽입 또는 자막이 없는 경우만 수집\n",
    "for url in video_urls:\n",
    "    video_id = url.split(\"v=\")[-1].split(\"&\")[0]  # URL에서 video_id 추출\n",
    "    \n",
    "    # 자막이 이미 있는지 확인\n",
    "    cursor.execute('SELECT subtitles FROM videos WHERE url = ?', (url,))\n",
    "    result = cursor.fetchone()\n",
    "    \n",
    "    if result and result[0] is not None:  # 자막이 이미 있는 경우 스킵\n",
    "        logging.info(f\"동영상 {video_id}의 자막이 이미 존재합니다. 스킵합니다.\")\n",
    "        continue\n",
    "    \n",
    "    try:\n",
    "        # 동영상 제목 가져오기\n",
    "        yt = YouTube(url)\n",
    "        title = yt.title\n",
    "        \n",
    "        # 자막 가져오기 (기본 언어)\n",
    "        transcript = YouTubeTranscriptApi.get_transcript(video_id)  # 기본 언어의 자막 가져오기\n",
    "        \n",
    "        # 자막을 포맷팅하여 하나의 문자열로 합치기\n",
    "        subtitles = \"\\n\".join([f\"[{format_time(entry['start'])}] {entry['text']}\" for entry in transcript])\n",
    "        logging.info(f\"동영상 {video_id}의 제목과 자막을 성공적으로 가져왔습니다.\")\n",
    "    except Exception as e:\n",
    "        logging.error(f\"동영상 {video_id}의 자막을 가져오는 중 오류가 발생했습니다: {str(e)}\")\n",
    "        title = yt.title if 'yt' in locals() else \"제목 없음\"  # 제목을 가져오지 못했을 경우 기본 값 설정\n",
    "        subtitles = \"자막 없음\"  # 자막을 가져오지 못했을 경우 기본 값 설정\n",
    "    \n",
    "    # URL, 제목, 자막을 데이터베이스에 삽입 또는 업데이트\n",
    "    cursor.execute('INSERT INTO videos (url, title, subtitles) VALUES (?, ?, ?) ON CONFLICT(url) DO UPDATE SET title = ?, subtitles = ?',\n",
    "                   (url, title, subtitles, title, subtitles))\n",
    "\n",
    "# 변경 사항 저장 및 데이터베이스 연결 종료\n",
    "conn.commit()  # 데이터베이스에 변경 사항 커밋 (저장)\n",
    "logging.info(\"동영상 URL, 제목, 자막이 'youtube_playlist.db' 데이터베이스에 저장되었습니다.\")\n",
    "\n",
    "# 5단계: 데이터베이스에서 저장된 URL, 제목과 자막 확인\n",
    "logging.info(\"저장된 동영상 URL, 제목, 자막을 출력합니다:\")\n",
    "cursor.execute('SELECT url, title, subtitles FROM videos')\n",
    "rows = cursor.fetchall()\n",
    "\n",
    "for row in rows:\n",
    "    logging.info(f\"URL: {row[0]}\")\n",
    "    logging.info(f\"제목: {row[1]}\")\n",
    "    # logging.info(f\"자막:\\n{row[2]}\\n{'-' * 80}\\n\")\n",
    "\n",
    "# 6단계: 데이터베이스에서 전체 데이터를 읽어와 판다스 데이터프레임으로 변환 및 출력\n",
    "df = pd.read_sql_query(\"SELECT * FROM videos\", conn)  # SQLite 쿼리 결과를 데이터프레임으로 변환\n",
    "print(df)\n",
    "\n",
    "# 데이터베이스 연결 종료\n",
    "conn.close()\n"
   ]
  },
  {
   "cell_type": "code",
   "execution_count": null,
   "id": "58cb311a-570a-4a5e-9032-36b031639697",
   "metadata": {},
   "outputs": [],
   "source": [
    "df"
   ]
  },
  {
   "cell_type": "code",
   "execution_count": null,
   "id": "e5297f37-d09d-42d4-829f-57a28de35f11",
   "metadata": {},
   "outputs": [],
   "source": [
    "df.iloc[-5][\"subtitles\"][:300]"
   ]
  },
  {
   "cell_type": "code",
   "execution_count": null,
   "id": "fb850a7b-0107-46e9-9620-64ba34950da7",
   "metadata": {},
   "outputs": [],
   "source": []
  }
 ],
 "metadata": {
  "kernelspec": {
   "display_name": "Python 3 (ipykernel)",
   "language": "python",
   "name": "python3"
  },
  "language_info": {
   "codemirror_mode": {
    "name": "ipython",
    "version": 3
   },
   "file_extension": ".py",
   "mimetype": "text/x-python",
   "name": "python",
   "nbconvert_exporter": "python",
   "pygments_lexer": "ipython3",
   "version": "3.11.4"
  }
 },
 "nbformat": 4,
 "nbformat_minor": 5
}
