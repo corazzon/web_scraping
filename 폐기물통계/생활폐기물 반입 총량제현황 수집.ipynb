{
 "cells": [
  {
   "cell_type": "markdown",
   "metadata": {},
   "source": [
    "## 수도권매립지관리공사\n",
    "[생활폐기물 반입 총량제현황](https://dream-ics.slc.or.kr/cp/st/st0006/cpst0006/viewList.do#;)"
   ]
  },
  {
   "cell_type": "code",
   "execution_count": 1,
   "metadata": {},
   "outputs": [],
   "source": [
    "import pandas as pd\n",
    "import requests"
   ]
  },
  {
   "cell_type": "code",
   "execution_count": 2,
   "metadata": {},
   "outputs": [],
   "source": [
    "# url = \"https://dream-ics.slc.or.kr/cp/st/st0006/cpst0006/viewList.do\"\n",
    "\n",
    "base_url = \"https://dream-ics.slc.or.kr/cp/st/st0006/cpst0006/selectListView.do\""
   ]
  },
  {
   "cell_type": "code",
   "execution_count": 3,
   "metadata": {},
   "outputs": [],
   "source": [
    "params = \"sDate=2020-10&eDate=2020-10&arGrpCd=\""
   ]
  },
  {
   "cell_type": "code",
   "execution_count": 4,
   "metadata": {},
   "outputs": [],
   "source": [
    "url = f\"{base_url}?{params}\""
   ]
  },
  {
   "cell_type": "code",
   "execution_count": 5,
   "metadata": {},
   "outputs": [],
   "source": [
    "response = requests.post(url)"
   ]
  },
  {
   "cell_type": "code",
   "execution_count": 6,
   "metadata": {},
   "outputs": [],
   "source": [
    "response_json = response.json()"
   ]
  },
  {
   "cell_type": "code",
   "execution_count": 7,
   "metadata": {},
   "outputs": [
    {
     "data": {
      "text/plain": [
       "[{'RATE': 1.8,\n",
       "  'ORD': 1,\n",
       "  'WT_1001': 11616,\n",
       "  'WT_1002': 0,\n",
       "  'AR_GRP_CD': None,\n",
       "  'AR_NM': None,\n",
       "  'ASGN_QY': 634359,\n",
       "  'AR_CD': 'totalsum'},\n",
       " {'RATE': 2.5,\n",
       "  'ORD': 2,\n",
       "  'WT_1001': 6792,\n",
       "  'WT_1002': 0,\n",
       "  'AR_GRP_CD': '01',\n",
       "  'AR_NM': None,\n",
       "  'ASGN_QY': 275598,\n",
       "  'AR_CD': '000'}]"
      ]
     },
     "execution_count": 7,
     "metadata": {},
     "output_type": "execute_result"
    }
   ],
   "source": [
    "data_list = response_json[\"list\"]\n",
    "data_list[:2]"
   ]
  },
  {
   "cell_type": "code",
   "execution_count": 8,
   "metadata": {},
   "outputs": [],
   "source": [
    "df = pd.DataFrame(data_list)"
   ]
  },
  {
   "cell_type": "code",
   "execution_count": 9,
   "metadata": {},
   "outputs": [],
   "source": [
    "def get_year_month(year, month):\n",
    "    base_url = \"https://dream-ics.slc.or.kr/cp/st/st0006/cpst0006/selectListView.do\"\n",
    "    if month < 10:\n",
    "        month = f\"0{month}\"\n",
    "    params = f\"sDate={year}-{month}&eDate={year}-{month}&arGrpCd=\"\n",
    "    url = f\"{base_url}?{params}\"\n",
    "    response = requests.post(url)\n",
    "    response_json = response.json()\n",
    "    data_list = response_json[\"list\"]\n",
    "    df = pd.DataFrame(data_list)\n",
    "    df[\"연\"] = year\n",
    "    df[\"월\"] = month\n",
    "    return df"
   ]
  },
  {
   "cell_type": "code",
   "execution_count": 10,
   "metadata": {},
   "outputs": [],
   "source": [
    "# get_year_month(2012, 2)"
   ]
  },
  {
   "cell_type": "code",
   "execution_count": 11,
   "metadata": {},
   "outputs": [
    {
     "name": "stderr",
     "output_type": "stream",
     "text": [
      "100%|██████████| 17/17 [18:03<00:00, 63.76s/it]\n"
     ]
    }
   ],
   "source": [
    "from tqdm import trange\n",
    "import time\n",
    "\n",
    "temp_list = []\n",
    "for year in trange(2004, 2021):\n",
    "    for month in range(1, 13):\n",
    "        temp = get_year_month(year, month)\n",
    "        temp_list.append(temp)\n",
    "        time.sleep(1)"
   ]
  },
  {
   "cell_type": "code",
   "execution_count": 12,
   "metadata": {},
   "outputs": [],
   "source": [
    "df = pd.concat(temp_list)"
   ]
  },
  {
   "cell_type": "code",
   "execution_count": 13,
   "metadata": {},
   "outputs": [],
   "source": [
    "df.to_csv(\"city_garbage_2004_2020.csv\", index=False)"
   ]
  },
  {
   "cell_type": "code",
   "execution_count": 14,
   "metadata": {},
   "outputs": [
    {
     "data": {
      "text/html": [
       "<div>\n",
       "<style scoped>\n",
       "    .dataframe tbody tr th:only-of-type {\n",
       "        vertical-align: middle;\n",
       "    }\n",
       "\n",
       "    .dataframe tbody tr th {\n",
       "        vertical-align: top;\n",
       "    }\n",
       "\n",
       "    .dataframe thead th {\n",
       "        text-align: right;\n",
       "    }\n",
       "</style>\n",
       "<table border=\"1\" class=\"dataframe\">\n",
       "  <thead>\n",
       "    <tr style=\"text-align: right;\">\n",
       "      <th></th>\n",
       "      <th>RATE</th>\n",
       "      <th>ORD</th>\n",
       "      <th>WT_1001</th>\n",
       "      <th>WT_1002</th>\n",
       "      <th>AR_GRP_CD</th>\n",
       "      <th>AR_NM</th>\n",
       "      <th>ASGN_QY</th>\n",
       "      <th>AR_CD</th>\n",
       "      <th>연</th>\n",
       "      <th>월</th>\n",
       "    </tr>\n",
       "  </thead>\n",
       "  <tbody>\n",
       "    <tr>\n",
       "      <th>0</th>\n",
       "      <td>0.0</td>\n",
       "      <td>1</td>\n",
       "      <td>168519</td>\n",
       "      <td>244</td>\n",
       "      <td>NaN</td>\n",
       "      <td>NaN</td>\n",
       "      <td>0</td>\n",
       "      <td>totalsum</td>\n",
       "      <td>2004</td>\n",
       "      <td>1</td>\n",
       "    </tr>\n",
       "    <tr>\n",
       "      <th>1</th>\n",
       "      <td>0.0</td>\n",
       "      <td>2</td>\n",
       "      <td>125079</td>\n",
       "      <td>85</td>\n",
       "      <td>1.0</td>\n",
       "      <td>NaN</td>\n",
       "      <td>0</td>\n",
       "      <td>000</td>\n",
       "      <td>2004</td>\n",
       "      <td>1</td>\n",
       "    </tr>\n",
       "    <tr>\n",
       "      <th>2</th>\n",
       "      <td>0.0</td>\n",
       "      <td>2</td>\n",
       "      <td>6518</td>\n",
       "      <td>0</td>\n",
       "      <td>1.0</td>\n",
       "      <td>서울시종로구</td>\n",
       "      <td>0</td>\n",
       "      <td>100</td>\n",
       "      <td>2004</td>\n",
       "      <td>1</td>\n",
       "    </tr>\n",
       "    <tr>\n",
       "      <th>3</th>\n",
       "      <td>0.0</td>\n",
       "      <td>2</td>\n",
       "      <td>6658</td>\n",
       "      <td>0</td>\n",
       "      <td>1.0</td>\n",
       "      <td>서울시중구</td>\n",
       "      <td>0</td>\n",
       "      <td>102</td>\n",
       "      <td>2004</td>\n",
       "      <td>1</td>\n",
       "    </tr>\n",
       "    <tr>\n",
       "      <th>4</th>\n",
       "      <td>0.0</td>\n",
       "      <td>2</td>\n",
       "      <td>4868</td>\n",
       "      <td>0</td>\n",
       "      <td>1.0</td>\n",
       "      <td>서울시용산구</td>\n",
       "      <td>0</td>\n",
       "      <td>104</td>\n",
       "      <td>2004</td>\n",
       "      <td>1</td>\n",
       "    </tr>\n",
       "    <tr>\n",
       "      <th>...</th>\n",
       "      <td>...</td>\n",
       "      <td>...</td>\n",
       "      <td>...</td>\n",
       "      <td>...</td>\n",
       "      <td>...</td>\n",
       "      <td>...</td>\n",
       "      <td>...</td>\n",
       "      <td>...</td>\n",
       "      <td>...</td>\n",
       "      <td>...</td>\n",
       "    </tr>\n",
       "    <tr>\n",
       "      <th>19090</th>\n",
       "      <td>0.0</td>\n",
       "      <td>2</td>\n",
       "      <td>0</td>\n",
       "      <td>0</td>\n",
       "      <td>4.0</td>\n",
       "      <td>경기도안성시</td>\n",
       "      <td>1350</td>\n",
       "      <td>472</td>\n",
       "      <td>2020</td>\n",
       "      <td>12</td>\n",
       "    </tr>\n",
       "    <tr>\n",
       "      <th>19091</th>\n",
       "      <td>0.0</td>\n",
       "      <td>2</td>\n",
       "      <td>0</td>\n",
       "      <td>0</td>\n",
       "      <td>4.0</td>\n",
       "      <td>경기도가평군</td>\n",
       "      <td>2700</td>\n",
       "      <td>473</td>\n",
       "      <td>2020</td>\n",
       "      <td>12</td>\n",
       "    </tr>\n",
       "    <tr>\n",
       "      <th>19092</th>\n",
       "      <td>0.0</td>\n",
       "      <td>2</td>\n",
       "      <td>0</td>\n",
       "      <td>0</td>\n",
       "      <td>4.0</td>\n",
       "      <td>경기도용인시</td>\n",
       "      <td>648</td>\n",
       "      <td>474</td>\n",
       "      <td>2020</td>\n",
       "      <td>12</td>\n",
       "    </tr>\n",
       "    <tr>\n",
       "      <th>19093</th>\n",
       "      <td>0.0</td>\n",
       "      <td>2</td>\n",
       "      <td>0</td>\n",
       "      <td>0</td>\n",
       "      <td>4.0</td>\n",
       "      <td>경기도여주시</td>\n",
       "      <td>810</td>\n",
       "      <td>475</td>\n",
       "      <td>2020</td>\n",
       "      <td>12</td>\n",
       "    </tr>\n",
       "    <tr>\n",
       "      <th>19094</th>\n",
       "      <td>0.0</td>\n",
       "      <td>2</td>\n",
       "      <td>0</td>\n",
       "      <td>0</td>\n",
       "      <td>4.0</td>\n",
       "      <td>경기도양평군</td>\n",
       "      <td>1188</td>\n",
       "      <td>476</td>\n",
       "      <td>2020</td>\n",
       "      <td>12</td>\n",
       "    </tr>\n",
       "  </tbody>\n",
       "</table>\n",
       "<p>19095 rows × 10 columns</p>\n",
       "</div>"
      ],
      "text/plain": [
       "       RATE  ORD  WT_1001  WT_1002  AR_GRP_CD   AR_NM  ASGN_QY     AR_CD  \\\n",
       "0       0.0    1   168519      244        NaN     NaN        0  totalsum   \n",
       "1       0.0    2   125079       85        1.0     NaN        0       000   \n",
       "2       0.0    2     6518        0        1.0  서울시종로구        0       100   \n",
       "3       0.0    2     6658        0        1.0   서울시중구        0       102   \n",
       "4       0.0    2     4868        0        1.0  서울시용산구        0       104   \n",
       "...     ...  ...      ...      ...        ...     ...      ...       ...   \n",
       "19090   0.0    2        0        0        4.0  경기도안성시     1350       472   \n",
       "19091   0.0    2        0        0        4.0  경기도가평군     2700       473   \n",
       "19092   0.0    2        0        0        4.0  경기도용인시      648       474   \n",
       "19093   0.0    2        0        0        4.0  경기도여주시      810       475   \n",
       "19094   0.0    2        0        0        4.0  경기도양평군     1188       476   \n",
       "\n",
       "          연   월  \n",
       "0      2004   1  \n",
       "1      2004   1  \n",
       "2      2004   1  \n",
       "3      2004   1  \n",
       "4      2004   1  \n",
       "...     ...  ..  \n",
       "19090  2020  12  \n",
       "19091  2020  12  \n",
       "19092  2020  12  \n",
       "19093  2020  12  \n",
       "19094  2020  12  \n",
       "\n",
       "[19095 rows x 10 columns]"
      ]
     },
     "execution_count": 14,
     "metadata": {},
     "output_type": "execute_result"
    }
   ],
   "source": [
    "pd.read_csv(\"city_garbage_2004_2020.csv\")"
   ]
  },
  {
   "cell_type": "code",
   "execution_count": null,
   "metadata": {},
   "outputs": [],
   "source": []
  }
 ],
 "metadata": {
  "kernelspec": {
   "display_name": "Python 3",
   "language": "python",
   "name": "python3"
  },
  "language_info": {
   "codemirror_mode": {
    "name": "ipython",
    "version": 3
   },
   "file_extension": ".py",
   "mimetype": "text/x-python",
   "name": "python",
   "nbconvert_exporter": "python",
   "pygments_lexer": "ipython3",
   "version": "3.7.6"
  },
  "varInspector": {
   "cols": {
    "lenName": 16,
    "lenType": 16,
    "lenVar": 40
   },
   "kernels_config": {
    "python": {
     "delete_cmd_postfix": "",
     "delete_cmd_prefix": "del ",
     "library": "var_list.py",
     "varRefreshCmd": "print(var_dic_list())"
    },
    "r": {
     "delete_cmd_postfix": ") ",
     "delete_cmd_prefix": "rm(",
     "library": "var_list.r",
     "varRefreshCmd": "cat(var_dic_list()) "
    }
   },
   "types_to_exclude": [
    "module",
    "function",
    "builtin_function_or_method",
    "instance",
    "_Feature"
   ],
   "window_display": false
  }
 },
 "nbformat": 4,
 "nbformat_minor": 4
}
