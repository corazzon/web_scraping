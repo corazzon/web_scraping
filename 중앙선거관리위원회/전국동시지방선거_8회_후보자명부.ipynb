{
 "cells": [
  {
   "cell_type": "markdown",
   "id": "41eda58c",
   "metadata": {},
   "source": [
    "http://info.nec.go.kr/"
   ]
  },
  {
   "cell_type": "code",
   "execution_count": null,
   "id": "fb01d093",
   "metadata": {},
   "outputs": [],
   "source": [
    "import requests\n",
    "import pandas as pd\n",
    "from bs4 import BeautifulSoup as bs"
   ]
  },
  {
   "cell_type": "code",
   "execution_count": null,
   "id": "fe34c86b",
   "metadata": {},
   "outputs": [],
   "source": [
    "ecode = ['3', '8','11']\n",
    "ename= ['시·도지사선거',\n",
    " '광역의원비례대표선거',\n",
    " '교육감선거',]"
   ]
  },
  {
   "cell_type": "code",
   "execution_count": null,
   "id": "92034628",
   "metadata": {},
   "outputs": [],
   "source": [
    "ecode_name = dict(zip(ecode, ename))\n",
    "ecode_name"
   ]
  },
  {
   "cell_type": "code",
   "execution_count": null,
   "id": "9b038d40",
   "metadata": {},
   "outputs": [],
   "source": [
    "eocode_name_sub = {\"4\" : '구·시·군의 장선거', \n",
    "                   \"5\": '시·도의회의원선거', \n",
    "                   \"6\" : '구·시·군의회의원선거',\n",
    "                   \"9\" : '기초의원비례대표선거', \n",
    "                   \"10\" : '교육의원선거',\n",
    "                   \"2\" : '국회의원선거'}\n",
    "eocode_name_sub"
   ]
  },
  {
   "cell_type": "code",
   "execution_count": null,
   "id": "cbb6b2a1",
   "metadata": {},
   "outputs": [],
   "source": [
    "# ecode_name[\"4\"]\n",
    "# ecode_name[\"9\"]"
   ]
  },
  {
   "cell_type": "code",
   "execution_count": null,
   "id": "58842a35",
   "metadata": {},
   "outputs": [],
   "source": [
    "def get_city_list(electionCode):\n",
    "    city_code_url = \"http://info.nec.go.kr/bizcommon/selectbox/selectbox_cityCodeBySgJson.json\"\n",
    "    city_code_param = f\"electionId=0020220601&electionCode={electionCode}\"\n",
    "\n",
    "    response = requests.post(city_code_url, params=city_code_param)\n",
    "    city_list = response.json()[\"jsonResult\"][\"body\"]\n",
    "    city_dict = {}\n",
    "    for c in city_list:\n",
    "        city_dict[c[\"CODE\"]] = c[\"NAME\"]\n",
    "    return city_dict"
   ]
  },
  {
   "cell_type": "code",
   "execution_count": null,
   "id": "4280a463",
   "metadata": {},
   "outputs": [],
   "source": [
    "for electionCode in ecode_name:\n",
    "    print(electionCode, ecode_name[electionCode])"
   ]
  },
  {
   "cell_type": "code",
   "execution_count": null,
   "id": "85c32f2c",
   "metadata": {},
   "outputs": [],
   "source": [
    "election_city_dict = { electionCode: get_city_list(electionCode) for electionCode in ecode_name}\n",
    "election_city_dict"
   ]
  },
  {
   "cell_type": "code",
   "execution_count": null,
   "id": "d8bb1524",
   "metadata": {},
   "outputs": [],
   "source": [
    "election_city_dict[\"3\"]"
   ]
  },
  {
   "cell_type": "code",
   "execution_count": null,
   "id": "aed8a6a0",
   "metadata": {},
   "outputs": [],
   "source": [
    "url = \"http://info.nec.go.kr/bizcommon/selectbox/selectbox_cityCodeBySgJson.json?electionId=0020220601&electionCode=3\""
   ]
  },
  {
   "cell_type": "code",
   "execution_count": null,
   "id": "74282ab7",
   "metadata": {},
   "outputs": [],
   "source": [
    "\n",
    "response = requests.post(url)\n",
    "response"
   ]
  },
  {
   "cell_type": "code",
   "execution_count": null,
   "id": "192b2550",
   "metadata": {},
   "outputs": [],
   "source": [
    "pd.DataFrame(city_list)"
   ]
  },
  {
   "cell_type": "code",
   "execution_count": null,
   "id": "bb3cdfd5",
   "metadata": {},
   "outputs": [],
   "source": [
    "url_xhtml = \"http://info.nec.go.kr/electioninfo/electionInfo_report.xhtml\"\n",
    "params = \"electionId=0020220601&requestURI=%2FWEB-INF%2Fjsp%2Felectioninfo%2F0020220601%2Fcp%2Fcpri03.jsp&topMenuId=CP&secondMenuId=CPRI03&menuId=CPRI03&statementId=CPRI03_%233&electionCode=3&cityCode=1100&proportionalRepresentationCode=0&townCode=-1&dateCode=0&x=73&y=23\"\n",
    "url_xhtml"
   ]
  },
  {
   "cell_type": "code",
   "execution_count": null,
   "id": "8dee3be7",
   "metadata": {},
   "outputs": [],
   "source": [
    "response = requests.post(url_xhtml, params=params)"
   ]
  },
  {
   "cell_type": "code",
   "execution_count": null,
   "id": "6bb188e4",
   "metadata": {},
   "outputs": [],
   "source": [
    "html = bs(response.text)\n",
    "table = html.select(\".table01\")[0]"
   ]
  },
  {
   "cell_type": "code",
   "execution_count": null,
   "id": "5853c964",
   "metadata": {},
   "outputs": [],
   "source": [
    "pd.read_html(response.text)[0]"
   ]
  },
  {
   "cell_type": "code",
   "execution_count": null,
   "id": "38c00db8",
   "metadata": {},
   "outputs": [],
   "source": [
    "def get_city_page(electionCode, city_code):\n",
    "    url_xhtml = \"http://info.nec.go.kr/electioninfo/electionInfo_report.xhtml\"\n",
    "    params = \"electionId=0020220601&requestURI=%2FWEB-INF%2Fjsp%2Felectioninfo%2F0020220601%2Fcp%2Fcpri03.jsp\"\n",
    "    params = params + \"&topMenuId=CP&secondMenuId=CPRI03&menuId=CPRI03&statementId=CPRI03_%233\"\n",
    "    params = f\"{params}&electionCode={electionCode}&cityCode={city_code}&proportionalRepresentationCode=0&townCode=-1&dateCode=0&x=73&y=23\"\n",
    "\n",
    "    df_temp = pd.DataFrame()\n",
    "    response = requests.post(url_xhtml, params=params)\n",
    "    df_temp = pd.read_html(response.text)[0]\n",
    "    df_temp[\"선거구분\"] = ecode_name[electionCode]\n",
    "    df_temp[\"선거구\"] = city_dict[city_code]\n",
    "    return df_temp"
   ]
  },
  {
   "cell_type": "code",
   "execution_count": null,
   "id": "0f24eaa9",
   "metadata": {},
   "outputs": [],
   "source": [
    "for eckey in ecode_name:\n",
    "    print(eckey, ecode_name[eckey])"
   ]
  },
  {
   "cell_type": "code",
   "execution_count": null,
   "id": "9bf0079a",
   "metadata": {},
   "outputs": [],
   "source": [
    "city_temp_list = []\n",
    "for electionCode in ecode_name:\n",
    "    for city_code in city_dict:\n",
    "        try:\n",
    "            temp = get_city_page(electionCode, city_code)\n",
    "            city_temp_list.append(temp)\n",
    "        except:\n",
    "            continue"
   ]
  },
  {
   "cell_type": "code",
   "execution_count": null,
   "id": "a43fafd7",
   "metadata": {},
   "outputs": [],
   "source": [
    "city_temp_list"
   ]
  },
  {
   "cell_type": "code",
   "execution_count": null,
   "id": "d47e79ab",
   "metadata": {},
   "outputs": [],
   "source": [
    "df_all = pd.concat(city_temp_list)"
   ]
  },
  {
   "cell_type": "code",
   "execution_count": null,
   "id": "61165cf7",
   "metadata": {},
   "outputs": [],
   "source": [
    "df_all"
   ]
  },
  {
   "cell_type": "code",
   "execution_count": null,
   "id": "2a44e776",
   "metadata": {},
   "outputs": [],
   "source": [
    "df_all.to_csv(\"후보자명부.csv\")"
   ]
  },
  {
   "cell_type": "code",
   "execution_count": null,
   "id": "a4765a69",
   "metadata": {},
   "outputs": [],
   "source": [
    "df_all.shape"
   ]
  },
  {
   "cell_type": "code",
   "execution_count": null,
   "id": "cc32ca08",
   "metadata": {},
   "outputs": [],
   "source": []
  }
 ],
 "metadata": {
  "kernelspec": {
   "display_name": "Python 3 (ipykernel)",
   "language": "python",
   "name": "python3"
  },
  "language_info": {
   "codemirror_mode": {
    "name": "ipython",
    "version": 3
   },
   "file_extension": ".py",
   "mimetype": "text/x-python",
   "name": "python",
   "nbconvert_exporter": "python",
   "pygments_lexer": "ipython3",
   "version": "3.7.6"
  },
  "toc": {
   "base_numbering": 1,
   "nav_menu": {},
   "number_sections": true,
   "sideBar": true,
   "skip_h1_title": false,
   "title_cell": "Table of Contents",
   "title_sidebar": "Contents",
   "toc_cell": false,
   "toc_position": {},
   "toc_section_display": true,
   "toc_window_display": false
  },
  "varInspector": {
   "cols": {
    "lenName": 16,
    "lenType": 16,
    "lenVar": 40
   },
   "kernels_config": {
    "python": {
     "delete_cmd_postfix": "",
     "delete_cmd_prefix": "del ",
     "library": "var_list.py",
     "varRefreshCmd": "print(var_dic_list())"
    },
    "r": {
     "delete_cmd_postfix": ") ",
     "delete_cmd_prefix": "rm(",
     "library": "var_list.r",
     "varRefreshCmd": "cat(var_dic_list()) "
    }
   },
   "types_to_exclude": [
    "module",
    "function",
    "builtin_function_or_method",
    "instance",
    "_Feature"
   ],
   "window_display": false
  }
 },
 "nbformat": 4,
 "nbformat_minor": 5
}
