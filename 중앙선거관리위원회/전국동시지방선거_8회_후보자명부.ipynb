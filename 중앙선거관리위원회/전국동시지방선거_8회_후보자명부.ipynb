{
 "cells": [
  {
   "cell_type": "markdown",
   "id": "41eda58c",
   "metadata": {},
   "source": [
    "http://info.nec.go.kr/"
   ]
  },
  {
   "cell_type": "code",
   "execution_count": null,
   "id": "fb01d093",
   "metadata": {},
   "outputs": [],
   "source": [
    "import requests\n",
    "import pandas as pd"
   ]
  },
  {
   "cell_type": "code",
   "execution_count": null,
   "id": "634325cc",
   "metadata": {},
   "outputs": [],
   "source": [
    "def get_city_list(electionCode):\n",
    "    \"\"\"선거별 시도목록 조회\"\"\"\n",
    "    city_code_url = \"http://info.nec.go.kr/bizcommon/selectbox/selectbox_cityCodeBySgJson.json\"\n",
    "    city_code_param = f\"electionId=0020220601&electionCode={electionCode}\"\n",
    "\n",
    "    response = requests.post(city_code_url, params=city_code_param)\n",
    "    city_list = response.json()[\"jsonResult\"][\"body\"]\n",
    "    city_dict = {}\n",
    "    for c in city_list:\n",
    "        city_dict[c[\"CODE\"]] = c[\"NAME\"]\n",
    "    return city_dict"
   ]
  },
  {
   "cell_type": "code",
   "execution_count": null,
   "id": "92034628",
   "metadata": {
    "scrolled": true
   },
   "outputs": [],
   "source": [
    "# 선거코드 메뉴 구분용\n",
    "ecode_name = {'3': '시·도지사선거', '8': '광역의원비례대표선거', '11': '교육감선거'}\n",
    "ecode_name"
   ]
  },
  {
   "cell_type": "code",
   "execution_count": null,
   "id": "d1f8fc8c",
   "metadata": {
    "scrolled": true
   },
   "outputs": [],
   "source": [
    "# 선거별 시도명 찾기\n",
    "election_city_dict = { electionCode: get_city_list(electionCode) for electionCode in ecode_name}\n",
    "election_city_dict"
   ]
  },
  {
   "cell_type": "code",
   "execution_count": null,
   "id": "02203f8b",
   "metadata": {},
   "outputs": [],
   "source": [
    "def get_city_gu_list(electionCode, city_code):\n",
    "    \"\"\"선거구 목록\"\"\"\n",
    "    if electionCode in [\"5\", \"6\"]:\n",
    "        gu_url = \"http://info.nec.go.kr/bizcommon/selectbox/selectbox_townCodeBySgJson.json\"\n",
    "    else:\n",
    "        gu_url = \"http://info.nec.go.kr/bizcommon/selectbox/selectbox_getSggCityCodeJson.json\"\n",
    "    gu_params = f\"electionId=0020220601&electionCode={electionCode}&cityCode={city_code}\"\n",
    "    \n",
    "    response = requests.post(gu_url, params=gu_params)\n",
    "    gu_list = response.json()[\"jsonResult\"][\"body\"]\n",
    "    gu_dict = {}\n",
    "    for g in gu_list:\n",
    "        gu_dict[g[\"CODE\"]] = g[\"NAME\"]\n",
    "    return gu_dict"
   ]
  },
  {
   "cell_type": "code",
   "execution_count": null,
   "id": "454956c0",
   "metadata": {},
   "outputs": [],
   "source": [
    "# 동작확인\n",
    "electionCode = \"4\"\n",
    "city_code = \"4900\"\n",
    "get_city_gu_list(electionCode, city_code)"
   ]
  },
  {
   "cell_type": "code",
   "execution_count": null,
   "id": "07775fa4",
   "metadata": {},
   "outputs": [],
   "source": [
    "ecode_name_sub = {\"4\" : '구·시·군의 장선거', \n",
    "                   \"5\": '시·도의회의원선거', \n",
    "                   \"6\" : '구·시·군의회의원선거',\n",
    "                   \"9\" : '기초의원비례대표선거', \n",
    "                   \"10\" : '교육의원선거',\n",
    "                   \"2\" : '국회의원선거'}\n",
    "ecode_name_sub"
   ]
  },
  {
   "cell_type": "code",
   "execution_count": null,
   "id": "990f0409",
   "metadata": {
    "scrolled": true
   },
   "outputs": [],
   "source": [
    "# 구군단위 선거 구군명 찾기\n",
    "for electionCode in ecode_name_sub:\n",
    "    city_list = get_city_list(electionCode)\n",
    "    for city_code in city_list:\n",
    "        g = get_city_gu_list(electionCode, city_code)\n",
    "        print(g)"
   ]
  },
  {
   "cell_type": "code",
   "execution_count": null,
   "id": "ad8c2102",
   "metadata": {},
   "outputs": [],
   "source": [
    "# election_city_dict[\"3\"]"
   ]
  },
  {
   "cell_type": "code",
   "execution_count": null,
   "id": "8be3ee49",
   "metadata": {},
   "outputs": [],
   "source": [
    "def get_params(electionCode, city_code):\n",
    "    if electionCode == \"11\": \n",
    "        params = \"electionId=0020220601&requestURI=%2FWEB-INF%2Fjsp%2Felectioninfo%2F0020220601%2Fcp%2Fcpri03.jsp\"\n",
    "        params = f\"{params}&topMenuId=CP&secondMenuId=CPRI03&menuId=CPRI03&statementId=CPRI03_%2311\"\n",
    "        params = f\"{params}&electionCode={electionCode}&cityCode={city_code}\"\n",
    "        params = f\"{params}&proportionalRepresentationCode=0&townCode=-1&dateCode=0&x=45&y=17\"\n",
    "    elif electionCode == \"8\":\n",
    "        params = \"electionId=0020220601&requestURI=%2FWEB-INF%2Fjsp%2Felectioninfo%2F0020220601%2Fcp%2Fcpri03.jsp\"\n",
    "        params = f\"{params}&topMenuId=CP&secondMenuId=CPRI03&menuId=CPRI03&statementId=CPRI03_%238\"\n",
    "        params = f\"{params}&electionCode={electionCode}&cityCode={city_code}\"\n",
    "        params = f\"{params}&proportionalRepresentationCode=0&townCode=-1&dateCode=0&x=53&y=35\"\n",
    "    elif electionCode == \"3\":\n",
    "        params = \"electionId=0020220601&requestURI=%2FWEB-INF%2Fjsp%2Felectioninfo%2F0020220601%2Fcp%2Fcpri03.jsp\"\n",
    "        params = params + \"&topMenuId=CP&secondMenuId=CPRI03&menuId=CPRI03&statementId=CPRI03_%233\"\n",
    "        params = f\"{params}&electionCode={electionCode}&cityCode={city_code}\"\n",
    "        params = f\"{params}&proportionalRepresentationCode=0&townCode=-1&dateCode=0&x=73&y=23\"\n",
    "    return params\n",
    "\n",
    "\n",
    "\n",
    "def get_gu_params(electionCode, city_code, gu_code):\n",
    "    if electionCode == \"4\":\n",
    "        params = \"electionId=0020220601&requestURI=%2FWEB-INF%2Fjsp%2Felectioninfo%2F0020220601%2Fcp%2Fcpri03.jsp\"\n",
    "        params = f\"{params}&topMenuId=CP&secondMenuId=CPRI03&menuId=CPRI03&statementId=CPRI03_%234\"\n",
    "        params = f\"{params}&electionCode={electionCode}&cityCode={city_code}&sggCityCode={gu_code}\"\n",
    "        params = f\"{params}&proportionalRepresentationCode=0&townCode=-1&dateCode=0&x=54&y=34\"\n",
    "    elif electionCode == \"5\":\n",
    "        params = \"electionId=0020220601&requestURI=%2FWEB-INF%2Fjsp%2Felectioninfo%2F0020220601%2Fcp%2Fcpri03.jsp\"\n",
    "        params = f\"{params}&topMenuId=CP&secondMenuId=CPRI03&menuId=CPRI03&statementId=CPRI03_%235\"\n",
    "        params = f\"{params}&electionCode=5&cityCode={city_code}&proportionalRepresentationCode=0&townCode={gu_code}\"\n",
    "        params = f\"{params}&sggTownCode=0&dateCode=0&x=49&y=20\"\n",
    "    elif electionCode == \"6\":\n",
    "        params = \"electionId=0020220601&requestURI=%2FWEB-INF%2Fjsp%2Felectioninfo%2F0020220601%2Fcp%2Fcpri03.jsp\"\n",
    "        params = f\"{params}&topMenuId=CP&secondMenuId=CPRI03&menuId=CPRI03&statementId=CPRI03_%236\"\n",
    "        params = f\"{params}&electionCode=6&cityCode={city_code}&proportionalRepresentationCode=0&townCode={gu_code}\"\n",
    "        params = f\"{params}&sggTownCode=0&dateCode=0&x=41&y=25\"\n",
    "    elif electionCode == \"9\":        \n",
    "        params = \"electionId=0020220601&requestURI=%2FWEB-INF%2Fjsp%2Felectioninfo%2F0020220601%2Fcp%2Fcpri03.jsp\"\n",
    "        params = f\"{params}&topMenuId=CP&secondMenuId=CPRI03&menuId=CPRI03&statementId=CPRI03_%239\"\n",
    "        params = f\"{params}&electionCode=9&cityCode={city_code}&sggCityCode={gu_code}\"\n",
    "        params = f\"{params}&proportionalRepresentationCode=0&townCode=-1&dateCode=0&x=35&y=24\"\n",
    "    elif electionCode == \"2\":        \n",
    "        params = \"electionId=0020220601&requestURI=%2FWEB-INF%2Fjsp%2Felectioninfo%2F0020220601%2Fcp%2Fcpri03.jsp\"\n",
    "        params = f\"{params}&topMenuId=CP&secondMenuId=CPRI03&menuId=CPRI03&statementId=CPRI03_%232\"\n",
    "        params = f\"{params}&electionCode=2&cityCode={city_code}&sggCityCode={gu_code}\"\n",
    "        params = f\"{params}&proportionalRepresentationCode=0&townCode=-1&dateCode=0&x=41&y=30\"\n",
    "    elif electionCode == \"10\":     \n",
    "        params = \"electionId=0020220601&requestURI=%2FWEB-INF%2Fjsp%2Felectioninfo%2F0020220601%2Fcp%2Fcpri03.jsp\"\n",
    "        params = f\"{params}&topMenuId=CP&secondMenuId=CPRI03&menuId=CPRI03&statementId=CPRI03_%2310\"\n",
    "        params = f\"{params}&electionCode=10&cityCode={city_code}&sggCityCode={gu_code}\"\n",
    "        params = f\"{params}&proportionalRepresentationCode=0&townCode=-1&dateCode=0&x=27&y=14\"\n",
    "    return params"
   ]
  },
  {
   "cell_type": "code",
   "execution_count": null,
   "id": "5a23fa25",
   "metadata": {},
   "outputs": [],
   "source": [
    "url_xhtml = \"http://info.nec.go.kr/electioninfo/electionInfo_report.xhtml\""
   ]
  },
  {
   "cell_type": "code",
   "execution_count": null,
   "id": "5853c964",
   "metadata": {
    "scrolled": false
   },
   "outputs": [],
   "source": [
    "# # 시도단위\n",
    "# print(\"가능 코드 : \", ecode_name)\n",
    "# electionCode = \"3\"\n",
    "# city_code = 4900\n",
    "# params = get_params(electionCode, city_code)\n",
    "# response = requests.post(url_xhtml, params=params)\n",
    "\n",
    "# df_temp = pd.read_html(response.text)[0]\n",
    "# df_temp.columns = [col[1] for col in df_temp.columns]\n",
    "# df_temp[\"선거구분\"] = ecode_name[electionCode]\n",
    "# df_temp[\"선거구\"] = city_dict[city_code]\n",
    "# df_temp"
   ]
  },
  {
   "cell_type": "code",
   "execution_count": null,
   "id": "a843c020",
   "metadata": {
    "scrolled": false
   },
   "outputs": [],
   "source": [
    "# # 구군단위\n",
    "# electionCode = \"5\"\n",
    "# city_code = 4900\n",
    "# gu_code = \"10490201\"\n",
    "# print(ecode_name_sub[electionCode])\n",
    "\n",
    "# params = get_gu_params(electionCode, city_code, gu_code)\n",
    "# response = requests.post(url_xhtml, params=params)\n",
    "\n",
    "# df_temp = pd.read_html(response.text)[0]\n",
    "# df_temp.columns = [col[1] for col in df_temp.columns]\n",
    "# df_temp[\"선거구분\"] = ecode_name_sub[electionCode]\n",
    "# # df_temp[\"선거구\"] = city_dict[city_code]\n",
    "# df_temp"
   ]
  },
  {
   "cell_type": "code",
   "execution_count": null,
   "id": "3bc5f70a",
   "metadata": {},
   "outputs": [],
   "source": [
    "# get_gu_params??"
   ]
  },
  {
   "cell_type": "code",
   "execution_count": null,
   "id": "38c00db8",
   "metadata": {},
   "outputs": [],
   "source": [
    "def get_city_page(electionCode, city_code):\n",
    "    url_xhtml = \"http://info.nec.go.kr/electioninfo/electionInfo_report.xhtml\"\n",
    "    \n",
    "    params = get_params(electionCode, city_code)\n",
    "    \n",
    "    response = requests.post(url_xhtml, params=params)\n",
    "    df_temp = pd.read_html(response.text)[0]\n",
    "    df_temp.columns = [col[1] for col in df_temp.columns]\n",
    "    return df_temp"
   ]
  },
  {
   "cell_type": "code",
   "execution_count": null,
   "id": "a450f99b",
   "metadata": {},
   "outputs": [],
   "source": [
    "def get_gu_page(electionCode, city_code, gu_code):\n",
    "    url_xhtml = \"http://info.nec.go.kr/electioninfo/electionInfo_report.xhtml\"\n",
    "    \n",
    "    params = get_gu_params(electionCode, city_code, gu_code)\n",
    "    \n",
    "    response = requests.post(url_xhtml, params=params)\n",
    "    df_temp = pd.read_html(response.text)[0]\n",
    "    df_temp.columns = [col[1] for col in df_temp.columns]\n",
    "    return df_temp"
   ]
  },
  {
   "cell_type": "code",
   "execution_count": null,
   "id": "0f24eaa9",
   "metadata": {},
   "outputs": [],
   "source": [
    "for eckey in ecode_name:\n",
    "    print(eckey, ecode_name[eckey])"
   ]
  },
  {
   "cell_type": "code",
   "execution_count": null,
   "id": "9bf0079a",
   "metadata": {},
   "outputs": [],
   "source": [
    "# \"\"\"\n",
    "# 시도단위 후보자 목록\n",
    "# \"\"\"\n",
    "# city_temp_list = []\n",
    "# for electionCode in ecode_name:\n",
    "#     print(electionCode, ecode_name[electionCode])\n",
    "#     city_dict = get_city_list(electionCode)\n",
    "#     for city_code in city_dict:\n",
    "        \n",
    "#         print(electionCode, city_code, city_dict[city_code], end=\", \")\n",
    "#         temp = pd.DataFrame()\n",
    "#         temp = get_city_page(electionCode, city_code)\n",
    "#         temp[\"선거구분\"] = ecode_name[electionCode]\n",
    "#         temp[\"선거구\"] = city_dict[city_code]\n",
    "#         city_temp_list.append(temp)"
   ]
  },
  {
   "cell_type": "code",
   "execution_count": null,
   "id": "5ea3e463",
   "metadata": {},
   "outputs": [],
   "source": [
    "ecode_name_sub"
   ]
  },
  {
   "cell_type": "code",
   "execution_count": null,
   "id": "5bb8c336",
   "metadata": {},
   "outputs": [],
   "source": [
    "# eocode_name_sub = {'4': '구·시·군의 장선거'}"
   ]
  },
  {
   "cell_type": "code",
   "execution_count": null,
   "id": "ca1b2a55",
   "metadata": {},
   "outputs": [],
   "source": [
    "\"\"\"\n",
    "구군단위 후보자 목록\n",
    "\"\"\"\n",
    "# 선거 구분\n",
    "city_temp_list = []\n",
    "for electionCode in ecode_name_sub:\n",
    "    city_dict = get_city_list(electionCode)\n",
    "    # 시도코드\n",
    "    for city_code in city_dict:\n",
    "        gu_code_list = get_city_gu_list(electionCode, city_code)\n",
    "        print(ecode_name_sub[electionCode], city_code, city_dict[city_code], end=\", \")\n",
    "        for gu_code in gu_code_list :\n",
    "            print(gu_code, end=\", \")\n",
    "            temp = pd.DataFrame()\n",
    "            temp = get_gu_page(electionCode, city_code, gu_code)\n",
    "            temp[\"선거구분\"] = ecode_name_sub[electionCode]\n",
    "            temp[\"선거구\"] = city_dict[city_code]\n",
    "            city_temp_list.append(temp)"
   ]
  },
  {
   "cell_type": "code",
   "execution_count": null,
   "id": "a43fafd7",
   "metadata": {},
   "outputs": [],
   "source": [
    "# city_temp_list"
   ]
  },
  {
   "cell_type": "code",
   "execution_count": null,
   "id": "d47e79ab",
   "metadata": {},
   "outputs": [],
   "source": [
    "df_all = pd.concat(city_temp_list)"
   ]
  },
  {
   "cell_type": "code",
   "execution_count": null,
   "id": "ad770540",
   "metadata": {},
   "outputs": [],
   "source": [
    "pd.options.display.max_columns = None"
   ]
  },
  {
   "cell_type": "code",
   "execution_count": null,
   "id": "ef29f3e1",
   "metadata": {
    "scrolled": false
   },
   "outputs": [],
   "source": [
    "df_all"
   ]
  },
  {
   "cell_type": "code",
   "execution_count": null,
   "id": "91af764a",
   "metadata": {},
   "outputs": [],
   "source": [
    "df_all.columns"
   ]
  },
  {
   "cell_type": "code",
   "execution_count": null,
   "id": "2a44e776",
   "metadata": {},
   "outputs": [],
   "source": [
    "df_all.to_csv(\"후보자명부.csv\", index=False)"
   ]
  },
  {
   "cell_type": "code",
   "execution_count": null,
   "id": "a4765a69",
   "metadata": {},
   "outputs": [],
   "source": [
    "df_all.shape"
   ]
  },
  {
   "cell_type": "code",
   "execution_count": null,
   "id": "cc32ca08",
   "metadata": {},
   "outputs": [],
   "source": []
  }
 ],
 "metadata": {
  "kernelspec": {
   "display_name": "Python 3 (ipykernel)",
   "language": "python",
   "name": "python3"
  },
  "language_info": {
   "codemirror_mode": {
    "name": "ipython",
    "version": 3
   },
   "file_extension": ".py",
   "mimetype": "text/x-python",
   "name": "python",
   "nbconvert_exporter": "python",
   "pygments_lexer": "ipython3",
   "version": "3.7.6"
  },
  "toc": {
   "base_numbering": 1,
   "nav_menu": {},
   "number_sections": true,
   "sideBar": true,
   "skip_h1_title": false,
   "title_cell": "Table of Contents",
   "title_sidebar": "Contents",
   "toc_cell": false,
   "toc_position": {},
   "toc_section_display": true,
   "toc_window_display": false
  },
  "varInspector": {
   "cols": {
    "lenName": 16,
    "lenType": 16,
    "lenVar": 40
   },
   "kernels_config": {
    "python": {
     "delete_cmd_postfix": "",
     "delete_cmd_prefix": "del ",
     "library": "var_list.py",
     "varRefreshCmd": "print(var_dic_list())"
    },
    "r": {
     "delete_cmd_postfix": ") ",
     "delete_cmd_prefix": "rm(",
     "library": "var_list.r",
     "varRefreshCmd": "cat(var_dic_list()) "
    }
   },
   "types_to_exclude": [
    "module",
    "function",
    "builtin_function_or_method",
    "instance",
    "_Feature"
   ],
   "window_display": false
  }
 },
 "nbformat": 4,
 "nbformat_minor": 5
}
