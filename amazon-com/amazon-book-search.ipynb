{
 "cells": [
  {
   "cell_type": "code",
   "execution_count": null,
   "id": "e4777bd7-6ee3-4524-b9ad-9ab94b67c0fb",
   "metadata": {},
   "outputs": [],
   "source": [
    "import requests\n",
    "from bs4 import BeautifulSoup\n",
    "import pandas as pd\n",
    "\n",
    "def scrape_amazon_books(url):\n",
    "    headers = {\n",
    "        'User-Agent': 'Mozilla/5.0 (Windows NT 10.0; Win64; x64) AppleWebKit/537.36 (KHTML, like Gecko) Chrome/91.0.4472.124 Safari/537.36',\n",
    "        'Accept-Language': 'en-US, en;q=0.5'\n",
    "    }\n",
    "\n",
    "    response = requests.get(url, headers=headers)\n",
    "    soup = BeautifulSoup(response.content, 'html.parser')\n",
    "\n",
    "    books = []\n",
    "\n",
    "    # 모든 도서 항목 찾기\n",
    "    book_items = soup.find_all('div', {'data-component-type': 's-search-result'})\n",
    "\n",
    "    for item in book_items:\n",
    "        # 제목과 상세 페이지 링크\n",
    "        title_element = item.find('h2', class_='a-size-mini')\n",
    "        if title_element:\n",
    "            title = title_element.find('span').text.strip()\n",
    "            link_element = title_element.find('a', class_='a-link-normal')\n",
    "            link = 'https://www.amazon.com' + link_element['href'] if link_element else 'N/A'\n",
    "        else:\n",
    "            title = 'N/A'\n",
    "            link = 'N/A'\n",
    "\n",
    "        # 저자\n",
    "        author_element = item.find('a', class_='a-size-base a-link-normal s-underline-text s-underline-link-text s-link-style')\n",
    "        author = author_element.text.strip() if author_element else 'N/A'\n",
    "\n",
    "        # 가격\n",
    "        price_element = item.find('span', class_='a-price-whole')\n",
    "        price = price_element.text.strip() if price_element else 'N/A'\n",
    "\n",
    "        # 평점\n",
    "        rating_element = item.find('span', class_='a-icon-alt')\n",
    "        rating = rating_element.text.split()[0] if rating_element else 'N/A'\n",
    "\n",
    "        books.append({\n",
    "            'Title': title,\n",
    "            'Author': author,\n",
    "            'Price': price,\n",
    "            'Rating': rating,\n",
    "            'Link': link\n",
    "        })\n",
    "\n",
    "    return books\n",
    "\n",
    "# Amazon 검색 URL\n",
    "url = \"https://www.amazon.com/s?k=python&ref=nb_sb_noss\"\n",
    "\n",
    "# 도서 정보 스크래핑\n",
    "book_data = scrape_amazon_books(url)\n",
    "\n",
    "# DataFrame 생성\n",
    "df = pd.DataFrame(book_data)\n",
    "\n",
    "# CSV 파일로 저장\n",
    "df.to_csv('amazon_python_books.csv', index=False)\n",
    "\n",
    "print(f\"총 {len(book_data)}개의 도서 정보가 수집되어 'amazon_python_books.csv' 파일로 저장되었습니다.\")"
   ]
  },
  {
   "cell_type": "code",
   "execution_count": null,
   "id": "706e37d6-ffb0-4485-a876-79c42ba76d23",
   "metadata": {},
   "outputs": [],
   "source": [
    "df"
   ]
  },
  {
   "cell_type": "code",
   "execution_count": null,
   "id": "9cca172d-4045-4a89-ad8d-87eb89ef10d1",
   "metadata": {},
   "outputs": [],
   "source": []
  }
 ],
 "metadata": {
  "kernelspec": {
   "display_name": "Python 3 (ipykernel)",
   "language": "python",
   "name": "python3"
  },
  "language_info": {
   "codemirror_mode": {
    "name": "ipython",
    "version": 3
   },
   "file_extension": ".py",
   "mimetype": "text/x-python",
   "name": "python",
   "nbconvert_exporter": "python",
   "pygments_lexer": "ipython3",
   "version": "3.11.4"
  }
 },
 "nbformat": 4,
 "nbformat_minor": 5
}
