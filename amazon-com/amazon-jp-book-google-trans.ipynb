{
 "cells": [
  {
   "cell_type": "markdown",
   "id": "cad1e1e9-0f27-402b-aba6-ed3b65950c38",
   "metadata": {
    "id": "cad1e1e9-0f27-402b-aba6-ed3b65950c38"
   },
   "source": [
    "## amazon.jp 에서 특정 키워드 도서 목록 수집하기\n",
    "\n",
    "https://www.amazon.co.jp/s?k=python&crid=NTE3QB916YZK&sprefix=python%2Caps%2C179&ref=nb_sb_noss_1"
   ]
  },
  {
   "cell_type": "code",
   "execution_count": null,
   "id": "Lp5nbLC16DPm",
   "metadata": {
    "colab": {
     "base_uri": "https://localhost:8080/"
    },
    "id": "Lp5nbLC16DPm",
    "outputId": "21ff033a-14eb-4715-8ccd-11b8508430f9"
   },
   "outputs": [],
   "source": [
    "!pip install -q googletrans==4.0.0-rc1"
   ]
  },
  {
   "cell_type": "markdown",
   "id": "wUusu1h56l_K",
   "metadata": {
    "id": "wUusu1h56l_K"
   },
   "source": [
    "https://github.com/ssut/py-googletrans"
   ]
  },
  {
   "cell_type": "code",
   "execution_count": null,
   "id": "NJOzNKlW6Vtu",
   "metadata": {
    "colab": {
     "base_uri": "https://localhost:8080/"
    },
    "id": "NJOzNKlW6Vtu",
    "outputId": "f3cc47d0-e4c3-4184-cb0b-180fc1fd5f80"
   },
   "outputs": [],
   "source": [
    "from googletrans import Translator\n",
    "\n",
    "# 번역기 객체 생성\n",
    "translator = Translator()\n",
    "\n",
    "# 번역할 텍스트\n",
    "text_to_translate = \"スッキリわかるPython入門 第2版 (スッキリわかる入門シリーズ)\"\n",
    "\n",
    "# 한국어로 번역\n",
    "translated_text = translator.translate(text_to_translate, src='ja', dest='ko')\n",
    "\n",
    "# 결과 출력\n",
    "print(f\"Original text: {text_to_translate}\")\n",
    "print(f\"Translated text: {translated_text.text}\")"
   ]
  },
  {
   "cell_type": "code",
   "execution_count": null,
   "id": "LxcMhIXk7uKt",
   "metadata": {
    "colab": {
     "base_uri": "https://localhost:8080/"
    },
    "id": "LxcMhIXk7uKt",
    "outputId": "2a5883f8-050e-44fd-8bff-91492a328f68"
   },
   "outputs": [],
   "source": [
    "def translate_ja_to_ko(japanese_text):\n",
    "    # 번역기 객체 생성\n",
    "    translator = Translator()\n",
    "\n",
    "    # 일본어에서 한국어로 번역\n",
    "    translated_text = translator.translate(japanese_text, src='ja', dest='ko')\n",
    "\n",
    "    # 번역된 결과 반환\n",
    "    return translated_text.text\n",
    "\n",
    "# 테스트를 위한 예제 일본어 텍스트\n",
    "japanese_text = \"スッキリわかるPython入門 第2版 (スッキリわかる入門シリーズ)\"\n",
    "\n",
    "# 함수 호출하여 번역 결과 출력\n",
    "translated_text = translate_ja_to_ko(japanese_text)\n",
    "print(f\"일본어 원본 텍스트: {japanese_text}\")\n",
    "print(f\"한국어 번역 결과: {translated_text}\")"
   ]
  },
  {
   "cell_type": "code",
   "execution_count": null,
   "id": "aa88e188-4e5a-456e-b407-3ac5070cb933",
   "metadata": {
    "colab": {
     "base_uri": "https://localhost:8080/"
    },
    "id": "aa88e188-4e5a-456e-b407-3ac5070cb933",
    "outputId": "b1b3b63e-2c4f-4ff1-d85a-c357bdf359ce",
    "scrolled": true
   },
   "outputs": [],
   "source": [
    "import requests\n",
    "from bs4 import BeautifulSoup\n",
    "import time\n",
    "import random\n",
    "\n",
    "def get_amazon_page(url, max_retries=5):\n",
    "    headers = {\n",
    "        'User-Agent': 'Mozilla/5.0 (Windows NT 10.0; Win64; x64) AppleWebKit/537.36 (KHTML, like Gecko) Chrome/91.0.4472.124 Safari/537.36',\n",
    "        'Accept-Language': 'en-US,en;q=0.9',\n",
    "        'Accept-Encoding': 'gzip, deflate, br',\n",
    "        'Accept': 'text/html,application/xhtml+xml,application/xml;q=0.9,image/webp,image/apng,*/*;q=0.8',\n",
    "        'Connection': 'keep-alive',\n",
    "        'Referer': 'https://www.amazon.co.jp/'\n",
    "    }\n",
    "\n",
    "    for attempt in range(max_retries):\n",
    "        try:\n",
    "            response = requests.get(url, headers=headers, timeout=10)\n",
    "            if response.status_code == 200:\n",
    "                return response.text\n",
    "            elif response.status_code == 503:\n",
    "                print(f\"Received 503 error. Retrying in {attempt + 1} seconds...\")\n",
    "                time.sleep(attempt + 1)\n",
    "            else:\n",
    "                print(f\"Received status code {response.status_code}. Retrying in {attempt + 1} seconds...\")\n",
    "                time.sleep(attempt + 1)\n",
    "        except requests.RequestException as e:\n",
    "            print(f\"Request failed: {e}. Retrying in {attempt + 1} seconds...\")\n",
    "            time.sleep(attempt + 1)\n",
    "\n",
    "    raise Exception(\"Failed to retrieve the page after multiple attempts\")\n",
    "\n",
    "def extract_book_info(html_content):\n",
    "    soup = BeautifulSoup(html_content, 'html.parser')\n",
    "\n",
    "    books = []\n",
    "    for item in soup.find_all('div', class_='s-result-item'):\n",
    "        title = item.find('span', class_='a-size-medium a-color-base a-text-normal')\n",
    "        price = item.find('span', class_='a-price-whole')\n",
    "\n",
    "        if title and price:\n",
    "            books.append({\n",
    "                'Title': title.text.strip(),\n",
    "                'Price': price.text.strip()\n",
    "            })\n",
    "\n",
    "    return books\n",
    "\n",
    "# Amazon Japan Python books search URL\n",
    "url = \"https://www.amazon.co.jp/s?k=python&i=stripbooks&crid=2B22VXGMPF3RO&sprefix=python%2Cstripbooks%2C183&ref=nb_sb_noss_1\"\n",
    "\n",
    "try:\n",
    "    html_content = get_amazon_page(url)\n",
    "    book_info = extract_book_info(html_content)\n",
    "\n",
    "    for book in book_info:\n",
    "        print(f\"Title: {book['Title']}\")\n",
    "        # 일본어에서 한국어로 번역\n",
    "        translated_text = translator.translate(book['Title'], src='ja', dest='ko')\n",
    "        print(f\"한국어 제목: {translated_text.text}\")\n",
    "        print(f\"Price: {book['Price']}\")\n",
    "        print(\"---\")\n",
    "except Exception as e:\n",
    "    print(f\"An error occurred: {e}\")"
   ]
  },
  {
   "cell_type": "code",
   "execution_count": null,
   "id": "c86d039a-5af6-4f8c-9f2e-bfb4c091ac57",
   "metadata": {
    "id": "c86d039a-5af6-4f8c-9f2e-bfb4c091ac57"
   },
   "outputs": [],
   "source": []
  }
 ],
 "metadata": {
  "colab": {
   "provenance": []
  },
  "kernelspec": {
   "display_name": "Python 3 (ipykernel)",
   "language": "python",
   "name": "python3"
  },
  "language_info": {
   "codemirror_mode": {
    "name": "ipython",
    "version": 3
   },
   "file_extension": ".py",
   "mimetype": "text/x-python",
   "name": "python",
   "nbconvert_exporter": "python",
   "pygments_lexer": "ipython3",
   "version": "3.11.4"
  }
 },
 "nbformat": 4,
 "nbformat_minor": 5
}
