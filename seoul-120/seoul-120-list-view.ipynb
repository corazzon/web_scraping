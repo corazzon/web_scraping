{
 "cells": [
  {
   "cell_type": "markdown",
   "metadata": {},
   "source": [
    "## 서울특별시 다산콜센터(☎120)의 주요 민원\n",
    "* 서울특별시 다산콜센터(☎120)의 주요 민원(자주 묻는 질문)에 대한 답변정보\n",
    "* https://opengov.seoul.go.kr/civilappeal/list"
   ]
  },
  {
   "cell_type": "code",
   "execution_count": 55,
   "metadata": {},
   "outputs": [],
   "source": [
    "# 필요한 라이브러리들을 불러옵니다.\n",
    "# pandas : 파이썬에서 사용할 수 있는 엑셀과 유사한 데이터분석 도구입니다.\n",
    "# requests : 매우 작은 브라우저로 웹사이트의 내용과 정보를 불러옵니다.\n",
    "# BeautifulSoup : request로 가져온 웹사이트의 html 태그를 찾기 위해 사용합니다.\n",
    "# time : 한 번에 많은 양의 데이터를 가져오게 되면 서버에서 부담을주기 때문에 시간 간격을 두고 가져오기 위해 사용합니다.\n",
    "import pandas as pd\n",
    "import requests\n",
    "from bs4 import BeautifulSoup as bs\n",
    "import time"
   ]
  },
  {
   "cell_type": "code",
   "execution_count": 56,
   "metadata": {},
   "outputs": [
    {
     "data": {
      "text/plain": [
       "(2645, 5)"
      ]
     },
     "execution_count": 56,
     "metadata": {},
     "output_type": "execute_result"
    }
   ],
   "source": [
    "# 수집해온 파일을 읽어옵니다.\n",
    "df = pd.read_csv(\"seoul-120-list.csv\")\n",
    "df.shape"
   ]
  },
  {
   "cell_type": "markdown",
   "metadata": {},
   "source": [
    "## 일부 데이터를 우선 수집\n",
    "* 현업에서는 모든 데이터를 수집해야 하지만 모든 데이터 수집시 서버에 부담이 될 수 있으며 오래 걸립니다.\n",
    "* 또 동작하지 않거나 잘못 수집을 했다면 처음부터 다시 수집해야 하기 때문에 일부 데이터만을 통해 먼저 수집해 보는 것을 추천합니다.\n",
    "* 일부 데이터를 먼저 수집해 보고 데이터가 필요할 때 전체를 수집해 봅니다."
   ]
  },
  {
   "cell_type": "code",
   "execution_count": 57,
   "metadata": {},
   "outputs": [
    {
     "data": {
      "text/plain": [
       "(30, 5)"
      ]
     },
     "execution_count": 57,
     "metadata": {},
     "output_type": "execute_result"
    }
   ],
   "source": [
    "# 30 개의 데이터를 먼저 수집해 봅니다.\n",
    "df = df.head(30)\n",
    "df.shape"
   ]
  },
  {
   "cell_type": "code",
   "execution_count": 24,
   "metadata": {},
   "outputs": [
    {
     "data": {
      "text/html": [
       "<div>\n",
       "<style scoped>\n",
       "    .dataframe tbody tr th:only-of-type {\n",
       "        vertical-align: middle;\n",
       "    }\n",
       "\n",
       "    .dataframe tbody tr th {\n",
       "        vertical-align: top;\n",
       "    }\n",
       "\n",
       "    .dataframe thead th {\n",
       "        text-align: right;\n",
       "    }\n",
       "</style>\n",
       "<table border=\"1\" class=\"dataframe\">\n",
       "  <thead>\n",
       "    <tr style=\"text-align: right;\">\n",
       "      <th></th>\n",
       "      <th>번호</th>\n",
       "      <th>제목</th>\n",
       "      <th>생산일</th>\n",
       "      <th>조회수</th>\n",
       "      <th>view_no</th>\n",
       "    </tr>\n",
       "  </thead>\n",
       "  <tbody>\n",
       "    <tr>\n",
       "      <th>0</th>\n",
       "      <td>2645</td>\n",
       "      <td>아빠 육아휴직 장려금</td>\n",
       "      <td>2021-08-17</td>\n",
       "      <td>144</td>\n",
       "      <td>23522464</td>\n",
       "    </tr>\n",
       "    <tr>\n",
       "      <th>1</th>\n",
       "      <td>2644</td>\n",
       "      <td>[서울산업진흥원] 서울메이드란?</td>\n",
       "      <td>2021-06-29</td>\n",
       "      <td>166</td>\n",
       "      <td>23194045</td>\n",
       "    </tr>\n",
       "    <tr>\n",
       "      <th>2</th>\n",
       "      <td>2643</td>\n",
       "      <td>(강북구) 정비중</td>\n",
       "      <td>2021-06-02</td>\n",
       "      <td>215</td>\n",
       "      <td>23032485</td>\n",
       "    </tr>\n",
       "    <tr>\n",
       "      <th>3</th>\n",
       "      <td>2642</td>\n",
       "      <td>광진맘택시 운영(임산부,영아 양육가정 전용 택시)</td>\n",
       "      <td>2021-05-13</td>\n",
       "      <td>288</td>\n",
       "      <td>22904492</td>\n",
       "    </tr>\n",
       "    <tr>\n",
       "      <th>4</th>\n",
       "      <td>2641</td>\n",
       "      <td>마포 뇌병변장애인 비전센터</td>\n",
       "      <td>2021-03-12</td>\n",
       "      <td>441</td>\n",
       "      <td>22477798</td>\n",
       "    </tr>\n",
       "  </tbody>\n",
       "</table>\n",
       "</div>"
      ],
      "text/plain": [
       "     번호                           제목         생산일  조회수   view_no\n",
       "0  2645                  아빠 육아휴직 장려금  2021-08-17  144  23522464\n",
       "1  2644            [서울산업진흥원] 서울메이드란?  2021-06-29  166  23194045\n",
       "2  2643                    (강북구) 정비중  2021-06-02  215  23032485\n",
       "3  2642  광진맘택시 운영(임산부,영아 양육가정 전용 택시)  2021-05-13  288  22904492\n",
       "4  2641               마포 뇌병변장애인 비전센터  2021-03-12  441  22477798"
      ]
     },
     "execution_count": 24,
     "metadata": {},
     "output_type": "execute_result"
    }
   ],
   "source": [
    "# 데이터의 일부를 head 로 가져옵니다.\n",
    "df.head()"
   ]
  },
  {
   "cell_type": "markdown",
   "metadata": {},
   "source": [
    "## 특정 내용 읽어오기\n",
    "* 내용의 URL을 확인합니다.\n",
    "* requests를 통해 내용에 접근합니다.\n",
    "* BeautifulSoup의 select를 사용해 내용이 있는 태그를 찾습니다.\n"
   ]
  },
  {
   "cell_type": "code",
   "execution_count": 27,
   "metadata": {},
   "outputs": [
    {
     "name": "stdout",
     "output_type": "stream",
     "text": [
      "https://opengov.seoul.go.kr/civilappeal/view/?nid=23522464\n"
     ]
    },
    {
     "data": {
      "text/plain": [
       "'\\n\\xa0     업무개요  \\xa0남성근로자의 육아휴직을 장려하고 양육에 따른 경제적 부담을 완화함으로써 일과   가정생활의 양립 및 가족친화적인\\xa0 \\xa0사회환경 조성    지원대상  \\xa0신청일 기준 1년 이상 계속하여 서초구에   주민등록 되어 있는 아빠 육아휴직자 (대상자녀 서초구에 주민등록 된 경우)\\xa0 \\xa0    신청기간  \\xa0육아휴직 시작일 이후 1개월부터 종료일 이후 12개월 이내\\xa0    신청방법  \\xa0○ 온라인 : 서초구청 홈페이지\\xa0 \\xa0\\xa0 - 경로 : 서초구청 홈페이지 > 분야별정보 > 복지   > 영유아복지 > 아빠육아휴직장려금 신청 [바로가기]\\xa0 \\xa0○ 방문 : 동주민센터, 구 여성보육과 방문\\xa0    구비서류  \\xa0○ 고용센터 발행 육아휴직급여 지급결정 통지서   1부 \\xa0○ 주민등록등본 1부(세대원 이름과 전입일자 포함, 모든 구성원   주민번호 뒷자리 미포함)    지원내용  \\xa0매월 30만원(지원기간 최대 1년)\\xa0     '"
      ]
     },
     "execution_count": 27,
     "metadata": {},
     "output_type": "execute_result"
    }
   ],
   "source": [
    "url = \"https://opengov.seoul.go.kr/civilappeal/view/?nid=23522464\"\n",
    "print(url)\n",
    "response = requests.get(url)\n",
    "html = bs(response.text, \"lxml\")\n",
    "html.select(\"div.line-all\")[0].get_text()"
   ]
  },
  {
   "cell_type": "code",
   "execution_count": 28,
   "metadata": {},
   "outputs": [
    {
     "data": {
      "text/html": [
       "<div>\n",
       "<style scoped>\n",
       "    .dataframe tbody tr th:only-of-type {\n",
       "        vertical-align: middle;\n",
       "    }\n",
       "\n",
       "    .dataframe tbody tr th {\n",
       "        vertical-align: top;\n",
       "    }\n",
       "\n",
       "    .dataframe thead th {\n",
       "        text-align: right;\n",
       "    }\n",
       "</style>\n",
       "<table border=\"1\" class=\"dataframe\">\n",
       "  <thead>\n",
       "    <tr style=\"text-align: right;\">\n",
       "      <th></th>\n",
       "      <th>원본시스템</th>\n",
       "      <th>작성자(책임자)</th>\n",
       "      <th>관리번호</th>\n",
       "      <th>제공부서</th>\n",
       "      <th>생산일</th>\n",
       "      <th>분류</th>\n",
       "    </tr>\n",
       "  </thead>\n",
       "  <tbody>\n",
       "    <tr>\n",
       "      <th>1</th>\n",
       "      <td>다산콜센터</td>\n",
       "      <td>120다산콜재단</td>\n",
       "      <td>D0000043274645</td>\n",
       "      <td>서울특별시 서초구 주민생활국 여성보육과</td>\n",
       "      <td>2021-08-17</td>\n",
       "      <td>복지</td>\n",
       "    </tr>\n",
       "  </tbody>\n",
       "</table>\n",
       "</div>"
      ],
      "text/plain": [
       "0  원본시스템  작성자(책임자)            관리번호                   제공부서         생산일  분류\n",
       "1  다산콜센터  120다산콜재단  D0000043274645  서울특별시 서초구 주민생활국 여성보육과  2021-08-17  복지"
      ]
     },
     "execution_count": 28,
     "metadata": {},
     "output_type": "execute_result"
    }
   ],
   "source": [
    "# 해당 문의가 어떤 분류에 해당되는지 알기 위해 분류를 수집\n",
    "def get_desc(html):\n",
    "    tables = html.select(\"table\")\n",
    "    table = pd.read_html(str(tables[-1]))[0]\n",
    "    table_0 = table[[0, 1]]\n",
    "    table_1 = table[[2, 3]]\n",
    "    table_1.columns = [0, 1]\n",
    "    table_desc = pd.concat([table_0, table_1]).set_index(0).T\n",
    "    return table_desc\n",
    "\n",
    "get_desc(html)"
   ]
  },
  {
   "cell_type": "markdown",
   "metadata": {},
   "source": [
    "## 내용 수집 함수 만들기"
   ]
  },
  {
   "cell_type": "code",
   "execution_count": 29,
   "metadata": {},
   "outputs": [],
   "source": [
    "def get_view_page(view_no):\n",
    "    url = f\"https://opengov.seoul.go.kr/civilappeal/view/?nid={view_no}\"\n",
    "    reponse = requests.get(url)\n",
    "    html = bs(reponse.text, \"lxml\")\n",
    "    time.sleep(0.1)\n",
    "    try:\n",
    "        content = html.select(\"div.line-all\")[0].get_text()\n",
    "        df_desc = get_desc(html)\n",
    "        df_desc[\"내용\"] = content\n",
    "        df_desc[\"view_no\"] = view_no\n",
    "        return df_desc\n",
    "    except:\n",
    "        print(view_no)\n",
    "        return pd.DataFrame()"
   ]
  },
  {
   "cell_type": "code",
   "execution_count": 30,
   "metadata": {},
   "outputs": [
    {
     "name": "stdout",
     "output_type": "stream",
     "text": [
      "21780668\n"
     ]
    },
    {
     "data": {
      "text/html": [
       "<div>\n",
       "<style scoped>\n",
       "    .dataframe tbody tr th:only-of-type {\n",
       "        vertical-align: middle;\n",
       "    }\n",
       "\n",
       "    .dataframe tbody tr th {\n",
       "        vertical-align: top;\n",
       "    }\n",
       "\n",
       "    .dataframe thead th {\n",
       "        text-align: right;\n",
       "    }\n",
       "</style>\n",
       "<table border=\"1\" class=\"dataframe\">\n",
       "  <thead>\n",
       "    <tr style=\"text-align: right;\">\n",
       "      <th></th>\n",
       "    </tr>\n",
       "  </thead>\n",
       "  <tbody>\n",
       "  </tbody>\n",
       "</table>\n",
       "</div>"
      ],
      "text/plain": [
       "Empty DataFrame\n",
       "Columns: []\n",
       "Index: []"
      ]
     },
     "execution_count": 30,
     "metadata": {},
     "output_type": "execute_result"
    }
   ],
   "source": [
    "# 오류가 나지 않는지 확인합니다.\n",
    "get_view_page(view_no=21780668)"
   ]
  },
  {
   "cell_type": "markdown",
   "metadata": {},
   "source": [
    "## 전체 내용 가져오기\n",
    "* <font color=\"red\">실습을 위해 위에서 일부 데이터만 가져왔습니다.</font>\n",
    "* 전체 데이터 수집시에서 전체 수집한 데이터로 수집을 진행하면 됩니다.\n",
    "* 전체 데이터 수집시에는 서버에 부담이 가지 않도록 time.sleep()을 통해 간격을 두고 수집해 주세요."
   ]
  },
  {
   "cell_type": "code",
   "execution_count": 31,
   "metadata": {
    "scrolled": false
   },
   "outputs": [
    {
     "data": {
      "application/vnd.jupyter.widget-view+json": {
       "model_id": "765f0f37bbc643878b1f47e7806873b8",
       "version_major": 2,
       "version_minor": 0
      },
      "text/plain": [
       "  0%|          | 0/30 [00:00<?, ?it/s]"
      ]
     },
     "metadata": {},
     "output_type": "display_data"
    }
   ],
   "source": [
    "# tqdm.notebook 을 통해 수집 진행상태를 확인합니다.\n",
    "from tqdm.notebook import tqdm\n",
    "tqdm.pandas()\n",
    "\n",
    "view = df[\"view_no\"].progress_apply(get_view_page)"
   ]
  },
  {
   "cell_type": "markdown",
   "metadata": {},
   "source": [
    "## 수집한 내용 확인하기"
   ]
  },
  {
   "cell_type": "code",
   "execution_count": 40,
   "metadata": {
    "scrolled": true
   },
   "outputs": [
    {
     "data": {
      "text/plain": [
       "0    0  원본시스템  작성자(책임자)            관리번호            ...\n",
       "1    0  원본시스템  작성자(책임자)            관리번호     제공부서   ...\n",
       "2    0  원본시스템  작성자(책임자)            관리번호            ...\n",
       "Name: view_no, dtype: object"
      ]
     },
     "execution_count": 40,
     "metadata": {},
     "output_type": "execute_result"
    }
   ],
   "source": [
    "# 일부 데이터만 슬라이싱 하기\n",
    "view[:3]"
   ]
  },
  {
   "cell_type": "code",
   "execution_count": 41,
   "metadata": {},
   "outputs": [
    {
     "data": {
      "text/html": [
       "<div>\n",
       "<style scoped>\n",
       "    .dataframe tbody tr th:only-of-type {\n",
       "        vertical-align: middle;\n",
       "    }\n",
       "\n",
       "    .dataframe tbody tr th {\n",
       "        vertical-align: top;\n",
       "    }\n",
       "\n",
       "    .dataframe thead th {\n",
       "        text-align: right;\n",
       "    }\n",
       "</style>\n",
       "<table border=\"1\" class=\"dataframe\">\n",
       "  <thead>\n",
       "    <tr style=\"text-align: right;\">\n",
       "      <th></th>\n",
       "      <th>원본시스템</th>\n",
       "      <th>작성자(책임자)</th>\n",
       "      <th>관리번호</th>\n",
       "      <th>제공부서</th>\n",
       "      <th>생산일</th>\n",
       "      <th>분류</th>\n",
       "      <th>내용</th>\n",
       "      <th>view_no</th>\n",
       "    </tr>\n",
       "  </thead>\n",
       "  <tbody>\n",
       "    <tr>\n",
       "      <th>1</th>\n",
       "      <td>다산콜센터</td>\n",
       "      <td>120다산콜재단</td>\n",
       "      <td>D0000043274645</td>\n",
       "      <td>서울특별시 서초구 주민생활국 여성보육과</td>\n",
       "      <td>2021-08-17</td>\n",
       "      <td>복지</td>\n",
       "      <td>\\n      업무개요   남성근로자의 육아휴직을 장려하고 양육에 따른 경제적 부담...</td>\n",
       "      <td>23522464</td>\n",
       "    </tr>\n",
       "  </tbody>\n",
       "</table>\n",
       "</div>"
      ],
      "text/plain": [
       "0  원본시스템  작성자(책임자)            관리번호                   제공부서         생산일  분류  \\\n",
       "1  다산콜센터  120다산콜재단  D0000043274645  서울특별시 서초구 주민생활국 여성보육과  2021-08-17  복지   \n",
       "\n",
       "0                                                 내용   view_no  \n",
       "1  \\n      업무개요   남성근로자의 육아휴직을 장려하고 양육에 따른 경제적 부담...  23522464  "
      ]
     },
     "execution_count": 41,
     "metadata": {},
     "output_type": "execute_result"
    }
   ],
   "source": [
    "# 하나만 가져오면 데이터프레임 형태로 되어 있음을 확인\n",
    "view[0]"
   ]
  },
  {
   "cell_type": "markdown",
   "metadata": {},
   "source": [
    "## 하나로 병합하기"
   ]
  },
  {
   "cell_type": "code",
   "execution_count": 42,
   "metadata": {},
   "outputs": [],
   "source": [
    "# 수집한 내용을 tolist() 를 통해 리스트로 변환 후 저장\n",
    "df_view = pd.concat(view.tolist())"
   ]
  },
  {
   "cell_type": "code",
   "execution_count": 45,
   "metadata": {},
   "outputs": [
    {
     "data": {
      "text/html": [
       "<div>\n",
       "<style scoped>\n",
       "    .dataframe tbody tr th:only-of-type {\n",
       "        vertical-align: middle;\n",
       "    }\n",
       "\n",
       "    .dataframe tbody tr th {\n",
       "        vertical-align: top;\n",
       "    }\n",
       "\n",
       "    .dataframe thead th {\n",
       "        text-align: right;\n",
       "    }\n",
       "</style>\n",
       "<table border=\"1\" class=\"dataframe\">\n",
       "  <thead>\n",
       "    <tr style=\"text-align: right;\">\n",
       "      <th></th>\n",
       "      <th>번호</th>\n",
       "      <th>제목</th>\n",
       "      <th>생산일</th>\n",
       "      <th>조회수</th>\n",
       "      <th>view_no</th>\n",
       "      <th>원본시스템</th>\n",
       "      <th>작성자(책임자)</th>\n",
       "      <th>관리번호</th>\n",
       "      <th>제공부서</th>\n",
       "      <th>분류</th>\n",
       "      <th>내용</th>\n",
       "    </tr>\n",
       "  </thead>\n",
       "  <tbody>\n",
       "    <tr>\n",
       "      <th>0</th>\n",
       "      <td>2645</td>\n",
       "      <td>아빠 육아휴직 장려금</td>\n",
       "      <td>2021-08-17</td>\n",
       "      <td>144</td>\n",
       "      <td>23522464</td>\n",
       "      <td>다산콜센터</td>\n",
       "      <td>120다산콜재단</td>\n",
       "      <td>D0000043274645</td>\n",
       "      <td>서울특별시 서초구 주민생활국 여성보육과</td>\n",
       "      <td>복지</td>\n",
       "      <td>\\n      업무개요   남성근로자의 육아휴직을 장려하고 양육에 따른 경제적 부담...</td>\n",
       "    </tr>\n",
       "    <tr>\n",
       "      <th>1</th>\n",
       "      <td>2644</td>\n",
       "      <td>[서울산업진흥원] 서울메이드란?</td>\n",
       "      <td>2021-06-29</td>\n",
       "      <td>166</td>\n",
       "      <td>23194045</td>\n",
       "      <td>다산콜센터</td>\n",
       "      <td>120다산콜재단</td>\n",
       "      <td>D0000042894548</td>\n",
       "      <td>서울산업진흥원</td>\n",
       "      <td>경제</td>\n",
       "      <td>\\n 서울의 감성을 담은 다양하고 새로운 경험을 제공하기 위해 만들어진 라이프스타일...</td>\n",
       "    </tr>\n",
       "    <tr>\n",
       "      <th>2</th>\n",
       "      <td>2643</td>\n",
       "      <td>(강북구) 정비중</td>\n",
       "      <td>2021-06-02</td>\n",
       "      <td>215</td>\n",
       "      <td>23032485</td>\n",
       "      <td>다산콜센터</td>\n",
       "      <td>120다산콜재단</td>\n",
       "      <td>D0000042693048</td>\n",
       "      <td>서울특별시 강북구 생활복지국 청소행정과</td>\n",
       "      <td>환경</td>\n",
       "      <td>\\n    업무개요   투명 폐트병을 교환.보상하므로 수거율을 높이고 폐기물을 감량...</td>\n",
       "    </tr>\n",
       "    <tr>\n",
       "      <th>3</th>\n",
       "      <td>2642</td>\n",
       "      <td>광진맘택시 운영(임산부,영아 양육가정 전용 택시)</td>\n",
       "      <td>2021-05-13</td>\n",
       "      <td>288</td>\n",
       "      <td>22904492</td>\n",
       "      <td>다산콜센터</td>\n",
       "      <td>120다산콜재단</td>\n",
       "      <td>D0000042557522</td>\n",
       "      <td>서울특별시 광진구 복지국 가정복지과</td>\n",
       "      <td>복지</td>\n",
       "      <td>\\n    업무개요  교통약자인 임산부와 영아가정 주민이 병원 진료를 받으러 갈 떄...</td>\n",
       "    </tr>\n",
       "    <tr>\n",
       "      <th>4</th>\n",
       "      <td>2641</td>\n",
       "      <td>마포 뇌병변장애인 비전센터</td>\n",
       "      <td>2021-03-12</td>\n",
       "      <td>441</td>\n",
       "      <td>22477798</td>\n",
       "      <td>다산콜센터</td>\n",
       "      <td>120다산콜재단</td>\n",
       "      <td>D0000042114742</td>\n",
       "      <td>서울특별시 복지정책실 복지기획관 장애인복지정책과</td>\n",
       "      <td>복지</td>\n",
       "      <td>\\n ▣ 마포뇌병변장애인 비전센터 운영     구분  내용    목적   학령기 이...</td>\n",
       "    </tr>\n",
       "  </tbody>\n",
       "</table>\n",
       "</div>"
      ],
      "text/plain": [
       "     번호                           제목         생산일  조회수   view_no  원본시스템  \\\n",
       "0  2645                  아빠 육아휴직 장려금  2021-08-17  144  23522464  다산콜센터   \n",
       "1  2644            [서울산업진흥원] 서울메이드란?  2021-06-29  166  23194045  다산콜센터   \n",
       "2  2643                    (강북구) 정비중  2021-06-02  215  23032485  다산콜센터   \n",
       "3  2642  광진맘택시 운영(임산부,영아 양육가정 전용 택시)  2021-05-13  288  22904492  다산콜센터   \n",
       "4  2641               마포 뇌병변장애인 비전센터  2021-03-12  441  22477798  다산콜센터   \n",
       "\n",
       "   작성자(책임자)            관리번호                        제공부서  분류  \\\n",
       "0  120다산콜재단  D0000043274645       서울특별시 서초구 주민생활국 여성보육과  복지   \n",
       "1  120다산콜재단  D0000042894548                     서울산업진흥원  경제   \n",
       "2  120다산콜재단  D0000042693048       서울특별시 강북구 생활복지국 청소행정과  환경   \n",
       "3  120다산콜재단  D0000042557522         서울특별시 광진구 복지국 가정복지과  복지   \n",
       "4  120다산콜재단  D0000042114742  서울특별시 복지정책실 복지기획관 장애인복지정책과  복지   \n",
       "\n",
       "                                                  내용  \n",
       "0  \\n      업무개요   남성근로자의 육아휴직을 장려하고 양육에 따른 경제적 부담...  \n",
       "1  \\n 서울의 감성을 담은 다양하고 새로운 경험을 제공하기 위해 만들어진 라이프스타일...  \n",
       "2  \\n    업무개요   투명 폐트병을 교환.보상하므로 수거율을 높이고 폐기물을 감량...  \n",
       "3  \\n    업무개요  교통약자인 임산부와 영아가정 주민이 병원 진료를 받으러 갈 떄...  \n",
       "4  \\n ▣ 마포뇌병변장애인 비전센터 운영     구분  내용    목적   학령기 이...  "
      ]
     },
     "execution_count": 45,
     "metadata": {},
     "output_type": "execute_result"
    }
   ],
   "source": [
    "# 기존 데이터와 병합, 내용이 함께 수집된 것을 확인\n",
    "df_detail = df.merge(df_view.drop(\"생산일\", axis=1), on=[\"view_no\"])\n",
    "df_detail.head()"
   ]
  },
  {
   "cell_type": "markdown",
   "metadata": {},
   "source": [
    "## 사용할 컬럼만 남기기"
   ]
  },
  {
   "cell_type": "code",
   "execution_count": 46,
   "metadata": {},
   "outputs": [
    {
     "data": {
      "text/plain": [
       "Index(['번호', '제목', '생산일', '조회수', 'view_no', '원본시스템', '작성자(책임자)', '관리번호',\n",
       "       '제공부서', '분류', '내용'],\n",
       "      dtype='object')"
      ]
     },
     "execution_count": 46,
     "metadata": {},
     "output_type": "execute_result"
    }
   ],
   "source": [
    "df_detail.columns"
   ]
  },
  {
   "cell_type": "code",
   "execution_count": 48,
   "metadata": {},
   "outputs": [],
   "source": [
    "# 제목 뒤에 문서가 보이도록 컬럼의 순서를 조정합니다.\n",
    "# 사용할 컬럼만 인덱싱 합니다.\n",
    "# 다음의 순서가 되게 합니다. '번호', '분류', '제목', '내용', 'view_no'\n",
    "df_detail = df_detail[['번호', '분류', '제목', '내용', 'view_no']]"
   ]
  },
  {
   "cell_type": "markdown",
   "metadata": {},
   "source": [
    "## 파일로 저장하고 확인하기\n",
    "\n",
    "<img src=\"https://pandas.pydata.org/docs/_images/02_io_readwrite.svg\">"
   ]
  },
  {
   "cell_type": "code",
   "execution_count": 49,
   "metadata": {},
   "outputs": [],
   "source": [
    "# 저장할 파일명\n",
    "file_name = \"seoul-120-sample.csv\""
   ]
  },
  {
   "cell_type": "code",
   "execution_count": 53,
   "metadata": {},
   "outputs": [],
   "source": [
    "# csv 파일로 저장하기\n",
    "df_detail.to_csv(file_name, index=False)"
   ]
  },
  {
   "cell_type": "code",
   "execution_count": 52,
   "metadata": {},
   "outputs": [
    {
     "data": {
      "text/html": [
       "<div>\n",
       "<style scoped>\n",
       "    .dataframe tbody tr th:only-of-type {\n",
       "        vertical-align: middle;\n",
       "    }\n",
       "\n",
       "    .dataframe tbody tr th {\n",
       "        vertical-align: top;\n",
       "    }\n",
       "\n",
       "    .dataframe thead th {\n",
       "        text-align: right;\n",
       "    }\n",
       "</style>\n",
       "<table border=\"1\" class=\"dataframe\">\n",
       "  <thead>\n",
       "    <tr style=\"text-align: right;\">\n",
       "      <th></th>\n",
       "      <th>번호</th>\n",
       "      <th>분류</th>\n",
       "      <th>제목</th>\n",
       "      <th>내용</th>\n",
       "      <th>view_no</th>\n",
       "    </tr>\n",
       "  </thead>\n",
       "  <tbody>\n",
       "    <tr>\n",
       "      <th>0</th>\n",
       "      <td>2645</td>\n",
       "      <td>복지</td>\n",
       "      <td>아빠 육아휴직 장려금</td>\n",
       "      <td>\\n      업무개요   남성근로자의 육아휴직을 장려하고 양육에 따른 경제적 부담...</td>\n",
       "      <td>23522464</td>\n",
       "    </tr>\n",
       "    <tr>\n",
       "      <th>1</th>\n",
       "      <td>2644</td>\n",
       "      <td>경제</td>\n",
       "      <td>[서울산업진흥원] 서울메이드란?</td>\n",
       "      <td>\\n 서울의 감성을 담은 다양하고 새로운 경험을 제공하기 위해 만들어진 라이프스타일...</td>\n",
       "      <td>23194045</td>\n",
       "    </tr>\n",
       "    <tr>\n",
       "      <th>2</th>\n",
       "      <td>2643</td>\n",
       "      <td>환경</td>\n",
       "      <td>(강북구) 정비중</td>\n",
       "      <td>\\n    업무개요   투명 폐트병을 교환.보상하므로 수거율을 높이고 폐기물을 감량...</td>\n",
       "      <td>23032485</td>\n",
       "    </tr>\n",
       "    <tr>\n",
       "      <th>3</th>\n",
       "      <td>2642</td>\n",
       "      <td>복지</td>\n",
       "      <td>광진맘택시 운영(임산부,영아 양육가정 전용 택시)</td>\n",
       "      <td>\\n    업무개요  교통약자인 임산부와 영아가정 주민이 병원 진료를 받으러 갈 떄...</td>\n",
       "      <td>22904492</td>\n",
       "    </tr>\n",
       "    <tr>\n",
       "      <th>4</th>\n",
       "      <td>2641</td>\n",
       "      <td>복지</td>\n",
       "      <td>마포 뇌병변장애인 비전센터</td>\n",
       "      <td>\\n ▣ 마포뇌병변장애인 비전센터 운영     구분  내용    목적   학령기 이...</td>\n",
       "      <td>22477798</td>\n",
       "    </tr>\n",
       "    <tr>\n",
       "      <th>5</th>\n",
       "      <td>2640</td>\n",
       "      <td>행정</td>\n",
       "      <td>2021년도 중1·고1 신입생 입학준비금 지원</td>\n",
       "      <td>\\n   업무개요   서울시는 전국 최초로 2021년도부터 25개 자치구, 교육청과...</td>\n",
       "      <td>22227896</td>\n",
       "    </tr>\n",
       "    <tr>\n",
       "      <th>6</th>\n",
       "      <td>2639</td>\n",
       "      <td>복지</td>\n",
       "      <td>위드유 서울 직장 성희롱.성폭력 예방센터</td>\n",
       "      <td>\\n    업무개요   직장 내 성희롱 지원체계 사각지대에 있는 서울 시민이 안전하...</td>\n",
       "      <td>21212235</td>\n",
       "    </tr>\n",
       "    <tr>\n",
       "      <th>7</th>\n",
       "      <td>2638</td>\n",
       "      <td>경제</td>\n",
       "      <td>[성동구] 반려동물 \"무료상담실\" 운영 안내</td>\n",
       "      <td>\\n▣ 반려동물 무료상담실_\"무엇이든 물어보시개?\" 운영 안내     구분  내용 ...</td>\n",
       "      <td>21095911</td>\n",
       "    </tr>\n",
       "    <tr>\n",
       "      <th>8</th>\n",
       "      <td>2637</td>\n",
       "      <td>복지</td>\n",
       "      <td>서울시 '우리동네꼼꼼육아정보' 책자</td>\n",
       "      <td>\\n서울시와 서울시육아종합지원센터는 140여 명의 우리동네 보육반장이 직접 발로 뛰...</td>\n",
       "      <td>18955676</td>\n",
       "    </tr>\n",
       "    <tr>\n",
       "      <th>9</th>\n",
       "      <td>2636</td>\n",
       "      <td>교통</td>\n",
       "      <td>반반택시 (심야시간 택시 동승앱)</td>\n",
       "      <td>\\n    업무개요   ○ 심야 택시수요 대비 택시공급 부족으로 발생하는 승차난 해...</td>\n",
       "      <td>18409818</td>\n",
       "    </tr>\n",
       "    <tr>\n",
       "      <th>10</th>\n",
       "      <td>2635</td>\n",
       "      <td>복지</td>\n",
       "      <td>서울시 사회서비스원은 무엇을 하는 곳인가요?</td>\n",
       "      <td>\\r\\n\\t\\t\\t\\t\\t\\t\\t○ 사회서비스 분야에서 공공부문의 역할을 강화하기 ...</td>\n",
       "      <td>18300944</td>\n",
       "    </tr>\n",
       "    <tr>\n",
       "      <th>11</th>\n",
       "      <td>2634</td>\n",
       "      <td>교통</td>\n",
       "      <td>[종료사업] S-Taxi 앱 (에스택시, 서울택시승차앱) 시범운영</td>\n",
       "      <td>\\r\\n\\t\\t\\t\\t\\t\\t\\t업무개요\\n\\n '빈차를 보고 택시를 이용' 하는 ...</td>\n",
       "      <td>17949033</td>\n",
       "    </tr>\n",
       "    <tr>\n",
       "      <th>12</th>\n",
       "      <td>2633</td>\n",
       "      <td>복지</td>\n",
       "      <td>장기요양 이동지원서비스(모두타 돌봄택시)</td>\n",
       "      <td>\\n     업무개요   보건복지부와 서울시택시운송사업조합의 민관협력사업으로 거동이...</td>\n",
       "      <td>17896364</td>\n",
       "    </tr>\n",
       "    <tr>\n",
       "      <th>13</th>\n",
       "      <td>2632</td>\n",
       "      <td>경제</td>\n",
       "      <td>취약가구 반려동물 동물등록.중성화 지원</td>\n",
       "      <td>\\r\\n\\t\\t\\t\\t\\t\\t\\t구분\\n\\n 내용\\n\\n\\n 업무개요\\n\\n - 서...</td>\n",
       "      <td>17837688</td>\n",
       "    </tr>\n",
       "    <tr>\n",
       "      <th>14</th>\n",
       "      <td>2631</td>\n",
       "      <td>복지</td>\n",
       "      <td>아름다운청년 전태일기념관</td>\n",
       "      <td>\\r\\n\\t\\t\\t\\t\\t\\t\\t구분\\n\\n내용\\n\\n\\n　\\n\\n주소\\n\\n 종로...</td>\n",
       "      <td>17505766</td>\n",
       "    </tr>\n",
       "    <tr>\n",
       "      <th>15</th>\n",
       "      <td>2630</td>\n",
       "      <td>교통</td>\n",
       "      <td>자동배차콜택시(웨이고 블루)/여성전용예약콜택시(웨이고 레이디)</td>\n",
       "      <td>\\n              구분  내 용     업무개요   ○ ㈜타고솔루션즈가 ...</td>\n",
       "      <td>19717325</td>\n",
       "    </tr>\n",
       "    <tr>\n",
       "      <th>16</th>\n",
       "      <td>2629</td>\n",
       "      <td>경제</td>\n",
       "      <td>등록된 법인의 지점이나 사업소는 별도로 등록해야 시공이 가능한가요 ?</td>\n",
       "      <td>\\n- 건설산업기본법에서는 건설업의 영업구역에 대하여 별도로  제한하고 있지 아니하...</td>\n",
       "      <td>16610518</td>\n",
       "    </tr>\n",
       "    <tr>\n",
       "      <th>17</th>\n",
       "      <td>2628</td>\n",
       "      <td>행정</td>\n",
       "      <td>광진환경백서는 몇년 주기로 발간됩니까?</td>\n",
       "      <td>\\n광진 환경백서는 3년 마다 발간됩니다. 참고로 지난 2003년부터 출간되어 최근...</td>\n",
       "      <td>16610517</td>\n",
       "    </tr>\n",
       "    <tr>\n",
       "      <th>18</th>\n",
       "      <td>2627</td>\n",
       "      <td>경제</td>\n",
       "      <td>건설업도 비영리법인 등록이 가능한가요?</td>\n",
       "      <td>\\n건설산업기본법 제9조 제3항의 규정에 의거 국가 또는 지자체가 자본금의 5할 이...</td>\n",
       "      <td>16610516</td>\n",
       "    </tr>\n",
       "    <tr>\n",
       "      <th>19</th>\n",
       "      <td>2626</td>\n",
       "      <td>경제</td>\n",
       "      <td>ESCO사업이란 뭔가요?</td>\n",
       "      <td>\\nESCO란 Energy Service Company(에너지절약전문기업)의 약자로...</td>\n",
       "      <td>16610515</td>\n",
       "    </tr>\n",
       "    <tr>\n",
       "      <th>20</th>\n",
       "      <td>2625</td>\n",
       "      <td>경제</td>\n",
       "      <td>ESCO사업의 주요 사업분야에는 어떤게 있나요?</td>\n",
       "      <td>\\nESCO사업 분야에는 산업체, 건물의 소형 열병합 발전사업, 보일러 교체(GHP...</td>\n",
       "      <td>16610514</td>\n",
       "    </tr>\n",
       "    <tr>\n",
       "      <th>21</th>\n",
       "      <td>2624</td>\n",
       "      <td>경제</td>\n",
       "      <td>ESCO(에너지절약전문기업)사업의 장점은?</td>\n",
       "      <td>\\n에너지사용자는 기술적 또는 경제적 부담없이 에너지절약형 시설로 개체가 가능하고 ...</td>\n",
       "      <td>16610513</td>\n",
       "    </tr>\n",
       "    <tr>\n",
       "      <th>22</th>\n",
       "      <td>2623</td>\n",
       "      <td>경제</td>\n",
       "      <td>2018년 은평 꽃 피는 장날</td>\n",
       "      <td>\\n업무개요 은평 꽃피는 장날 출전자 모집안내 운영기간 2018년 총6회 진행 : ...</td>\n",
       "      <td>16041433</td>\n",
       "    </tr>\n",
       "    <tr>\n",
       "      <th>23</th>\n",
       "      <td>2622</td>\n",
       "      <td>경제</td>\n",
       "      <td>[농업기술센터]도시청년 이동식 플라워마켓 창업지원(플라워트럭)</td>\n",
       "      <td>\\r\\n\\t\\t\\t\\t\\t\\t\\t▣ 도시청년 이동식 플라워마켓 창업지원 참여자 모집...</td>\n",
       "      <td>17829312</td>\n",
       "    </tr>\n",
       "    <tr>\n",
       "      <th>24</th>\n",
       "      <td>2621</td>\n",
       "      <td>경제</td>\n",
       "      <td>제2회 AI(인공지능)혁신포럼 ‘AI를 만난 블록체인’</td>\n",
       "      <td>\\n업무개요   4차 산업혁명을 이끄는 핵심기술인 인공지능(AI)과 블록체인을 연계...</td>\n",
       "      <td>15689946</td>\n",
       "    </tr>\n",
       "    <tr>\n",
       "      <th>25</th>\n",
       "      <td>2620</td>\n",
       "      <td>경제</td>\n",
       "      <td>아파트 태양광 설치 및 에너지절약 활성화 포럼</td>\n",
       "      <td>\\n업무개요 12가지 아파트 절전 포인트로 에너지 절약과 환경도 살리는 똑똑한 아파...</td>\n",
       "      <td>15680790</td>\n",
       "    </tr>\n",
       "    <tr>\n",
       "      <th>26</th>\n",
       "      <td>2619</td>\n",
       "      <td>경제</td>\n",
       "      <td>서울반려동물교육센터</td>\n",
       "      <td>\\r\\n\\t\\t\\t\\t\\t\\t\\t교육\\n\\n주제\\n\\n일시\\n\\n횟수 및 모집인원\\...</td>\n",
       "      <td>15625730</td>\n",
       "    </tr>\n",
       "    <tr>\n",
       "      <th>27</th>\n",
       "      <td>2618</td>\n",
       "      <td>주택도시계획</td>\n",
       "      <td>마곡산업단지 내 문화시설 건립</td>\n",
       "      <td>\\n             업무개요   마곡산업단지 내 문화시설 건립     업무설...</td>\n",
       "      <td>15472239</td>\n",
       "    </tr>\n",
       "    <tr>\n",
       "      <th>28</th>\n",
       "      <td>2617</td>\n",
       "      <td>문화관광</td>\n",
       "      <td>브라보 서초문화버스 (셔틀버스) 운행</td>\n",
       "      <td>\\n▣ 업무개요교통취약지역과 관내 문화시설을 연계하여 이용하는 서초구민의 편의를 제...</td>\n",
       "      <td>14823020</td>\n",
       "    </tr>\n",
       "    <tr>\n",
       "      <th>29</th>\n",
       "      <td>2616</td>\n",
       "      <td>문화관광</td>\n",
       "      <td>금천 나도스타 노래부르기 대회 (어린이날 행사)</td>\n",
       "      <td>\\r\\n\\t\\t\\t\\t\\t\\t\\t▣ [금천구] 제9회 금천 '나도스타' 노래부르기 ...</td>\n",
       "      <td>14649855</td>\n",
       "    </tr>\n",
       "  </tbody>\n",
       "</table>\n",
       "</div>"
      ],
      "text/plain": [
       "      번호      분류                                      제목  \\\n",
       "0   2645      복지                             아빠 육아휴직 장려금   \n",
       "1   2644      경제                       [서울산업진흥원] 서울메이드란?   \n",
       "2   2643      환경                               (강북구) 정비중   \n",
       "3   2642      복지             광진맘택시 운영(임산부,영아 양육가정 전용 택시)   \n",
       "4   2641      복지                          마포 뇌병변장애인 비전센터   \n",
       "5   2640      행정               2021년도 중1·고1 신입생 입학준비금 지원   \n",
       "6   2639      복지                  위드유 서울 직장 성희롱.성폭력 예방센터   \n",
       "7   2638      경제                [성동구] 반려동물 \"무료상담실\" 운영 안내   \n",
       "8   2637      복지                     서울시 '우리동네꼼꼼육아정보' 책자   \n",
       "9   2636      교통                      반반택시 (심야시간 택시 동승앱)   \n",
       "10  2635      복지                서울시 사회서비스원은 무엇을 하는 곳인가요?   \n",
       "11  2634      교통    [종료사업] S-Taxi 앱 (에스택시, 서울택시승차앱) 시범운영   \n",
       "12  2633      복지                  장기요양 이동지원서비스(모두타 돌봄택시)   \n",
       "13  2632      경제                   취약가구 반려동물 동물등록.중성화 지원   \n",
       "14  2631      복지                           아름다운청년 전태일기념관   \n",
       "15  2630      교통      자동배차콜택시(웨이고 블루)/여성전용예약콜택시(웨이고 레이디)   \n",
       "16  2629      경제  등록된 법인의 지점이나 사업소는 별도로 등록해야 시공이 가능한가요 ?   \n",
       "17  2628      행정                   광진환경백서는 몇년 주기로 발간됩니까?   \n",
       "18  2627      경제                   건설업도 비영리법인 등록이 가능한가요?   \n",
       "19  2626      경제                           ESCO사업이란 뭔가요?   \n",
       "20  2625      경제              ESCO사업의 주요 사업분야에는 어떤게 있나요?   \n",
       "21  2624      경제                 ESCO(에너지절약전문기업)사업의 장점은?   \n",
       "22  2623      경제                        2018년 은평 꽃 피는 장날   \n",
       "23  2622      경제      [농업기술센터]도시청년 이동식 플라워마켓 창업지원(플라워트럭)   \n",
       "24  2621      경제          제2회 AI(인공지능)혁신포럼 ‘AI를 만난 블록체인’   \n",
       "25  2620      경제               아파트 태양광 설치 및 에너지절약 활성화 포럼   \n",
       "26  2619      경제                              서울반려동물교육센터   \n",
       "27  2618  주택도시계획                        마곡산업단지 내 문화시설 건립   \n",
       "28  2617    문화관광                    브라보 서초문화버스 (셔틀버스) 운행   \n",
       "29  2616    문화관광              금천 나도스타 노래부르기 대회 (어린이날 행사)   \n",
       "\n",
       "                                                   내용   view_no  \n",
       "0   \\n      업무개요   남성근로자의 육아휴직을 장려하고 양육에 따른 경제적 부담...  23522464  \n",
       "1   \\n 서울의 감성을 담은 다양하고 새로운 경험을 제공하기 위해 만들어진 라이프스타일...  23194045  \n",
       "2   \\n    업무개요   투명 폐트병을 교환.보상하므로 수거율을 높이고 폐기물을 감량...  23032485  \n",
       "3   \\n    업무개요  교통약자인 임산부와 영아가정 주민이 병원 진료를 받으러 갈 떄...  22904492  \n",
       "4   \\n ▣ 마포뇌병변장애인 비전센터 운영     구분  내용    목적   학령기 이...  22477798  \n",
       "5   \\n   업무개요   서울시는 전국 최초로 2021년도부터 25개 자치구, 교육청과...  22227896  \n",
       "6   \\n    업무개요   직장 내 성희롱 지원체계 사각지대에 있는 서울 시민이 안전하...  21212235  \n",
       "7   \\n▣ 반려동물 무료상담실_\"무엇이든 물어보시개?\" 운영 안내     구분  내용 ...  21095911  \n",
       "8   \\n서울시와 서울시육아종합지원센터는 140여 명의 우리동네 보육반장이 직접 발로 뛰...  18955676  \n",
       "9   \\n    업무개요   ○ 심야 택시수요 대비 택시공급 부족으로 발생하는 승차난 해...  18409818  \n",
       "10  \\r\\n\\t\\t\\t\\t\\t\\t\\t○ 사회서비스 분야에서 공공부문의 역할을 강화하기 ...  18300944  \n",
       "11  \\r\\n\\t\\t\\t\\t\\t\\t\\t업무개요\\n\\n '빈차를 보고 택시를 이용' 하는 ...  17949033  \n",
       "12  \\n     업무개요   보건복지부와 서울시택시운송사업조합의 민관협력사업으로 거동이...  17896364  \n",
       "13  \\r\\n\\t\\t\\t\\t\\t\\t\\t구분\\n\\n 내용\\n\\n\\n 업무개요\\n\\n - 서...  17837688  \n",
       "14  \\r\\n\\t\\t\\t\\t\\t\\t\\t구분\\n\\n내용\\n\\n\\n　\\n\\n주소\\n\\n 종로...  17505766  \n",
       "15  \\n              구분  내 용     업무개요   ○ ㈜타고솔루션즈가 ...  19717325  \n",
       "16  \\n- 건설산업기본법에서는 건설업의 영업구역에 대하여 별도로  제한하고 있지 아니하...  16610518  \n",
       "17  \\n광진 환경백서는 3년 마다 발간됩니다. 참고로 지난 2003년부터 출간되어 최근...  16610517  \n",
       "18  \\n건설산업기본법 제9조 제3항의 규정에 의거 국가 또는 지자체가 자본금의 5할 이...  16610516  \n",
       "19  \\nESCO란 Energy Service Company(에너지절약전문기업)의 약자로...  16610515  \n",
       "20  \\nESCO사업 분야에는 산업체, 건물의 소형 열병합 발전사업, 보일러 교체(GHP...  16610514  \n",
       "21  \\n에너지사용자는 기술적 또는 경제적 부담없이 에너지절약형 시설로 개체가 가능하고 ...  16610513  \n",
       "22  \\n업무개요 은평 꽃피는 장날 출전자 모집안내 운영기간 2018년 총6회 진행 : ...  16041433  \n",
       "23  \\r\\n\\t\\t\\t\\t\\t\\t\\t▣ 도시청년 이동식 플라워마켓 창업지원 참여자 모집...  17829312  \n",
       "24  \\n업무개요   4차 산업혁명을 이끄는 핵심기술인 인공지능(AI)과 블록체인을 연계...  15689946  \n",
       "25  \\n업무개요 12가지 아파트 절전 포인트로 에너지 절약과 환경도 살리는 똑똑한 아파...  15680790  \n",
       "26  \\r\\n\\t\\t\\t\\t\\t\\t\\t교육\\n\\n주제\\n\\n일시\\n\\n횟수 및 모집인원\\...  15625730  \n",
       "27  \\n             업무개요   마곡산업단지 내 문화시설 건립     업무설...  15472239  \n",
       "28  \\n▣ 업무개요교통취약지역과 관내 문화시설을 연계하여 이용하는 서초구민의 편의를 제...  14823020  \n",
       "29  \\r\\n\\t\\t\\t\\t\\t\\t\\t▣ [금천구] 제9회 금천 '나도스타' 노래부르기 ...  14649855  "
      ]
     },
     "execution_count": 52,
     "metadata": {},
     "output_type": "execute_result"
    }
   ],
   "source": [
    "# csv 파일로 읽어오기\n",
    "pd.read_csv(file_name)"
   ]
  },
  {
   "cell_type": "code",
   "execution_count": null,
   "metadata": {},
   "outputs": [],
   "source": []
  },
  {
   "cell_type": "code",
   "execution_count": null,
   "metadata": {},
   "outputs": [],
   "source": []
  }
 ],
 "metadata": {
  "kernelspec": {
   "display_name": "Python 3",
   "language": "python",
   "name": "python3"
  },
  "language_info": {
   "codemirror_mode": {
    "name": "ipython",
    "version": 3
   },
   "file_extension": ".py",
   "mimetype": "text/x-python",
   "name": "python",
   "nbconvert_exporter": "python",
   "pygments_lexer": "ipython3",
   "version": "3.7.6"
  },
  "toc": {
   "base_numbering": 1,
   "nav_menu": {},
   "number_sections": true,
   "sideBar": true,
   "skip_h1_title": false,
   "title_cell": "Table of Contents",
   "title_sidebar": "Contents",
   "toc_cell": false,
   "toc_position": {},
   "toc_section_display": true,
   "toc_window_display": false
  },
  "varInspector": {
   "cols": {
    "lenName": 16,
    "lenType": 16,
    "lenVar": 40
   },
   "kernels_config": {
    "python": {
     "delete_cmd_postfix": "",
     "delete_cmd_prefix": "del ",
     "library": "var_list.py",
     "varRefreshCmd": "print(var_dic_list())"
    },
    "r": {
     "delete_cmd_postfix": ") ",
     "delete_cmd_prefix": "rm(",
     "library": "var_list.r",
     "varRefreshCmd": "cat(var_dic_list()) "
    }
   },
   "types_to_exclude": [
    "module",
    "function",
    "builtin_function_or_method",
    "instance",
    "_Feature"
   ],
   "window_display": false
  }
 },
 "nbformat": 4,
 "nbformat_minor": 2
}
