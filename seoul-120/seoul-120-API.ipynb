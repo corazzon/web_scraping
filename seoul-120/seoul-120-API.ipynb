{
 "cells": [
  {
   "cell_type": "markdown",
   "metadata": {},
   "source": [
    "<html><head></head><body><font color = 'red'><strong>▶메타정보</strong></font><table border = '1'><tbody><tr><th scope = 'row' bgcolor = '#cccccc'>공공정보명</th><td>120상담정보</td><th scope = 'row' bgcolor = '#cccccc'>서비스명</th><td>서울시 다산콜센터 자주묻는질문 목록 조회</td></tr><tr><th scope = 'row' bgcolor = '#cccccc'>서비스설명</th><td colspan = '3'>서울시 및 자치구에서 수행하는 정책</td></tr></table></html>\n",
    "  \n",
    "  \n",
    "    \n",
    "* [오픈 API 이용안내> 이용안내 | 서울열린데이터광장](https://data.seoul.go.kr/together/guide/useGuide.do)\n",
    "* https://data.seoul.go.kr/dataList/OA-1127/S/1/datasetView.do"
   ]
  },
  {
   "cell_type": "markdown",
   "metadata": {},
   "source": [
    "## 라이브러리 로드"
   ]
  },
  {
   "cell_type": "code",
   "execution_count": 1,
   "metadata": {},
   "outputs": [],
   "source": [
    "# read_xml 사용을 위해서는 1.3.5 이상의 버전을 사용해야 합니다.\n",
    "# pip install pandas -U "
   ]
  },
  {
   "cell_type": "code",
   "execution_count": 2,
   "metadata": {},
   "outputs": [],
   "source": [
    "import pandas as pd\n",
    "import requests\n",
    "from bs4 import BeautifulSoup as bs"
   ]
  },
  {
   "cell_type": "markdown",
   "metadata": {},
   "source": [
    "## 라이센스 확인"
   ]
  },
  {
   "cell_type": "code",
   "execution_count": 3,
   "metadata": {},
   "outputs": [
    {
     "data": {
      "text/html": [
       "<div>\n",
       "<style scoped>\n",
       "    .dataframe tbody tr th:only-of-type {\n",
       "        vertical-align: middle;\n",
       "    }\n",
       "\n",
       "    .dataframe tbody tr th {\n",
       "        vertical-align: top;\n",
       "    }\n",
       "\n",
       "    .dataframe thead th {\n",
       "        text-align: right;\n",
       "    }\n",
       "</style>\n",
       "<table border=\"1\" class=\"dataframe\">\n",
       "  <thead>\n",
       "    <tr style=\"text-align: right;\">\n",
       "      <th></th>\n",
       "      <th>공개일자</th>\n",
       "      <th>최신수정일자</th>\n",
       "      <th>갱신주기</th>\n",
       "      <th>분류</th>\n",
       "      <th>원본시스템</th>\n",
       "      <th>저작권자</th>\n",
       "      <th>제공기관</th>\n",
       "      <th>제공부서</th>\n",
       "      <th>원본형태</th>\n",
       "      <th>제3저작권자</th>\n",
       "      <th>라이센스</th>\n",
       "      <th>관련 태그</th>\n",
       "    </tr>\n",
       "  </thead>\n",
       "  <tbody>\n",
       "    <tr>\n",
       "      <th>1</th>\n",
       "      <td>2012.05.11</td>\n",
       "      <td>2020.04.03</td>\n",
       "      <td>비정기(수시, 자료변경시)</td>\n",
       "      <td>일반행정</td>\n",
       "      <td>120 다산콜센터 상담시스템</td>\n",
       "      <td>서울특별시</td>\n",
       "      <td>120다산콜재단</td>\n",
       "      <td>시스템관리팀</td>\n",
       "      <td>DB</td>\n",
       "      <td>없음</td>\n",
       "      <td>저작권자표시(BY) : 이용이나 변경 및 2차적 저작물의 작성을 포함한 자유이용을 ...</td>\n",
       "      <td>다산  , 콜센터  , 120  , 질문  , 민원</td>\n",
       "    </tr>\n",
       "  </tbody>\n",
       "</table>\n",
       "</div>"
      ],
      "text/plain": [
       "0        공개일자      최신수정일자            갱신주기    분류            원본시스템   저작권자  \\\n",
       "1  2012.05.11  2020.04.03  비정기(수시, 자료변경시)  일반행정  120 다산콜센터 상담시스템  서울특별시   \n",
       "\n",
       "0      제공기관    제공부서 원본형태 제3저작권자  \\\n",
       "1  120다산콜재단  시스템관리팀   DB     없음   \n",
       "\n",
       "0                                               라이센스  \\\n",
       "1  저작권자표시(BY) : 이용이나 변경 및 2차적 저작물의 작성을 포함한 자유이용을 ...   \n",
       "\n",
       "0                         관련 태그  \n",
       "1  다산  , 콜센터  , 120  , 질문  , 민원  "
      ]
     },
     "execution_count": 3,
     "metadata": {},
     "output_type": "execute_result"
    }
   ],
   "source": [
    "api_document_url = \"https://data.seoul.go.kr/dataList/OA-1127/S/1/datasetView.do\"\n",
    "df_api_doc = pd.read_html(api_document_url)[2]\n",
    "df_api_doc = df_api_doc.set_index(0).T\n",
    "df_api_doc"
   ]
  },
  {
   "cell_type": "code",
   "execution_count": 4,
   "metadata": {},
   "outputs": [
    {
     "data": {
      "text/plain": [
       "'저작권자표시(BY) : 이용이나 변경 및 2차적 저작물의 작성을 포함한 자유이용을 허락합니다.'"
      ]
     },
     "execution_count": 4,
     "metadata": {},
     "output_type": "execute_result"
    }
   ],
   "source": [
    "df_api_doc.loc[1, \"라이센스\"]"
   ]
  },
  {
   "cell_type": "markdown",
   "metadata": {},
   "source": [
    "## 수집할 URL"
   ]
  },
  {
   "cell_type": "code",
   "execution_count": 5,
   "metadata": {},
   "outputs": [],
   "source": [
    "import auth_key\n",
    "\n",
    "auth_key_val = auth_key.seoul_api_key()"
   ]
  },
  {
   "cell_type": "code",
   "execution_count": 6,
   "metadata": {},
   "outputs": [],
   "source": [
    "faq_url = f\"http://openAPI.seoul.go.kr:8088/{auth_key_val}/xml/SearchFAQService/1/999/\""
   ]
  },
  {
   "cell_type": "markdown",
   "metadata": {},
   "source": [
    "```\n",
    "<row>\n",
    "<FAQ_TP>S</FAQ_TP>\n",
    "<FAQ_SEQNO>289515</FAQ_SEQNO>\n",
    "<FAQ_TP_NAME>서울시 업무매뉴얼</FAQ_TP_NAME>\n",
    "<LCODE>22214335</LCODE>\n",
    "<LCODE_NAME>수송및교통</LCODE_NAME>\n",
    "<QUEST>차 없는 거리_종로</QUEST>\n",
    "<UPDATE_YMDHMS>20200414143921</UPDATE_YMDHMS>\n",
    "</row>\n",
    "```"
   ]
  },
  {
   "cell_type": "markdown",
   "metadata": {},
   "source": [
    "## HTTP 요청으로 목록 수집"
   ]
  },
  {
   "cell_type": "code",
   "execution_count": 7,
   "metadata": {},
   "outputs": [],
   "source": [
    "result = requests.get(faq_url, verify=False)"
   ]
  },
  {
   "cell_type": "markdown",
   "metadata": {},
   "source": [
    "## XML 데이터 해석"
   ]
  },
  {
   "cell_type": "code",
   "execution_count": 8,
   "metadata": {},
   "outputs": [],
   "source": [
    "xmlsoup = bs(result.text, \"lxml-xml\")"
   ]
  },
  {
   "cell_type": "code",
   "execution_count": 9,
   "metadata": {},
   "outputs": [],
   "source": [
    "row_list = [row for row in xmlsoup.select(\"row\")]"
   ]
  },
  {
   "cell_type": "code",
   "execution_count": 10,
   "metadata": {},
   "outputs": [
    {
     "data": {
      "text/plain": [
       "<row>\n",
       "<FAQ_TP>F</FAQ_TP>\n",
       "<FAQ_SEQNO>289427</FAQ_SEQNO>\n",
       "<FAQ_TP_NAME>FAQ</FAQ_TP_NAME>\n",
       "<LCODE>22214327</LCODE>\n",
       "<LCODE_NAME>일반공공행정</LCODE_NAME>\n",
       "<QUEST>[시ㆍ구정외 타기관 관련 상담] 고용노동부 [일자리 안정자금]</QUEST>\n",
       "<UPDATE_YMDHMS>20190522102043</UPDATE_YMDHMS>\n",
       "</row>"
      ]
     },
     "execution_count": 10,
     "metadata": {},
     "output_type": "execute_result"
    }
   ],
   "source": [
    "row_list[0]"
   ]
  },
  {
   "cell_type": "markdown",
   "metadata": {},
   "source": [
    "## 함수로 만들기"
   ]
  },
  {
   "cell_type": "code",
   "execution_count": 11,
   "metadata": {},
   "outputs": [],
   "source": [
    "row = row_list[0]\n",
    "content_list = []\n",
    "def parse_row(row):\n",
    "    FAQ_TP = row.select(\"FAQ_TP\")\n",
    "    FAQ_TP_NAME = row.select(\"FAQ_TP_NAME\")\n",
    "    LCODE = row.select(\"LCODE\")\n",
    "    LCODE_NAME = row.select(\"LCODE_NAME\")\n",
    "    QUEST = row.select(\"QUEST\")\n",
    "    return FAQ_TP, FAQ_TP_NAME, LCODE, LCODE_NAME, QUEST"
   ]
  },
  {
   "cell_type": "code",
   "execution_count": 12,
   "metadata": {},
   "outputs": [],
   "source": [
    "# http://openapi.seoul.go.kr:8088/sample/xml/SearchDetailsFAQService/1/5/F/"
   ]
  },
  {
   "cell_type": "markdown",
   "metadata": {},
   "source": [
    "* F : FAQ\n",
    "* S : 서울시 업무매뉴얼\n",
    "* J : 자치구 업무매뉴얼"
   ]
  },
  {
   "cell_type": "markdown",
   "metadata": {},
   "source": [
    "## 내용수집"
   ]
  },
  {
   "cell_type": "code",
   "execution_count": 13,
   "metadata": {},
   "outputs": [],
   "source": [
    "faq_no = 289435\n",
    "detail_url = f\"http://openapi.seoul.go.kr:8088/sample/xml/SearchDetailsFAQService/1/5/F/{faq_no}\""
   ]
  },
  {
   "cell_type": "code",
   "execution_count": 14,
   "metadata": {},
   "outputs": [],
   "source": [
    "result = requests.get(detail_url, verify=False)\n",
    "xmlsoup = bs(result.text, \"lxml-xml\")"
   ]
  },
  {
   "cell_type": "code",
   "execution_count": 15,
   "metadata": {},
   "outputs": [
    {
     "data": {
      "text/plain": [
       "True"
      ]
     },
     "execution_count": 15,
     "metadata": {},
     "output_type": "execute_result"
    }
   ],
   "source": [
    "xmlsoup.select(\"CODE\")[0].get_text() == \"INFO-000\""
   ]
  },
  {
   "cell_type": "code",
   "execution_count": 16,
   "metadata": {},
   "outputs": [
    {
     "data": {
      "text/plain": [
       "'<?xml version=\"1.0\" encoding=\"UTF-8\"?>\\n<SearchDetailsFAQService>\\n<list_total_count>1</list_total_count>\\n<RESULT>\\n<CODE>INFO-000</CODE>\\n<MESSAGE>정상 처리되었습니다</MESSAGE>\\n</RESULT>\\n<row>\\n<FAQ_TP>F</FAQ_TP>\\n<FAQ_SEQNO>289435</FAQ_SEQNO>\\n<QUEST><![CDATA[서대문구립인조잔디구장 FAQ]]></QUEST>\\n<ANSWER><![CDATA[？？\\n\\n\\n\\n\\n\\n주요 질의사항\\n\\n\\n\\n답 변 사 항\\n\\n\\n\\n\\n\\n인조잔디구장 위치는\\n\\n\\n\\n어떻게 되나요?\\n\\n\\n\\n인조잔디구장은 서대문문화체육회관 뒤편 구 백련배수지에 위치하고 있습니다. \\n\\n\\n\\n\\n\\n인조잔디구장 예약은\\n\\n\\n\\n어떤 식으로 해야 하나요?\\n\\n\\n\\n- 인조잔디구장 사용 예약은 추첨을 통해 이루어집니다.\\n\\n\\n\\n- 추첨에 참가하기 위해서는 몇 가지 조건이 있으며, 그 조건은\\n\\n\\n\\n 다음과 같습니다.\\n\\n\\n\\n- 첫째 22명 이상의 팀원으로 구성된 팀 중 절반 이상(11명)이 서대문 구민이어야 하며, 홈페이지에 첨부된 등록서를 제출하셔서 팀 등록을 마치셔야 합니다.\\n\\n\\n\\n- 둘째 팀 등록을 마친 팀은 짝수 달 마지막 목요일 19:00에 문화체육회관 2층 소극장에서 추첨을 통하여 다음 두 달간의 일정이 예약됩니다.\\n\\n\\n\\n\\n\\n인조잔디구장 사용료는\\n\\n\\n\\n얼마입니까?\\n\\n\\n\\n인조잔디구장 사용료는 평일(2시간) 60,500원이며 공휴일은 30%가\\n\\n\\n\\n가산된 78,650원입니다. \\n\\n\\n\\n\\n\\n조명사용료는 얼마입니까?\\n\\n\\n\\n일출？일몰 시간에 맞춰 조명사용을 하며 30분당 5,250원이 부과 됩니다. \\n\\n\\n\\n\\n\\n예약현황은 어떻게 알 수\\n\\n\\n\\n있나요?\\n\\n\\n\\n서대문구도시관리공단 인조잔디구장 홈페이지 (https://www.sscmc.or.kr/culture1/grass/grass_list.asp)에 인조잔디구장 예약 현황을 엑셀파일로 실시간 업데이트하고 있으니, 참고하시기 바랍니다.\\n\\n\\n\\n\\n\\n주차장 운영시간 및\\n\\n\\n\\n주차요금은 어떻게 되나요?\\n\\n\\n\\n주차장 운영시간은 평일 09:00 ~ 18:00이며, 주차요금은 30분당\\n\\n\\n\\n1,000원의 주차요금을 징수하고 있습니다. 단, 운영시간 이외 및\\n\\n\\n\\n토？일요일(공휴일 포함)은 무료주차입니다.\\n\\n\\n\\n평일 잔디구장 사용 2시간당 5대 무료주차 혜택을 제공합니다.\\n\\n\\n\\n\\n\\n？？]]></ANSWER>\\n<UPDATE_YMDHMS>20180119145303</UPDATE_YMDHMS>\\n</row>\\n</SearchDetailsFAQService>\\n'"
      ]
     },
     "execution_count": 16,
     "metadata": {},
     "output_type": "execute_result"
    }
   ],
   "source": [
    "result.text"
   ]
  },
  {
   "cell_type": "code",
   "execution_count": 17,
   "metadata": {},
   "outputs": [
    {
     "data": {
      "text/html": [
       "<div>\n",
       "<style scoped>\n",
       "    .dataframe tbody tr th:only-of-type {\n",
       "        vertical-align: middle;\n",
       "    }\n",
       "\n",
       "    .dataframe tbody tr th {\n",
       "        vertical-align: top;\n",
       "    }\n",
       "\n",
       "    .dataframe thead th {\n",
       "        text-align: right;\n",
       "    }\n",
       "</style>\n",
       "<table border=\"1\" class=\"dataframe\">\n",
       "  <thead>\n",
       "    <tr style=\"text-align: right;\">\n",
       "      <th></th>\n",
       "      <th>list_total_count</th>\n",
       "      <th>CODE</th>\n",
       "      <th>MESSAGE</th>\n",
       "      <th>FAQ_TP</th>\n",
       "      <th>FAQ_SEQNO</th>\n",
       "      <th>QUEST</th>\n",
       "      <th>ANSWER</th>\n",
       "      <th>UPDATE_YMDHMS</th>\n",
       "    </tr>\n",
       "  </thead>\n",
       "  <tbody>\n",
       "    <tr>\n",
       "      <th>2</th>\n",
       "      <td>NaN</td>\n",
       "      <td>None</td>\n",
       "      <td>None</td>\n",
       "      <td>F</td>\n",
       "      <td>289435.0</td>\n",
       "      <td>서대문구립인조잔디구장 FAQ</td>\n",
       "      <td>？？\\n\\n\\n\\n\\n\\n주요 질의사항\\n\\n\\n\\n답 변 사 항\\n\\n\\n\\n\\n...</td>\n",
       "      <td>20180119145303.0</td>\n",
       "    </tr>\n",
       "  </tbody>\n",
       "</table>\n",
       "</div>"
      ],
      "text/plain": [
       "  list_total_count  CODE MESSAGE FAQ_TP FAQ_SEQNO            QUEST  \\\n",
       "2              NaN  None    None      F  289435.0  서대문구립인조잔디구장 FAQ   \n",
       "\n",
       "                                              ANSWER     UPDATE_YMDHMS  \n",
       "2  ？？\\n\\n\\n\\n\\n\\n주요 질의사항\\n\\n\\n\\n답 변 사 항\\n\\n\\n\\n\\n...  20180119145303.0  "
      ]
     },
     "execution_count": 17,
     "metadata": {},
     "output_type": "execute_result"
    }
   ],
   "source": [
    "pd.read_xml(result.text).loc[2].to_frame().T"
   ]
  },
  {
   "cell_type": "markdown",
   "metadata": {},
   "source": [
    "## 하나의 데이터프레임으로 만들기"
   ]
  },
  {
   "cell_type": "code",
   "execution_count": 18,
   "metadata": {},
   "outputs": [],
   "source": [
    "# 목록과 내용을 하나의 데이터프레임으로 만들기\n"
   ]
  },
  {
   "cell_type": "markdown",
   "metadata": {},
   "source": [
    "## 파일로 저장하기"
   ]
  },
  {
   "cell_type": "code",
   "execution_count": null,
   "metadata": {},
   "outputs": [],
   "source": []
  },
  {
   "cell_type": "code",
   "execution_count": null,
   "metadata": {},
   "outputs": [],
   "source": []
  },
  {
   "cell_type": "code",
   "execution_count": null,
   "metadata": {},
   "outputs": [],
   "source": []
  }
 ],
 "metadata": {
  "kernelspec": {
   "display_name": "Python 3",
   "language": "python",
   "name": "python3"
  },
  "language_info": {
   "codemirror_mode": {
    "name": "ipython",
    "version": 3
   },
   "file_extension": ".py",
   "mimetype": "text/x-python",
   "name": "python",
   "nbconvert_exporter": "python",
   "pygments_lexer": "ipython3",
   "version": "3.7.6"
  },
  "toc": {
   "base_numbering": 1,
   "nav_menu": {},
   "number_sections": true,
   "sideBar": true,
   "skip_h1_title": false,
   "title_cell": "Table of Contents",
   "title_sidebar": "Contents",
   "toc_cell": false,
   "toc_position": {},
   "toc_section_display": true,
   "toc_window_display": false
  },
  "varInspector": {
   "cols": {
    "lenName": 16,
    "lenType": 16,
    "lenVar": 40
   },
   "kernels_config": {
    "python": {
     "delete_cmd_postfix": "",
     "delete_cmd_prefix": "del ",
     "library": "var_list.py",
     "varRefreshCmd": "print(var_dic_list())"
    },
    "r": {
     "delete_cmd_postfix": ") ",
     "delete_cmd_prefix": "rm(",
     "library": "var_list.r",
     "varRefreshCmd": "cat(var_dic_list()) "
    }
   },
   "types_to_exclude": [
    "module",
    "function",
    "builtin_function_or_method",
    "instance",
    "_Feature"
   ],
   "window_display": false
  }
 },
 "nbformat": 4,
 "nbformat_minor": 4
}
