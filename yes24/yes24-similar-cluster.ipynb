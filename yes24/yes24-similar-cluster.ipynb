{
 "cells": [
  {
   "cell_type": "markdown",
   "id": "25a211be-e5ec-40e4-a541-f43e20453ff7",
   "metadata": {},
   "source": [
    "### 유사도를 통한 콘텐츠 기반의 추천 시스템과 군집화 분석"
   ]
  },
  {
   "cell_type": "code",
   "execution_count": null,
   "id": "e9a62da2-cbaa-4e97-9ef5-101ed9d0752b",
   "metadata": {},
   "outputs": [],
   "source": [
    "import sqlite3\n",
    "import pandas as pd\n",
    "import seaborn as sns\n",
    "import koreanize_matplotlib\n",
    "import matplotlib.pyplot as plt\n",
    "\n",
    "conn = sqlite3.connect('yes24_books_it.db')\n",
    "df = pd.read_sql_query(\"SELECT * FROM books\", conn)\n",
    "conn.close()"
   ]
  },
  {
   "cell_type": "code",
   "execution_count": null,
   "id": "b16411a3-4b5d-456f-8d57-7bc5b74943d0",
   "metadata": {},
   "outputs": [],
   "source": [
    "df"
   ]
  },
  {
   "cell_type": "markdown",
   "id": "af562cba-1630-41de-b40e-057f8309630e",
   "metadata": {},
   "source": [
    "## 유사도 계산"
   ]
  },
  {
   "cell_type": "code",
   "execution_count": null,
   "id": "8440f853-22ee-4431-8ef1-5624f69d5083",
   "metadata": {},
   "outputs": [],
   "source": [
    "from sklearn.feature_extraction.text import TfidfVectorizer\n",
    "from sklearn.metrics.pairwise import cosine_similarity\n",
    "\n",
    "# 데이터 전처리\n",
    "df['combined_text'] = df['title'] + ' ' + df['description'].fillna('')\n",
    "\n",
    "# TF-IDF 벡터화\n",
    "vectorizer = TfidfVectorizer(stop_words='english')\n",
    "tfidf_matrix = vectorizer.fit_transform(df['combined_text'])\n",
    "\n",
    "# 코사인 유사도 계산\n",
    "cosine_sim = cosine_similarity(tfidf_matrix, tfidf_matrix)\n",
    "cosine_sim"
   ]
  },
  {
   "cell_type": "code",
   "execution_count": null,
   "id": "aada85c0-2d15-4ed9-8f5f-2920799131be",
   "metadata": {},
   "outputs": [],
   "source": [
    "sns.heatmap(cosine_sim[:100, :100])"
   ]
  },
  {
   "cell_type": "code",
   "execution_count": null,
   "id": "063640f4-2ee1-47f0-be89-62f8dc7c3620",
   "metadata": {},
   "outputs": [],
   "source": [
    "## 유사도 정렬로 콘텐츠 기반 추천시스템 작성"
   ]
  },
  {
   "cell_type": "code",
   "execution_count": null,
   "id": "a7a6d857-7e3d-4a9e-8126-773a4b1096cf",
   "metadata": {},
   "outputs": [],
   "source": [
    "# 유사도 기반 책 추천 함수\n",
    "def get_recommendations(title, cosine_sim=cosine_sim):\n",
    "    idx = df[df['title'].str.contains(title)].index[0]\n",
    "    sim_scores = list(enumerate(cosine_sim[idx]))\n",
    "    sim_scores = sorted(sim_scores, key=lambda x: x[1], reverse=True)\n",
    "    sim_scores = sim_scores[1:6]  # 상위 5개 추천\n",
    "    book_indices = [i[0] for i in sim_scores]\n",
    "    return df['title'].iloc[book_indices]\n",
    "\n",
    "# 제목으로 유사한 책 추천\n",
    "get_recommendations('프롬프트 엔지니어링')"
   ]
  },
  {
   "cell_type": "code",
   "execution_count": null,
   "id": "ed5cf904-b357-4888-93fe-41ad69eba8bf",
   "metadata": {},
   "outputs": [],
   "source": [
    "get_recommendations('생성형AI')"
   ]
  },
  {
   "cell_type": "markdown",
   "id": "c87b77b9-c946-4102-9ab2-fac6a651115e",
   "metadata": {},
   "source": [
    "### 콘텐츠 기반 추천 시스템(Content-based Recommender System)"
   ]
  },
  {
   "cell_type": "code",
   "execution_count": null,
   "id": "ae6dcb34-e327-41f1-bc8f-8555e32e867e",
   "metadata": {},
   "outputs": [],
   "source": [
    "# 문서 번호로 유사도를 찾는 함수\n",
    "def get_recommendations_by_index(index, cosine_sim=cosine_sim, df=df):\n",
    "    sim_scores = list(enumerate(cosine_sim[index]))\n",
    "    sim_scores = sorted(sim_scores, key=lambda x: x[1], reverse=True)\n",
    "    sim_scores = sim_scores[1:6]  # 상위 5개 추천 (자기 자신 제외)\n",
    "    book_indices = [i[0] for i in sim_scores]\n",
    "    \n",
    "    result = df.iloc[book_indices][['title', 'author', 'publisher']]\n",
    "    result['similarity'] = [i[1] for i in sim_scores]\n",
    "    \n",
    "    return result"
   ]
  },
  {
   "cell_type": "code",
   "execution_count": null,
   "id": "9e50961d-326c-4879-a6ea-defa63d92ac5",
   "metadata": {},
   "outputs": [],
   "source": [
    "# 사용 예시\n",
    "index = 0  # 첫 번째 책의 인덱스\n",
    "similar_books = get_recommendations_by_index(index)\n",
    "print(f\"책 '{df.iloc[index]['title']}'와 유사한 책들:\")\n",
    "display(similar_books)\n",
    "\n",
    "# 랜덤한 인덱스로 테스트\n",
    "random_index_list = np.random.randint(0, len(df), 3)\n",
    "for random_index in random_index_list:\n",
    "    similar_books = get_recommendations_by_index(random_index)\n",
    "    print(f\"\\n책 '{df.iloc[random_index]['title']}'와 유사한 책들:\")\n",
    "    display(similar_books)"
   ]
  },
  {
   "cell_type": "markdown",
   "id": "76b10935-2607-4869-8af0-8eaf17f66e7f",
   "metadata": {},
   "source": [
    "### 군집화 "
   ]
  },
  {
   "cell_type": "code",
   "execution_count": null,
   "id": "d19fb8d1-b6ad-48fd-9c97-2d1d79d1ef18",
   "metadata": {},
   "outputs": [],
   "source": [
    "from sklearn.cluster import KMeans\n",
    "from sklearn.decomposition import PCA\n",
    "from collections import Counter"
   ]
  },
  {
   "cell_type": "code",
   "execution_count": null,
   "id": "d356554f-16b5-4d19-8e43-94d8d360918d",
   "metadata": {},
   "outputs": [],
   "source": [
    "tfidf_matrix"
   ]
  },
  {
   "cell_type": "code",
   "execution_count": null,
   "id": "6cd0dc1f-6188-4cc9-8b34-421f6115ae24",
   "metadata": {},
   "outputs": [],
   "source": [
    "# K-means 군집화\n",
    "num_clusters = 10  # 클러스터 수 지정\n",
    "kmeans = KMeans(n_clusters=num_clusters, random_state=42)\n",
    "df['cluster'] = kmeans.fit_predict(tfidf_matrix)\n",
    "\n",
    "# PCA를 사용한 차원 축소 (시각화를 위해)\n",
    "pca = PCA(n_components=2)\n",
    "pca_result = pca.fit_transform(tfidf_matrix.toarray())\n",
    "df['pca_x'] = pca_result[:, 0]\n",
    "df['pca_y'] = pca_result[:, 1]\n",
    "\n",
    "# 시각화\n",
    "plt.figure(figsize=(12, 8))\n",
    "sns.scatterplot(data=df, x='pca_x', y='pca_y', hue='cluster', palette='deep')\n",
    "plt.title('Book Clusters Visualization')\n",
    "plt.show()\n",
    "\n",
    "# 각 클러스터의 대표적인 단어 추출\n",
    "def get_top_words(cluster):\n",
    "    text = ' '.join(df[df['cluster'] == cluster]['combined_text'])\n",
    "    words = text.split()\n",
    "    word_counts = Counter(words)\n",
    "    return [word for word, count in word_counts.most_common(5) if len(word) > 3]\n",
    "\n",
    "# 클러스터별 분석\n",
    "for i in range(num_clusters):\n",
    "    cluster_books = df[df['cluster'] == i]\n",
    "    print(f\"\\nCluster {i}:\")\n",
    "    print(f\"Number of books: {len(cluster_books)}\")\n",
    "    print(f\"Top words: {get_top_words(i)}\")\n",
    "    print(\"Sample titles:\")\n",
    "    print(cluster_books['title'].head().to_string(index=False))\n",
    "    print(\"-\" * 50)"
   ]
  },
  {
   "cell_type": "code",
   "execution_count": null,
   "id": "1335347e-75d7-428a-89ac-6cbee30076f4",
   "metadata": {},
   "outputs": [],
   "source": []
  },
  {
   "cell_type": "code",
   "execution_count": null,
   "id": "00225dbf-1619-470c-81e2-76d7378fdbd4",
   "metadata": {},
   "outputs": [],
   "source": []
  },
  {
   "cell_type": "code",
   "execution_count": null,
   "id": "efb801ed-9462-45ca-9988-e584fa9a0c25",
   "metadata": {},
   "outputs": [],
   "source": []
  }
 ],
 "metadata": {
  "kernelspec": {
   "display_name": "Python 3 (ipykernel)",
   "language": "python",
   "name": "python3"
  },
  "language_info": {
   "codemirror_mode": {
    "name": "ipython",
    "version": 3
   },
   "file_extension": ".py",
   "mimetype": "text/x-python",
   "name": "python",
   "nbconvert_exporter": "python",
   "pygments_lexer": "ipython3",
   "version": "3.11.4"
  }
 },
 "nbformat": 4,
 "nbformat_minor": 5
}
