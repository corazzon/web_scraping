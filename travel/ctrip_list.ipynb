{
 "cells": [
  {
   "cell_type": "markdown",
   "metadata": {
    "id": "V_3Yt2oUJ-KB"
   },
   "source": [
    "# ctrip 데이터 수집하고 번역하기"
   ]
  },
  {
   "cell_type": "code",
   "execution_count": null,
   "metadata": {
    "id": "ga6YROjmBCrf"
   },
   "outputs": [],
   "source": [
    "import requests\n",
    "import pandas as pd\n",
    "import json\n",
    "\n",
    "# 요청 URL 및 헤더 설정\n",
    "url = \"https://m.ctrip.com/restapi/soa2/18109/json/getAttractionList\"\n",
    "headers = {\n",
    "    'Content-Type': 'application/json'\n",
    "}\n",
    "\n",
    "attractions = []\n",
    "\n",
    "# 여러 페이지 데이터 수집\n",
    "for index in range(1, 11):\n",
    "    print(index, end=',')\n",
    "    payload = {\n",
    "        \"head\": {\n",
    "            \"cid\": \"09031079213586682514\",\n",
    "            \"ctok\": \"\",\n",
    "            \"cver\": \"1.0\",\n",
    "            \"lang\": \"01\",\n",
    "            \"sid\": \"8888\",\n",
    "            \"syscode\": \"999\",\n",
    "            \"auth\": \"\",\n",
    "            \"xsid\": \"\",\n",
    "            \"extension\": []\n",
    "        },\n",
    "        \"scene\": \"online\",\n",
    "        \"districtId\": 1446512,\n",
    "        \"index\": index,\n",
    "        \"sortType\": 1,\n",
    "        \"count\": 10,\n",
    "        \"filter\": {\n",
    "            \"filterItems\": []\n",
    "        },\n",
    "        \"returnModuleType\": \"product\"\n",
    "    }\n",
    "\n",
    "    response = requests.post(url, headers=headers, json=payload)\n",
    "    data = response.json()\n",
    "    attraction_list = data.get(\"attractionList\", [])\n",
    "\n",
    "    for item in attraction_list:\n",
    "        card = item.get(\"card\", {})\n",
    "        attractions.append({\n",
    "            \"poiId\": card.get(\"poiId\"),\n",
    "            \"poiName\": card.get(\"poiName\"),\n",
    "            \"commentCount\": card.get(\"commentCount\"),\n",
    "            \"commentScore\": card.get(\"commentScore\"),\n",
    "            \"districtName\": card.get(\"districtName\"),\n",
    "            \"zoneName\": card.get(\"zoneName\"),\n",
    "            \"distanceStr\": card.get(\"distanceStr\"),\n",
    "            \"coverImageUrl\": card.get(\"coverImageUrl\"),\n",
    "            \"openStatus\": card.get(\"openStatus\"),\n",
    "            \"latitude\": card.get(\"coordinate\", {}).get(\"latitude\"),\n",
    "            \"longitude\": card.get(\"coordinate\", {}).get(\"longitude\"),\n",
    "            \"detailUrl\": card.get(\"detailUrl\")\n",
    "        })\n",
    "\n",
    "# 데이터프레임으로 변환 및 출력\n",
    "df = pd.DataFrame(attractions)\n",
    "df"
   ]
  },
  {
   "cell_type": "code",
   "execution_count": null,
   "metadata": {
    "id": "DglNLxY8CxV7"
   },
   "outputs": [],
   "source": [
    "# prompt: df 내용 ctrip_3000 이름으로 엑셀, csv 저장\n",
    "\n",
    "# Save the DataFrame to an Excel file\n",
    "df.to_excel('ctrip_list.xlsx', index=False)\n",
    "\n",
    "# Save the DataFrame to a CSV file\n",
    "df.to_csv('ctrip_list.csv', index=False)"
   ]
  },
  {
   "cell_type": "code",
   "execution_count": null,
   "metadata": {
    "id": "qn__QR_CGUwl"
   },
   "outputs": [],
   "source": [
    "# prompt: ctrip_3000,csv 파일을 읽어와서 df 에 저장\n",
    "\n",
    "df = pd.read_csv('ctrip_list.csv')\n",
    "df"
   ]
  },
  {
   "cell_type": "code",
   "execution_count": null,
   "metadata": {
    "id": "mtw8BU3jGJy_"
   },
   "outputs": [],
   "source": [
    "# df[\"poiName\"].to_dict()"
   ]
  },
  {
   "cell_type": "code",
   "execution_count": null,
   "metadata": {
    "id": "W_ww3_qGIAar"
   },
   "outputs": [],
   "source": [
    "# !pip install openai"
   ]
  },
  {
   "cell_type": "code",
   "execution_count": null,
   "metadata": {
    "id": "w94Z-EVrIDjt"
   },
   "outputs": [],
   "source": [
    "# from google.colab import userdata\n",
    "# OPENAI_API_KEY = userdata.get('OPENAI_API_KEY')"
   ]
  },
  {
   "cell_type": "code",
   "execution_count": null,
   "metadata": {},
   "outputs": [],
   "source": [
    "import sqlite3\n",
    "\n",
    "# SQLite 데이터베이스 연결 및 테이블 저장\n",
    "db_name = 'poi_database.db'\n",
    "table_name = 'poi_data'\n",
    "\n",
    "conn = sqlite3.connect(db_name)\n",
    "try:\n",
    "    # 데이터프레임을 SQLite 테이블에 저장\n",
    "    df.to_sql(table_name, conn, if_exists='replace', index=False)\n",
    "    print(f\"'{table_name}' 테이블이 '{db_name}' 데이터베이스에 성공적으로 저장되었습니다.\")\n",
    "except Exception as e:\n",
    "    print(f\"에러 발생: {e}\")\n",
    "finally:\n",
    "    conn.close()"
   ]
  },
  {
   "cell_type": "markdown",
   "metadata": {},
   "source": [
    "## OpenAI API를 활용한 번역"
   ]
  },
  {
   "cell_type": "code",
   "execution_count": null,
   "metadata": {},
   "outputs": [],
   "source": [
    "import json\n",
    "from openai import OpenAI\n",
    "from tqdm import tqdm\n",
    "tqdm.pandas()\n",
    "\n",
    "# OpenAI 클라이언트 초기화\n",
    "# client = OpenAI(api_key=OPENAI_API_KEY)\n",
    "client = OpenAI()\n",
    "client"
   ]
  },
  {
   "cell_type": "code",
   "execution_count": null,
   "metadata": {
    "id": "SZcKj-4VNzMO"
   },
   "outputs": [],
   "source": [
    "# 데이터베이스 설정\n",
    "db_name = 'poi_database.db'\n",
    "table_name = 'poi_data'\n",
    "columns_to_translate = ['poiName', 'districtName', 'zoneName', 'distanceStr']\n",
    "\n",
    "# 데이터베이스에 _ko 컬럼 추가\n",
    "def add_translation_columns():\n",
    "    conn = sqlite3.connect(db_name)\n",
    "    cur = conn.cursor()\n",
    "    \n",
    "    # 테이블 정보 조회\n",
    "    cur.execute(f\"PRAGMA table_info({table_name})\")\n",
    "    existing_columns = [row[1] for row in cur.fetchall()]\n",
    "\n",
    "    # 필요한 _ko 컬럼 추가\n",
    "    for col in columns_to_translate:\n",
    "        translated_col = f\"{col}_ko\"\n",
    "        if translated_col not in existing_columns:\n",
    "            alter_query = f\"ALTER TABLE {table_name} ADD COLUMN {translated_col} TEXT\"\n",
    "            cur.execute(alter_query)\n",
    "            print(f\"{translated_col} 컬럼 추가 완료.\")\n",
    "\n",
    "    conn.commit()\n",
    "    conn.close()\n",
    "\n",
    "# 번역 함수 (1행씩 처리)\n",
    "def translate_and_update(row):\n",
    "    try:\n",
    "        # 번역할 텍스트를 json 형태로 구성 (NULL이 아닌 경우만)\n",
    "        to_translate = {col: row[col] for col in columns_to_translate if pd.notna(row[col])}\n",
    "\n",
    "        if not to_translate:\n",
    "            return\n",
    "\n",
    "        # API 요청\n",
    "        completion = client.chat.completions.create(\n",
    "            model=\"gpt-4o-mini\",\n",
    "            messages=[\n",
    "                {\n",
    "                    \"role\": \"user\",\n",
    "                    \"content\": f\"Translate the following Chinese place names to Korean. Return the result as JSON with each key suffixed by '_ko': {json.dumps(to_translate, ensure_ascii=False)}\"\n",
    "                }\n",
    "            ],\n",
    "            max_tokens=300,\n",
    "            temperature=0.7\n",
    "        )\n",
    "\n",
    "        # 마크다운 제거 및 JSON 파싱\n",
    "        response_text = completion.choices[0].message.content.strip()\n",
    "\n",
    "        if response_text.startswith(\"```json\"):\n",
    "            response_text = response_text.replace(\"```json\", \"\").replace(\"```\", \"\").strip()\n",
    "\n",
    "        # JSON 파싱\n",
    "        response_json = json.loads(response_text)\n",
    "\n",
    "        # 번역된 데이터베이스 업데이트\n",
    "        update_query = f\"\"\"\n",
    "        UPDATE {table_name}\n",
    "        SET {', '.join([f\"{key} = ?\" for key in response_json.keys()])}\n",
    "        WHERE poiId = ?\n",
    "        \"\"\"\n",
    "        values = list(response_json.values()) + [row['poiId']]\n",
    "\n",
    "        conn = sqlite3.connect(db_name)\n",
    "        cur = conn.cursor()\n",
    "        cur.execute(update_query, values)\n",
    "        conn.commit()\n",
    "        conn.close()\n",
    "\n",
    "        print(f\"poiId {row['poiId']} 업데이트 완료.\")\n",
    "\n",
    "    except Exception as e:\n",
    "        print(f\"Error at poiId {row['poiId']}: {e}\")"
   ]
  },
  {
   "cell_type": "code",
   "execution_count": null,
   "metadata": {},
   "outputs": [],
   "source": [
    "# 데이터베이스에 필요한 컬럼 추가\n",
    "add_translation_columns()"
   ]
  },
  {
   "cell_type": "code",
   "execution_count": null,
   "metadata": {},
   "outputs": [],
   "source": [
    "conn = sqlite3.connect(db_name)\n",
    "query = f\"\"\"\n",
    "SELECT * FROM {table_name}\n",
    "WHERE zoneName_ko IS NOT NULL OR distanceStr_ko IS NOT NULL\n",
    "\"\"\"\n",
    "df = pd.read_sql(query, conn)\n",
    "# conn.close()"
   ]
  },
  {
   "cell_type": "code",
   "execution_count": null,
   "metadata": {},
   "outputs": [],
   "source": [
    "df"
   ]
  },
  {
   "cell_type": "code",
   "execution_count": null,
   "metadata": {},
   "outputs": [],
   "source": [
    "# 데이터베이스 연결 및 번역이 필요한 데이터 불러오기\n",
    "conn = sqlite3.connect(db_name)\n",
    "query = f\"\"\"\n",
    "SELECT * FROM {table_name}\n",
    "WHERE zoneName_ko IS NULL OR distanceStr_ko IS NULL\n",
    "LIMIT 10\n",
    "\"\"\"\n",
    "df = pd.read_sql(query, conn)\n",
    "conn.close()\n",
    "\n",
    "# 번역 및 업데이트 수행\n",
    "df.apply(lambda row: translate_and_update(row), axis=1)\n",
    "\n",
    "print(\"모든 행 업데이트 완료.\")"
   ]
  },
  {
   "cell_type": "code",
   "execution_count": null,
   "metadata": {},
   "outputs": [],
   "source": [
    "conn = sqlite3.connect(db_name)\n",
    "query = f\"\"\"\n",
    "SELECT * FROM {table_name}\n",
    "WHERE zoneName_ko IS NOT NULL OR distanceStr_ko IS NOT NULL\n",
    "\"\"\"\n",
    "df = pd.read_sql(query, conn)\n",
    "conn.close()\n",
    "\n",
    "df"
   ]
  },
  {
   "cell_type": "markdown",
   "metadata": {},
   "source": [
    "## 번역 결과 다시 저장"
   ]
  },
  {
   "cell_type": "code",
   "execution_count": null,
   "metadata": {
    "id": "y75ghG8jJemx"
   },
   "outputs": [],
   "source": [
    "# prompt: 위 df 엑셀, csv 파일로 저장할 것 파일 이름은 ctrip_jeju 로 할 것\n",
    "\n",
    "df.to_csv('ctrip_jeju.csv')\n",
    "# files.download('ctrip_jeju.csv')\n",
    "\n",
    "df.to_excel('ctrip_jeju.xlsx')\n",
    "# files.download('ctrip_jeju.xlsx')"
   ]
  },
  {
   "cell_type": "code",
   "execution_count": null,
   "metadata": {
    "id": "Sk1wkObhIdFO"
   },
   "outputs": [],
   "source": [
    "df['poiName_ko']"
   ]
  },
  {
   "cell_type": "code",
   "execution_count": null,
   "metadata": {
    "id": "o-QxY_36IlHj"
   },
   "outputs": [],
   "source": []
  }
 ],
 "metadata": {
  "colab": {
   "private_outputs": true,
   "provenance": []
  },
  "kernelspec": {
   "display_name": "Python 3 (ipykernel)",
   "language": "python",
   "name": "python3"
  },
  "language_info": {
   "codemirror_mode": {
    "name": "ipython",
    "version": 3
   },
   "file_extension": ".py",
   "mimetype": "text/x-python",
   "name": "python",
   "nbconvert_exporter": "python",
   "pygments_lexer": "ipython3",
   "version": "3.11.4"
  }
 },
 "nbformat": 4,
 "nbformat_minor": 4
}
