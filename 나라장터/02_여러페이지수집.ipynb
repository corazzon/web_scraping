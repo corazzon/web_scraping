{
 "cells": [
  {
   "cell_type": "markdown",
   "metadata": {},
   "source": [
    "## [나라장터: 국가종합전자조달](http://www.g2b.go.kr/pt/menu/selectSubFrame.do?framesrc=/pt/menu/frameTgong.do?url=http://www.g2b.go.kr:8101/ep/tbid/tbidList.do?taskClCds=&bidNm=&searchDtType=1&fromBidDt=2020/08/02&toBidDt=2020/09/01&fromOpenBidDt=&toOpenBidDt=&radOrgan=1&instNm=&area=&regYn=Y&bidSearchType=1&searchType=1)\n",
    "\n",
    "## 여러 페이지 수집하고 CSV 파일로 저장하기"
   ]
  },
  {
   "cell_type": "code",
   "execution_count": 18,
   "metadata": {},
   "outputs": [],
   "source": [
    "import pandas as pd"
   ]
  },
  {
   "cell_type": "markdown",
   "metadata": {},
   "source": [
    "### URL 에 page 정보 추가하기"
   ]
  },
  {
   "cell_type": "code",
   "execution_count": 19,
   "metadata": {},
   "outputs": [],
   "source": [
    "# 브라우저에서 가져온 url 에는 페이지 정보가 없습니다.\n",
    "# 아래 url에 page 를 추가해 줍니다.\n",
    "base_url = \"http://www.g2b.go.kr:8101/ep/tbid/tbidList.do?taskClCds=&bidNm=&searchDtType=1&fromBidDt=2020/08/02&toBidDt=2020/09/01&fromOpenBidDt=&toOpenBidDt=&radOrgan=1&instNm=&area=&regYn=Y&bidSearchType=1&searchType=1&recordCountPerPage=100\""
   ]
  },
  {
   "cell_type": "markdown",
   "metadata": {},
   "source": [
    "### query string 이해하기\n",
    "* http 통신으로 질문하고자 하는 데이터를 query string 으로 만들어 줍니다.\n",
    "* 우리가 웹페이지에서 검색어를 입력해 주었을 때 query string 으로 검색어가 전달되게 됩니다."
   ]
  },
  {
   "cell_type": "code",
   "execution_count": 20,
   "metadata": {},
   "outputs": [
    {
     "data": {
      "text/plain": [
       "'&currentPageNo=1'"
      ]
     },
     "execution_count": 20,
     "metadata": {},
     "output_type": "execute_result"
    }
   ],
   "source": [
    "currentPageNo = 1\n",
    "\n",
    "query_string_page = f\"&currentPageNo={currentPageNo}\"\n",
    "query_string_page"
   ]
  },
  {
   "cell_type": "code",
   "execution_count": 21,
   "metadata": {},
   "outputs": [
    {
     "data": {
      "text/plain": [
       "'http://www.g2b.go.kr:8101/ep/tbid/tbidList.do?taskClCds=&bidNm=&searchDtType=1&fromBidDt=2020/08/20&toBidDt=2020/09/06&fromOpenBidDt=&toOpenBidDt=&radOrgan=1&instNm=&area=&regYn=Y&bidSearchType=1&searchType=1&recordCountPerPage=100'"
      ]
     },
     "execution_count": 21,
     "metadata": {},
     "output_type": "execute_result"
    }
   ],
   "source": [
    "# 위 url을 보면 날짜 정보가 있는데 날짜 정보도 원하는 날짜로 변경해 줍니다.\n",
    "# 날짜 변경은 replace를 사용해 보겠습니다. \n",
    "\n",
    "start_date = \"2020/08/20\"\n",
    "end_date = \"2020/09/06\"\n",
    "\n",
    "base_url = base_url.replace(\"2020/08/02\", start_date).replace(\"2020/09/01\", end_date)\n",
    "base_url"
   ]
  },
  {
   "cell_type": "code",
   "execution_count": 31,
   "metadata": {},
   "outputs": [],
   "source": [
    "# 하지만 위의 방법은 다른 날짜로 변경이 되면 다시 바꾸기 위해 원래 url을 로드해야 합니다.\n",
    "# 그래서 url 중간에 파이썬의 f-sting 방식을 통해 start_date 와 end_date 를 변수로 받도록 합니다.\n",
    "# url 끝에 &recordCountPerPage=100 를 추가하면 한 페이지에서 100개씩 수집할 수 있습니다.\n",
    "\n",
    "base_url = \"http://www.g2b.go.kr:8101/ep/tbid/tbidList.do?taskClCds=&bidNm=&searchDtType=1\"\n",
    "base_url = f\"{base_url}&fromBidDt={start_date}&toBidDt={end_date}\"\n",
    "base_url = f\"{base_url}&fromOpenBidDt=&toOpenBidDt=&radOrgan=1&instNm=&area=&regYn=Y&bidSearchType=1&searchType=1\"\n",
    "base_url = f\"{base_url}&recordCountPerPage=100\""
   ]
  },
  {
   "cell_type": "code",
   "execution_count": 32,
   "metadata": {},
   "outputs": [
    {
     "data": {
      "text/plain": [
       "'http://www.g2b.go.kr:8101/ep/tbid/tbidList.do?taskClCds=&bidNm=&searchDtType=1&fromBidDt=2020/08/20&toBidDt=2020/09/06&fromOpenBidDt=&toOpenBidDt=&radOrgan=1&instNm=&area=&regYn=Y&bidSearchType=1&searchType=1&recordCountPerPage=100&currentPageNo=1'"
      ]
     },
     "execution_count": 32,
     "metadata": {},
     "output_type": "execute_result"
    }
   ],
   "source": [
    "# 파이썬의 f-sting 방식을 통해 base_url 뒤에 페이지 정보를 추가합니다.\n",
    "url = f\"{base_url}{query_string_page}\"\n",
    "url"
   ]
  },
  {
   "cell_type": "markdown",
   "metadata": {},
   "source": [
    "### URL을 생성해 주는 함수 만들기\n",
    "* 페이지번호, 공고시작일, 종료일에 따른 URL을 생성하는 함수를 만듭니다."
   ]
  },
  {
   "cell_type": "code",
   "execution_count": 33,
   "metadata": {},
   "outputs": [],
   "source": [
    "# 페이지 번호를 넘겨주면 페이지 번호를 더해 url을 반환합니다.\n",
    "def get_url(currentPageNo, start_date, end_date):\n",
    "    \"\"\"페이지번호, 공고시작일, 종료일에 따른 URL을 생성하는 함수\"\"\"\n",
    "    \n",
    "    base_url = \"http://www.g2b.go.kr:8101/ep/tbid/tbidList.do?taskClCds=&bidNm=&searchDtType=1\"\n",
    "    base_url = f\"{base_url}&fromBidDt={start_date}&toBidDt={end_date}\"\n",
    "    base_url = f\"{base_url}&fromOpenBidDt=&toOpenBidDt=&radOrgan=1&instNm=&area=&regYn=Y&bidSearchType=1&searchType=1\"\n",
    "    base_url = f\"{base_url}&recordCountPerPage=100\"\n",
    "    query_string_page = f\"&currentPageNo={currentPageNo}\"\n",
    "    url = f\"{base_url}{query_string_page}\"\n",
    "    return url"
   ]
  },
  {
   "cell_type": "code",
   "execution_count": 34,
   "metadata": {},
   "outputs": [
    {
     "data": {
      "text/plain": [
       "(100, 10)"
      ]
     },
     "execution_count": 34,
     "metadata": {},
     "output_type": "execute_result"
    }
   ],
   "source": [
    "page_no = 1\n",
    "start_date = \"2020/08/20\"\n",
    "end_date = \"2020/09/06\"\n",
    "\n",
    "url = get_url(page_no, start_date, end_date)\n",
    "table = pd.read_html(url)[0]\n",
    "table.shape"
   ]
  },
  {
   "cell_type": "markdown",
   "metadata": {},
   "source": [
    "### 여러 페이지 가져오기"
   ]
  },
  {
   "cell_type": "code",
   "execution_count": 9,
   "metadata": {},
   "outputs": [],
   "source": [
    "import time\n",
    "# 페이지 번호를 넣어주고 수집합니다.\n",
    "start_page_no = 1\n",
    "end_page_no = 30\n",
    "\n",
    "page_list = []\n",
    "for page_no in range(start_page_no, end_page_no):\n",
    "    url = get_url(page_no, start_date, end_date)\n",
    "    table = pd.read_html(url)[0]\n",
    "    page_list.append(table)\n",
    "    time.sleep(0.3)"
   ]
  },
  {
   "cell_type": "code",
   "execution_count": 10,
   "metadata": {},
   "outputs": [
    {
     "data": {
      "text/plain": [
       "(290, 10)"
      ]
     },
     "execution_count": 10,
     "metadata": {},
     "output_type": "execute_result"
    }
   ],
   "source": [
    "# 리스트를 하나의 데이터프레임으로 합쳐줍니다.\n",
    "df = pd.concat(page_list)\n",
    "df.shape"
   ]
  },
  {
   "cell_type": "code",
   "execution_count": 11,
   "metadata": {},
   "outputs": [
    {
     "data": {
      "text/html": [
       "<div>\n",
       "<style scoped>\n",
       "    .dataframe tbody tr th:only-of-type {\n",
       "        vertical-align: middle;\n",
       "    }\n",
       "\n",
       "    .dataframe tbody tr th {\n",
       "        vertical-align: top;\n",
       "    }\n",
       "\n",
       "    .dataframe thead th {\n",
       "        text-align: right;\n",
       "    }\n",
       "</style>\n",
       "<table border=\"1\" class=\"dataframe\">\n",
       "  <thead>\n",
       "    <tr style=\"text-align: right;\">\n",
       "      <th></th>\n",
       "      <th>업무</th>\n",
       "      <th>공고번호-차수</th>\n",
       "      <th>분류</th>\n",
       "      <th>공고명</th>\n",
       "      <th>공고기관</th>\n",
       "      <th>수요기관</th>\n",
       "      <th>계약방법</th>\n",
       "      <th>입력일시(입찰마감일시)</th>\n",
       "      <th>공동수급</th>\n",
       "      <th>투찰</th>\n",
       "    </tr>\n",
       "  </thead>\n",
       "  <tbody>\n",
       "    <tr>\n",
       "      <th>0</th>\n",
       "      <td>용역</td>\n",
       "      <td>20200819660-01</td>\n",
       "      <td>취소</td>\n",
       "      <td>잎새지하차도 연장 타당성 재검증 용역</td>\n",
       "      <td>경기도 화성시</td>\n",
       "      <td>경기도 화성시</td>\n",
       "      <td>제한경쟁</td>\n",
       "      <td>2020/09/06 16:09(2020/08/27 10:00)</td>\n",
       "      <td>NaN</td>\n",
       "      <td>NaN</td>\n",
       "    </tr>\n",
       "    <tr>\n",
       "      <th>1</th>\n",
       "      <td>물품</td>\n",
       "      <td>20200905275-00</td>\n",
       "      <td>긴급</td>\n",
       "      <td>GS칼텍스함께하는 2020년 한가위 사랑의 온정나누기</td>\n",
       "      <td>여수시지역사회보장협의체</td>\n",
       "      <td>여수시지역사회보장협의체</td>\n",
       "      <td>제한(총액)</td>\n",
       "      <td>2020/09/06 13:38(2020/09/11 16:00)</td>\n",
       "      <td>NaN</td>\n",
       "      <td>지문투찰</td>\n",
       "    </tr>\n",
       "    <tr>\n",
       "      <th>2</th>\n",
       "      <td>공사</td>\n",
       "      <td>20200905084-00</td>\n",
       "      <td>일반</td>\n",
       "      <td>스포원 실내체육관 옥상 방수공사</td>\n",
       "      <td>부산지방공단스포원</td>\n",
       "      <td>부산지방공단스포원</td>\n",
       "      <td>제한경쟁</td>\n",
       "      <td>2020/09/06 12:21(2020/09/14 10:00)</td>\n",
       "      <td>NaN</td>\n",
       "      <td>지문투찰</td>\n",
       "    </tr>\n",
       "    <tr>\n",
       "      <th>3</th>\n",
       "      <td>공사</td>\n",
       "      <td>20200905086-00</td>\n",
       "      <td>일반</td>\n",
       "      <td>정주기반 연곡면 송림2리 마을회관 개보수공사</td>\n",
       "      <td>강원도 강릉시 농업기술센터</td>\n",
       "      <td>강원도 강릉시 농업기술센터</td>\n",
       "      <td>수의(소액)-견적입찰(2인 이상 견적 제출)</td>\n",
       "      <td>2020/09/06 12:19(2020/09/10 15:00)</td>\n",
       "      <td>NaN</td>\n",
       "      <td>지문투찰</td>\n",
       "    </tr>\n",
       "    <tr>\n",
       "      <th>4</th>\n",
       "      <td>공사</td>\n",
       "      <td>20200905079-00</td>\n",
       "      <td>일반</td>\n",
       "      <td>정주기반 연곡면 행정1리 마을회관 외 1개소 개보수공사</td>\n",
       "      <td>강원도 강릉시 농업기술센터</td>\n",
       "      <td>강원도 강릉시 농업기술센터</td>\n",
       "      <td>수의(소액)-견적입찰(2인 이상 견적 제출)</td>\n",
       "      <td>2020/09/06 12:17(2020/09/10 15:00)</td>\n",
       "      <td>NaN</td>\n",
       "      <td>지문투찰</td>\n",
       "    </tr>\n",
       "  </tbody>\n",
       "</table>\n",
       "</div>"
      ],
      "text/plain": [
       "   업무         공고번호-차수  분류                             공고명            공고기관  \\\n",
       "0  용역  20200819660-01  취소            잎새지하차도 연장 타당성 재검증 용역         경기도 화성시   \n",
       "1  물품  20200905275-00  긴급   GS칼텍스함께하는 2020년 한가위 사랑의 온정나누기    여수시지역사회보장협의체   \n",
       "2  공사  20200905084-00  일반               스포원 실내체육관 옥상 방수공사       부산지방공단스포원   \n",
       "3  공사  20200905086-00  일반        정주기반 연곡면 송림2리 마을회관 개보수공사  강원도 강릉시 농업기술센터   \n",
       "4  공사  20200905079-00  일반  정주기반 연곡면 행정1리 마을회관 외 1개소 개보수공사  강원도 강릉시 농업기술센터   \n",
       "\n",
       "             수요기관                      계약방법  \\\n",
       "0         경기도 화성시                      제한경쟁   \n",
       "1    여수시지역사회보장협의체                    제한(총액)   \n",
       "2       부산지방공단스포원                      제한경쟁   \n",
       "3  강원도 강릉시 농업기술센터  수의(소액)-견적입찰(2인 이상 견적 제출)   \n",
       "4  강원도 강릉시 농업기술센터  수의(소액)-견적입찰(2인 이상 견적 제출)   \n",
       "\n",
       "                         입력일시(입찰마감일시) 공동수급    투찰  \n",
       "0  2020/09/06 16:09(2020/08/27 10:00)  NaN   NaN  \n",
       "1  2020/09/06 13:38(2020/09/11 16:00)  NaN  지문투찰  \n",
       "2  2020/09/06 12:21(2020/09/14 10:00)  NaN  지문투찰  \n",
       "3  2020/09/06 12:19(2020/09/10 15:00)  NaN  지문투찰  \n",
       "4  2020/09/06 12:17(2020/09/10 15:00)  NaN  지문투찰  "
      ]
     },
     "execution_count": 11,
     "metadata": {},
     "output_type": "execute_result"
    }
   ],
   "source": [
    "# 미리보기를 합니다.\n",
    "df.head()"
   ]
  },
  {
   "cell_type": "code",
   "execution_count": 12,
   "metadata": {},
   "outputs": [
    {
     "data": {
      "text/html": [
       "<div>\n",
       "<style scoped>\n",
       "    .dataframe tbody tr th:only-of-type {\n",
       "        vertical-align: middle;\n",
       "    }\n",
       "\n",
       "    .dataframe tbody tr th {\n",
       "        vertical-align: top;\n",
       "    }\n",
       "\n",
       "    .dataframe thead th {\n",
       "        text-align: right;\n",
       "    }\n",
       "</style>\n",
       "<table border=\"1\" class=\"dataframe\">\n",
       "  <thead>\n",
       "    <tr style=\"text-align: right;\">\n",
       "      <th></th>\n",
       "      <th>업무</th>\n",
       "      <th>공고번호-차수</th>\n",
       "      <th>분류</th>\n",
       "      <th>공고명</th>\n",
       "      <th>공고기관</th>\n",
       "      <th>수요기관</th>\n",
       "      <th>계약방법</th>\n",
       "      <th>입력일시(입찰마감일시)</th>\n",
       "      <th>공동수급</th>\n",
       "      <th>투찰</th>\n",
       "    </tr>\n",
       "  </thead>\n",
       "  <tbody>\n",
       "    <tr>\n",
       "      <th>5</th>\n",
       "      <td>물품</td>\n",
       "      <td>20200904994-00</td>\n",
       "      <td>일반</td>\n",
       "      <td>한림대학교 학내 전체용 한글 CLA 구매 업에 선정</td>\n",
       "      <td>한림대학교</td>\n",
       "      <td>한림대학교</td>\n",
       "      <td>일반(총액)</td>\n",
       "      <td>2020/09/04 17:08(2020/09/10 14:00)</td>\n",
       "      <td>NaN</td>\n",
       "      <td>지문투찰</td>\n",
       "    </tr>\n",
       "    <tr>\n",
       "      <th>6</th>\n",
       "      <td>물품</td>\n",
       "      <td>20200904998-00</td>\n",
       "      <td>일반</td>\n",
       "      <td>임대장비 입찰공고</td>\n",
       "      <td>조선대학교병원</td>\n",
       "      <td>조선대학교병원</td>\n",
       "      <td>제한(총액)</td>\n",
       "      <td>2020/09/04 17:08(-)</td>\n",
       "      <td>NaN</td>\n",
       "      <td>NaN</td>\n",
       "    </tr>\n",
       "    <tr>\n",
       "      <th>7</th>\n",
       "      <td>공사</td>\n",
       "      <td>20200904997-00</td>\n",
       "      <td>일반</td>\n",
       "      <td>다시면 가흥2구 농로 확포장공사</td>\n",
       "      <td>전라남도 나주시</td>\n",
       "      <td>전라남도 나주시</td>\n",
       "      <td>수의(소액)</td>\n",
       "      <td>2020/09/04 17:08(2020/09/10 10:00)</td>\n",
       "      <td>NaN</td>\n",
       "      <td>지문투찰</td>\n",
       "    </tr>\n",
       "    <tr>\n",
       "      <th>8</th>\n",
       "      <td>공사</td>\n",
       "      <td>E012007780-00</td>\n",
       "      <td>일반</td>\n",
       "      <td>345kV 갈산E/C 중량물(Sh.R) 수송로 보강공사</td>\n",
       "      <td>한국전력공사</td>\n",
       "      <td>재무자재부</td>\n",
       "      <td>제한경쟁</td>\n",
       "      <td>2020/09/04 17:08(2020/09/14 12:00)</td>\n",
       "      <td>NaN</td>\n",
       "      <td>한국전력공사 이동</td>\n",
       "    </tr>\n",
       "    <tr>\n",
       "      <th>9</th>\n",
       "      <td>용역</td>\n",
       "      <td>20200904991-00</td>\n",
       "      <td>일반</td>\n",
       "      <td>각남면 농촌생활환경정비사업 실시설계용역</td>\n",
       "      <td>경상북도 청도군</td>\n",
       "      <td>경상북도 청도군</td>\n",
       "      <td>수의(총액)소액-견적입찰(2인 이상 견적 제출)</td>\n",
       "      <td>2020/09/04 17:07(2020/09/10 10:00)</td>\n",
       "      <td>NaN</td>\n",
       "      <td>지문투찰</td>\n",
       "    </tr>\n",
       "  </tbody>\n",
       "</table>\n",
       "</div>"
      ],
      "text/plain": [
       "   업무         공고번호-차수  분류                             공고명      공고기관      수요기관  \\\n",
       "5  물품  20200904994-00  일반    한림대학교 학내 전체용 한글 CLA 구매 업에 선정     한림대학교     한림대학교   \n",
       "6  물품  20200904998-00  일반                       임대장비 입찰공고   조선대학교병원   조선대학교병원   \n",
       "7  공사  20200904997-00  일반               다시면 가흥2구 농로 확포장공사  전라남도 나주시  전라남도 나주시   \n",
       "8  공사   E012007780-00  일반  345kV 갈산E/C 중량물(Sh.R) 수송로 보강공사    한국전력공사     재무자재부   \n",
       "9  용역  20200904991-00  일반           각남면 농촌생활환경정비사업 실시설계용역  경상북도 청도군  경상북도 청도군   \n",
       "\n",
       "                         계약방법                        입력일시(입찰마감일시) 공동수급  \\\n",
       "5                      일반(총액)  2020/09/04 17:08(2020/09/10 14:00)  NaN   \n",
       "6                      제한(총액)                 2020/09/04 17:08(-)  NaN   \n",
       "7                      수의(소액)  2020/09/04 17:08(2020/09/10 10:00)  NaN   \n",
       "8                        제한경쟁  2020/09/04 17:08(2020/09/14 12:00)  NaN   \n",
       "9  수의(총액)소액-견적입찰(2인 이상 견적 제출)  2020/09/04 17:07(2020/09/10 10:00)  NaN   \n",
       "\n",
       "          투찰  \n",
       "5       지문투찰  \n",
       "6        NaN  \n",
       "7       지문투찰  \n",
       "8  한국전력공사 이동  \n",
       "9       지문투찰  "
      ]
     },
     "execution_count": 12,
     "metadata": {},
     "output_type": "execute_result"
    }
   ],
   "source": [
    "df.tail()"
   ]
  },
  {
   "cell_type": "markdown",
   "metadata": {},
   "source": [
    "## CSV 파일로 저장하기"
   ]
  },
  {
   "cell_type": "code",
   "execution_count": 13,
   "metadata": {},
   "outputs": [],
   "source": [
    "import datetime as dt\n",
    "\n",
    "now = dt.datetime.now()\n",
    "today = now.strftime(\"%Y-%m-%d\")\n",
    "# data라는 폴더에 g2b_날짜.csv 로 저장합니다.\n",
    "file_name = f\"data/g2b_{today}.csv\""
   ]
  },
  {
   "cell_type": "code",
   "execution_count": 14,
   "metadata": {},
   "outputs": [],
   "source": [
    "df.to_csv(file_name, index=False)"
   ]
  },
  {
   "cell_type": "code",
   "execution_count": 15,
   "metadata": {
    "scrolled": true
   },
   "outputs": [
    {
     "data": {
      "text/html": [
       "<div>\n",
       "<style scoped>\n",
       "    .dataframe tbody tr th:only-of-type {\n",
       "        vertical-align: middle;\n",
       "    }\n",
       "\n",
       "    .dataframe tbody tr th {\n",
       "        vertical-align: top;\n",
       "    }\n",
       "\n",
       "    .dataframe thead th {\n",
       "        text-align: right;\n",
       "    }\n",
       "</style>\n",
       "<table border=\"1\" class=\"dataframe\">\n",
       "  <thead>\n",
       "    <tr style=\"text-align: right;\">\n",
       "      <th></th>\n",
       "      <th>업무</th>\n",
       "      <th>공고번호-차수</th>\n",
       "      <th>분류</th>\n",
       "      <th>공고명</th>\n",
       "      <th>공고기관</th>\n",
       "      <th>수요기관</th>\n",
       "      <th>계약방법</th>\n",
       "      <th>입력일시(입찰마감일시)</th>\n",
       "      <th>공동수급</th>\n",
       "      <th>투찰</th>\n",
       "    </tr>\n",
       "  </thead>\n",
       "  <tbody>\n",
       "    <tr>\n",
       "      <th>0</th>\n",
       "      <td>용역</td>\n",
       "      <td>20200819660-01</td>\n",
       "      <td>취소</td>\n",
       "      <td>잎새지하차도 연장 타당성 재검증 용역</td>\n",
       "      <td>경기도 화성시</td>\n",
       "      <td>경기도 화성시</td>\n",
       "      <td>제한경쟁</td>\n",
       "      <td>2020/09/06 16:09(2020/08/27 10:00)</td>\n",
       "      <td>NaN</td>\n",
       "      <td>NaN</td>\n",
       "    </tr>\n",
       "    <tr>\n",
       "      <th>1</th>\n",
       "      <td>물품</td>\n",
       "      <td>20200905275-00</td>\n",
       "      <td>긴급</td>\n",
       "      <td>GS칼텍스함께하는 2020년 한가위 사랑의 온정나누기</td>\n",
       "      <td>여수시지역사회보장협의체</td>\n",
       "      <td>여수시지역사회보장협의체</td>\n",
       "      <td>제한(총액)</td>\n",
       "      <td>2020/09/06 13:38(2020/09/11 16:00)</td>\n",
       "      <td>NaN</td>\n",
       "      <td>지문투찰</td>\n",
       "    </tr>\n",
       "    <tr>\n",
       "      <th>2</th>\n",
       "      <td>공사</td>\n",
       "      <td>20200905084-00</td>\n",
       "      <td>일반</td>\n",
       "      <td>스포원 실내체육관 옥상 방수공사</td>\n",
       "      <td>부산지방공단스포원</td>\n",
       "      <td>부산지방공단스포원</td>\n",
       "      <td>제한경쟁</td>\n",
       "      <td>2020/09/06 12:21(2020/09/14 10:00)</td>\n",
       "      <td>NaN</td>\n",
       "      <td>지문투찰</td>\n",
       "    </tr>\n",
       "    <tr>\n",
       "      <th>3</th>\n",
       "      <td>공사</td>\n",
       "      <td>20200905086-00</td>\n",
       "      <td>일반</td>\n",
       "      <td>정주기반 연곡면 송림2리 마을회관 개보수공사</td>\n",
       "      <td>강원도 강릉시 농업기술센터</td>\n",
       "      <td>강원도 강릉시 농업기술센터</td>\n",
       "      <td>수의(소액)-견적입찰(2인 이상 견적 제출)</td>\n",
       "      <td>2020/09/06 12:19(2020/09/10 15:00)</td>\n",
       "      <td>NaN</td>\n",
       "      <td>지문투찰</td>\n",
       "    </tr>\n",
       "    <tr>\n",
       "      <th>4</th>\n",
       "      <td>공사</td>\n",
       "      <td>20200905079-00</td>\n",
       "      <td>일반</td>\n",
       "      <td>정주기반 연곡면 행정1리 마을회관 외 1개소 개보수공사</td>\n",
       "      <td>강원도 강릉시 농업기술센터</td>\n",
       "      <td>강원도 강릉시 농업기술센터</td>\n",
       "      <td>수의(소액)-견적입찰(2인 이상 견적 제출)</td>\n",
       "      <td>2020/09/06 12:17(2020/09/10 15:00)</td>\n",
       "      <td>NaN</td>\n",
       "      <td>지문투찰</td>\n",
       "    </tr>\n",
       "  </tbody>\n",
       "</table>\n",
       "</div>"
      ],
      "text/plain": [
       "   업무         공고번호-차수  분류                             공고명            공고기관  \\\n",
       "0  용역  20200819660-01  취소            잎새지하차도 연장 타당성 재검증 용역         경기도 화성시   \n",
       "1  물품  20200905275-00  긴급   GS칼텍스함께하는 2020년 한가위 사랑의 온정나누기    여수시지역사회보장협의체   \n",
       "2  공사  20200905084-00  일반               스포원 실내체육관 옥상 방수공사       부산지방공단스포원   \n",
       "3  공사  20200905086-00  일반        정주기반 연곡면 송림2리 마을회관 개보수공사  강원도 강릉시 농업기술센터   \n",
       "4  공사  20200905079-00  일반  정주기반 연곡면 행정1리 마을회관 외 1개소 개보수공사  강원도 강릉시 농업기술센터   \n",
       "\n",
       "             수요기관                      계약방법  \\\n",
       "0         경기도 화성시                      제한경쟁   \n",
       "1    여수시지역사회보장협의체                    제한(총액)   \n",
       "2       부산지방공단스포원                      제한경쟁   \n",
       "3  강원도 강릉시 농업기술센터  수의(소액)-견적입찰(2인 이상 견적 제출)   \n",
       "4  강원도 강릉시 농업기술센터  수의(소액)-견적입찰(2인 이상 견적 제출)   \n",
       "\n",
       "                         입력일시(입찰마감일시) 공동수급    투찰  \n",
       "0  2020/09/06 16:09(2020/08/27 10:00)  NaN   NaN  \n",
       "1  2020/09/06 13:38(2020/09/11 16:00)  NaN  지문투찰  \n",
       "2  2020/09/06 12:21(2020/09/14 10:00)  NaN  지문투찰  \n",
       "3  2020/09/06 12:19(2020/09/10 15:00)  NaN  지문투찰  \n",
       "4  2020/09/06 12:17(2020/09/10 15:00)  NaN  지문투찰  "
      ]
     },
     "execution_count": 15,
     "metadata": {},
     "output_type": "execute_result"
    }
   ],
   "source": [
    "pd.read_csv(file_name).head()"
   ]
  },
  {
   "cell_type": "code",
   "execution_count": null,
   "metadata": {},
   "outputs": [],
   "source": []
  }
 ],
 "metadata": {
  "kernelspec": {
   "display_name": "Python 3",
   "language": "python",
   "name": "python3"
  },
  "language_info": {
   "codemirror_mode": {
    "name": "ipython",
    "version": 3
   },
   "file_extension": ".py",
   "mimetype": "text/x-python",
   "name": "python",
   "nbconvert_exporter": "python",
   "pygments_lexer": "ipython3",
   "version": "3.7.6"
  },
  "toc": {
   "base_numbering": 1,
   "nav_menu": {},
   "number_sections": true,
   "sideBar": true,
   "skip_h1_title": false,
   "title_cell": "Table of Contents",
   "title_sidebar": "Contents",
   "toc_cell": false,
   "toc_position": {},
   "toc_section_display": true,
   "toc_window_display": false
  },
  "varInspector": {
   "cols": {
    "lenName": 16,
    "lenType": 16,
    "lenVar": 40
   },
   "kernels_config": {
    "python": {
     "delete_cmd_postfix": "",
     "delete_cmd_prefix": "del ",
     "library": "var_list.py",
     "varRefreshCmd": "print(var_dic_list())"
    },
    "r": {
     "delete_cmd_postfix": ") ",
     "delete_cmd_prefix": "rm(",
     "library": "var_list.r",
     "varRefreshCmd": "cat(var_dic_list()) "
    }
   },
   "types_to_exclude": [
    "module",
    "function",
    "builtin_function_or_method",
    "instance",
    "_Feature"
   ],
   "window_display": false
  }
 },
 "nbformat": 4,
 "nbformat_minor": 4
}
