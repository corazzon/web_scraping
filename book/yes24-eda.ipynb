{
 "cells": [
  {
   "cell_type": "code",
   "execution_count": null,
   "id": "e9a62da2-cbaa-4e97-9ef5-101ed9d0752b",
   "metadata": {},
   "outputs": [],
   "source": [
    "import sqlite3\n",
    "import pandas as pd\n",
    "import koreanize_matplotlib\n",
    "\n",
    "conn = sqlite3.connect('yes24_books_it.db')\n",
    "df = pd.read_sql_query(\"SELECT * FROM books\", conn)\n",
    "conn.close()"
   ]
  },
  {
   "cell_type": "code",
   "execution_count": null,
   "id": "b16411a3-4b5d-456f-8d57-7bc5b74943d0",
   "metadata": {},
   "outputs": [],
   "source": [
    "df"
   ]
  },
  {
   "cell_type": "markdown",
   "id": "538bba7c-4abd-40cc-9917-fedd90b67059",
   "metadata": {},
   "source": [
    "### 전처리 및 파생변수 만들기"
   ]
  },
  {
   "cell_type": "code",
   "execution_count": null,
   "id": "24c8768b-9372-4f07-8d2b-427018f61c88",
   "metadata": {},
   "outputs": [],
   "source": [
    "df[\"rating\"] = pd.to_numeric(df[\"rating\"], errors=\"coerce\")"
   ]
  },
  {
   "cell_type": "code",
   "execution_count": null,
   "id": "d3827012-7d43-4440-9b1d-a05aab4d042c",
   "metadata": {},
   "outputs": [],
   "source": [
    "df[\"pub_year\"] = df[\"pub_date\"].map(lambda x: x.split(\"년\")[0]).astype(float)\n",
    "df[\"pub_month\"] = df[\"pub_date\"].map(lambda x: x.split(\"년\")[1].replace(\"월\", \"\")).astype(float)"
   ]
  },
  {
   "cell_type": "code",
   "execution_count": null,
   "id": "5aceaf7d-1bc2-48b2-af2b-4e7fda6bccb2",
   "metadata": {},
   "outputs": [],
   "source": [
    "df[\"pub_year_month\"] = df[\"pub_date\"].str.replace(\"(년|월)\", \"\", regex=True).str.replace(\" \", \"-\")"
   ]
  },
  {
   "cell_type": "markdown",
   "id": "172f01ed-c1a3-4970-9aa1-46e123c30ef2",
   "metadata": {},
   "source": [
    "### 최근 도서의 출판연도별 책"
   ]
  },
  {
   "cell_type": "code",
   "execution_count": null,
   "id": "defa8d2f-dfb0-40d1-b758-05283eed8eb0",
   "metadata": {},
   "outputs": [],
   "source": [
    "df_recent = df[df[\"pub_year\"] > 2010]\n",
    "df_recent[\"pub_year_month\"].value_counts().sort_index().plot(figsize=(12, 4))"
   ]
  },
  {
   "cell_type": "code",
   "execution_count": null,
   "id": "c5d8b149-65de-468e-9bed-f8106f8ce913",
   "metadata": {},
   "outputs": [],
   "source": [
    "pub_ym = pd.crosstab(df[\"pub_year\"], df[\"pub_month\"]).sort_index(ascending=False)\n",
    "pub_ym.index = pub_ym.index.astype(str)\n",
    "pub_ym.columns = pub_ym.columns.astype(str)\n",
    "pub_ym.style.background_gradient(axis=None)"
   ]
  },
  {
   "cell_type": "code",
   "execution_count": null,
   "id": "33c1a1fd-130a-4c66-b9d5-dcdaa8f076a9",
   "metadata": {},
   "outputs": [],
   "source": [
    "df[\"review_count\"] = pd.to_numeric(df[\"review_count\"].str.replace(\",\", \"\"), errors=\"coerce\")"
   ]
  },
  {
   "cell_type": "code",
   "execution_count": null,
   "id": "7b3d0644-688d-4967-b6c5-2fcb9a88bb35",
   "metadata": {},
   "outputs": [],
   "source": [
    "df[\"GPT_LLM\"] = df[\"description\"].str.contains(\"GPT|LLM\")"
   ]
  },
  {
   "cell_type": "code",
   "execution_count": null,
   "id": "30d0754e-eb21-49c9-ab8d-90775f180cfd",
   "metadata": {},
   "outputs": [],
   "source": [
    "df[df[\"description\"].str.contains(\"GPT\")].nlargest(10, \"review_count\")"
   ]
  },
  {
   "cell_type": "markdown",
   "id": "613f08e9-e234-4c02-9167-38a3edd6f334",
   "metadata": {},
   "source": [
    "### GPT 와 LLM 도서에 대한 빈도수"
   ]
  },
  {
   "cell_type": "code",
   "execution_count": null,
   "id": "1b4f27ab-38c7-4b3b-a993-227dade4e14a",
   "metadata": {},
   "outputs": [],
   "source": [
    "df.loc[df[\"GPT_LLM\"], \"publisher\"].value_counts()"
   ]
  },
  {
   "cell_type": "code",
   "execution_count": null,
   "id": "0f19a1a9-374a-4ec2-b0cd-f39ca15310a8",
   "metadata": {},
   "outputs": [],
   "source": [
    "df[df[\"GPT_LLM\"]].groupby(\"publisher\").agg({\n",
    "    \"review_count\":\"sum\", \n",
    "    \"title\":\"count\"}).nlargest(10, \"review_count\")"
   ]
  },
  {
   "cell_type": "code",
   "execution_count": null,
   "id": "58209c39-d6b1-446f-b13e-7f345a0ff846",
   "metadata": {},
   "outputs": [],
   "source": [
    "df[(df[\"publisher\"] == \"리코멘드\") & df[\"GPT_LLM\"]]"
   ]
  },
  {
   "cell_type": "markdown",
   "id": "b2f7ce01-4426-4c74-bd90-e2dc4500ca7a",
   "metadata": {},
   "source": [
    "### 기술통계"
   ]
  },
  {
   "cell_type": "code",
   "execution_count": null,
   "id": "91ae66eb-e634-4bab-9d3a-939d914b79bf",
   "metadata": {},
   "outputs": [],
   "source": [
    "df.hist(bins=50);"
   ]
  },
  {
   "cell_type": "code",
   "execution_count": null,
   "id": "cfd071b5-5e14-450a-a6ea-ff08240c262a",
   "metadata": {},
   "outputs": [],
   "source": [
    "df.describe()"
   ]
  },
  {
   "cell_type": "code",
   "execution_count": null,
   "id": "9d07acb7-27f1-4215-a321-b0f21769f559",
   "metadata": {},
   "outputs": [],
   "source": [
    "df.describe(include=\"object\")"
   ]
  },
  {
   "cell_type": "code",
   "execution_count": null,
   "id": "c2e79013-8bdc-4857-a4e3-fbdb7950ae2b",
   "metadata": {},
   "outputs": [],
   "source": [
    "df[\"publisher\"].value_counts().head(20)"
   ]
  },
  {
   "cell_type": "code",
   "execution_count": null,
   "id": "b1249259-9b90-44e9-994c-b7b34bffd76f",
   "metadata": {},
   "outputs": [],
   "source": [
    "df[\"pub_year\"].value_counts().sort_index().iloc[1:].plot(title=\"판매 도서 중 연도별 컴퓨터 공학 도서 수\", figsize=(10, 4))"
   ]
  },
  {
   "cell_type": "code",
   "execution_count": null,
   "id": "e524d704-e728-43cb-9668-674256d56ab6",
   "metadata": {},
   "outputs": [],
   "source": [
    "pd.crosstab(df[\"publisher\"], df[\"pub_year\"])"
   ]
  },
  {
   "cell_type": "code",
   "execution_count": null,
   "id": "5535a14f-4db9-4f49-97cd-785181dd82b4",
   "metadata": {},
   "outputs": [],
   "source": [
    "df_recent = df[df[\"pub_year\"] > 2015]\n",
    "top_pub = df_recent[\"publisher\"].value_counts().head(30)\n",
    "top_pub"
   ]
  },
  {
   "cell_type": "code",
   "execution_count": null,
   "id": "d60bdd9a-6870-40f3-a813-3f8eddca05f1",
   "metadata": {},
   "outputs": [],
   "source": [
    "pd.crosstab(df_recent[\"publisher\"], df_recent[\"pub_year\"]).loc[top_pub.index]"
   ]
  },
  {
   "cell_type": "code",
   "execution_count": null,
   "id": "5e2d3dc9-ff2a-4d27-9c69-b9403c9a64ac",
   "metadata": {},
   "outputs": [],
   "source": []
  }
 ],
 "metadata": {
  "kernelspec": {
   "display_name": "Python 3 (ipykernel)",
   "language": "python",
   "name": "python3"
  },
  "language_info": {
   "codemirror_mode": {
    "name": "ipython",
    "version": 3
   },
   "file_extension": ".py",
   "mimetype": "text/x-python",
   "name": "python",
   "nbconvert_exporter": "python",
   "pygments_lexer": "ipython3",
   "version": "3.11.4"
  }
 },
 "nbformat": 4,
 "nbformat_minor": 5
}
