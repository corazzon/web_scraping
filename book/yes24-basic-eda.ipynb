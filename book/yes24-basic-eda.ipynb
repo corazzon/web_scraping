{
 "cells": [
  {
   "cell_type": "markdown",
   "id": "25a211be-e5ec-40e4-a541-f43e20453ff7",
   "metadata": {},
   "source": [
    "### Basic EDA"
   ]
  },
  {
   "cell_type": "code",
   "execution_count": null,
   "id": "62bd88e6-f6b4-4d3d-ac9e-c05038fbccbb",
   "metadata": {},
   "outputs": [],
   "source": [
    "# !pip install -Uq koreanize-matplotlib wordcloud"
   ]
  },
  {
   "cell_type": "code",
   "execution_count": null,
   "id": "e9a62da2-cbaa-4e97-9ef5-101ed9d0752b",
   "metadata": {},
   "outputs": [],
   "source": [
    "import re\n",
    "import sqlite3\n",
    "import pandas as pd\n",
    "import numpy as np\n",
    "import seaborn as sns\n",
    "import koreanize_matplotlib\n",
    "import matplotlib.pyplot as plt\n",
    "\n",
    "conn = sqlite3.connect('yes24_books_it.db')\n",
    "df = pd.read_sql_query(\"SELECT * FROM books\", conn)\n",
    "conn.close()"
   ]
  },
  {
   "cell_type": "code",
   "execution_count": null,
   "id": "b16411a3-4b5d-456f-8d57-7bc5b74943d0",
   "metadata": {},
   "outputs": [],
   "source": [
    "df"
   ]
  },
  {
   "cell_type": "markdown",
   "id": "377e1ed1-a605-4dd8-81f8-ff5c58327f05",
   "metadata": {},
   "source": [
    "## 기본 EDA"
   ]
  },
  {
   "cell_type": "code",
   "execution_count": null,
   "id": "ab5f2513-f2ee-4925-bc25-6172b2c266d3",
   "metadata": {},
   "outputs": [],
   "source": [
    "df.info()"
   ]
  },
  {
   "cell_type": "code",
   "execution_count": null,
   "id": "d57adb80-624c-44af-b1b9-6575cd95813d",
   "metadata": {},
   "outputs": [],
   "source": [
    "df[\"pub_year\"] = df[\"pub_date\"].map(lambda x : int(x.split(\"년\")[0]))\n",
    "df[\"pub_month\"] = df[\"pub_date\"].map(lambda x : int(x.split(\" \")[-1].replace(\"월\", \"\")))"
   ]
  },
  {
   "cell_type": "code",
   "execution_count": null,
   "id": "dcc70465-c962-44ff-9dab-34b105a7ebea",
   "metadata": {},
   "outputs": [],
   "source": [
    "df[\"price_int\"] = df[\"price\"].str.replace(\",\", \"\").astype(int)\n",
    "# 문자열을 float으로 변환\n",
    "df[\"review_count_int\"] = df[\"review_count\"].replace([\"N/A\", \"\"], np.nan).astype(float)\n",
    "df[\"rating_int\"] = df[\"rating\"].replace([\"N/A\", \"\"], np.nan).astype(float)"
   ]
  },
  {
   "cell_type": "code",
   "execution_count": null,
   "id": "84f1daa7-5ba1-4b90-afe4-f736dceaeac2",
   "metadata": {},
   "outputs": [],
   "source": [
    "df.describe().round(0)"
   ]
  },
  {
   "cell_type": "code",
   "execution_count": null,
   "id": "c12bb309-be5e-46e3-a1d2-04f26d99d79e",
   "metadata": {},
   "outputs": [],
   "source": [
    "df.hist(bins=50);"
   ]
  },
  {
   "cell_type": "markdown",
   "id": "e87b7ffd-b9cc-4ac9-86c9-256e2585df7b",
   "metadata": {},
   "source": [
    "### 파생변수 생성"
   ]
  },
  {
   "cell_type": "code",
   "execution_count": null,
   "id": "00225dbf-1619-470c-81e2-76d7378fdbd4",
   "metadata": {},
   "outputs": [],
   "source": [
    "df[\"document\"] = df[\"title\"] + \" \" + df[\"description\"]\n",
    "df.head()"
   ]
  },
  {
   "cell_type": "markdown",
   "id": "39148824-5e40-4171-9c5b-7a98e6b1fbb9",
   "metadata": {},
   "source": [
    "### 워드클라우드 시각화 "
   ]
  },
  {
   "cell_type": "code",
   "execution_count": null,
   "id": "2b6bb20a-1750-46d0-a55c-fdc0419b67b3",
   "metadata": {},
   "outputs": [],
   "source": [
    "# colab에 필수 라이브러리 설치\n",
    "# !apt -qq -y install fonts-nanum\n",
    "\n",
    "# 나눔 폰트 설치\n",
    "import matplotlib.font_manager as fm\n",
    "from wordcloud import WordCloud\n",
    "\n",
    "\n",
    "# 모든 document를 하나의 문자열로 결합\n",
    "text = \" \".join(df[\"document\"])\n",
    "\n",
    "# 워드클라우드 생성\n",
    "wordcloud = WordCloud(font_path='/usr/share/fonts/truetype/nanum/NanumGothic.ttf', \n",
    "                      background_color='white').generate(text)\n",
    "\n",
    "# 워드클라우드 시각화\n",
    "plt.figure(figsize=(10, 8))\n",
    "plt.imshow(wordcloud, interpolation='bilinear')\n",
    "plt.axis('off')\n",
    "plt.show()"
   ]
  },
  {
   "cell_type": "markdown",
   "id": "191e3560-a1e2-4338-b961-c20cc9c59595",
   "metadata": {},
   "source": [
    "### 출판사별 빈도"
   ]
  },
  {
   "cell_type": "code",
   "execution_count": null,
   "id": "d7f39076-0cc1-4696-b864-666556873580",
   "metadata": {},
   "outputs": [],
   "source": [
    "# 빈도 계산\n",
    "publisher_counts = df['publisher'].value_counts()\n",
    "\n",
    "display(publisher_counts.head(10))"
   ]
  },
  {
   "cell_type": "code",
   "execution_count": null,
   "id": "b826ac4f-52f7-410c-917d-f62166ad4833",
   "metadata": {},
   "outputs": [],
   "source": [
    "publisher_counts.head(30).sort_values().plot(kind=\"barh\")"
   ]
  },
  {
   "cell_type": "code",
   "execution_count": null,
   "id": "86ee479d-c49f-48ce-aaa4-a6bbfe0c43b0",
   "metadata": {},
   "outputs": [],
   "source": [
    "# 워드클라우드 생성\n",
    "wordcloud = WordCloud(font_path='/usr/share/fonts/truetype/nanum/NanumGothic.ttf', background_color='black').generate_from_frequencies(publisher_counts)\n",
    "\n",
    "# 워드클라우드 시각화\n",
    "plt.figure(figsize=(10, 8))\n",
    "plt.imshow(wordcloud, interpolation='bilinear')\n",
    "plt.axis('off')\n",
    "plt.show()"
   ]
  },
  {
   "cell_type": "markdown",
   "id": "3300b5d3-ef03-4e1d-a672-21c17ffe2cb0",
   "metadata": {},
   "source": [
    "### 정규표현식 적용\n",
    "\n",
    "1. **숫자 추출**: `\\d+` (텍스트에서 숫자(예: 가격, 날짜 등)를 추출)\n",
    "\n",
    "2. **한글 단어 추출**: `[가-힣]+` (텍스트에서 한글 단어를 추출)\n",
    "\n",
    "3. **URL 검출**: `https?://\\S+` (텍스트에서 URL을 검출)\n",
    "\n",
    "4. **특수문자 제거**: `[^가-힣a-zA-Z0-9\\s]` (텍스트에서 특수문자를 제거)\n",
    "\n",
    "5. **특정 패턴의 문자열 검출** (예: '챗GPT' 단어): `챗GPT` (텍스트에서 '챗GPT' 단어 검출)\n",
    "\n",
    "6. **영어 단어 추출**: `[a-zA-Z]+` (텍스트에서 영어 단어를 추출)\n",
    "\n",
    "7. **공백 제거**: `\\s+` (텍스트에서 모든 공백을 제거)\n",
    "\n",
    "8. **이메일 주소 검출**: `[a-zA-Z0-9._%+-]+@[a-zA-Z0-9.-]+\\.[a-zA-Z]{2,}` (텍스트에서 이메일 주소를 검출)\n",
    "\n",
    "9. **전화번호 검출**: `\\d{2,3}-\\d{3,4}-\\d{4}` (텍스트에서 전화번호를 검출)\n",
    "\n",
    "10. **문장 끝 마침표 검출**: `\\.\\s` (텍스트에서 문장 끝의 마침표를 검출)\n",
    "\n",
    "11. **이메일 마스킹**: `(?<=.{3}).(?=.*@)` (텍스트에서 이메일 주소의 일부를 마스킹 처리)\n",
    "\n",
    "12. **전화번호 마스킹**: `(?<=\\d{2,3}-)\\d{3,4}(?=-\\d{4})` (텍스트에서 전화번호의 중간 부분을 마스킹 처리)\n",
    "\n",
    "13. **주민등록번호 마스킹**: `(?<=\\d{6}-)\\d{7}` (텍스트에서 주민등록번호의 뒷자리를 마스킹 처리)\n",
    "\n",
    "14. **신용카드 번호 마스킹**: `(?<=\\d{4}-)\\d{4}-(?=\\d{4}-\\d{4})` (텍스트에서 신용카드 번호의 중간 부분을 마스킹 처리)\n",
    "\n",
    "15. **비밀번호 마스킹**: `(?<=.{2}).` (텍스트에서 비밀번호의 일부를 마스킹 처리)"
   ]
  },
  {
   "cell_type": "code",
   "execution_count": null,
   "id": "a5156575-ac96-47b3-bb6e-262666db0bdb",
   "metadata": {},
   "outputs": [],
   "source": [
    "# 앞뒤가 공백이고 글자수가 하나인 텍스트 제거 함수\n",
    "def remove_single_char_words(text):\n",
    "    return re.sub(r'\\s.\\s', ' ', text)\n",
    "\n",
    "# 함수 적용\n",
    "df['cleaned_document'] = df['document'].apply(remove_single_char_words)\n",
    "\n",
    "# 모든 document를 하나의 문자열로 결합\n",
    "text = \" \".join(df[\"document\"])\n",
    "text[:1000]"
   ]
  },
  {
   "cell_type": "markdown",
   "id": "1dfb2186-eda5-4190-ad25-3d337c827c8d",
   "metadata": {},
   "source": [
    "### 불용어 처리 "
   ]
  },
  {
   "cell_type": "code",
   "execution_count": null,
   "id": "f9b75444-b73a-4015-8e7b-1e02037ecf86",
   "metadata": {},
   "outputs": [],
   "source": [
    "# 한국어 불용어 리스트\n",
    "stopwords = set([\"의\", \"이\", \"가\", \"은\", \"는\", \"에\", \"와\", \"과\", \"수\",\n",
    "                 \"도\", \"을\", \"를\", \"으로\", \"로\", \"에게\", \"에서\", \"있는\",\n",
    "                 \"책은\", \"및\", \"까지\", \"부터\", \"그리고\", \"하다\", \"있다\", \"있도록\", \"입니다\"])\n",
    "\n",
    "# 워드클라우드 생성\n",
    "wordcloud = WordCloud(font_path='/usr/share/fonts/truetype/nanum/NanumGothic.ttf', \n",
    "                      background_color='white', \n",
    "                      stopwords=stopwords).generate(text)\n",
    "\n",
    "# 워드클라우드 시각화\n",
    "plt.figure(figsize=(10, 8))\n",
    "plt.imshow(wordcloud, interpolation='bilinear')\n",
    "plt.axis('off')\n",
    "plt.show()"
   ]
  },
  {
   "cell_type": "code",
   "execution_count": null,
   "id": "58c042e5-8175-4be5-8ce4-a5ad99de016e",
   "metadata": {},
   "outputs": [],
   "source": []
  },
  {
   "cell_type": "code",
   "execution_count": null,
   "id": "613835b3-1e63-4fbe-b467-8d8baa526f6c",
   "metadata": {},
   "outputs": [],
   "source": []
  },
  {
   "cell_type": "code",
   "execution_count": null,
   "id": "fb3cfd22-21fa-4d2d-b7ad-82280169a982",
   "metadata": {},
   "outputs": [],
   "source": []
  },
  {
   "cell_type": "code",
   "execution_count": null,
   "id": "c5444ead-2b98-4999-9ce8-a9a5455a45bc",
   "metadata": {},
   "outputs": [],
   "source": []
  },
  {
   "cell_type": "code",
   "execution_count": null,
   "id": "efb801ed-9462-45ca-9988-e584fa9a0c25",
   "metadata": {},
   "outputs": [],
   "source": []
  }
 ],
 "metadata": {
  "kernelspec": {
   "display_name": "Python 3 (ipykernel)",
   "language": "python",
   "name": "python3"
  },
  "language_info": {
   "codemirror_mode": {
    "name": "ipython",
    "version": 3
   },
   "file_extension": ".py",
   "mimetype": "text/x-python",
   "name": "python",
   "nbconvert_exporter": "python",
   "pygments_lexer": "ipython3",
   "version": "3.11.4"
  }
 },
 "nbformat": 4,
 "nbformat_minor": 5
}
