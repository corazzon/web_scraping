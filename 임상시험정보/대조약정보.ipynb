{
 "cells": [
  {
   "cell_type": "markdown",
   "metadata": {},
   "source": [
    "### 대조약정보 검색하기\n",
    "* 대조약 정보(메인페이지 → 의약품등 정보 → 제네릭의약품 → 대조약정보) https://nedrug.mfds.go.kr/pbp/CCBBR01"
   ]
  },
  {
   "cell_type": "code",
   "execution_count": 1,
   "metadata": {},
   "outputs": [],
   "source": [
    "import pandas as pd"
   ]
  },
  {
   "cell_type": "code",
   "execution_count": 2,
   "metadata": {},
   "outputs": [],
   "source": [
    "url = \"https://nedrug.mfds.go.kr/pbp/CCBBR01\""
   ]
  },
  {
   "cell_type": "markdown",
   "metadata": {},
   "source": [
    "### 검색 값 설정하기\n",
    "* 웹사이트에서 검색한 URL 안에 우리의 검색어가 들어가 있습니다.\n",
    "* 이렇게 검색어를 URL에 붙여서 넘기는 문구를 쿼리스트링이라고 부릅니다.\n",
    "* 이 문자열을 검색어에 맞게 변경해 줍니다."
   ]
  },
  {
   "cell_type": "code",
   "execution_count": 3,
   "metadata": {},
   "outputs": [
    {
     "data": {
      "text/plain": [
       "'totalPages=22&page=1&limit=100&sort=&sortOrder=&searchYn=false&startDateStart=&startDateEnd=&searchGbn=itemName&search='"
      ]
     },
     "execution_count": 3,
     "metadata": {},
     "output_type": "execute_result"
    }
   ],
   "source": [
    "page_no = 1\n",
    "base_url = \"https://nedrug.mfds.go.kr/pbp/CCBBR01/getList?\"\n",
    "params = f\"totalPages=22&page={page_no}&limit=100&sort=&sortOrder=\"\n",
    "params = f\"{params}&searchYn=false&startDateStart=&startDateEnd=\"\n",
    "params = f\"{params}&searchGbn=itemName&search=\"\n",
    "params"
   ]
  },
  {
   "cell_type": "code",
   "execution_count": 4,
   "metadata": {},
   "outputs": [
    {
     "data": {
      "text/plain": [
       "'https://nedrug.mfds.go.kr/pbp/CCBBR01/getList?totalPages=22&page=1&limit=100&sort=&sortOrder=&searchYn=false&startDateStart=&startDateEnd=&searchGbn=itemName&search='"
      ]
     },
     "execution_count": 4,
     "metadata": {},
     "output_type": "execute_result"
    }
   ],
   "source": [
    "# base_url 과 params를 합쳐서 url 만들기\n",
    "# url = base_url + params\n",
    "url = f\"{base_url}{params}\"\n",
    "url"
   ]
  },
  {
   "cell_type": "markdown",
   "metadata": {},
   "source": [
    "### read_html 로 웹사이트의 내용 읽어오기\n",
    "* html 소스코드 내부에 < table > 로 된 태그가 있을 때만 가능합니다."
   ]
  },
  {
   "cell_type": "code",
   "execution_count": 5,
   "metadata": {},
   "outputs": [
    {
     "data": {
      "text/plain": [
       "1"
      ]
     },
     "execution_count": 5,
     "metadata": {},
     "output_type": "execute_result"
    }
   ],
   "source": [
    "# read_html 로 데이터 가져오기\n",
    "temp = pd.read_html(url, encoding=\"utf-8\")\n",
    "len(temp)"
   ]
  },
  {
   "cell_type": "markdown",
   "metadata": {},
   "source": [
    "### 페이지번호, 검색어를 넘기면 데이터를 가져오는 함수 만들기"
   ]
  },
  {
   "cell_type": "code",
   "execution_count": 6,
   "metadata": {},
   "outputs": [],
   "source": [
    "# try, except 를 사용해서 오류가 났을 때 오류대신 메시지만 출력하도록 합니다.\n",
    "def get_page_content(page_no):\n",
    "    try:\n",
    "        base_url = \"https://nedrug.mfds.go.kr/pbp/CCBBR01/getList?\"\n",
    "        params = f\"totalPages=22&page={page_no}&limit=100&sort=&sortOrder=\"\n",
    "        params = f\"{params}&searchYn=false&startDateStart=&startDateEnd=\"\n",
    "        params = f\"{params}&searchGbn=itemName&search=\"\n",
    "        url = f\"{base_url}{params}\"\n",
    "        table = pd.read_html(url, encoding=\"utf-8\")\n",
    "        return table[0]\n",
    "    except Exception as e:\n",
    "        return e"
   ]
  },
  {
   "cell_type": "code",
   "execution_count": 7,
   "metadata": {},
   "outputs": [
    {
     "data": {
      "text/html": [
       "<div>\n",
       "<style scoped>\n",
       "    .dataframe tbody tr th:only-of-type {\n",
       "        vertical-align: middle;\n",
       "    }\n",
       "\n",
       "    .dataframe tbody tr th {\n",
       "        vertical-align: top;\n",
       "    }\n",
       "\n",
       "    .dataframe thead th {\n",
       "        text-align: right;\n",
       "    }\n",
       "</style>\n",
       "<table border=\"1\" class=\"dataframe\">\n",
       "  <thead>\n",
       "    <tr style=\"text-align: right;\">\n",
       "      <th></th>\n",
       "      <th>순번</th>\n",
       "      <th>성분명</th>\n",
       "      <th>제품명</th>\n",
       "      <th>업체명</th>\n",
       "      <th>구분</th>\n",
       "      <th>제형</th>\n",
       "      <th>공고일</th>\n",
       "    </tr>\n",
       "  </thead>\n",
       "  <tbody>\n",
       "    <tr>\n",
       "      <th>0</th>\n",
       "      <td>1</td>\n",
       "      <td>로사르탄칼륨/암로디핀캄실산염</td>\n",
       "      <td>아모잘탄정5/50밀리그램</td>\n",
       "      <td>한미약품(주)</td>\n",
       "      <td>생동대조약</td>\n",
       "      <td>필름코팅정</td>\n",
       "      <td>2019-09-30</td>\n",
       "    </tr>\n",
       "    <tr>\n",
       "      <th>1</th>\n",
       "      <td>2</td>\n",
       "      <td>로사르탄칼륨/암로디핀캄실산염</td>\n",
       "      <td>아모잘탄정5/100밀리그램</td>\n",
       "      <td>한미약품(주)</td>\n",
       "      <td>생동대조약</td>\n",
       "      <td>필름코팅정</td>\n",
       "      <td>2019-09-30</td>\n",
       "    </tr>\n",
       "    <tr>\n",
       "      <th>2</th>\n",
       "      <td>3</td>\n",
       "      <td>부프레노르핀</td>\n",
       "      <td>노스판패취10㎍/h(부프레노르핀)</td>\n",
       "      <td>한국먼디파마 유한회사</td>\n",
       "      <td>NaN</td>\n",
       "      <td>서방성경피흡수제</td>\n",
       "      <td>2019-06-27</td>\n",
       "    </tr>\n",
       "    <tr>\n",
       "      <th>3</th>\n",
       "      <td>4</td>\n",
       "      <td>레보플록사신수화물</td>\n",
       "      <td>크라비트점안액1.5%(레보플록사신수화물)</td>\n",
       "      <td>한국산텐제약(주)</td>\n",
       "      <td>이동대조약</td>\n",
       "      <td>점안용액제</td>\n",
       "      <td>2019-06-27</td>\n",
       "    </tr>\n",
       "    <tr>\n",
       "      <th>4</th>\n",
       "      <td>5</td>\n",
       "      <td>결합형에스트로겐4.29%/바제독시펜아세테이트</td>\n",
       "      <td>듀아비브정0.45/20밀리그램</td>\n",
       "      <td>한국화이자제약(주)</td>\n",
       "      <td>생동대조약</td>\n",
       "      <td>서방성필름코팅정</td>\n",
       "      <td>2019-06-27</td>\n",
       "    </tr>\n",
       "    <tr>\n",
       "      <th>...</th>\n",
       "      <td>...</td>\n",
       "      <td>...</td>\n",
       "      <td>...</td>\n",
       "      <td>...</td>\n",
       "      <td>...</td>\n",
       "      <td>...</td>\n",
       "      <td>...</td>\n",
       "    </tr>\n",
       "    <tr>\n",
       "      <th>95</th>\n",
       "      <td>96</td>\n",
       "      <td>로수바스타틴칼슘/에제티미브</td>\n",
       "      <td>로수젯정10/5밀리그램</td>\n",
       "      <td>한미약품(주)</td>\n",
       "      <td>NaN</td>\n",
       "      <td>필름코팅정</td>\n",
       "      <td>2018-03-30</td>\n",
       "    </tr>\n",
       "    <tr>\n",
       "      <th>96</th>\n",
       "      <td>97</td>\n",
       "      <td>로수바스타틴칼슘/에제티미브</td>\n",
       "      <td>로수젯정10/10밀리그램</td>\n",
       "      <td>한미약품(주)</td>\n",
       "      <td>NaN</td>\n",
       "      <td>필름코팅정</td>\n",
       "      <td>2018-03-30</td>\n",
       "    </tr>\n",
       "    <tr>\n",
       "      <th>97</th>\n",
       "      <td>98</td>\n",
       "      <td>로수바스타틴칼슘/에제티미브</td>\n",
       "      <td>로수젯정10/20밀리그램</td>\n",
       "      <td>한미약품(주)</td>\n",
       "      <td>NaN</td>\n",
       "      <td>필름코팅정</td>\n",
       "      <td>2018-03-30</td>\n",
       "    </tr>\n",
       "    <tr>\n",
       "      <th>98</th>\n",
       "      <td>99</td>\n",
       "      <td>로수바스타틴칼슘/텔미사르탄</td>\n",
       "      <td>듀오웰정80/20밀리그램</td>\n",
       "      <td>(주)유한양행</td>\n",
       "      <td>NaN</td>\n",
       "      <td>필름코팅정</td>\n",
       "      <td>2018-03-30</td>\n",
       "    </tr>\n",
       "    <tr>\n",
       "      <th>99</th>\n",
       "      <td>100</td>\n",
       "      <td>로수바스타틴칼슘/텔미사르탄</td>\n",
       "      <td>듀오웰정40/10밀리그램</td>\n",
       "      <td>(주)유한양행</td>\n",
       "      <td>NaN</td>\n",
       "      <td>필름코팅정</td>\n",
       "      <td>2018-03-30</td>\n",
       "    </tr>\n",
       "  </tbody>\n",
       "</table>\n",
       "<p>100 rows × 7 columns</p>\n",
       "</div>"
      ],
      "text/plain": [
       "     순번                       성분명                     제품명          업체명     구분  \\\n",
       "0     1           로사르탄칼륨/암로디핀캄실산염           아모잘탄정5/50밀리그램      한미약품(주)  생동대조약   \n",
       "1     2           로사르탄칼륨/암로디핀캄실산염          아모잘탄정5/100밀리그램      한미약품(주)  생동대조약   \n",
       "2     3                    부프레노르핀      노스판패취10㎍/h(부프레노르핀)  한국먼디파마 유한회사    NaN   \n",
       "3     4                 레보플록사신수화물  크라비트점안액1.5%(레보플록사신수화물)    한국산텐제약(주)  이동대조약   \n",
       "4     5  결합형에스트로겐4.29%/바제독시펜아세테이트        듀아비브정0.45/20밀리그램   한국화이자제약(주)  생동대조약   \n",
       "..  ...                       ...                     ...          ...    ...   \n",
       "95   96            로수바스타틴칼슘/에제티미브            로수젯정10/5밀리그램      한미약품(주)    NaN   \n",
       "96   97            로수바스타틴칼슘/에제티미브           로수젯정10/10밀리그램      한미약품(주)    NaN   \n",
       "97   98            로수바스타틴칼슘/에제티미브           로수젯정10/20밀리그램      한미약품(주)    NaN   \n",
       "98   99            로수바스타틴칼슘/텔미사르탄           듀오웰정80/20밀리그램      (주)유한양행    NaN   \n",
       "99  100            로수바스타틴칼슘/텔미사르탄           듀오웰정40/10밀리그램      (주)유한양행    NaN   \n",
       "\n",
       "          제형         공고일  \n",
       "0      필름코팅정  2019-09-30  \n",
       "1      필름코팅정  2019-09-30  \n",
       "2   서방성경피흡수제  2019-06-27  \n",
       "3      점안용액제  2019-06-27  \n",
       "4   서방성필름코팅정  2019-06-27  \n",
       "..       ...         ...  \n",
       "95     필름코팅정  2018-03-30  \n",
       "96     필름코팅정  2018-03-30  \n",
       "97     필름코팅정  2018-03-30  \n",
       "98     필름코팅정  2018-03-30  \n",
       "99     필름코팅정  2018-03-30  \n",
       "\n",
       "[100 rows x 7 columns]"
      ]
     },
     "execution_count": 7,
     "metadata": {},
     "output_type": "execute_result"
    }
   ],
   "source": [
    "# 함수 확인하기\n",
    "get_page_content(page_no)"
   ]
  },
  {
   "cell_type": "markdown",
   "metadata": {},
   "source": [
    "### 반복문을 통해 전체 페이지를 수집\n",
    "\n",
    "* tqdm은?\n",
    "    * 오래 걸리는 작업의 진행 상태를 표시합니다.\n",
    "    * https://tqdm.github.io/"
   ]
  },
  {
   "cell_type": "code",
   "execution_count": 8,
   "metadata": {},
   "outputs": [],
   "source": [
    "# tqdm 불러오기\n",
    "from tqdm import trange\n",
    "# 페이지마다의 목록을 담아줄 리스트 초기화\n",
    "page_list = []\n",
    "\n",
    "# 반복문을 통해 여러 페이지의 목록 수집하기\n",
    "# for page_no in trange(1, 23):\n",
    "#     temp = get_page_content(page_no)\n",
    "#     page_list.append(temp)"
   ]
  },
  {
   "cell_type": "code",
   "execution_count": 9,
   "metadata": {},
   "outputs": [
    {
     "data": {
      "text/plain": [
       "(100, 7)"
      ]
     },
     "execution_count": 9,
     "metadata": {},
     "output_type": "execute_result"
    }
   ],
   "source": [
    "# 정상동작 확인\n",
    "page_no = 1\n",
    "temp_1 = get_page_content(page_no)\n",
    "temp_1.shape"
   ]
  },
  {
   "cell_type": "code",
   "execution_count": 10,
   "metadata": {},
   "outputs": [
    {
     "name": "stdout",
     "output_type": "stream",
     "text": [
      "(1, 7)\n"
     ]
    },
    {
     "data": {
      "text/plain": [
       "'조회 결과가 없습니다.'"
      ]
     },
     "execution_count": 10,
     "metadata": {},
     "output_type": "execute_result"
    }
   ],
   "source": [
    "# 없는 페이지 접근 확인\n",
    "page_no = 23\n",
    "temp_2 = get_page_content(page_no)\n",
    "print(temp_2.shape)\n",
    "temp_2.iloc[0, 0]"
   ]
  },
  {
   "cell_type": "code",
   "execution_count": 11,
   "metadata": {},
   "outputs": [
    {
     "name": "stdout",
     "output_type": "stream",
     "text": [
      "10\n",
      "20\n"
     ]
    }
   ],
   "source": [
    "import time\n",
    "page_no = 1\n",
    "page_list = []\n",
    "while True:\n",
    "    temp = get_page_content(page_no)\n",
    "    if temp.shape[0] > 1:\n",
    "        page_list.append(temp)\n",
    "        page_no = page_no + 1\n",
    "        time.sleep(0.1)\n",
    "        if page_no % 10 == 0: # 10페이지 단위로만 출력하기\n",
    "            print(page_no)\n",
    "    else:\n",
    "        break"
   ]
  },
  {
   "cell_type": "markdown",
   "metadata": {},
   "source": [
    "### 수집한 데이터 하나의 데이터프레임으로 합치기\n",
    "\n",
    "\n",
    "<img src=\"https://pandas.pydata.org/docs/_images/merging_concat_basic.png\">\n",
    "\n",
    "* [Merge, join, concatenate and compare documentation](https://pandas.pydata.org/docs/user_guide/merging.html#merge-join-concatenate-and-compare)"
   ]
  },
  {
   "cell_type": "code",
   "execution_count": 12,
   "metadata": {},
   "outputs": [
    {
     "data": {
      "text/plain": [
       "(2121, 7)"
      ]
     },
     "execution_count": 12,
     "metadata": {},
     "output_type": "execute_result"
    }
   ],
   "source": [
    "# concat으로 데이터프레임 하나로 만들기\n",
    "df = pd.concat(page_list)\n",
    "df.shape"
   ]
  },
  {
   "cell_type": "markdown",
   "metadata": {},
   "source": [
    "### 파일로 저장하기"
   ]
  },
  {
   "cell_type": "code",
   "execution_count": 13,
   "metadata": {},
   "outputs": [
    {
     "data": {
      "text/plain": [
       "'2021-06-04'"
      ]
     },
     "execution_count": 13,
     "metadata": {},
     "output_type": "execute_result"
    }
   ],
   "source": [
    "import datetime\n",
    "today = datetime.datetime.today().strftime(\"%Y-%m-%d\")\n",
    "today\n",
    "# today = \"2021-06-04\""
   ]
  },
  {
   "cell_type": "code",
   "execution_count": 14,
   "metadata": {},
   "outputs": [
    {
     "data": {
      "text/plain": [
       "'대조약정보-2021-06-04.csv'"
      ]
     },
     "execution_count": 14,
     "metadata": {},
     "output_type": "execute_result"
    }
   ],
   "source": [
    "file_name = f\"대조약정보-{today}.csv\"\n",
    "file_name"
   ]
  },
  {
   "cell_type": "code",
   "execution_count": 15,
   "metadata": {},
   "outputs": [],
   "source": [
    "# to_csv로 저장하기\n",
    "df.to_csv(file_name, index=False, encoding=\"cp949\")"
   ]
  },
  {
   "cell_type": "code",
   "execution_count": 16,
   "metadata": {},
   "outputs": [
    {
     "data": {
      "text/html": [
       "<div>\n",
       "<style scoped>\n",
       "    .dataframe tbody tr th:only-of-type {\n",
       "        vertical-align: middle;\n",
       "    }\n",
       "\n",
       "    .dataframe tbody tr th {\n",
       "        vertical-align: top;\n",
       "    }\n",
       "\n",
       "    .dataframe thead th {\n",
       "        text-align: right;\n",
       "    }\n",
       "</style>\n",
       "<table border=\"1\" class=\"dataframe\">\n",
       "  <thead>\n",
       "    <tr style=\"text-align: right;\">\n",
       "      <th></th>\n",
       "      <th>순번</th>\n",
       "      <th>성분명</th>\n",
       "      <th>제품명</th>\n",
       "      <th>업체명</th>\n",
       "      <th>구분</th>\n",
       "      <th>제형</th>\n",
       "      <th>공고일</th>\n",
       "    </tr>\n",
       "  </thead>\n",
       "  <tbody>\n",
       "    <tr>\n",
       "      <th>0</th>\n",
       "      <td>1</td>\n",
       "      <td>로사르탄칼륨/암로디핀캄실산염</td>\n",
       "      <td>아모잘탄정5/50밀리그램</td>\n",
       "      <td>한미약품(주)</td>\n",
       "      <td>생동대조약</td>\n",
       "      <td>필름코팅정</td>\n",
       "      <td>2019-09-30</td>\n",
       "    </tr>\n",
       "    <tr>\n",
       "      <th>1</th>\n",
       "      <td>2</td>\n",
       "      <td>로사르탄칼륨/암로디핀캄실산염</td>\n",
       "      <td>아모잘탄정5/100밀리그램</td>\n",
       "      <td>한미약품(주)</td>\n",
       "      <td>생동대조약</td>\n",
       "      <td>필름코팅정</td>\n",
       "      <td>2019-09-30</td>\n",
       "    </tr>\n",
       "    <tr>\n",
       "      <th>2</th>\n",
       "      <td>3</td>\n",
       "      <td>부프레노르핀</td>\n",
       "      <td>노스판패취10㎍/h(부프레노르핀)</td>\n",
       "      <td>한국먼디파마 유한회사</td>\n",
       "      <td>NaN</td>\n",
       "      <td>서방성경피흡수제</td>\n",
       "      <td>2019-06-27</td>\n",
       "    </tr>\n",
       "    <tr>\n",
       "      <th>3</th>\n",
       "      <td>4</td>\n",
       "      <td>레보플록사신수화물</td>\n",
       "      <td>크라비트점안액1.5%(레보플록사신수화물)</td>\n",
       "      <td>한국산텐제약(주)</td>\n",
       "      <td>이동대조약</td>\n",
       "      <td>점안용액제</td>\n",
       "      <td>2019-06-27</td>\n",
       "    </tr>\n",
       "    <tr>\n",
       "      <th>4</th>\n",
       "      <td>5</td>\n",
       "      <td>결합형에스트로겐4.29%/바제독시펜아세테이트</td>\n",
       "      <td>듀아비브정0.45/20밀리그램</td>\n",
       "      <td>한국화이자제약(주)</td>\n",
       "      <td>생동대조약</td>\n",
       "      <td>서방성필름코팅정</td>\n",
       "      <td>2019-06-27</td>\n",
       "    </tr>\n",
       "    <tr>\n",
       "      <th>...</th>\n",
       "      <td>...</td>\n",
       "      <td>...</td>\n",
       "      <td>...</td>\n",
       "      <td>...</td>\n",
       "      <td>...</td>\n",
       "      <td>...</td>\n",
       "      <td>...</td>\n",
       "    </tr>\n",
       "    <tr>\n",
       "      <th>2116</th>\n",
       "      <td>2117</td>\n",
       "      <td>딜티아젬염산염</td>\n",
       "      <td>유영딜티아젬정30mg(딜티아젬염산염)(수출용)</td>\n",
       "      <td>(주)유영제약</td>\n",
       "      <td>NaN</td>\n",
       "      <td>나정</td>\n",
       "      <td>2002-11-22</td>\n",
       "    </tr>\n",
       "    <tr>\n",
       "      <th>2117</th>\n",
       "      <td>2118</td>\n",
       "      <td>라록시펜염산염</td>\n",
       "      <td>에비스타정60밀리그람(라록시펜염산염)</td>\n",
       "      <td>알보젠코리아(주)</td>\n",
       "      <td>생동대조약</td>\n",
       "      <td>필름코팅정</td>\n",
       "      <td>2002-11-22</td>\n",
       "    </tr>\n",
       "    <tr>\n",
       "      <th>2118</th>\n",
       "      <td>2119</td>\n",
       "      <td>라미부딘</td>\n",
       "      <td>제픽스정100밀리그램(라미부딘)</td>\n",
       "      <td>(주)글락소스미스클라인</td>\n",
       "      <td>생동대조약</td>\n",
       "      <td>필름코팅정</td>\n",
       "      <td>2002-11-22</td>\n",
       "    </tr>\n",
       "    <tr>\n",
       "      <th>2119</th>\n",
       "      <td>2120</td>\n",
       "      <td>테오필린서방형입자</td>\n",
       "      <td>보령오스틴서방캅셀(테오필린)</td>\n",
       "      <td>보령제약(주)</td>\n",
       "      <td>생동대조약</td>\n",
       "      <td>서방성캡슐제, 펠렛</td>\n",
       "      <td>2002-11-22</td>\n",
       "    </tr>\n",
       "    <tr>\n",
       "      <th>2120</th>\n",
       "      <td>2121</td>\n",
       "      <td>브롬헥신염산염</td>\n",
       "      <td>뮤코졸정(브롬헥신염산염)</td>\n",
       "      <td>부광약품(주)</td>\n",
       "      <td>NaN</td>\n",
       "      <td>나정</td>\n",
       "      <td>1974-11-25</td>\n",
       "    </tr>\n",
       "  </tbody>\n",
       "</table>\n",
       "<p>2121 rows × 7 columns</p>\n",
       "</div>"
      ],
      "text/plain": [
       "        순번                       성분명                        제품명           업체명  \\\n",
       "0        1           로사르탄칼륨/암로디핀캄실산염              아모잘탄정5/50밀리그램       한미약품(주)   \n",
       "1        2           로사르탄칼륨/암로디핀캄실산염             아모잘탄정5/100밀리그램       한미약품(주)   \n",
       "2        3                    부프레노르핀         노스판패취10㎍/h(부프레노르핀)   한국먼디파마 유한회사   \n",
       "3        4                 레보플록사신수화물     크라비트점안액1.5%(레보플록사신수화물)     한국산텐제약(주)   \n",
       "4        5  결합형에스트로겐4.29%/바제독시펜아세테이트           듀아비브정0.45/20밀리그램    한국화이자제약(주)   \n",
       "...    ...                       ...                        ...           ...   \n",
       "2116  2117                   딜티아젬염산염  유영딜티아젬정30mg(딜티아젬염산염)(수출용)       (주)유영제약   \n",
       "2117  2118                   라록시펜염산염       에비스타정60밀리그람(라록시펜염산염)     알보젠코리아(주)   \n",
       "2118  2119                      라미부딘          제픽스정100밀리그램(라미부딘)  (주)글락소스미스클라인   \n",
       "2119  2120                 테오필린서방형입자            보령오스틴서방캅셀(테오필린)       보령제약(주)   \n",
       "2120  2121                   브롬헥신염산염              뮤코졸정(브롬헥신염산염)       부광약품(주)   \n",
       "\n",
       "         구분          제형         공고일  \n",
       "0     생동대조약       필름코팅정  2019-09-30  \n",
       "1     생동대조약       필름코팅정  2019-09-30  \n",
       "2       NaN    서방성경피흡수제  2019-06-27  \n",
       "3     이동대조약       점안용액제  2019-06-27  \n",
       "4     생동대조약    서방성필름코팅정  2019-06-27  \n",
       "...     ...         ...         ...  \n",
       "2116    NaN          나정  2002-11-22  \n",
       "2117  생동대조약       필름코팅정  2002-11-22  \n",
       "2118  생동대조약       필름코팅정  2002-11-22  \n",
       "2119  생동대조약  서방성캡슐제, 펠렛  2002-11-22  \n",
       "2120    NaN          나정  1974-11-25  \n",
       "\n",
       "[2121 rows x 7 columns]"
      ]
     },
     "execution_count": 16,
     "metadata": {},
     "output_type": "execute_result"
    }
   ],
   "source": [
    "# read_csv로 읽어오기\n",
    "pd.read_csv(file_name, encoding=\"cp949\")"
   ]
  },
  {
   "cell_type": "code",
   "execution_count": null,
   "metadata": {},
   "outputs": [],
   "source": []
  }
 ],
 "metadata": {
  "kernelspec": {
   "display_name": "Python 3",
   "language": "python",
   "name": "python3"
  },
  "language_info": {
   "codemirror_mode": {
    "name": "ipython",
    "version": 3
   },
   "file_extension": ".py",
   "mimetype": "text/x-python",
   "name": "python",
   "nbconvert_exporter": "python",
   "pygments_lexer": "ipython3",
   "version": "3.7.6"
  },
  "toc": {
   "base_numbering": 1,
   "nav_menu": {},
   "number_sections": true,
   "sideBar": true,
   "skip_h1_title": false,
   "title_cell": "Table of Contents",
   "title_sidebar": "Contents",
   "toc_cell": false,
   "toc_position": {},
   "toc_section_display": true,
   "toc_window_display": false
  },
  "varInspector": {
   "cols": {
    "lenName": 16,
    "lenType": 16,
    "lenVar": 40
   },
   "kernels_config": {
    "python": {
     "delete_cmd_postfix": "",
     "delete_cmd_prefix": "del ",
     "library": "var_list.py",
     "varRefreshCmd": "print(var_dic_list())"
    },
    "r": {
     "delete_cmd_postfix": ") ",
     "delete_cmd_prefix": "rm(",
     "library": "var_list.r",
     "varRefreshCmd": "cat(var_dic_list()) "
    }
   },
   "types_to_exclude": [
    "module",
    "function",
    "builtin_function_or_method",
    "instance",
    "_Feature"
   ],
   "window_display": false
  }
 },
 "nbformat": 4,
 "nbformat_minor": 4
}
