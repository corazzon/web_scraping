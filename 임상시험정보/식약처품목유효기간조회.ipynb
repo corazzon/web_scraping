{
 "cells": [
  {
   "cell_type": "markdown",
   "metadata": {},
   "source": [
    "###  품목유효기간조회\n",
    "* 품목유효기간조회(메인페이지 → 의약품등 정보 → 품목갱신정보 → 품목유효기간조회) https://nedrug.mfds.go.kr/pbp/CCBBL01"
   ]
  },
  {
   "cell_type": "code",
   "execution_count": null,
   "metadata": {},
   "outputs": [],
   "source": [
    "import pandas as pd"
   ]
  },
  {
   "cell_type": "code",
   "execution_count": null,
   "metadata": {},
   "outputs": [],
   "source": [
    "url = \"https://nedrug.mfds.go.kr/pbp/CCBBL01\""
   ]
  },
  {
   "cell_type": "code",
   "execution_count": null,
   "metadata": {},
   "outputs": [],
   "source": [
    "# 전체 URL을 출력해 봅니다.\n",
    "url = \"https://nedrug.mfds.go.kr/pbp/CCBBL01/getList?totalPages=76&page=2&limit=10&sort=&sortOrder=&searchYn=&itemName=&entpName=%EB%8C%80%EC%9B%85&itemSeq=\""
   ]
  },
  {
   "cell_type": "markdown",
   "metadata": {},
   "source": [
    "### 검색 값 설정하기\n",
    "* 웹사이트에서 검색한 URL 안에 우리의 검색어가 들어가 있습니다.\n",
    "* 이렇게 검색어를 URL에 붙여서 넘기는 문구를 쿼리스트링이라고 부릅니다.\n",
    "* 이 문자열을 검색어에 맞게 변경해 줍니다."
   ]
  },
  {
   "cell_type": "code",
   "execution_count": null,
   "metadata": {},
   "outputs": [],
   "source": [
    "# URL 인코딩 - 한글을 URL에 그대로 보낼 수 없기 때문에 인코딩을 합니다.\n",
    "# 웹사이트에서 검색한 내용이 인코딩 되어 보이는 것과 같은 현상입니다.\n",
    "#  parse.quote_plus 를 통해 검색어를 인코딩 합니다.\n",
    "from urllib import parse\n",
    "search_word = \"셀트리온\"\n",
    "# search_word_encode\n",
    "# parse.quote_plus(search_word) == \"%EB%8C%80%EC%9B%85\"\n",
    "search_word_encode = parse.quote_plus(search_word)\n",
    "search_word_encode"
   ]
  },
  {
   "cell_type": "code",
   "execution_count": null,
   "metadata": {},
   "outputs": [],
   "source": [
    "# URL을 생성합니다.\n",
    "page_no = 3\n",
    "# base_url\n",
    "# params\n",
    "base_url = \"https://nedrug.mfds.go.kr/pbp/CCBBL01/getList?\"\n",
    "params = f\"totalPages=76&page={page_no}&limit=10&sort=&sortOrder=&searchYn=true\"\n",
    "params = f\"{params}&itemName=&entpName={search_word_encode}&itemSeq=\"\n",
    "params"
   ]
  },
  {
   "cell_type": "markdown",
   "metadata": {},
   "source": [
    "### base_url 과 검색어가 들어간 파라메터 합치기"
   ]
  },
  {
   "cell_type": "code",
   "execution_count": null,
   "metadata": {},
   "outputs": [],
   "source": [
    "# base_url 과 params 를 합쳐 url을 만듭니다.\n",
    "# url\n",
    "url = base_url + params\n",
    "url"
   ]
  },
  {
   "cell_type": "markdown",
   "metadata": {},
   "source": [
    "### read_html 로 웹사이트의 내용 읽어오기\n",
    "* html 소스코드 내부에 < table > 로 된 태그가 있을 때만 가능합니다."
   ]
  },
  {
   "cell_type": "code",
   "execution_count": null,
   "metadata": {},
   "outputs": [],
   "source": [
    "# read_html을 통해 특정 url에 있는 table 태그에 있는 데이터를 가져옵니다.\n",
    "table = pd.read_html(url, encoding=\"utf-8\")\n",
    "len(table)"
   ]
  },
  {
   "cell_type": "code",
   "execution_count": null,
   "metadata": {},
   "outputs": [],
   "source": [
    "table[0]"
   ]
  },
  {
   "cell_type": "markdown",
   "metadata": {},
   "source": [
    "### 페이지번호, 검색어를 넘기면 데이터를 가져오는 함수 만들기"
   ]
  },
  {
   "cell_type": "code",
   "execution_count": null,
   "metadata": {},
   "outputs": [],
   "source": [
    "# try, except 를 사용해서 오류가 났을 때 오류대신 메시지만 출력하도록 합니다.\n",
    "#     try:\n",
    "#     except Exception as e:\n",
    "#         return e\n",
    "def get_page_content(page_no, search_word):\n",
    "    try:\n",
    "        search_word_encode = parse.quote_plus(search_word)\n",
    "\n",
    "        base_url = \"https://nedrug.mfds.go.kr/pbp/CCBBL01/getList?\"\n",
    "        params = f\"totalPages=8&page={page_no}&limit=100&sort=&sortOrder=&searchYn=true\"\n",
    "        params = f\"{params}&itemName=&entpName={search_word_encode}&itemSeq=\"\n",
    "\n",
    "        url = base_url + params\n",
    "        table = pd.read_html(url, encoding=\"utf-8\")\n",
    "\n",
    "        return table[0]\n",
    "    except Exception as e:\n",
    "        return e"
   ]
  },
  {
   "cell_type": "code",
   "execution_count": null,
   "metadata": {},
   "outputs": [],
   "source": [
    "# 함수 확인하기\n",
    "page_no = 3\n",
    "search_word = \"한미약품\"\n",
    "get_page_content(page_no, search_word)"
   ]
  },
  {
   "cell_type": "markdown",
   "metadata": {},
   "source": [
    "### 반복문을 통해 전체 페이지를 수집\n",
    "\n",
    "* tqdm은?\n",
    "    * 오래 걸리는 작업의 진행 상태를 표시합니다.\n",
    "    * https://tqdm.github.io/"
   ]
  },
  {
   "cell_type": "code",
   "execution_count": null,
   "metadata": {},
   "outputs": [],
   "source": [
    "# tqdm 의 trange를 불러옵니다.\n",
    "from tqdm import trange\n",
    "# 페이지마다의 목록을 담아줄 리스트 초기화\n",
    "page_list = []\n",
    "\n",
    "# 반복문을 통해 여러 페이지의 목록 수집하기\n",
    "for page_no in trange(1, 9):\n",
    "    temp = get_page_content(page_no, search_word)\n",
    "    page_list.append(temp)"
   ]
  },
  {
   "cell_type": "code",
   "execution_count": null,
   "metadata": {},
   "outputs": [],
   "source": [
    "len(page_list)"
   ]
  },
  {
   "cell_type": "markdown",
   "metadata": {},
   "source": [
    "### 수집한 데이터 하나의 데이터프레임으로 합치기\n",
    "\n",
    "\n",
    "<img src=\"https://pandas.pydata.org/docs/_images/merging_concat_basic.png\">\n",
    "\n",
    "* [Merge, join, concatenate and compare documentation](https://pandas.pydata.org/docs/user_guide/merging.html#merge-join-concatenate-and-compare)"
   ]
  },
  {
   "cell_type": "code",
   "execution_count": null,
   "metadata": {},
   "outputs": [],
   "source": [
    "# concat을 통해 데이터프레임 하나로 만들기\n",
    "df = pd.concat(page_list)\n",
    "df.shape"
   ]
  },
  {
   "cell_type": "markdown",
   "metadata": {},
   "source": [
    "### 파일로 저장하기"
   ]
  },
  {
   "cell_type": "code",
   "execution_count": null,
   "metadata": {},
   "outputs": [],
   "source": [
    "# 저장할 파일명 만들기\n",
    "file_name = f\"{search_word}_품목유효기간.csv\"\n",
    "file_name"
   ]
  },
  {
   "cell_type": "code",
   "execution_count": null,
   "metadata": {},
   "outputs": [],
   "source": [
    "# to_csv 로 저장하기\n",
    "df.to_csv(file_name, index=False, encoding=\"cp949\")"
   ]
  },
  {
   "cell_type": "code",
   "execution_count": null,
   "metadata": {},
   "outputs": [],
   "source": [
    "# 잘 저장되었는지 확인하기\n",
    "pd.read_csv(file_name, encoding=\"cp949\")"
   ]
  },
  {
   "cell_type": "code",
   "execution_count": null,
   "metadata": {},
   "outputs": [],
   "source": []
  },
  {
   "cell_type": "code",
   "execution_count": null,
   "metadata": {},
   "outputs": [],
   "source": []
  }
 ],
 "metadata": {
  "kernelspec": {
   "display_name": "Python 3",
   "language": "python",
   "name": "python3"
  },
  "language_info": {
   "codemirror_mode": {
    "name": "ipython",
    "version": 3
   },
   "file_extension": ".py",
   "mimetype": "text/x-python",
   "name": "python",
   "nbconvert_exporter": "python",
   "pygments_lexer": "ipython3",
   "version": "3.7.6"
  },
  "toc": {
   "base_numbering": 1,
   "nav_menu": {},
   "number_sections": true,
   "sideBar": true,
   "skip_h1_title": false,
   "title_cell": "Table of Contents",
   "title_sidebar": "Contents",
   "toc_cell": false,
   "toc_position": {},
   "toc_section_display": true,
   "toc_window_display": false
  },
  "varInspector": {
   "cols": {
    "lenName": 16,
    "lenType": 16,
    "lenVar": 40
   },
   "kernels_config": {
    "python": {
     "delete_cmd_postfix": "",
     "delete_cmd_prefix": "del ",
     "library": "var_list.py",
     "varRefreshCmd": "print(var_dic_list())"
    },
    "r": {
     "delete_cmd_postfix": ") ",
     "delete_cmd_prefix": "rm(",
     "library": "var_list.r",
     "varRefreshCmd": "cat(var_dic_list()) "
    }
   },
   "types_to_exclude": [
    "module",
    "function",
    "builtin_function_or_method",
    "instance",
    "_Feature"
   ],
   "window_display": false
  }
 },
 "nbformat": 4,
 "nbformat_minor": 4
}
