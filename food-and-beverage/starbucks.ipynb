{
 "cells": [
  {
   "cell_type": "markdown",
   "metadata": {},
   "source": [
    "## 스타벅스 매장정보 \n",
    "https://www.starbucks.co.kr/store/store_map.do"
   ]
  },
  {
   "cell_type": "code",
   "execution_count": null,
   "metadata": {},
   "outputs": [],
   "source": [
    "import requests"
   ]
  },
  {
   "cell_type": "code",
   "execution_count": null,
   "metadata": {},
   "outputs": [],
   "source": [
    "def get_store_with_sido_num(sido_num):\n",
    "    st_by_sido = []\n",
    "    url = \"https://www.starbucks.co.kr/store/getStore.do?r=0TB85BHU56\"\n",
    "    response = requests.post(url, params = f\"in_biz_cds=0&in_scodes=0&ins_lat=37.566926455583385&ins_lng=126.97212112504282&search_text=&p_sido_cd={sido_num}&p_gugun_cd=&isError=true&in_distance=0&in_biz_cd=&iend=1000&searchType=C&set_date=&rndCod=3WBZBCPSZ8&all_store=0&T03=0&T01=0&T12=0&T09=0&T30=0&T05=0&T22=0&T21=0&T10=0&T36=0&P10=0&P50=0&P20=0&P60=0&P30=0&P70=0&P40=0&P80=0&whcroad_yn=0&P90=0&new_bool=0\")\n",
    "    sb_df = pd.DataFrame(response.json()[\"list\"])\n",
    "    stores = sb_df[[\"sido_name\",\"gugun_name\",\"s_name\",\"addr\",\"tel\",\"s_code\",\"gugun_code\"]]\n",
    "    st_by_sido.append(stores)\n",
    "    df = pd.concat(st_by_sido)\n",
    "    return df\n",
    "\n",
    "\n",
    "# 시도 리스트 받아오기\n",
    "url = \"https://www.starbucks.co.kr/store/getSidoList.do\"\n",
    "response = requests.post(url, params = f\"in_biz_cds=0&in_scodes=0&ins_lat=37.566926455583385&ins_lng=126.97212112504282&search_text=&p_sido_cd=01&p_gugun_cd=&isError=true&in_distance=0&in_biz_cd=&iend=1000&searchType=C&set_date=&rndCod=3WBZBCPSZ8&all_store=0&T03=0&T01=0&T12=0&T09=0&T30=0&T05=0&T22=0&T21=0&T10=0&T36=0&P10=0&P50=0&P20=0&P60=0&P30=0&P70=0&P40=0&P80=0&whcroad_yn=0&P90=0&new_bool=0\")\n",
    "sido_list = pd.DataFrame(response.json()[\"list\"])\n",
    "sido_num = sido_list[\"sido_cd\"].to_list()\n",
    "# sido_num\n",
    "\n",
    "\n",
    "# for 문으로 반복\n",
    "please_add_here = []\n",
    "for num in sido_num:\n",
    "    s_list = pd.DataFrame(get_store_with_sido_num(num))\n",
    "    please_add_here.append(s_list)\n",
    "    all_store = pd.concat(please_add_here)\n",
    "\n",
    "all_store"
   ]
  },
  {
   "cell_type": "code",
   "execution_count": null,
   "metadata": {},
   "outputs": [],
   "source": [
    "all_store['sido_name'] = all_store['sido_name'].replace('강원도','강원')"
   ]
  },
  {
   "cell_type": "code",
   "execution_count": null,
   "metadata": {},
   "outputs": [],
   "source": [
    "all_store.head()"
   ]
  },
  {
   "cell_type": "code",
   "execution_count": null,
   "metadata": {},
   "outputs": [],
   "source": [
    "store_nunique = all_store.nunique()\n",
    "store_nunique"
   ]
  },
  {
   "cell_type": "code",
   "execution_count": null,
   "metadata": {},
   "outputs": [],
   "source": [
    "all_store[\"sido_name\"].value_counts()"
   ]
  },
  {
   "cell_type": "code",
   "execution_count": null,
   "metadata": {},
   "outputs": [],
   "source": []
  }
 ],
 "metadata": {
  "kernelspec": {
   "display_name": "Python 3 (ipykernel)",
   "language": "python",
   "name": "python3"
  },
  "language_info": {
   "codemirror_mode": {
    "name": "ipython",
    "version": 3
   },
   "file_extension": ".py",
   "mimetype": "text/x-python",
   "name": "python",
   "nbconvert_exporter": "python",
   "pygments_lexer": "ipython3",
   "version": "3.11.4"
  },
  "toc": {
   "base_numbering": 1,
   "nav_menu": {},
   "number_sections": true,
   "sideBar": true,
   "skip_h1_title": false,
   "title_cell": "Table of Contents",
   "title_sidebar": "Contents",
   "toc_cell": false,
   "toc_position": {},
   "toc_section_display": true,
   "toc_window_display": false
  },
  "varInspector": {
   "cols": {
    "lenName": 16,
    "lenType": 16,
    "lenVar": 40
   },
   "kernels_config": {
    "python": {
     "delete_cmd_postfix": "",
     "delete_cmd_prefix": "del ",
     "library": "var_list.py",
     "varRefreshCmd": "print(var_dic_list())"
    },
    "r": {
     "delete_cmd_postfix": ") ",
     "delete_cmd_prefix": "rm(",
     "library": "var_list.r",
     "varRefreshCmd": "cat(var_dic_list()) "
    }
   },
   "types_to_exclude": [
    "module",
    "function",
    "builtin_function_or_method",
    "instance",
    "_Feature"
   ],
   "window_display": false
  }
 },
 "nbformat": 4,
 "nbformat_minor": 4
}
