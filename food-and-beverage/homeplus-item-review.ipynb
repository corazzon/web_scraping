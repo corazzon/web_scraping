{
 "cells": [
  {
   "cell_type": "markdown",
   "id": "31c1354f-db54-4c73-9759-88a5a44f8c67",
   "metadata": {},
   "source": [
    "Request URL:\n",
    "https://mfront.homeplus.co.kr/review/getItemReview.json?groupItem=N&isAttached=false&itemNo=070882254&myStore=N&page=3&perPage=30&reviewFilter=&sort=reg&storeKind=NOR&storeType=HYPER&type=A\n",
    "Request Method:\n",
    "GET\n",
    "Status Code:\n",
    "200 OK\n",
    "Remote Address:\n",
    "52.79.144.93:443\n",
    "Referrer Policy:\n",
    "strict-origin-when-cross-origin"
   ]
  },
  {
   "cell_type": "code",
   "execution_count": null,
   "id": "588f61df-9b36-4486-8a3c-2c6ae0c3c85f",
   "metadata": {},
   "outputs": [],
   "source": [
    "import requests\n",
    "import pandas as pd\n",
    "\n",
    "# URL 및 파라미터 설정\n",
    "url = \"https://mfront.homeplus.co.kr/review/getItemReview.json\"\n",
    "params = {\n",
    "    \"groupItem\": \"N\",\n",
    "    \"isAttached\": \"false\",\n",
    "    \"itemNo\": \"070882254\",\n",
    "    \"myStore\": \"N\",\n",
    "    \"page\": 3,\n",
    "    \"perPage\": 30,\n",
    "    \"reviewFilter\": \"\",\n",
    "    \"sort\": \"reg\",\n",
    "    \"storeKind\": \"NOR\",\n",
    "    \"storeType\": \"HYPER\",\n",
    "    \"type\": \"A\"\n",
    "}\n",
    "\n",
    "# 데이터 요청\n",
    "response = requests.get(url, params=params)\n",
    "if response.status_code == 200:\n",
    "    data = response.json()\n",
    "    \n",
    "    # 리뷰 데이터 추출\n",
    "    reviews = data.get(\"data\", [])\n",
    "    \n",
    "    # 데이터프레임 생성\n",
    "    review_list = []\n",
    "    for review in reviews:\n",
    "        review_list.append({\n",
    "            \"Date\": review.get(\"chgDt\"),\n",
    "            \"Content\": review.get(\"contents\"),\n",
    "            \"Grade\": review.get(\"grade\"),\n",
    "            \"Grade Name\": review.get(\"gradeNm\"),\n",
    "            \"Images\": [img[\"imgUrl\"] for img in review.get(\"imageList\", [])]\n",
    "        })\n",
    "    \n",
    "    # 데이터프레임으로 변환\n",
    "    df = pd.DataFrame(review_list)\n",
    "else:\n",
    "    print(f\"Failed to fetch data. Status code: {response.status_code}\")\n",
    "df"
   ]
  },
  {
   "cell_type": "code",
   "execution_count": null,
   "id": "cf2443eb-cf0c-461c-be43-b103640f8a45",
   "metadata": {},
   "outputs": [],
   "source": []
  }
 ],
 "metadata": {
  "kernelspec": {
   "display_name": "Python 3 (ipykernel)",
   "language": "python",
   "name": "python3"
  },
  "language_info": {
   "codemirror_mode": {
    "name": "ipython",
    "version": 3
   },
   "file_extension": ".py",
   "mimetype": "text/x-python",
   "name": "python",
   "nbconvert_exporter": "python",
   "pygments_lexer": "ipython3",
   "version": "3.11.4"
  }
 },
 "nbformat": 4,
 "nbformat_minor": 5
}
