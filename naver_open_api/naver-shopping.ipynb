{
 "cells": [
  {
   "cell_type": "markdown",
   "id": "101679e0-d163-48fe-bd44-9acf9c00ead3",
   "metadata": {},
   "source": [
    "* API KEY : https://developers.naver.com/apps/#/list\n",
    "* API DOCUMENT : https://developers.naver.com/docs/serviceapi/search/shopping/shopping.md#%EC%87%BC%ED%95%91"
   ]
  },
  {
   "cell_type": "code",
   "execution_count": null,
   "id": "f23b40b1-bd99-41e8-8d26-43f6406e4a85",
   "metadata": {},
   "outputs": [],
   "source": [
    "import os\n",
    "import requests\n",
    "from dotenv import load_dotenv\n",
    "import pandas as pd\n",
    "\n",
    "# 1. .env 파일에서 환경변수 읽어오기\n",
    "load_dotenv()  # 현재 프로젝트 폴더(또는 지정한 경로)에 있는 .env 파일 로드\n",
    "\n",
    "client_id = os.getenv('NAVER_CLIENT_ID')\n",
    "client_secret = os.getenv('NAVER_CLIENT_SECRET')\n",
    "\n",
    "# 2. 요청할 URL과 헤더 설정\n",
    "base_url = \"https://openapi.naver.com/v1/search/shop.json\"\n",
    "headers = {\n",
    "    \"X-Naver-Client-Id\": client_id,\n",
    "    \"X-Naver-Client-Secret\": client_secret\n",
    "}\n",
    "\n",
    "# 3. 검색어 설정\n",
    "query = \"운동화\"\n",
    "\n",
    "# 수집한 모든 아이템을 담을 리스트\n",
    "all_items = []\n",
    "\n",
    "# 1페이지부터 10페이지까지 반복\n",
    "# (start 파라미터는 1, 101, 201, ... 901)\n",
    "for page in range(1, 11):\n",
    "    start_num = (page - 1) * 100 + 1  # 1, 101, 201, ...\n",
    "    \n",
    "    params = {\n",
    "        \"query\": query,\n",
    "        \"display\": 100,      # 한 번에 가져올 검색 결과 개수\n",
    "        \"start\": start_num,  # 이번 루프에서의 검색 시작 위치\n",
    "        \"sort\": \"sim\"        # 정확도순\n",
    "    }\n",
    "    \n",
    "    # 4. API 호출\n",
    "    response = requests.get(base_url, headers=headers, params=params)\n",
    "\n",
    "    if response.status_code == 200:\n",
    "        data = response.json()\n",
    "        items = data.get('items', [])\n",
    "        \n",
    "        # 페이지별로 받아온 items를 누적\n",
    "        all_items.extend(items)\n",
    "        \n",
    "        print(f\"\\n===== {page}페이지 (start={start_num}) 결과 =====\")\n",
    "        for i, item in enumerate(items, start=1):\n",
    "            title = item.get('title')\n",
    "            link = item.get('link')\n",
    "            lprice = item.get('lprice')\n",
    "            mall_name = item.get('mallName', '정보없음')\n",
    "            \n",
    "            # HTML 태그 제거 예시 (여기서는 간단히 replace 사용)\n",
    "            # <b> 태그 등은 replace로 간단히 제거할 수도 있음\n",
    "            clean_title = title.replace(\"<b>\", \"\").replace(\"</b>\", \"\")\n",
    "            \n",
    "            # print(f\"[{i}] {clean_title} | 가격: {lprice} | {mall_name} | 링크: {link}\")\n",
    "    else:\n",
    "        print(f\"Error Code: {response.status_code}\")\n",
    "        print(response.text)\n",
    "        break  # 에러 발생 시 반복 중단\n",
    "\n",
    "# 최종적으로 가져온 전체 아이템 수\n",
    "print(f\"\\n총 수집된 아이템 수: {len(all_items)}\")\n",
    "\n",
    "# DataFrame으로 변환(선택)\n",
    "df = pd.DataFrame(all_items)"
   ]
  },
  {
   "cell_type": "code",
   "execution_count": null,
   "id": "10b177e1-9dd5-4419-856a-adfcc952aa1d",
   "metadata": {},
   "outputs": [],
   "source": [
    "df.shape"
   ]
  },
  {
   "cell_type": "code",
   "execution_count": null,
   "id": "91424ea9-418c-4bf5-8feb-1afc9b095ee9",
   "metadata": {},
   "outputs": [],
   "source": []
  },
  {
   "cell_type": "code",
   "execution_count": null,
   "id": "5fd85e24-8635-4b82-abd8-5df181deaaa4",
   "metadata": {},
   "outputs": [],
   "source": []
  }
 ],
 "metadata": {
  "kernelspec": {
   "display_name": "Python 3 (ipykernel)",
   "language": "python",
   "name": "python3"
  },
  "language_info": {
   "codemirror_mode": {
    "name": "ipython",
    "version": 3
   },
   "file_extension": ".py",
   "mimetype": "text/x-python",
   "name": "python",
   "nbconvert_exporter": "python",
   "pygments_lexer": "ipython3",
   "version": "3.11.4"
  }
 },
 "nbformat": 4,
 "nbformat_minor": 5
}
