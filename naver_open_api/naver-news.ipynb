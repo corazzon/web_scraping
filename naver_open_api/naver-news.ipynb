{
 "cells": [
  {
   "cell_type": "markdown",
   "id": "1ca54a6e-0306-43d9-aa4f-6828215bbd6c",
   "metadata": {},
   "source": [
    "* [네이버 오픈 API 목록 - INTRO](https://developers.naver.com/products/intro/plan/plan.md)\n",
    "* [애플리케이션 - NAVER Developers](https://developers.naver.com/apps/#/list)"
   ]
  },
  {
   "cell_type": "code",
   "execution_count": null,
   "id": "75655106-060f-4c68-acd3-6f980e537f8e",
   "metadata": {},
   "outputs": [],
   "source": [
    "import os\n",
    "import re\n",
    "import requests\n",
    "import json\n",
    "import pandas as pd\n",
    "from dotenv import load_dotenv\n",
    "\n",
    "load_dotenv()  # 현재 프로젝트 폴더(또는 지정한 경로)에 있는 .env 파일 로드\n",
    "\n",
    "# 네이버 개발자 센터에서 발급받은 값(.env 파일에 저장되어 있다고 가정)\n",
    "client_id = os.getenv('NAVER_CLIENT_ID')\n",
    "client_secret = os.getenv('NAVER_CLIENT_SECRET')\n",
    "\n",
    "# 검색할 키워드\n",
    "keyword = \"생성형AI\"\n",
    "\n",
    "# 요청 URL (JSON 결과)\n",
    "url = \"https://openapi.naver.com/v1/search/news.json\"\n",
    "\n",
    "# 요청 파라미터\n",
    "params = {\n",
    "    \"query\": keyword,   # 검색어\n",
    "    \"display\": 10,      # 한 번에 가져올 검색 결과 개수\n",
    "    \"start\": 1,         # 검색 시작 위치(최대 1000)\n",
    "    \"sort\": \"sim\"       # 정렬 옵션: sim (유사도순), date (날짜순)\n",
    "}\n",
    "\n",
    "# 요청 헤더\n",
    "headers = {\n",
    "    \"X-Naver-Client-Id\": client_id,\n",
    "    \"X-Naver-Client-Secret\": client_secret\n",
    "}\n",
    "\n",
    "def remove_html_tags(text):\n",
    "    \"\"\"HTML 태그를 제거하는 간단한 함수\"\"\"\n",
    "    cleanr = re.compile('<.*?>')\n",
    "    cleantext = re.sub(cleanr, '', text)\n",
    "    return cleantext\n",
    "\n",
    "# GET 요청\n",
    "response = requests.get(url, headers=headers, params=params)\n",
    "\n",
    "# 응답 상태 코드 확인\n",
    "if response.status_code == 200:\n",
    "    data = response.json()  # JSON 형태로 변환\n",
    "\n",
    "    # 'items' 키가 있는지 확인\n",
    "    if 'items' in data:\n",
    "        # 각 뉴스 기사 정보가 담긴 리스트\n",
    "        items = data['items']\n",
    "\n",
    "        # 데이터프레임 변환\n",
    "        df = pd.DataFrame(items)\n",
    "\n",
    "        # title과 description에 포함된 HTML 태그 제거\n",
    "        if 'title' in df.columns:\n",
    "            df['title'] = df['title'].apply(remove_html_tags)\n",
    "        if 'description' in df.columns:\n",
    "            df['description'] = df['description'].apply(remove_html_tags)\n",
    "\n",
    "        # 변환된 데이터프레임 출력\n",
    "        print(df)\n",
    "    else:\n",
    "        print(\"응답 데이터에 'items'가 없습니다. 구조를 확인하세요.\")\n",
    "else:\n",
    "    print(f\"Error Code: {response.status_code}\")\n",
    "    print(response.text)\n"
   ]
  },
  {
   "cell_type": "code",
   "execution_count": null,
   "id": "80fe4f72-ec86-4c44-b9f5-b302cc7f5361",
   "metadata": {},
   "outputs": [],
   "source": [
    "df"
   ]
  },
  {
   "cell_type": "code",
   "execution_count": null,
   "id": "5908055e-e858-4346-8e20-b2f530f84f71",
   "metadata": {},
   "outputs": [],
   "source": []
  }
 ],
 "metadata": {
  "kernelspec": {
   "display_name": "Python 3 (ipykernel)",
   "language": "python",
   "name": "python3"
  },
  "language_info": {
   "codemirror_mode": {
    "name": "ipython",
    "version": 3
   },
   "file_extension": ".py",
   "mimetype": "text/x-python",
   "name": "python",
   "nbconvert_exporter": "python",
   "pygments_lexer": "ipython3",
   "version": "3.11.4"
  }
 },
 "nbformat": 4,
 "nbformat_minor": 5
}
