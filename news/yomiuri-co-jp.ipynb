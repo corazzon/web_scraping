{
 "cells": [
  {
   "cell_type": "code",
   "execution_count": null,
   "id": "ec129d29-8ab8-4417-8226-8e6f96cf5c35",
   "metadata": {},
   "outputs": [],
   "source": [
    "import requests\n",
    "from bs4 import BeautifulSoup\n",
    "import pandas as pd\n",
    "\n",
    "def fetch_articles(page_number):\n",
    "    url = f\"https://www.yomiuri.co.jp/y_ajax/latest_list_news_more/////50//50/{page_number}/?action=latest_list_news_more&others=%2F%2F%2F%2F50%2F%2F50%2F{page_number}%2F\"\n",
    "    payload = {\n",
    "        \"action\": \"latest_list_news_more\",\n",
    "        \"others\": f\"////50//50/{page_number}/\"\n",
    "    }\n",
    "\n",
    "    response = requests.get(url, params=payload)\n",
    "    \n",
    "    if response.status_code == 200:\n",
    "        data = response.json()\n",
    "        content = data.get('contents', '')\n",
    "        soup = BeautifulSoup(content, 'html.parser')\n",
    "        articles = soup.find_all('article', class_='news-top-latest__list-item')\n",
    "        return articles\n",
    "    else:\n",
    "        print(f\"Failed to retrieve data for page {page_number}.\")\n",
    "        return []\n",
    "\n",
    "def extract_article_info(article):\n",
    "    title_tag = article.find('h3')\n",
    "    link_tag = title_tag.find('a')\n",
    "    title = title_tag.text.strip()\n",
    "    link = \"https://www.yomiuri.co.jp\" + link_tag['href']\n",
    "    \n",
    "    date_tag = article.find('time')\n",
    "    date = date_tag['datetime'] if date_tag else 'Unknown'\n",
    "    \n",
    "    category_tag = article.find('div', class_='c-matome-title')\n",
    "    category = category_tag.text.strip() if category_tag else 'No Category'\n",
    "    \n",
    "    preview_tag = article.find('p', class_='news-top-latest__list-item__text')\n",
    "    preview = preview_tag.text.strip() if preview_tag else 'No Preview'\n",
    "    \n",
    "    return {'Title': title, 'Link': link, 'Date': date, 'Category': category, 'Preview': preview}\n",
    "\n",
    "all_articles = []\n",
    "for page_number in range(1, 6):  # Adjust the range as needed\n",
    "    articles = fetch_articles(page_number)\n",
    "    for article in articles:\n",
    "        article_info = extract_article_info(article)\n",
    "        all_articles.append(article_info)\n",
    "\n",
    "df = pd.DataFrame(all_articles)\n",
    "df"
   ]
  },
  {
   "cell_type": "code",
   "execution_count": null,
   "id": "268ce620-9a41-4586-bbb6-6f7bc74b62a2",
   "metadata": {},
   "outputs": [],
   "source": []
  }
 ],
 "metadata": {
  "kernelspec": {
   "display_name": "Python 3 (ipykernel)",
   "language": "python",
   "name": "python3"
  },
  "language_info": {
   "codemirror_mode": {
    "name": "ipython",
    "version": 3
   },
   "file_extension": ".py",
   "mimetype": "text/x-python",
   "name": "python",
   "nbconvert_exporter": "python",
   "pygments_lexer": "ipython3",
   "version": "3.11.4"
  }
 },
 "nbformat": 4,
 "nbformat_minor": 5
}
