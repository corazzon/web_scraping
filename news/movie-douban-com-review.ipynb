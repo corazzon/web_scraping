{
 "cells": [
  {
   "cell_type": "markdown",
   "id": "b74dca11-f677-42c4-90c1-012611639b85",
   "metadata": {},
   "source": [
    "https://movie.douban.com/subject/35196776/reviews"
   ]
  },
  {
   "cell_type": "code",
   "execution_count": null,
   "id": "3202685b-2a63-45c9-8e39-07ad4eeee1ba",
   "metadata": {},
   "outputs": [],
   "source": [
    "import requests\n",
    "from bs4 import BeautifulSoup\n",
    "import pandas as pd\n",
    "import time\n",
    "\n",
    "def get_reviews_from_page(url):\n",
    "    headers = {\n",
    "        'User-Agent': 'Mozilla/5.0 (Windows NT 10.0; Win64; x64) AppleWebKit/537.36 (KHTML, like Gecko) Chrome/91.0.4472.124 Safari/537.36'\n",
    "    }\n",
    "    \n",
    "    response = requests.get(url, headers=headers)\n",
    "    soup = BeautifulSoup(response.text, 'html.parser')\n",
    "    \n",
    "    reviews = []\n",
    "    for review in soup.find_all('div', class_='main review-item'):\n",
    "        review_data = {\n",
    "            'author': review.find('a', class_='name').text.strip(),\n",
    "            'date': review.find('span', class_='main-meta').text.strip(),\n",
    "            'rating': review.find('span', class_='main-title-rating')['title'] if review.find('span', class_='main-title-rating') else 'No rating',\n",
    "            'title': review.find('h2').a.text.strip(),\n",
    "            'content': review.find('div', class_='short-content').text.strip(),\n",
    "            'useful_count': review.find('span', id=lambda x: x and x.startswith('r-useful_count-')).text.strip(),\n",
    "            'useless_count': review.find('span', id=lambda x: x and x.startswith('r-useless_count-')).text.strip(),\n",
    "            'comments_count': review.find('a', class_='reply').text.strip().replace('回应', '')\n",
    "        }\n",
    "        reviews.append(review_data)\n",
    "    \n",
    "    return reviews\n",
    "\n",
    "def get_all_reviews(base_url):\n",
    "    all_reviews = []\n",
    "    page = 0\n",
    "    while True:\n",
    "        url = f\"{base_url}?start={page*20}\"\n",
    "        print(f\"Scraping page {page + 1}...\")\n",
    "        \n",
    "        page_reviews = get_reviews_from_page(url)\n",
    "        if not page_reviews:\n",
    "            break\n",
    "        \n",
    "        all_reviews.extend(page_reviews)\n",
    "        page += 1\n",
    "        \n",
    "        # 웹사이트에 부담을 주지 않기 위해 각 요청 사이에 잠시 대기\n",
    "        time.sleep(2)\n",
    "    \n",
    "    return all_reviews\n",
    "\n",
    "# 기본 URL\n",
    "base_url = 'https://movie.douban.com/subject/35196776/reviews'\n",
    "\n",
    "# 모든 리뷰 수집\n",
    "all_reviews = get_all_reviews(base_url)\n",
    "\n",
    "# 데이터프레임 생성\n",
    "df = pd.DataFrame(all_reviews)\n",
    "\n",
    "# 데이터프레임 확인\n",
    "print(df.head())\n",
    "print(f\"Total reviews collected: {len(df)}\")\n",
    "\n",
    "# 데이터프레임 정보 확인\n",
    "print(df.info())\n",
    "\n",
    "# 기본 통계 확인\n",
    "print(df.describe())\n",
    "\n",
    "# 특정 열의 유니크 값 확인\n",
    "print(df['rating'].value_counts())\n",
    "\n",
    "# CSV 파일로 저장\n",
    "df.to_csv('douban_all_reviews.csv', index=False)"
   ]
  },
  {
   "cell_type": "code",
   "execution_count": null,
   "id": "256e099f-8267-45bb-bb50-3f22dd91dffe",
   "metadata": {},
   "outputs": [],
   "source": [
    "df"
   ]
  },
  {
   "cell_type": "code",
   "execution_count": null,
   "id": "985e89e4-e293-4744-8ca4-c80544d967de",
   "metadata": {},
   "outputs": [],
   "source": []
  }
 ],
 "metadata": {
  "kernelspec": {
   "display_name": "Python 3 (ipykernel)",
   "language": "python",
   "name": "python3"
  },
  "language_info": {
   "codemirror_mode": {
    "name": "ipython",
    "version": 3
   },
   "file_extension": ".py",
   "mimetype": "text/x-python",
   "name": "python",
   "nbconvert_exporter": "python",
   "pygments_lexer": "ipython3",
   "version": "3.11.4"
  }
 },
 "nbformat": 4,
 "nbformat_minor": 5
}
