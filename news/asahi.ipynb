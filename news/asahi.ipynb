{
 "cells": [
  {
   "cell_type": "code",
   "execution_count": null,
   "id": "2dc4d3a3-a1b2-4683-a1c9-ba64d9362ac5",
   "metadata": {},
   "outputs": [],
   "source": [
    "import requests\n",
    "from bs4 import BeautifulSoup\n",
    "import pandas as pd\n",
    "\n",
    "# URL 설정\n",
    "url = \"https://www.asahi.com/?iref=pc_gnavi\"\n",
    "\n",
    "# 웹 페이지 가져오기\n",
    "response = requests.get(url)"
   ]
  },
  {
   "cell_type": "code",
   "execution_count": null,
   "id": "a1ec2644-7d06-4515-8701-e271fbdf26d6",
   "metadata": {},
   "outputs": [],
   "source": [
    "# BeautifulSoup으로 HTML 파싱\n",
    "soup = BeautifulSoup(response.text, 'html.parser')\n",
    "\n",
    "# 모든 텍스트 추출\n",
    "all_text = soup.get_text(separator='\\n', strip=True)\n",
    "\n",
    "# 텍스트를 줄 단위로 분리\n",
    "text_lines = all_text.split('\\n')\n",
    "\n",
    "# UTF-8 디코딩이 필요한 텍스트를 디코딩\n",
    "decoded_text_lines = []\n",
    "for line in text_lines:\n",
    "    try:\n",
    "        decoded_text = line.encode('latin1').decode('utf-8')\n",
    "        decoded_text_lines.append(decoded_text)\n",
    "    except UnicodeDecodeError:\n",
    "        decoded_text_lines.append(line)  # 디코딩 실패 시 원본 텍스트 "
   ]
  },
  {
   "cell_type": "code",
   "execution_count": null,
   "id": "4e0f76e8-6803-4eea-bd8c-1a59c883e278",
   "metadata": {},
   "outputs": [],
   "source": [
    "decoded_text_lines[1]"
   ]
  },
  {
   "cell_type": "code",
   "execution_count": null,
   "id": "012b09ea-f519-4580-84eb-7dc26a3093da",
   "metadata": {},
   "outputs": [],
   "source": [
    "# 데이터프레임에 저장\n",
    "df = pd.DataFrame(decoded_text_lines, columns=[\"Text\"])\n",
    "df"
   ]
  },
  {
   "cell_type": "code",
   "execution_count": null,
   "id": "6057b428-a146-4da7-92d0-91ebf2d85ec2",
   "metadata": {},
   "outputs": [],
   "source": []
  }
 ],
 "metadata": {
  "kernelspec": {
   "display_name": "Python 3 (ipykernel)",
   "language": "python",
   "name": "python3"
  },
  "language_info": {
   "codemirror_mode": {
    "name": "ipython",
    "version": 3
   },
   "file_extension": ".py",
   "mimetype": "text/x-python",
   "name": "python",
   "nbconvert_exporter": "python",
   "pygments_lexer": "ipython3",
   "version": "3.11.4"
  }
 },
 "nbformat": 4,
 "nbformat_minor": 5
}
