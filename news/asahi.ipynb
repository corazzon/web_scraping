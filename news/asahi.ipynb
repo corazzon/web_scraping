{
 "cells": [
  {
   "cell_type": "code",
   "execution_count": 1,
   "id": "43e4cc40-e7be-46c9-be81-04c80243357a",
   "metadata": {},
   "outputs": [
    {
     "name": "stdout",
     "output_type": "stream",
     "text": [
      "Empty DataFrame\n",
      "Columns: []\n",
      "Index: []\n"
     ]
    }
   ],
   "source": [
    "import requests\n",
    "from bs4 import BeautifulSoup\n",
    "import pandas as pd\n",
    "\n",
    "# URL 설정\n",
    "url = \"https://www.asahi.com/?iref=pc_gnavi\"\n",
    "\n",
    "# 웹 페이지 가져오기\n",
    "response = requests.get(url)\n",
    "soup = BeautifulSoup(response.content, 'html.parser')\n",
    "\n",
    "# 뉴스 기사 정보를 저장할 리스트\n",
    "news_data = []\n",
    "\n",
    "# 뉴스 기사 요소 찾기 (이 부분은 실제 웹사이트 구조에 따라 조정이 필요할 수 있습니다)\n",
    "news_elements = soup.find_all('div', class_='news-item')  # 예시 클래스명\n",
    "\n",
    "for element in news_elements:\n",
    "    title = element.find('h2').text.strip()\n",
    "    link = element.find('a')['href']\n",
    "    \n",
    "    # 기사 내용 가져오기 (요약 또는 첫 문단)\n",
    "    content = element.find('p', class_='summary').text.strip()\n",
    "    \n",
    "    news_data.append({\n",
    "        'title': title,\n",
    "        'content': content,\n",
    "        'link': link\n",
    "    })\n",
    "\n",
    "# pandas DataFrame 생성\n",
    "df = pd.DataFrame(news_data)\n",
    "\n",
    "# DataFrame 출력\n",
    "print(df)"
   ]
  },
  {
   "cell_type": "code",
   "execution_count": null,
   "id": "4e0f76e8-6803-4eea-bd8c-1a59c883e278",
   "metadata": {},
   "outputs": [],
   "source": []
  }
 ],
 "metadata": {
  "kernelspec": {
   "display_name": "Python 3 (ipykernel)",
   "language": "python",
   "name": "python3"
  },
  "language_info": {
   "codemirror_mode": {
    "name": "ipython",
    "version": 3
   },
   "file_extension": ".py",
   "mimetype": "text/x-python",
   "name": "python",
   "nbconvert_exporter": "python",
   "pygments_lexer": "ipython3",
   "version": "3.11.4"
  }
 },
 "nbformat": 4,
 "nbformat_minor": 5
}
