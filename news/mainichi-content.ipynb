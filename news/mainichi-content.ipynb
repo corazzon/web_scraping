{
 "cells": [
  {
   "cell_type": "code",
   "execution_count": null,
   "id": "82318fc6-3fd1-406b-8ee1-49cabfbff0cd",
   "metadata": {
    "scrolled": true
   },
   "outputs": [],
   "source": [
    "import requests\n",
    "from bs4 import BeautifulSoup\n",
    "import sqlite3\n",
    "import pandas as pd\n",
    "\n",
    "# SQLite 데이터베이스 파일명\n",
    "DB_NAME = 'mainichi_editorials.db'\n",
    "\n",
    "# 데이터베이스 연결 및 커서 생성\n",
    "conn = sqlite3.connect(DB_NAME)\n",
    "cursor = conn.cursor()\n",
    "\n",
    "# 테이블에 content 컬럼이 있는지 확인하고 없으면 추가\n",
    "cursor.execute(\"PRAGMA table_info(editorials)\")\n",
    "columns = [column[1] for column in cursor.fetchall()]\n",
    "if 'content' not in columns:\n",
    "    cursor.execute(\"ALTER TABLE editorials ADD COLUMN content TEXT\")\n",
    "    conn.commit()\n",
    "\n",
    "# 데이터프레임으로 테이블 데이터 불러오기\n",
    "df = pd.read_sql('SELECT * FROM editorials', conn)\n",
    "df = df[df[\"title\"] != \"No Title\"]\n",
    "# content가 비어 있는 경우 URL을 통해 데이터 수집\n",
    "def get_article_content(url):\n",
    "    try:\n",
    "        headers = {\n",
    "            'User-Agent': 'Mozilla/5.0 (Windows NT 10.0; Win64; x64) AppleWebKit/537.36 (KHTML, like Gecko) Chrome/91.0.4472.124 Safari/537.36'\n",
    "        }\n",
    "        \n",
    "        response = requests.get(url, headers=headers)\n",
    "        response.raise_for_status()\n",
    "\n",
    "        soup = BeautifulSoup(response.text, 'html.parser')\n",
    "        \n",
    "        article_body = soup.select(\"#main > div > article\")\n",
    "    \n",
    "        if article_body:\n",
    "            paragraphs = article_body[0].find_all('p')\n",
    "            content = '\\n'.join([p.get_text(strip=True) for p in paragraphs])\n",
    "        else:\n",
    "            content = \"본문을 찾을 수 없습니다.\"\n",
    "        \n",
    "        return content\n",
    "    \n",
    "    except requests.RequestException as e:\n",
    "        return f\"요청 중 오류 발생: {e}\"\n",
    "    except Exception as e:\n",
    "        return f\"예상치 못한 오류 발생: {e}\"\n",
    "\n",
    "# content가 비어 있는 행에 대해 데이터를 수집하고 업데이트\n",
    "for index, row in df.iterrows():\n",
    "    if pd.isna(row['content']) or (row['content'] == '') or (row['content'].strip() == \"Content not found\"):\n",
    "        content = get_article_content(row['link'])\n",
    "        cursor.execute(\"UPDATE editorials SET content = ? WHERE id = ?\", (content, row['id']))\n",
    "        conn.commit()\n",
    "        time.sleep(1)  # 너무 많은 요청을 방지하기 위해 잠시 대기\n",
    "\n",
    "# 데이터베이스 연결 종료\n",
    "conn.close()"
   ]
  },
  {
   "cell_type": "code",
   "execution_count": null,
   "id": "6b66ce31-e1c1-44cc-8cad-a24eaaf8ca1a",
   "metadata": {},
   "outputs": [],
   "source": [
    "# SQLite 데이터베이스 파일명\n",
    "DB_NAME = 'mainichi_editorials.db'\n",
    "\n",
    "# 데이터베이스 연결 및 커서 생성\n",
    "conn = sqlite3.connect(DB_NAME)\n",
    "cursor = conn.cursor()\n",
    "\n",
    "\n",
    "# 데이터프레임으로 테이블 데이터 불러오기\n",
    "df = pd.read_sql('SELECT * FROM editorials', conn)\n",
    "# 데이터베이스 연결 종료\n",
    "conn.close()\n",
    "df"
   ]
  },
  {
   "cell_type": "code",
   "execution_count": null,
   "id": "f81acdc9-2fce-43b8-81a3-a02ebc01e920",
   "metadata": {},
   "outputs": [],
   "source": [
    "df[df.duplicated()]"
   ]
  },
  {
   "cell_type": "code",
   "execution_count": null,
   "id": "67367093-703a-4698-befa-38e3652b131a",
   "metadata": {},
   "outputs": [],
   "source": [
    "df.columns"
   ]
  },
  {
   "cell_type": "code",
   "execution_count": null,
   "id": "896c41fb-2511-42e2-a5b6-d97175a686ca",
   "metadata": {},
   "outputs": [],
   "source": [
    "df.shape"
   ]
  },
  {
   "cell_type": "code",
   "execution_count": null,
   "id": "5cdfe071-0eb5-4e8c-a837-bcecd9af21fb",
   "metadata": {},
   "outputs": [],
   "source": [
    "df.iloc[1]['content']"
   ]
  },
  {
   "cell_type": "code",
   "execution_count": null,
   "id": "6cbee6d7-ef40-45e8-8086-a33ad914e9e9",
   "metadata": {},
   "outputs": [],
   "source": []
  }
 ],
 "metadata": {
  "kernelspec": {
   "display_name": "Python 3 (ipykernel)",
   "language": "python",
   "name": "python3"
  },
  "language_info": {
   "codemirror_mode": {
    "name": "ipython",
    "version": 3
   },
   "file_extension": ".py",
   "mimetype": "text/x-python",
   "name": "python",
   "nbconvert_exporter": "python",
   "pygments_lexer": "ipython3",
   "version": "3.11.4"
  }
 },
 "nbformat": 4,
 "nbformat_minor": 5
}
