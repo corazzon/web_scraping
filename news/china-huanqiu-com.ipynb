{
 "cells": [
  {
   "cell_type": "markdown",
   "id": "e5d5c44d-f3c6-4301-a467-de03634f3572",
   "metadata": {},
   "source": [
    "https://china.huanqiu.com/"
   ]
  },
  {
   "cell_type": "code",
   "execution_count": null,
   "id": "01e2e9be-431c-448f-98a1-937ecfd681db",
   "metadata": {},
   "outputs": [],
   "source": [
    "import requests\n",
    "import pandas as pd\n",
    "\n",
    "# Base URL and payload parameters\n",
    "base_url = \"https://china.huanqiu.com/api/list\"\n",
    "nodes = \"\\\"/e3pmh1nnq/e3pmh1obd\\\",\\\"/e3pmh1nnq/e3pn61c2g\\\",\\\"/e3pmh1nnq/e3pn6eiep\\\",\\\"/e3pmh1nnq/e3pra70uk\\\",\\\"/e3pmh1nnq/e5anm31jb\\\",\\\"/e3pmh1nnq/e7tl4e309\\\"\"\n",
    "limit = 24\n",
    "\n",
    "def fetch_data(offset):\n",
    "    params = {\n",
    "        'node': nodes,\n",
    "        'offset': offset,\n",
    "        'limit': limit\n",
    "    }\n",
    "    response = requests.get(base_url, params=params)\n",
    "    return response.json()\n",
    "\n",
    "def parse_articles(data):\n",
    "    articles = data['list']\n",
    "    parsed_data = []\n",
    "\n",
    "    for article in articles:\n",
    "        parsed_data.append({\n",
    "            'aid': article.get('aid'),\n",
    "            'title': article.get('title'),\n",
    "            'summary': article.get('summary'),\n",
    "            'source_name': article.get('source', {}).get('name'),\n",
    "            'source_url': article.get('source', {}).get('url'),\n",
    "            'ctime': article.get('ctime'),\n",
    "            'xtime': article.get('xtime'),\n",
    "            'host': article.get('host'),\n",
    "            'ext_serious': article.get('ext-serious'),\n",
    "            'ext_weight': article.get('ext-weight')\n",
    "        })\n",
    "\n",
    "    return parsed_data\n",
    "\n",
    "def collect_articles(pages):\n",
    "    all_articles = []\n",
    "\n",
    "    for i in range(pages):\n",
    "        offset = i * limit\n",
    "        data = fetch_data(offset)\n",
    "        articles = parse_articles(data)\n",
    "        all_articles.extend(articles)\n",
    "\n",
    "    return all_articles\n",
    "\n",
    "# Collect data from the first 5 pages as an example\n",
    "pages_to_collect = 5\n",
    "articles_data = collect_articles(pages_to_collect)\n",
    "\n",
    "# Create DataFrame\n",
    "df = pd.DataFrame(articles_data)\n",
    "\n",
    "df"
   ]
  },
  {
   "cell_type": "code",
   "execution_count": null,
   "id": "0ddbfcde-81c6-40bc-b768-2834511f476b",
   "metadata": {},
   "outputs": [],
   "source": []
  }
 ],
 "metadata": {
  "kernelspec": {
   "display_name": "Python 3 (ipykernel)",
   "language": "python",
   "name": "python3"
  },
  "language_info": {
   "codemirror_mode": {
    "name": "ipython",
    "version": 3
   },
   "file_extension": ".py",
   "mimetype": "text/x-python",
   "name": "python",
   "nbconvert_exporter": "python",
   "pygments_lexer": "ipython3",
   "version": "3.11.4"
  }
 },
 "nbformat": 4,
 "nbformat_minor": 5
}
